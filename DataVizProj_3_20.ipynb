{
  "nbformat": 4,
  "nbformat_minor": 0,
  "metadata": {
    "colab": {
      "name": "DataVizProj_3_20.ipynb",
      "provenance": [],
      "collapsed_sections": [],
      "toc_visible": true,
      "authorship_tag": "ABX9TyPFR7SyaTOxpyBqfPvWF4/G",
      "include_colab_link": true
    },
    "kernelspec": {
      "name": "ir",
      "display_name": "R"
    },
    "language_info": {
      "name": "R"
    }
  },
  "cells": [
    {
      "cell_type": "markdown",
      "metadata": {
        "id": "view-in-github",
        "colab_type": "text"
      },
      "source": [
        "<a href=\"https://colab.research.google.com/github/JF11579/Adelphi_data_Viz_PyTrends_Project/blob/main/DataVizProj_3_20.ipynb\" target=\"_parent\"><img src=\"https://colab.research.google.com/assets/colab-badge.svg\" alt=\"Open In Colab\"/></a>"
      ]
    },
    {
      "cell_type": "code",
      "execution_count": null,
      "metadata": {
        "id": "rVWBvG2mn8xl"
      },
      "outputs": [],
      "source": [
        ""
      ]
    },
    {
      "cell_type": "markdown",
      "source": [
        "#Packages"
      ],
      "metadata": {
        "id": "gUi2zmUQoECI"
      }
    },
    {
      "cell_type": "code",
      "source": [
        "library(tidyverse)\n",
        "install.packages(\"hablar\")\n",
        "library(hablar)"
      ],
      "metadata": {
        "colab": {
          "base_uri": "https://localhost:8080/"
        },
        "id": "itRtI4RNoGbr",
        "outputId": "2ee270a7-99e8-4aa2-d9cd-1ddccc883f10"
      },
      "execution_count": 10,
      "outputs": [
        {
          "output_type": "stream",
          "name": "stderr",
          "text": [
            "Warning message in system(\"timedatectl\", intern = TRUE):\n",
            "“running command 'timedatectl' had status 1”\n",
            "── \u001b[1mAttaching packages\u001b[22m ─────────────────────────────────────── tidyverse 1.3.1 ──\n",
            "\n",
            "\u001b[32m✔\u001b[39m \u001b[34mggplot2\u001b[39m 3.3.5     \u001b[32m✔\u001b[39m \u001b[34mpurrr  \u001b[39m 0.3.4\n",
            "\u001b[32m✔\u001b[39m \u001b[34mtibble \u001b[39m 3.1.6     \u001b[32m✔\u001b[39m \u001b[34mdplyr  \u001b[39m 1.0.8\n",
            "\u001b[32m✔\u001b[39m \u001b[34mtidyr  \u001b[39m 1.2.0     \u001b[32m✔\u001b[39m \u001b[34mstringr\u001b[39m 1.4.0\n",
            "\u001b[32m✔\u001b[39m \u001b[34mreadr  \u001b[39m 2.1.2     \u001b[32m✔\u001b[39m \u001b[34mforcats\u001b[39m 0.5.1\n",
            "\n",
            "── \u001b[1mConflicts\u001b[22m ────────────────────────────────────────── tidyverse_conflicts() ──\n",
            "\u001b[31m✖\u001b[39m \u001b[34mdplyr\u001b[39m::\u001b[32mfilter()\u001b[39m masks \u001b[34mstats\u001b[39m::filter()\n",
            "\u001b[31m✖\u001b[39m \u001b[34mdplyr\u001b[39m::\u001b[32mlag()\u001b[39m    masks \u001b[34mstats\u001b[39m::lag()\n",
            "\n",
            "Installing package into ‘/usr/local/lib/R/site-library’\n",
            "(as ‘lib’ is unspecified)\n",
            "\n",
            "\n",
            "Attaching package: ‘hablar’\n",
            "\n",
            "\n",
            "The following object is masked from ‘package:dplyr’:\n",
            "\n",
            "    na_if\n",
            "\n",
            "\n",
            "The following object is masked from ‘package:tibble’:\n",
            "\n",
            "    num\n",
            "\n",
            "\n"
          ]
        }
      ]
    },
    {
      "cell_type": "markdown",
      "source": [
        "# Data\n",
        "\n",
        "\n",
        "\n",
        "*   Import each pair of state data\n",
        "*   Manueally add FBI crime data \n",
        "*.  Manually add Chrucrch attenndence data\n",
        "\n"
      ],
      "metadata": {
        "id": "S9y-mLKToR1L"
      }
    },
    {
      "cell_type": "markdown",
      "source": [
        "## Alabama"
      ],
      "metadata": {
        "id": "2Hsa5SJ0pX4m"
      }
    },
    {
      "cell_type": "code",
      "source": [
        ""
      ],
      "metadata": {
        "id": "Nc1k9WFlr9IM"
      },
      "execution_count": null,
      "outputs": []
    },
    {
      "cell_type": "code",
      "source": [
        "Full <- read.csv(\"/content/Alabama_data.csv\", skip=0, header=TRUE)\n",
        "Short <- read.csv(\"/content/AL_2.csv\", skip=0, header=TRUE)\n",
        "combo <- merge(Full,Short, by=\"Time\", all = T)\n",
        "# Add FBI crime data\n",
        "combo$Rapes_per_100k <- 40.8\n",
        "# Add weekly church attendence\n",
        "combo$church_attendence <- 51\n",
        "# Add State column\n",
        "combo$State <- \"Alabama\"\n",
        "# Add median household income\n",
        "combo$Household_Income <- 51734\n",
        "#drop extraneous cols\n",
        "combo <- combo %>% \n",
        "        select(-c('State.x', 'State.y'))\n",
        "colnames(combo) <- c(\"Time\",\"ketamine\",\"date_rape\",\"GHB\",\"Rohypnol\",\n",
        "                        \"morning_after_pill\",\"roofie\",\"pills_to_avoid_preg\",\n",
        "                       \"how_much_is_morning_after_pill\",\"been_raped\",\"Rapes_per_100k\",\"church_attendence\",\"State\",\"Household_Income\")\n",
        "AL_combo <- combo \n",
        "head(AL_combo,5)"
      ],
      "metadata": {
        "colab": {
          "base_uri": "https://localhost:8080/",
          "height": 448
        },
        "id": "9H0Ar4Slsid6",
        "outputId": "7668eee2-b845-4a8d-aba5-947c9a8eb8d3"
      },
      "execution_count": 242,
      "outputs": [
        {
          "output_type": "display_data",
          "data": {
            "text/html": [
              "<table class=\"dataframe\">\n",
              "<caption>A data.frame: 5 × 14</caption>\n",
              "<thead>\n",
              "\t<tr><th></th><th scope=col>Time</th><th scope=col>ketamine</th><th scope=col>date_rape</th><th scope=col>GHB</th><th scope=col>Rohypnol</th><th scope=col>morning_after_pill</th><th scope=col>roofie</th><th scope=col>pills_to_avoid_preg</th><th scope=col>how_much_is_morning_after_pill</th><th scope=col>been_raped</th><th scope=col>Rapes_per_100k</th><th scope=col>church_attendence</th><th scope=col>State</th><th scope=col>Household_Income</th></tr>\n",
              "\t<tr><th></th><th scope=col>&lt;chr&gt;</th><th scope=col>&lt;chr&gt;</th><th scope=col>&lt;chr&gt;</th><th scope=col>&lt;chr&gt;</th><th scope=col>&lt;chr&gt;</th><th scope=col>&lt;int&gt;</th><th scope=col>&lt;int&gt;</th><th scope=col>&lt;int&gt;</th><th scope=col>&lt;int&gt;</th><th scope=col>&lt;int&gt;</th><th scope=col>&lt;dbl&gt;</th><th scope=col>&lt;dbl&gt;</th><th scope=col>&lt;chr&gt;</th><th scope=col>&lt;dbl&gt;</th></tr>\n",
              "</thead>\n",
              "<tbody>\n",
              "\t<tr><th scope=row>1</th><td>2022-02-23T11</td><td>45</td><td>6</td><td>0 </td><td>0</td><td>NA</td><td>NA</td><td>NA</td><td>NA</td><td>NA</td><td>40.8</td><td>51</td><td>Alabama</td><td>51734</td></tr>\n",
              "\t<tr><th scope=row>2</th><td>2022-02-23T11</td><td>39</td><td>3</td><td>10</td><td>0</td><td>NA</td><td>NA</td><td>NA</td><td>NA</td><td>NA</td><td>40.8</td><td>51</td><td>Alabama</td><td>51734</td></tr>\n",
              "\t<tr><th scope=row>3</th><td>2022-02-23T12</td><td>44</td><td>3</td><td>0 </td><td>3</td><td> 0</td><td>12</td><td> 0</td><td> 0</td><td> 0</td><td>40.8</td><td>51</td><td>Alabama</td><td>51734</td></tr>\n",
              "\t<tr><th scope=row>4</th><td>2022-02-23T12</td><td>25</td><td>6</td><td>6 </td><td>0</td><td> 0</td><td>12</td><td> 0</td><td> 0</td><td> 0</td><td>40.8</td><td>51</td><td>Alabama</td><td>51734</td></tr>\n",
              "\t<tr><th scope=row>5</th><td>2022-02-23T13</td><td>42</td><td>9</td><td>3 </td><td>0</td><td>25</td><td> 0</td><td> 0</td><td> 0</td><td> 0</td><td>40.8</td><td>51</td><td>Alabama</td><td>51734</td></tr>\n",
              "</tbody>\n",
              "</table>\n"
            ],
            "text/markdown": "\nA data.frame: 5 × 14\n\n| <!--/--> | Time &lt;chr&gt; | ketamine &lt;chr&gt; | date_rape &lt;chr&gt; | GHB &lt;chr&gt; | Rohypnol &lt;chr&gt; | morning_after_pill &lt;int&gt; | roofie &lt;int&gt; | pills_to_avoid_preg &lt;int&gt; | how_much_is_morning_after_pill &lt;int&gt; | been_raped &lt;int&gt; | Rapes_per_100k &lt;dbl&gt; | church_attendence &lt;dbl&gt; | State &lt;chr&gt; | Household_Income &lt;dbl&gt; |\n|---|---|---|---|---|---|---|---|---|---|---|---|---|---|---|\n| 1 | 2022-02-23T11 | 45 | 6 | 0  | 0 | NA | NA | NA | NA | NA | 40.8 | 51 | Alabama | 51734 |\n| 2 | 2022-02-23T11 | 39 | 3 | 10 | 0 | NA | NA | NA | NA | NA | 40.8 | 51 | Alabama | 51734 |\n| 3 | 2022-02-23T12 | 44 | 3 | 0  | 3 |  0 | 12 |  0 |  0 |  0 | 40.8 | 51 | Alabama | 51734 |\n| 4 | 2022-02-23T12 | 25 | 6 | 6  | 0 |  0 | 12 |  0 |  0 |  0 | 40.8 | 51 | Alabama | 51734 |\n| 5 | 2022-02-23T13 | 42 | 9 | 3  | 0 | 25 |  0 |  0 |  0 |  0 | 40.8 | 51 | Alabama | 51734 |\n\n",
            "text/latex": "A data.frame: 5 × 14\n\\begin{tabular}{r|llllllllllllll}\n  & Time & ketamine & date\\_rape & GHB & Rohypnol & morning\\_after\\_pill & roofie & pills\\_to\\_avoid\\_preg & how\\_much\\_is\\_morning\\_after\\_pill & been\\_raped & Rapes\\_per\\_100k & church\\_attendence & State & Household\\_Income\\\\\n  & <chr> & <chr> & <chr> & <chr> & <chr> & <int> & <int> & <int> & <int> & <int> & <dbl> & <dbl> & <chr> & <dbl>\\\\\n\\hline\n\t1 & 2022-02-23T11 & 45 & 6 & 0  & 0 & NA & NA & NA & NA & NA & 40.8 & 51 & Alabama & 51734\\\\\n\t2 & 2022-02-23T11 & 39 & 3 & 10 & 0 & NA & NA & NA & NA & NA & 40.8 & 51 & Alabama & 51734\\\\\n\t3 & 2022-02-23T12 & 44 & 3 & 0  & 3 &  0 & 12 &  0 &  0 &  0 & 40.8 & 51 & Alabama & 51734\\\\\n\t4 & 2022-02-23T12 & 25 & 6 & 6  & 0 &  0 & 12 &  0 &  0 &  0 & 40.8 & 51 & Alabama & 51734\\\\\n\t5 & 2022-02-23T13 & 42 & 9 & 3  & 0 & 25 &  0 &  0 &  0 &  0 & 40.8 & 51 & Alabama & 51734\\\\\n\\end{tabular}\n",
            "text/plain": [
              "  Time          ketamine date_rape GHB Rohypnol morning_after_pill roofie\n",
              "1 2022-02-23T11 45       6         0   0        NA                 NA    \n",
              "2 2022-02-23T11 39       3         10  0        NA                 NA    \n",
              "3 2022-02-23T12 44       3         0   3         0                 12    \n",
              "4 2022-02-23T12 25       6         6   0         0                 12    \n",
              "5 2022-02-23T13 42       9         3   0        25                  0    \n",
              "  pills_to_avoid_preg how_much_is_morning_after_pill been_raped Rapes_per_100k\n",
              "1 NA                  NA                             NA         40.8          \n",
              "2 NA                  NA                             NA         40.8          \n",
              "3  0                   0                              0         40.8          \n",
              "4  0                   0                              0         40.8          \n",
              "5  0                   0                              0         40.8          \n",
              "  church_attendence State   Household_Income\n",
              "1 51                Alabama 51734           \n",
              "2 51                Alabama 51734           \n",
              "3 51                Alabama 51734           \n",
              "4 51                Alabama 51734           \n",
              "5 51                Alabama 51734           "
            ]
          },
          "metadata": {}
        }
      ]
    },
    {
      "cell_type": "markdown",
      "source": [
        "### Some variables failed to come in as integers"
      ],
      "metadata": {
        "id": "JepBlIfJ-fSk"
      }
    },
    {
      "cell_type": "code",
      "source": [
        "#df[, 4:17] <- lapply(df[, 4:17], as.numeric)\n",
        "AL_combo[ , 2:5] <- lapply(AL_combo[, 2:5], as.numeric)"
      ],
      "metadata": {
        "colab": {
          "base_uri": "https://localhost:8080/"
        },
        "id": "f_xEQOsc-eE5",
        "outputId": "a7340525-4f04-4c1e-f05a-78936323e482"
      },
      "execution_count": 243,
      "outputs": [
        {
          "output_type": "stream",
          "name": "stderr",
          "text": [
            "Warning message in lapply(AL_combo[, 2:5], as.numeric):\n",
            "“NAs introduced by coercion”\n",
            "Warning message in lapply(AL_combo[, 2:5], as.numeric):\n",
            "“NAs introduced by coercion”\n",
            "Warning message in lapply(AL_combo[, 2:5], as.numeric):\n",
            "“NAs introduced by coercion”\n",
            "Warning message in lapply(AL_combo[, 2:5], as.numeric):\n",
            "“NAs introduced by coercion”\n"
          ]
        }
      ]
    },
    {
      "cell_type": "code",
      "source": [
        "head(AL_combo,5)"
      ],
      "metadata": {
        "colab": {
          "base_uri": "https://localhost:8080/",
          "height": 448
        },
        "id": "XdlxOB2K_ZYL",
        "outputId": "2e758e58-a1d2-4dea-94b1-1bee74aa3e32"
      },
      "execution_count": 244,
      "outputs": [
        {
          "output_type": "display_data",
          "data": {
            "text/html": [
              "<table class=\"dataframe\">\n",
              "<caption>A data.frame: 5 × 14</caption>\n",
              "<thead>\n",
              "\t<tr><th></th><th scope=col>Time</th><th scope=col>ketamine</th><th scope=col>date_rape</th><th scope=col>GHB</th><th scope=col>Rohypnol</th><th scope=col>morning_after_pill</th><th scope=col>roofie</th><th scope=col>pills_to_avoid_preg</th><th scope=col>how_much_is_morning_after_pill</th><th scope=col>been_raped</th><th scope=col>Rapes_per_100k</th><th scope=col>church_attendence</th><th scope=col>State</th><th scope=col>Household_Income</th></tr>\n",
              "\t<tr><th></th><th scope=col>&lt;chr&gt;</th><th scope=col>&lt;dbl&gt;</th><th scope=col>&lt;dbl&gt;</th><th scope=col>&lt;dbl&gt;</th><th scope=col>&lt;dbl&gt;</th><th scope=col>&lt;int&gt;</th><th scope=col>&lt;int&gt;</th><th scope=col>&lt;int&gt;</th><th scope=col>&lt;int&gt;</th><th scope=col>&lt;int&gt;</th><th scope=col>&lt;dbl&gt;</th><th scope=col>&lt;dbl&gt;</th><th scope=col>&lt;chr&gt;</th><th scope=col>&lt;dbl&gt;</th></tr>\n",
              "</thead>\n",
              "<tbody>\n",
              "\t<tr><th scope=row>1</th><td>2022-02-23T11</td><td>45</td><td>6</td><td> 0</td><td>0</td><td>NA</td><td>NA</td><td>NA</td><td>NA</td><td>NA</td><td>40.8</td><td>51</td><td>Alabama</td><td>51734</td></tr>\n",
              "\t<tr><th scope=row>2</th><td>2022-02-23T11</td><td>39</td><td>3</td><td>10</td><td>0</td><td>NA</td><td>NA</td><td>NA</td><td>NA</td><td>NA</td><td>40.8</td><td>51</td><td>Alabama</td><td>51734</td></tr>\n",
              "\t<tr><th scope=row>3</th><td>2022-02-23T12</td><td>44</td><td>3</td><td> 0</td><td>3</td><td> 0</td><td>12</td><td> 0</td><td> 0</td><td> 0</td><td>40.8</td><td>51</td><td>Alabama</td><td>51734</td></tr>\n",
              "\t<tr><th scope=row>4</th><td>2022-02-23T12</td><td>25</td><td>6</td><td> 6</td><td>0</td><td> 0</td><td>12</td><td> 0</td><td> 0</td><td> 0</td><td>40.8</td><td>51</td><td>Alabama</td><td>51734</td></tr>\n",
              "\t<tr><th scope=row>5</th><td>2022-02-23T13</td><td>42</td><td>9</td><td> 3</td><td>0</td><td>25</td><td> 0</td><td> 0</td><td> 0</td><td> 0</td><td>40.8</td><td>51</td><td>Alabama</td><td>51734</td></tr>\n",
              "</tbody>\n",
              "</table>\n"
            ],
            "text/markdown": "\nA data.frame: 5 × 14\n\n| <!--/--> | Time &lt;chr&gt; | ketamine &lt;dbl&gt; | date_rape &lt;dbl&gt; | GHB &lt;dbl&gt; | Rohypnol &lt;dbl&gt; | morning_after_pill &lt;int&gt; | roofie &lt;int&gt; | pills_to_avoid_preg &lt;int&gt; | how_much_is_morning_after_pill &lt;int&gt; | been_raped &lt;int&gt; | Rapes_per_100k &lt;dbl&gt; | church_attendence &lt;dbl&gt; | State &lt;chr&gt; | Household_Income &lt;dbl&gt; |\n|---|---|---|---|---|---|---|---|---|---|---|---|---|---|---|\n| 1 | 2022-02-23T11 | 45 | 6 |  0 | 0 | NA | NA | NA | NA | NA | 40.8 | 51 | Alabama | 51734 |\n| 2 | 2022-02-23T11 | 39 | 3 | 10 | 0 | NA | NA | NA | NA | NA | 40.8 | 51 | Alabama | 51734 |\n| 3 | 2022-02-23T12 | 44 | 3 |  0 | 3 |  0 | 12 |  0 |  0 |  0 | 40.8 | 51 | Alabama | 51734 |\n| 4 | 2022-02-23T12 | 25 | 6 |  6 | 0 |  0 | 12 |  0 |  0 |  0 | 40.8 | 51 | Alabama | 51734 |\n| 5 | 2022-02-23T13 | 42 | 9 |  3 | 0 | 25 |  0 |  0 |  0 |  0 | 40.8 | 51 | Alabama | 51734 |\n\n",
            "text/latex": "A data.frame: 5 × 14\n\\begin{tabular}{r|llllllllllllll}\n  & Time & ketamine & date\\_rape & GHB & Rohypnol & morning\\_after\\_pill & roofie & pills\\_to\\_avoid\\_preg & how\\_much\\_is\\_morning\\_after\\_pill & been\\_raped & Rapes\\_per\\_100k & church\\_attendence & State & Household\\_Income\\\\\n  & <chr> & <dbl> & <dbl> & <dbl> & <dbl> & <int> & <int> & <int> & <int> & <int> & <dbl> & <dbl> & <chr> & <dbl>\\\\\n\\hline\n\t1 & 2022-02-23T11 & 45 & 6 &  0 & 0 & NA & NA & NA & NA & NA & 40.8 & 51 & Alabama & 51734\\\\\n\t2 & 2022-02-23T11 & 39 & 3 & 10 & 0 & NA & NA & NA & NA & NA & 40.8 & 51 & Alabama & 51734\\\\\n\t3 & 2022-02-23T12 & 44 & 3 &  0 & 3 &  0 & 12 &  0 &  0 &  0 & 40.8 & 51 & Alabama & 51734\\\\\n\t4 & 2022-02-23T12 & 25 & 6 &  6 & 0 &  0 & 12 &  0 &  0 &  0 & 40.8 & 51 & Alabama & 51734\\\\\n\t5 & 2022-02-23T13 & 42 & 9 &  3 & 0 & 25 &  0 &  0 &  0 &  0 & 40.8 & 51 & Alabama & 51734\\\\\n\\end{tabular}\n",
            "text/plain": [
              "  Time          ketamine date_rape GHB Rohypnol morning_after_pill roofie\n",
              "1 2022-02-23T11 45       6          0  0        NA                 NA    \n",
              "2 2022-02-23T11 39       3         10  0        NA                 NA    \n",
              "3 2022-02-23T12 44       3          0  3         0                 12    \n",
              "4 2022-02-23T12 25       6          6  0         0                 12    \n",
              "5 2022-02-23T13 42       9          3  0        25                  0    \n",
              "  pills_to_avoid_preg how_much_is_morning_after_pill been_raped Rapes_per_100k\n",
              "1 NA                  NA                             NA         40.8          \n",
              "2 NA                  NA                             NA         40.8          \n",
              "3  0                   0                              0         40.8          \n",
              "4  0                   0                              0         40.8          \n",
              "5  0                   0                              0         40.8          \n",
              "  church_attendence State   Household_Income\n",
              "1 51                Alabama 51734           \n",
              "2 51                Alabama 51734           \n",
              "3 51                Alabama 51734           \n",
              "4 51                Alabama 51734           \n",
              "5 51                Alabama 51734           "
            ]
          },
          "metadata": {}
        }
      ]
    },
    {
      "cell_type": "code",
      "source": [
        ""
      ],
      "metadata": {
        "id": "X0coD_5f_ZOp"
      },
      "execution_count": null,
      "outputs": []
    },
    {
      "cell_type": "markdown",
      "source": [
        "## Alaska"
      ],
      "metadata": {
        "id": "_H7Z_WhzpfN1"
      }
    },
    {
      "cell_type": "code",
      "source": [
        "Full <- read.csv(\"/content/Alaska.csv\", skip=0, header=TRUE)\n",
        "Short <- read.csv(\"/content/AK_2.csv\", skip=0, header=TRUE)\n",
        "combo <- merge(Full,Short, by=\"Time\", all = T)\n",
        "# Add FBI crime data\n",
        "combo$Rapes_per_100k <- 161.6\n",
        "# Add weekly church attendence\n",
        "combo$church_attendence <- 30\n",
        "# Add State column\n",
        "combo$State <- \"Alaska\"\n",
        "# Add median household income\n",
        "combo$Household_Income <- 75463\n",
        "#drop extraneous cols\n",
        "combo <- \n",
        "combo %>% \n",
        "        select(-c('State.x', 'State.y'))\n",
        "colnames(combo) <- c(\"Time\",\"ketamine\",\"date_rape\",\"GHB\",\"Rohypnol\",\n",
        "                        \"morning_after_pill\",\"roofie\",\"pills_to_avoid_preg\",\n",
        "                       \"how_much_is_morning_after_pill\",\"been_raped\",\"Rapes_per_100k\",\"church_attendence\",\"State\",\"Household_Income\")\n",
        "AK_combo <- combo \n",
        "head(AK_combo,5)"
      ],
      "metadata": {
        "colab": {
          "base_uri": "https://localhost:8080/",
          "height": 448
        },
        "id": "W1_3FPNYIXyD",
        "outputId": "ed0938f6-4d22-4bc0-8136-cf3314c377f7"
      },
      "execution_count": 177,
      "outputs": [
        {
          "output_type": "display_data",
          "data": {
            "text/html": [
              "<table class=\"dataframe\">\n",
              "<caption>A data.frame: 5 × 14</caption>\n",
              "<thead>\n",
              "\t<tr><th></th><th scope=col>Time</th><th scope=col>ketamine</th><th scope=col>date_rape</th><th scope=col>GHB</th><th scope=col>Rohypnol</th><th scope=col>morning_after_pill</th><th scope=col>roofie</th><th scope=col>pills_to_avoid_preg</th><th scope=col>how_much_is_morning_after_pill</th><th scope=col>been_raped</th><th scope=col>Rapes_per_100k</th><th scope=col>church_attendence</th><th scope=col>State</th><th scope=col>Household_Income</th></tr>\n",
              "\t<tr><th></th><th scope=col>&lt;chr&gt;</th><th scope=col>&lt;int&gt;</th><th scope=col>&lt;int&gt;</th><th scope=col>&lt;int&gt;</th><th scope=col>&lt;int&gt;</th><th scope=col>&lt;lgl&gt;</th><th scope=col>&lt;lgl&gt;</th><th scope=col>&lt;lgl&gt;</th><th scope=col>&lt;lgl&gt;</th><th scope=col>&lt;lgl&gt;</th><th scope=col>&lt;dbl&gt;</th><th scope=col>&lt;dbl&gt;</th><th scope=col>&lt;chr&gt;</th><th scope=col>&lt;dbl&gt;</th></tr>\n",
              "</thead>\n",
              "<tbody>\n",
              "\t<tr><th scope=row>1</th><td>2022-02-23T11</td><td> 0</td><td>0</td><td>0</td><td>0</td><td>NA</td><td>NA</td><td>NA</td><td>NA</td><td>NA</td><td>161.6</td><td>30</td><td>Alaska</td><td>75463</td></tr>\n",
              "\t<tr><th scope=row>2</th><td>2022-02-23T12</td><td> 0</td><td>0</td><td>0</td><td>0</td><td>NA</td><td>NA</td><td>NA</td><td>NA</td><td>NA</td><td>161.6</td><td>30</td><td>Alaska</td><td>75463</td></tr>\n",
              "\t<tr><th scope=row>3</th><td>2022-02-23T13</td><td> 0</td><td>0</td><td>0</td><td>0</td><td>NA</td><td>NA</td><td>NA</td><td>NA</td><td>NA</td><td>161.6</td><td>30</td><td>Alaska</td><td>75463</td></tr>\n",
              "\t<tr><th scope=row>4</th><td>2022-02-23T14</td><td>36</td><td>0</td><td>0</td><td>0</td><td>NA</td><td>NA</td><td>NA</td><td>NA</td><td>NA</td><td>161.6</td><td>30</td><td>Alaska</td><td>75463</td></tr>\n",
              "\t<tr><th scope=row>5</th><td>2022-02-23T15</td><td> 0</td><td>0</td><td>0</td><td>0</td><td>NA</td><td>NA</td><td>NA</td><td>NA</td><td>NA</td><td>161.6</td><td>30</td><td>Alaska</td><td>75463</td></tr>\n",
              "</tbody>\n",
              "</table>\n"
            ],
            "text/markdown": "\nA data.frame: 5 × 14\n\n| <!--/--> | Time &lt;chr&gt; | ketamine &lt;int&gt; | date_rape &lt;int&gt; | GHB &lt;int&gt; | Rohypnol &lt;int&gt; | morning_after_pill &lt;lgl&gt; | roofie &lt;lgl&gt; | pills_to_avoid_preg &lt;lgl&gt; | how_much_is_morning_after_pill &lt;lgl&gt; | been_raped &lt;lgl&gt; | Rapes_per_100k &lt;dbl&gt; | church_attendence &lt;dbl&gt; | State &lt;chr&gt; | Household_Income &lt;dbl&gt; |\n|---|---|---|---|---|---|---|---|---|---|---|---|---|---|---|\n| 1 | 2022-02-23T11 |  0 | 0 | 0 | 0 | NA | NA | NA | NA | NA | 161.6 | 30 | Alaska | 75463 |\n| 2 | 2022-02-23T12 |  0 | 0 | 0 | 0 | NA | NA | NA | NA | NA | 161.6 | 30 | Alaska | 75463 |\n| 3 | 2022-02-23T13 |  0 | 0 | 0 | 0 | NA | NA | NA | NA | NA | 161.6 | 30 | Alaska | 75463 |\n| 4 | 2022-02-23T14 | 36 | 0 | 0 | 0 | NA | NA | NA | NA | NA | 161.6 | 30 | Alaska | 75463 |\n| 5 | 2022-02-23T15 |  0 | 0 | 0 | 0 | NA | NA | NA | NA | NA | 161.6 | 30 | Alaska | 75463 |\n\n",
            "text/latex": "A data.frame: 5 × 14\n\\begin{tabular}{r|llllllllllllll}\n  & Time & ketamine & date\\_rape & GHB & Rohypnol & morning\\_after\\_pill & roofie & pills\\_to\\_avoid\\_preg & how\\_much\\_is\\_morning\\_after\\_pill & been\\_raped & Rapes\\_per\\_100k & church\\_attendence & State & Household\\_Income\\\\\n  & <chr> & <int> & <int> & <int> & <int> & <lgl> & <lgl> & <lgl> & <lgl> & <lgl> & <dbl> & <dbl> & <chr> & <dbl>\\\\\n\\hline\n\t1 & 2022-02-23T11 &  0 & 0 & 0 & 0 & NA & NA & NA & NA & NA & 161.6 & 30 & Alaska & 75463\\\\\n\t2 & 2022-02-23T12 &  0 & 0 & 0 & 0 & NA & NA & NA & NA & NA & 161.6 & 30 & Alaska & 75463\\\\\n\t3 & 2022-02-23T13 &  0 & 0 & 0 & 0 & NA & NA & NA & NA & NA & 161.6 & 30 & Alaska & 75463\\\\\n\t4 & 2022-02-23T14 & 36 & 0 & 0 & 0 & NA & NA & NA & NA & NA & 161.6 & 30 & Alaska & 75463\\\\\n\t5 & 2022-02-23T15 &  0 & 0 & 0 & 0 & NA & NA & NA & NA & NA & 161.6 & 30 & Alaska & 75463\\\\\n\\end{tabular}\n",
            "text/plain": [
              "  Time          ketamine date_rape GHB Rohypnol morning_after_pill roofie\n",
              "1 2022-02-23T11  0       0         0   0        NA                 NA    \n",
              "2 2022-02-23T12  0       0         0   0        NA                 NA    \n",
              "3 2022-02-23T13  0       0         0   0        NA                 NA    \n",
              "4 2022-02-23T14 36       0         0   0        NA                 NA    \n",
              "5 2022-02-23T15  0       0         0   0        NA                 NA    \n",
              "  pills_to_avoid_preg how_much_is_morning_after_pill been_raped Rapes_per_100k\n",
              "1 NA                  NA                             NA         161.6         \n",
              "2 NA                  NA                             NA         161.6         \n",
              "3 NA                  NA                             NA         161.6         \n",
              "4 NA                  NA                             NA         161.6         \n",
              "5 NA                  NA                             NA         161.6         \n",
              "  church_attendence State  Household_Income\n",
              "1 30                Alaska 75463           \n",
              "2 30                Alaska 75463           \n",
              "3 30                Alaska 75463           \n",
              "4 30                Alaska 75463           \n",
              "5 30                Alaska 75463           "
            ]
          },
          "metadata": {}
        }
      ]
    },
    {
      "cell_type": "markdown",
      "source": [
        "##Arizona"
      ],
      "metadata": {
        "id": "rdBNVu3opfKF"
      }
    },
    {
      "cell_type": "code",
      "source": [
        "Full <- read.csv(\"/content/Arizona_data.csv\", skip=0, header=TRUE)\n",
        "Short <- read.csv(\"/content/AZ_2.csv\", skip=0, header=TRUE)\n",
        "combo <- merge(Full,Short, by=\"Time\", all = T)\n",
        "\n",
        "#head(AL_combo,5)\n",
        "# Add FBI crime data\n",
        "combo$Rapes_per_100k <- 50.7\n",
        "# Add weekly church attendence\n",
        "combo$church_attendence <- 34\n",
        "# Add State column\n",
        "combo$State <- \"Arizona\" #. <<<========\n",
        "# Add median household income\n",
        "combo$Household_Income <- 62055\n",
        "#drop extraneous cols\n",
        "combo <- combo %>% \n",
        "        select(-c('State.x', 'State.y'))\n",
        "colnames(combo) <- c(\"Time\",\"ketamine\",\"date_rape\",\"GHB\",\"Rohypnol\",\n",
        "                        \"morning_after_pill\",\"roofie\",\"pills_to_avoid_preg\",\n",
        "                       \"how_much_is_morning_after_pill\",\"been_raped\",\"Rapes_per_100k\",\"church_attendence\",\"State\",\"Household_Income\")\n",
        "AZ_combo <- combo                       \n",
        "head(AZ_combo ,5)"
      ],
      "metadata": {
        "colab": {
          "base_uri": "https://localhost:8080/",
          "height": 448
        },
        "id": "qMoEeL9Vz_QP",
        "outputId": "64543cb3-0f5c-4926-f36c-bcc4b0433614"
      },
      "execution_count": 179,
      "outputs": [
        {
          "output_type": "display_data",
          "data": {
            "text/html": [
              "<table class=\"dataframe\">\n",
              "<caption>A data.frame: 5 × 14</caption>\n",
              "<thead>\n",
              "\t<tr><th></th><th scope=col>Time</th><th scope=col>ketamine</th><th scope=col>date_rape</th><th scope=col>GHB</th><th scope=col>Rohypnol</th><th scope=col>morning_after_pill</th><th scope=col>roofie</th><th scope=col>pills_to_avoid_preg</th><th scope=col>how_much_is_morning_after_pill</th><th scope=col>been_raped</th><th scope=col>Rapes_per_100k</th><th scope=col>church_attendence</th><th scope=col>State</th><th scope=col>Household_Income</th></tr>\n",
              "\t<tr><th></th><th scope=col>&lt;chr&gt;</th><th scope=col>&lt;int&gt;</th><th scope=col>&lt;int&gt;</th><th scope=col>&lt;int&gt;</th><th scope=col>&lt;int&gt;</th><th scope=col>&lt;int&gt;</th><th scope=col>&lt;int&gt;</th><th scope=col>&lt;int&gt;</th><th scope=col>&lt;int&gt;</th><th scope=col>&lt;int&gt;</th><th scope=col>&lt;dbl&gt;</th><th scope=col>&lt;dbl&gt;</th><th scope=col>&lt;chr&gt;</th><th scope=col>&lt;dbl&gt;</th></tr>\n",
              "</thead>\n",
              "<tbody>\n",
              "\t<tr><th scope=row>1</th><td>2022-02-23T11</td><td>39</td><td>3</td><td>10</td><td>0</td><td>NA</td><td>NA</td><td>NA</td><td>NA</td><td>NA</td><td>50.7</td><td>34</td><td>Arizona</td><td>62055</td></tr>\n",
              "\t<tr><th scope=row>2</th><td>2022-02-23T12</td><td>44</td><td>3</td><td> 0</td><td>3</td><td>NA</td><td>NA</td><td>NA</td><td>NA</td><td>NA</td><td>50.7</td><td>34</td><td>Arizona</td><td>62055</td></tr>\n",
              "\t<tr><th scope=row>3</th><td>2022-02-23T13</td><td>42</td><td>9</td><td> 3</td><td>0</td><td> 0</td><td> 0</td><td> 0</td><td> 0</td><td> 0</td><td>50.7</td><td>34</td><td>Arizona</td><td>62055</td></tr>\n",
              "\t<tr><th scope=row>4</th><td>2022-02-23T14</td><td>34</td><td>6</td><td> 3</td><td>3</td><td> 9</td><td> 8</td><td> 0</td><td> 0</td><td> 0</td><td>50.7</td><td>34</td><td>Arizona</td><td>62055</td></tr>\n",
              "\t<tr><th scope=row>5</th><td>2022-02-23T15</td><td>24</td><td>0</td><td> 0</td><td>0</td><td> 0</td><td> 8</td><td> 0</td><td> 0</td><td> 0</td><td>50.7</td><td>34</td><td>Arizona</td><td>62055</td></tr>\n",
              "</tbody>\n",
              "</table>\n"
            ],
            "text/markdown": "\nA data.frame: 5 × 14\n\n| <!--/--> | Time &lt;chr&gt; | ketamine &lt;int&gt; | date_rape &lt;int&gt; | GHB &lt;int&gt; | Rohypnol &lt;int&gt; | morning_after_pill &lt;int&gt; | roofie &lt;int&gt; | pills_to_avoid_preg &lt;int&gt; | how_much_is_morning_after_pill &lt;int&gt; | been_raped &lt;int&gt; | Rapes_per_100k &lt;dbl&gt; | church_attendence &lt;dbl&gt; | State &lt;chr&gt; | Household_Income &lt;dbl&gt; |\n|---|---|---|---|---|---|---|---|---|---|---|---|---|---|---|\n| 1 | 2022-02-23T11 | 39 | 3 | 10 | 0 | NA | NA | NA | NA | NA | 50.7 | 34 | Arizona | 62055 |\n| 2 | 2022-02-23T12 | 44 | 3 |  0 | 3 | NA | NA | NA | NA | NA | 50.7 | 34 | Arizona | 62055 |\n| 3 | 2022-02-23T13 | 42 | 9 |  3 | 0 |  0 |  0 |  0 |  0 |  0 | 50.7 | 34 | Arizona | 62055 |\n| 4 | 2022-02-23T14 | 34 | 6 |  3 | 3 |  9 |  8 |  0 |  0 |  0 | 50.7 | 34 | Arizona | 62055 |\n| 5 | 2022-02-23T15 | 24 | 0 |  0 | 0 |  0 |  8 |  0 |  0 |  0 | 50.7 | 34 | Arizona | 62055 |\n\n",
            "text/latex": "A data.frame: 5 × 14\n\\begin{tabular}{r|llllllllllllll}\n  & Time & ketamine & date\\_rape & GHB & Rohypnol & morning\\_after\\_pill & roofie & pills\\_to\\_avoid\\_preg & how\\_much\\_is\\_morning\\_after\\_pill & been\\_raped & Rapes\\_per\\_100k & church\\_attendence & State & Household\\_Income\\\\\n  & <chr> & <int> & <int> & <int> & <int> & <int> & <int> & <int> & <int> & <int> & <dbl> & <dbl> & <chr> & <dbl>\\\\\n\\hline\n\t1 & 2022-02-23T11 & 39 & 3 & 10 & 0 & NA & NA & NA & NA & NA & 50.7 & 34 & Arizona & 62055\\\\\n\t2 & 2022-02-23T12 & 44 & 3 &  0 & 3 & NA & NA & NA & NA & NA & 50.7 & 34 & Arizona & 62055\\\\\n\t3 & 2022-02-23T13 & 42 & 9 &  3 & 0 &  0 &  0 &  0 &  0 &  0 & 50.7 & 34 & Arizona & 62055\\\\\n\t4 & 2022-02-23T14 & 34 & 6 &  3 & 3 &  9 &  8 &  0 &  0 &  0 & 50.7 & 34 & Arizona & 62055\\\\\n\t5 & 2022-02-23T15 & 24 & 0 &  0 & 0 &  0 &  8 &  0 &  0 &  0 & 50.7 & 34 & Arizona & 62055\\\\\n\\end{tabular}\n",
            "text/plain": [
              "  Time          ketamine date_rape GHB Rohypnol morning_after_pill roofie\n",
              "1 2022-02-23T11 39       3         10  0        NA                 NA    \n",
              "2 2022-02-23T12 44       3          0  3        NA                 NA    \n",
              "3 2022-02-23T13 42       9          3  0         0                  0    \n",
              "4 2022-02-23T14 34       6          3  3         9                  8    \n",
              "5 2022-02-23T15 24       0          0  0         0                  8    \n",
              "  pills_to_avoid_preg how_much_is_morning_after_pill been_raped Rapes_per_100k\n",
              "1 NA                  NA                             NA         50.7          \n",
              "2 NA                  NA                             NA         50.7          \n",
              "3  0                   0                              0         50.7          \n",
              "4  0                   0                              0         50.7          \n",
              "5  0                   0                              0         50.7          \n",
              "  church_attendence State   Household_Income\n",
              "1 34                Arizona 62055           \n",
              "2 34                Arizona 62055           \n",
              "3 34                Arizona 62055           \n",
              "4 34                Arizona 62055           \n",
              "5 34                Arizona 62055           "
            ]
          },
          "metadata": {}
        }
      ]
    },
    {
      "cell_type": "markdown",
      "source": [
        "## Arkansas"
      ],
      "metadata": {
        "id": "M0LiNSQ2pfF0"
      }
    },
    {
      "cell_type": "code",
      "source": [
        "Full <- read.csv(\"/content/Arkansas_data.csv\", skip=0, header=TRUE)\n",
        "Short <- read.csv(\"/content/Ark_2.csv\", skip=0, header=TRUE)\n",
        "combo <- merge(Full,Short, by=\"Time\", all = T)\n",
        "\n",
        "#head(AL_combo,5)\n",
        "# Add FBI crime data\n",
        "combo$Rapes_per_100k <- 72.9 # <<<=====\n",
        "# Add weekly church attendence\n",
        "combo$church_attendence <- 41# <=======\n",
        "# Add State column\n",
        "combo$State <- \"Arkansas\" # <<<========\n",
        "# Add median household income\n",
        "combo$Household_Income <- 48952\n",
        "#drop extraneous cols\n",
        "combo <- combo %>% \n",
        "        select(-c('State.x', 'State.y'))\n",
        "colnames(combo) <- c(\"Time\",\"ketamine\",\"date_rape\",\"GHB\",\"Rohypnol\",\n",
        "                        \"morning_after_pill\",\"roofie\",\"pills_to_avoid_preg\",\n",
        "                       \"how_much_is_morning_after_pill\",\"been_raped\",\"Rapes_per_100k\",\"church_attendence\",\"State\",\"Household_Income\")\n",
        "ARK_combo <- combo                       \n",
        "head(ARK_combo ,5)"
      ],
      "metadata": {
        "colab": {
          "base_uri": "https://localhost:8080/",
          "height": 448
        },
        "id": "GOCo_VTd0Oz5",
        "outputId": "7f4de5d6-1898-4d7b-a6a8-0eab19f84843"
      },
      "execution_count": 180,
      "outputs": [
        {
          "output_type": "display_data",
          "data": {
            "text/html": [
              "<table class=\"dataframe\">\n",
              "<caption>A data.frame: 5 × 14</caption>\n",
              "<thead>\n",
              "\t<tr><th></th><th scope=col>Time</th><th scope=col>ketamine</th><th scope=col>date_rape</th><th scope=col>GHB</th><th scope=col>Rohypnol</th><th scope=col>morning_after_pill</th><th scope=col>roofie</th><th scope=col>pills_to_avoid_preg</th><th scope=col>how_much_is_morning_after_pill</th><th scope=col>been_raped</th><th scope=col>Rapes_per_100k</th><th scope=col>church_attendence</th><th scope=col>State</th><th scope=col>Household_Income</th></tr>\n",
              "\t<tr><th></th><th scope=col>&lt;chr&gt;</th><th scope=col>&lt;int&gt;</th><th scope=col>&lt;int&gt;</th><th scope=col>&lt;int&gt;</th><th scope=col>&lt;int&gt;</th><th scope=col>&lt;int&gt;</th><th scope=col>&lt;int&gt;</th><th scope=col>&lt;int&gt;</th><th scope=col>&lt;int&gt;</th><th scope=col>&lt;int&gt;</th><th scope=col>&lt;dbl&gt;</th><th scope=col>&lt;dbl&gt;</th><th scope=col>&lt;chr&gt;</th><th scope=col>&lt;dbl&gt;</th></tr>\n",
              "</thead>\n",
              "<tbody>\n",
              "\t<tr><th scope=row>1</th><td>2022-02-23T11</td><td>14</td><td>0</td><td>0</td><td>0</td><td>NA</td><td>NA</td><td>NA</td><td>NA</td><td>NA</td><td>72.9</td><td>41</td><td>Arkansas</td><td>48952</td></tr>\n",
              "\t<tr><th scope=row>2</th><td>2022-02-23T12</td><td>14</td><td>0</td><td>0</td><td>0</td><td>NA</td><td>NA</td><td>NA</td><td>NA</td><td>NA</td><td>72.9</td><td>41</td><td>Arkansas</td><td>48952</td></tr>\n",
              "\t<tr><th scope=row>3</th><td>2022-02-23T13</td><td> 7</td><td>0</td><td>0</td><td>0</td><td> 0</td><td> 0</td><td> 0</td><td> 0</td><td> 0</td><td>72.9</td><td>41</td><td>Arkansas</td><td>48952</td></tr>\n",
              "\t<tr><th scope=row>4</th><td>2022-02-23T14</td><td>14</td><td>0</td><td>0</td><td>0</td><td> 0</td><td> 0</td><td> 0</td><td> 0</td><td> 0</td><td>72.9</td><td>41</td><td>Arkansas</td><td>48952</td></tr>\n",
              "\t<tr><th scope=row>5</th><td>2022-02-23T15</td><td>14</td><td>0</td><td>0</td><td>0</td><td> 0</td><td> 0</td><td> 0</td><td> 0</td><td> 0</td><td>72.9</td><td>41</td><td>Arkansas</td><td>48952</td></tr>\n",
              "</tbody>\n",
              "</table>\n"
            ],
            "text/markdown": "\nA data.frame: 5 × 14\n\n| <!--/--> | Time &lt;chr&gt; | ketamine &lt;int&gt; | date_rape &lt;int&gt; | GHB &lt;int&gt; | Rohypnol &lt;int&gt; | morning_after_pill &lt;int&gt; | roofie &lt;int&gt; | pills_to_avoid_preg &lt;int&gt; | how_much_is_morning_after_pill &lt;int&gt; | been_raped &lt;int&gt; | Rapes_per_100k &lt;dbl&gt; | church_attendence &lt;dbl&gt; | State &lt;chr&gt; | Household_Income &lt;dbl&gt; |\n|---|---|---|---|---|---|---|---|---|---|---|---|---|---|---|\n| 1 | 2022-02-23T11 | 14 | 0 | 0 | 0 | NA | NA | NA | NA | NA | 72.9 | 41 | Arkansas | 48952 |\n| 2 | 2022-02-23T12 | 14 | 0 | 0 | 0 | NA | NA | NA | NA | NA | 72.9 | 41 | Arkansas | 48952 |\n| 3 | 2022-02-23T13 |  7 | 0 | 0 | 0 |  0 |  0 |  0 |  0 |  0 | 72.9 | 41 | Arkansas | 48952 |\n| 4 | 2022-02-23T14 | 14 | 0 | 0 | 0 |  0 |  0 |  0 |  0 |  0 | 72.9 | 41 | Arkansas | 48952 |\n| 5 | 2022-02-23T15 | 14 | 0 | 0 | 0 |  0 |  0 |  0 |  0 |  0 | 72.9 | 41 | Arkansas | 48952 |\n\n",
            "text/latex": "A data.frame: 5 × 14\n\\begin{tabular}{r|llllllllllllll}\n  & Time & ketamine & date\\_rape & GHB & Rohypnol & morning\\_after\\_pill & roofie & pills\\_to\\_avoid\\_preg & how\\_much\\_is\\_morning\\_after\\_pill & been\\_raped & Rapes\\_per\\_100k & church\\_attendence & State & Household\\_Income\\\\\n  & <chr> & <int> & <int> & <int> & <int> & <int> & <int> & <int> & <int> & <int> & <dbl> & <dbl> & <chr> & <dbl>\\\\\n\\hline\n\t1 & 2022-02-23T11 & 14 & 0 & 0 & 0 & NA & NA & NA & NA & NA & 72.9 & 41 & Arkansas & 48952\\\\\n\t2 & 2022-02-23T12 & 14 & 0 & 0 & 0 & NA & NA & NA & NA & NA & 72.9 & 41 & Arkansas & 48952\\\\\n\t3 & 2022-02-23T13 &  7 & 0 & 0 & 0 &  0 &  0 &  0 &  0 &  0 & 72.9 & 41 & Arkansas & 48952\\\\\n\t4 & 2022-02-23T14 & 14 & 0 & 0 & 0 &  0 &  0 &  0 &  0 &  0 & 72.9 & 41 & Arkansas & 48952\\\\\n\t5 & 2022-02-23T15 & 14 & 0 & 0 & 0 &  0 &  0 &  0 &  0 &  0 & 72.9 & 41 & Arkansas & 48952\\\\\n\\end{tabular}\n",
            "text/plain": [
              "  Time          ketamine date_rape GHB Rohypnol morning_after_pill roofie\n",
              "1 2022-02-23T11 14       0         0   0        NA                 NA    \n",
              "2 2022-02-23T12 14       0         0   0        NA                 NA    \n",
              "3 2022-02-23T13  7       0         0   0         0                  0    \n",
              "4 2022-02-23T14 14       0         0   0         0                  0    \n",
              "5 2022-02-23T15 14       0         0   0         0                  0    \n",
              "  pills_to_avoid_preg how_much_is_morning_after_pill been_raped Rapes_per_100k\n",
              "1 NA                  NA                             NA         72.9          \n",
              "2 NA                  NA                             NA         72.9          \n",
              "3  0                   0                              0         72.9          \n",
              "4  0                   0                              0         72.9          \n",
              "5  0                   0                              0         72.9          \n",
              "  church_attendence State    Household_Income\n",
              "1 41                Arkansas 48952           \n",
              "2 41                Arkansas 48952           \n",
              "3 41                Arkansas 48952           \n",
              "4 41                Arkansas 48952           \n",
              "5 41                Arkansas 48952           "
            ]
          },
          "metadata": {}
        }
      ]
    },
    {
      "cell_type": "markdown",
      "source": [
        "## California"
      ],
      "metadata": {
        "id": "nFPRWiPPpfBk"
      }
    },
    {
      "cell_type": "code",
      "source": [
        "Full <- read.csv(\"/content/California_data.csv\", skip=0, header=TRUE)\n",
        "Short <- read.csv(\"/content/CA_2.csv\", skip=0, header=TRUE)\n",
        "combo <- merge(Full,Short, by=\"Time\", all = T)\n",
        "\n",
        "#head(AL_combo,5)\n",
        "# Add FBI crime data\n",
        "combo$Rapes_per_100k <- 39.2 # <<<====\n",
        "# Add weekly church attendence\n",
        "combo$church_attendence <- 31 # <=======\n",
        "# Add State column\n",
        "combo$State <- \"California\" #. <<<========\n",
        "# Add median household income\n",
        "combo$Household_Income <- 80440\n",
        "#drop extraneous cols\n",
        "combo <- combo %>% \n",
        "        select(-c('State.x', 'State.y'))\n",
        "colnames(combo) <- c(\"Time\",\"ketamine\",\"date_rape\",\"GHB\",\"Rohypnol\",\n",
        "                        \"morning_after_pill\",\"roofie\",\"pills_to_avoid_preg\",\n",
        "                       \"how_much_is_morning_after_pill\",\"been_raped\",\"Rapes_per_100k\",\"church_attendence\",\"State\",\"Household_Income\")\n",
        "CA_combo <- combo                       \n",
        "head(CA_combo ,5)"
      ],
      "metadata": {
        "colab": {
          "base_uri": "https://localhost:8080/",
          "height": 448
        },
        "id": "gBZ2jDne0j_q",
        "outputId": "8ec8040f-c50c-45fa-d9a9-8e8638e22cf7"
      },
      "execution_count": 181,
      "outputs": [
        {
          "output_type": "display_data",
          "data": {
            "text/html": [
              "<table class=\"dataframe\">\n",
              "<caption>A data.frame: 5 × 14</caption>\n",
              "<thead>\n",
              "\t<tr><th></th><th scope=col>Time</th><th scope=col>ketamine</th><th scope=col>date_rape</th><th scope=col>GHB</th><th scope=col>Rohypnol</th><th scope=col>morning_after_pill</th><th scope=col>roofie</th><th scope=col>pills_to_avoid_preg</th><th scope=col>how_much_is_morning_after_pill</th><th scope=col>been_raped</th><th scope=col>Rapes_per_100k</th><th scope=col>church_attendence</th><th scope=col>State</th><th scope=col>Household_Income</th></tr>\n",
              "\t<tr><th></th><th scope=col>&lt;chr&gt;</th><th scope=col>&lt;int&gt;</th><th scope=col>&lt;int&gt;</th><th scope=col>&lt;int&gt;</th><th scope=col>&lt;int&gt;</th><th scope=col>&lt;int&gt;</th><th scope=col>&lt;int&gt;</th><th scope=col>&lt;int&gt;</th><th scope=col>&lt;int&gt;</th><th scope=col>&lt;int&gt;</th><th scope=col>&lt;dbl&gt;</th><th scope=col>&lt;dbl&gt;</th><th scope=col>&lt;chr&gt;</th><th scope=col>&lt;dbl&gt;</th></tr>\n",
              "</thead>\n",
              "<tbody>\n",
              "\t<tr><th scope=row>1</th><td>2022-02-23T11</td><td>27</td><td>0</td><td> 5</td><td>1</td><td>NA</td><td>NA</td><td>NA</td><td>NA</td><td>NA</td><td>39.2</td><td>31</td><td>California</td><td>80440</td></tr>\n",
              "\t<tr><th scope=row>2</th><td>2022-02-23T12</td><td>26</td><td>2</td><td>11</td><td>0</td><td>NA</td><td>NA</td><td>NA</td><td>NA</td><td>NA</td><td>39.2</td><td>31</td><td>California</td><td>80440</td></tr>\n",
              "\t<tr><th scope=row>3</th><td>2022-02-23T13</td><td>28</td><td>2</td><td>13</td><td>0</td><td>10</td><td> 3</td><td> 0</td><td> 0</td><td> 0</td><td>39.2</td><td>31</td><td>California</td><td>80440</td></tr>\n",
              "\t<tr><th scope=row>4</th><td>2022-02-23T14</td><td>29</td><td>5</td><td>22</td><td>1</td><td>12</td><td> 6</td><td> 0</td><td> 0</td><td> 0</td><td>39.2</td><td>31</td><td>California</td><td>80440</td></tr>\n",
              "\t<tr><th scope=row>5</th><td>2022-02-23T15</td><td>40</td><td>1</td><td>26</td><td>2</td><td> 6</td><td> 3</td><td> 0</td><td> 0</td><td> 0</td><td>39.2</td><td>31</td><td>California</td><td>80440</td></tr>\n",
              "</tbody>\n",
              "</table>\n"
            ],
            "text/markdown": "\nA data.frame: 5 × 14\n\n| <!--/--> | Time &lt;chr&gt; | ketamine &lt;int&gt; | date_rape &lt;int&gt; | GHB &lt;int&gt; | Rohypnol &lt;int&gt; | morning_after_pill &lt;int&gt; | roofie &lt;int&gt; | pills_to_avoid_preg &lt;int&gt; | how_much_is_morning_after_pill &lt;int&gt; | been_raped &lt;int&gt; | Rapes_per_100k &lt;dbl&gt; | church_attendence &lt;dbl&gt; | State &lt;chr&gt; | Household_Income &lt;dbl&gt; |\n|---|---|---|---|---|---|---|---|---|---|---|---|---|---|---|\n| 1 | 2022-02-23T11 | 27 | 0 |  5 | 1 | NA | NA | NA | NA | NA | 39.2 | 31 | California | 80440 |\n| 2 | 2022-02-23T12 | 26 | 2 | 11 | 0 | NA | NA | NA | NA | NA | 39.2 | 31 | California | 80440 |\n| 3 | 2022-02-23T13 | 28 | 2 | 13 | 0 | 10 |  3 |  0 |  0 |  0 | 39.2 | 31 | California | 80440 |\n| 4 | 2022-02-23T14 | 29 | 5 | 22 | 1 | 12 |  6 |  0 |  0 |  0 | 39.2 | 31 | California | 80440 |\n| 5 | 2022-02-23T15 | 40 | 1 | 26 | 2 |  6 |  3 |  0 |  0 |  0 | 39.2 | 31 | California | 80440 |\n\n",
            "text/latex": "A data.frame: 5 × 14\n\\begin{tabular}{r|llllllllllllll}\n  & Time & ketamine & date\\_rape & GHB & Rohypnol & morning\\_after\\_pill & roofie & pills\\_to\\_avoid\\_preg & how\\_much\\_is\\_morning\\_after\\_pill & been\\_raped & Rapes\\_per\\_100k & church\\_attendence & State & Household\\_Income\\\\\n  & <chr> & <int> & <int> & <int> & <int> & <int> & <int> & <int> & <int> & <int> & <dbl> & <dbl> & <chr> & <dbl>\\\\\n\\hline\n\t1 & 2022-02-23T11 & 27 & 0 &  5 & 1 & NA & NA & NA & NA & NA & 39.2 & 31 & California & 80440\\\\\n\t2 & 2022-02-23T12 & 26 & 2 & 11 & 0 & NA & NA & NA & NA & NA & 39.2 & 31 & California & 80440\\\\\n\t3 & 2022-02-23T13 & 28 & 2 & 13 & 0 & 10 &  3 &  0 &  0 &  0 & 39.2 & 31 & California & 80440\\\\\n\t4 & 2022-02-23T14 & 29 & 5 & 22 & 1 & 12 &  6 &  0 &  0 &  0 & 39.2 & 31 & California & 80440\\\\\n\t5 & 2022-02-23T15 & 40 & 1 & 26 & 2 &  6 &  3 &  0 &  0 &  0 & 39.2 & 31 & California & 80440\\\\\n\\end{tabular}\n",
            "text/plain": [
              "  Time          ketamine date_rape GHB Rohypnol morning_after_pill roofie\n",
              "1 2022-02-23T11 27       0          5  1        NA                 NA    \n",
              "2 2022-02-23T12 26       2         11  0        NA                 NA    \n",
              "3 2022-02-23T13 28       2         13  0        10                  3    \n",
              "4 2022-02-23T14 29       5         22  1        12                  6    \n",
              "5 2022-02-23T15 40       1         26  2         6                  3    \n",
              "  pills_to_avoid_preg how_much_is_morning_after_pill been_raped Rapes_per_100k\n",
              "1 NA                  NA                             NA         39.2          \n",
              "2 NA                  NA                             NA         39.2          \n",
              "3  0                   0                              0         39.2          \n",
              "4  0                   0                              0         39.2          \n",
              "5  0                   0                              0         39.2          \n",
              "  church_attendence State      Household_Income\n",
              "1 31                California 80440           \n",
              "2 31                California 80440           \n",
              "3 31                California 80440           \n",
              "4 31                California 80440           \n",
              "5 31                California 80440           "
            ]
          },
          "metadata": {}
        }
      ]
    },
    {
      "cell_type": "markdown",
      "source": [
        "## Colorado"
      ],
      "metadata": {
        "id": "gmqTT0kfpe9p"
      }
    },
    {
      "cell_type": "code",
      "source": [
        "Full <- read.csv(\"/content/Colorado.csv\", skip=0, header=TRUE)\n",
        "Short <- read.csv(\"/content/CO_2.csv\", skip=0, header=TRUE)\n",
        "combo <- merge(Full,Short, by=\"Time\", all = T)\n",
        "\n",
        "#head(AL_combo,5)\n",
        "# Add FBI crime data\n",
        "combo$Rapes_per_100k <- 71.5 # <<<====\n",
        "# Add weekly church attendence\n",
        "combo$church_attendence <- 31 # <=======\n",
        "# Add State column\n",
        "combo$State <- \"Colorado\" #. <<<========\n",
        "# Add median household income\n",
        "combo$Household_Income <- 77127\n",
        "#drop extraneous cols\n",
        "combo <- combo %>% \n",
        "        select(-c('State.x', 'State.y'))\n",
        "colnames(combo) <- c(\"Time\",\"ketamine\",\"date_rape\",\"GHB\",\"Rohypnol\",\n",
        "                        \"morning_after_pill\",\"roofie\",\"pills_to_avoid_preg\",\n",
        "                       \"how_much_is_morning_after_pill\",\"been_raped\",\"Rapes_per_100k\",\"church_attendence\",\"State\",\"Household_Income\")\n",
        "CO_combo <- combo                       \n",
        "head(CO_combo ,5)"
      ],
      "metadata": {
        "colab": {
          "base_uri": "https://localhost:8080/",
          "height": 448
        },
        "id": "FeBPUxlH27UJ",
        "outputId": "3a14cbe8-3205-427a-cdbb-1f522c79e102"
      },
      "execution_count": 182,
      "outputs": [
        {
          "output_type": "display_data",
          "data": {
            "text/html": [
              "<table class=\"dataframe\">\n",
              "<caption>A data.frame: 5 × 14</caption>\n",
              "<thead>\n",
              "\t<tr><th></th><th scope=col>Time</th><th scope=col>ketamine</th><th scope=col>date_rape</th><th scope=col>GHB</th><th scope=col>Rohypnol</th><th scope=col>morning_after_pill</th><th scope=col>roofie</th><th scope=col>pills_to_avoid_preg</th><th scope=col>how_much_is_morning_after_pill</th><th scope=col>been_raped</th><th scope=col>Rapes_per_100k</th><th scope=col>church_attendence</th><th scope=col>State</th><th scope=col>Household_Income</th></tr>\n",
              "\t<tr><th></th><th scope=col>&lt;chr&gt;</th><th scope=col>&lt;int&gt;</th><th scope=col>&lt;int&gt;</th><th scope=col>&lt;int&gt;</th><th scope=col>&lt;int&gt;</th><th scope=col>&lt;int&gt;</th><th scope=col>&lt;int&gt;</th><th scope=col>&lt;int&gt;</th><th scope=col>&lt;int&gt;</th><th scope=col>&lt;int&gt;</th><th scope=col>&lt;dbl&gt;</th><th scope=col>&lt;dbl&gt;</th><th scope=col>&lt;chr&gt;</th><th scope=col>&lt;dbl&gt;</th></tr>\n",
              "</thead>\n",
              "<tbody>\n",
              "\t<tr><th scope=row>1</th><td>2022-02-23T11</td><td>11</td><td>0</td><td>0</td><td>0</td><td>NA</td><td>NA</td><td>NA</td><td>NA</td><td>NA</td><td>71.5</td><td>31</td><td>Colorado</td><td>77127</td></tr>\n",
              "\t<tr><th scope=row>2</th><td>2022-02-23T12</td><td>12</td><td>0</td><td>2</td><td>0</td><td>NA</td><td>NA</td><td>NA</td><td>NA</td><td>NA</td><td>71.5</td><td>31</td><td>Colorado</td><td>77127</td></tr>\n",
              "\t<tr><th scope=row>3</th><td>2022-02-23T13</td><td>13</td><td>2</td><td>0</td><td>0</td><td> 0</td><td> 0</td><td> 0</td><td> 0</td><td> 0</td><td>71.5</td><td>31</td><td>Colorado</td><td>77127</td></tr>\n",
              "\t<tr><th scope=row>4</th><td>2022-02-23T14</td><td>15</td><td>0</td><td>2</td><td>0</td><td> 0</td><td> 7</td><td> 0</td><td> 0</td><td> 0</td><td>71.5</td><td>31</td><td>Colorado</td><td>77127</td></tr>\n",
              "\t<tr><th scope=row>5</th><td>2022-02-23T15</td><td>22</td><td>0</td><td>2</td><td>0</td><td>22</td><td> 0</td><td> 0</td><td> 0</td><td> 0</td><td>71.5</td><td>31</td><td>Colorado</td><td>77127</td></tr>\n",
              "</tbody>\n",
              "</table>\n"
            ],
            "text/markdown": "\nA data.frame: 5 × 14\n\n| <!--/--> | Time &lt;chr&gt; | ketamine &lt;int&gt; | date_rape &lt;int&gt; | GHB &lt;int&gt; | Rohypnol &lt;int&gt; | morning_after_pill &lt;int&gt; | roofie &lt;int&gt; | pills_to_avoid_preg &lt;int&gt; | how_much_is_morning_after_pill &lt;int&gt; | been_raped &lt;int&gt; | Rapes_per_100k &lt;dbl&gt; | church_attendence &lt;dbl&gt; | State &lt;chr&gt; | Household_Income &lt;dbl&gt; |\n|---|---|---|---|---|---|---|---|---|---|---|---|---|---|---|\n| 1 | 2022-02-23T11 | 11 | 0 | 0 | 0 | NA | NA | NA | NA | NA | 71.5 | 31 | Colorado | 77127 |\n| 2 | 2022-02-23T12 | 12 | 0 | 2 | 0 | NA | NA | NA | NA | NA | 71.5 | 31 | Colorado | 77127 |\n| 3 | 2022-02-23T13 | 13 | 2 | 0 | 0 |  0 |  0 |  0 |  0 |  0 | 71.5 | 31 | Colorado | 77127 |\n| 4 | 2022-02-23T14 | 15 | 0 | 2 | 0 |  0 |  7 |  0 |  0 |  0 | 71.5 | 31 | Colorado | 77127 |\n| 5 | 2022-02-23T15 | 22 | 0 | 2 | 0 | 22 |  0 |  0 |  0 |  0 | 71.5 | 31 | Colorado | 77127 |\n\n",
            "text/latex": "A data.frame: 5 × 14\n\\begin{tabular}{r|llllllllllllll}\n  & Time & ketamine & date\\_rape & GHB & Rohypnol & morning\\_after\\_pill & roofie & pills\\_to\\_avoid\\_preg & how\\_much\\_is\\_morning\\_after\\_pill & been\\_raped & Rapes\\_per\\_100k & church\\_attendence & State & Household\\_Income\\\\\n  & <chr> & <int> & <int> & <int> & <int> & <int> & <int> & <int> & <int> & <int> & <dbl> & <dbl> & <chr> & <dbl>\\\\\n\\hline\n\t1 & 2022-02-23T11 & 11 & 0 & 0 & 0 & NA & NA & NA & NA & NA & 71.5 & 31 & Colorado & 77127\\\\\n\t2 & 2022-02-23T12 & 12 & 0 & 2 & 0 & NA & NA & NA & NA & NA & 71.5 & 31 & Colorado & 77127\\\\\n\t3 & 2022-02-23T13 & 13 & 2 & 0 & 0 &  0 &  0 &  0 &  0 &  0 & 71.5 & 31 & Colorado & 77127\\\\\n\t4 & 2022-02-23T14 & 15 & 0 & 2 & 0 &  0 &  7 &  0 &  0 &  0 & 71.5 & 31 & Colorado & 77127\\\\\n\t5 & 2022-02-23T15 & 22 & 0 & 2 & 0 & 22 &  0 &  0 &  0 &  0 & 71.5 & 31 & Colorado & 77127\\\\\n\\end{tabular}\n",
            "text/plain": [
              "  Time          ketamine date_rape GHB Rohypnol morning_after_pill roofie\n",
              "1 2022-02-23T11 11       0         0   0        NA                 NA    \n",
              "2 2022-02-23T12 12       0         2   0        NA                 NA    \n",
              "3 2022-02-23T13 13       2         0   0         0                  0    \n",
              "4 2022-02-23T14 15       0         2   0         0                  7    \n",
              "5 2022-02-23T15 22       0         2   0        22                  0    \n",
              "  pills_to_avoid_preg how_much_is_morning_after_pill been_raped Rapes_per_100k\n",
              "1 NA                  NA                             NA         71.5          \n",
              "2 NA                  NA                             NA         71.5          \n",
              "3  0                   0                              0         71.5          \n",
              "4  0                   0                              0         71.5          \n",
              "5  0                   0                              0         71.5          \n",
              "  church_attendence State    Household_Income\n",
              "1 31                Colorado 77127           \n",
              "2 31                Colorado 77127           \n",
              "3 31                Colorado 77127           \n",
              "4 31                Colorado 77127           \n",
              "5 31                Colorado 77127           "
            ]
          },
          "metadata": {}
        }
      ]
    },
    {
      "cell_type": "markdown",
      "source": [
        "## Connecticut\n"
      ],
      "metadata": {
        "id": "bRluTm6Hpe5S"
      }
    },
    {
      "cell_type": "code",
      "source": [
        "Full <- read.csv(\"/content/Connecticut.csv\", skip=0, header=TRUE)\n",
        "Short <- read.csv(\"/content/CT_2.csv\", skip=0, header=TRUE)\n",
        "combo <- merge(Full,Short, by=\"Time\", all = T)\n",
        "\n",
        "#head(AL_combo,5)\n",
        "# Add FBI crime data\n",
        "combo$Rapes_per_100k <- 33.6 # <<<====\n",
        "# Add weekly church attendence\n",
        "combo$church_attendence <- 30 # <=======\n",
        "# Add State column\n",
        "combo$State <- \"Connecticut\" # <<<========\n",
        "# Add median household income\n",
        "combo$Household_Income <- 78833\n",
        "#drop extraneous cols\n",
        "combo <- combo %>% \n",
        "        select(-c('State.x', 'State.y'))\n",
        "colnames(combo) <- c(\"Time\",\"ketamine\",\"date_rape\",\"GHB\",\"Rohypnol\",\n",
        "                        \"morning_after_pill\",\"roofie\",\"pills_to_avoid_preg\",\n",
        "                       \"how_much_is_morning_after_pill\",\"been_raped\",\"Rapes_per_100k\",\"church_attendence\",\"State\",\"Household_Income\")\n",
        "CT_combo <- combo                       \n",
        "head(CT_combo ,5)"
      ],
      "metadata": {
        "colab": {
          "base_uri": "https://localhost:8080/",
          "height": 448
        },
        "id": "ttMMCgEg3Nnr",
        "outputId": "89faf8ea-7fa8-4ba2-c759-fd965fbc643a"
      },
      "execution_count": 183,
      "outputs": [
        {
          "output_type": "display_data",
          "data": {
            "text/html": [
              "<table class=\"dataframe\">\n",
              "<caption>A data.frame: 5 × 14</caption>\n",
              "<thead>\n",
              "\t<tr><th></th><th scope=col>Time</th><th scope=col>ketamine</th><th scope=col>date_rape</th><th scope=col>GHB</th><th scope=col>Rohypnol</th><th scope=col>morning_after_pill</th><th scope=col>roofie</th><th scope=col>pills_to_avoid_preg</th><th scope=col>how_much_is_morning_after_pill</th><th scope=col>been_raped</th><th scope=col>Rapes_per_100k</th><th scope=col>church_attendence</th><th scope=col>State</th><th scope=col>Household_Income</th></tr>\n",
              "\t<tr><th></th><th scope=col>&lt;chr&gt;</th><th scope=col>&lt;int&gt;</th><th scope=col>&lt;int&gt;</th><th scope=col>&lt;int&gt;</th><th scope=col>&lt;int&gt;</th><th scope=col>&lt;int&gt;</th><th scope=col>&lt;int&gt;</th><th scope=col>&lt;int&gt;</th><th scope=col>&lt;int&gt;</th><th scope=col>&lt;int&gt;</th><th scope=col>&lt;dbl&gt;</th><th scope=col>&lt;dbl&gt;</th><th scope=col>&lt;chr&gt;</th><th scope=col>&lt;dbl&gt;</th></tr>\n",
              "</thead>\n",
              "<tbody>\n",
              "\t<tr><th scope=row>1</th><td>2022-02-23T11</td><td>32</td><td>0</td><td> 0</td><td>0</td><td>NA</td><td>NA</td><td>NA</td><td>NA</td><td>NA</td><td>33.6</td><td>30</td><td>Connecticut</td><td>78833</td></tr>\n",
              "\t<tr><th scope=row>2</th><td>2022-02-23T12</td><td>11</td><td>0</td><td> 0</td><td>0</td><td>NA</td><td>NA</td><td>NA</td><td>NA</td><td>NA</td><td>33.6</td><td>30</td><td>Connecticut</td><td>78833</td></tr>\n",
              "\t<tr><th scope=row>3</th><td>2022-02-23T13</td><td>28</td><td>0</td><td>11</td><td>0</td><td> 0</td><td> 0</td><td> 0</td><td> 0</td><td> 0</td><td>33.6</td><td>30</td><td>Connecticut</td><td>78833</td></tr>\n",
              "\t<tr><th scope=row>4</th><td>2022-02-23T14</td><td>11</td><td>0</td><td> 0</td><td>0</td><td> 5</td><td> 0</td><td> 0</td><td> 0</td><td> 0</td><td>33.6</td><td>30</td><td>Connecticut</td><td>78833</td></tr>\n",
              "\t<tr><th scope=row>5</th><td>2022-02-23T15</td><td>11</td><td>0</td><td> 0</td><td>0</td><td> 5</td><td> 5</td><td> 0</td><td> 0</td><td> 0</td><td>33.6</td><td>30</td><td>Connecticut</td><td>78833</td></tr>\n",
              "</tbody>\n",
              "</table>\n"
            ],
            "text/markdown": "\nA data.frame: 5 × 14\n\n| <!--/--> | Time &lt;chr&gt; | ketamine &lt;int&gt; | date_rape &lt;int&gt; | GHB &lt;int&gt; | Rohypnol &lt;int&gt; | morning_after_pill &lt;int&gt; | roofie &lt;int&gt; | pills_to_avoid_preg &lt;int&gt; | how_much_is_morning_after_pill &lt;int&gt; | been_raped &lt;int&gt; | Rapes_per_100k &lt;dbl&gt; | church_attendence &lt;dbl&gt; | State &lt;chr&gt; | Household_Income &lt;dbl&gt; |\n|---|---|---|---|---|---|---|---|---|---|---|---|---|---|---|\n| 1 | 2022-02-23T11 | 32 | 0 |  0 | 0 | NA | NA | NA | NA | NA | 33.6 | 30 | Connecticut | 78833 |\n| 2 | 2022-02-23T12 | 11 | 0 |  0 | 0 | NA | NA | NA | NA | NA | 33.6 | 30 | Connecticut | 78833 |\n| 3 | 2022-02-23T13 | 28 | 0 | 11 | 0 |  0 |  0 |  0 |  0 |  0 | 33.6 | 30 | Connecticut | 78833 |\n| 4 | 2022-02-23T14 | 11 | 0 |  0 | 0 |  5 |  0 |  0 |  0 |  0 | 33.6 | 30 | Connecticut | 78833 |\n| 5 | 2022-02-23T15 | 11 | 0 |  0 | 0 |  5 |  5 |  0 |  0 |  0 | 33.6 | 30 | Connecticut | 78833 |\n\n",
            "text/latex": "A data.frame: 5 × 14\n\\begin{tabular}{r|llllllllllllll}\n  & Time & ketamine & date\\_rape & GHB & Rohypnol & morning\\_after\\_pill & roofie & pills\\_to\\_avoid\\_preg & how\\_much\\_is\\_morning\\_after\\_pill & been\\_raped & Rapes\\_per\\_100k & church\\_attendence & State & Household\\_Income\\\\\n  & <chr> & <int> & <int> & <int> & <int> & <int> & <int> & <int> & <int> & <int> & <dbl> & <dbl> & <chr> & <dbl>\\\\\n\\hline\n\t1 & 2022-02-23T11 & 32 & 0 &  0 & 0 & NA & NA & NA & NA & NA & 33.6 & 30 & Connecticut & 78833\\\\\n\t2 & 2022-02-23T12 & 11 & 0 &  0 & 0 & NA & NA & NA & NA & NA & 33.6 & 30 & Connecticut & 78833\\\\\n\t3 & 2022-02-23T13 & 28 & 0 & 11 & 0 &  0 &  0 &  0 &  0 &  0 & 33.6 & 30 & Connecticut & 78833\\\\\n\t4 & 2022-02-23T14 & 11 & 0 &  0 & 0 &  5 &  0 &  0 &  0 &  0 & 33.6 & 30 & Connecticut & 78833\\\\\n\t5 & 2022-02-23T15 & 11 & 0 &  0 & 0 &  5 &  5 &  0 &  0 &  0 & 33.6 & 30 & Connecticut & 78833\\\\\n\\end{tabular}\n",
            "text/plain": [
              "  Time          ketamine date_rape GHB Rohypnol morning_after_pill roofie\n",
              "1 2022-02-23T11 32       0          0  0        NA                 NA    \n",
              "2 2022-02-23T12 11       0          0  0        NA                 NA    \n",
              "3 2022-02-23T13 28       0         11  0         0                  0    \n",
              "4 2022-02-23T14 11       0          0  0         5                  0    \n",
              "5 2022-02-23T15 11       0          0  0         5                  5    \n",
              "  pills_to_avoid_preg how_much_is_morning_after_pill been_raped Rapes_per_100k\n",
              "1 NA                  NA                             NA         33.6          \n",
              "2 NA                  NA                             NA         33.6          \n",
              "3  0                   0                              0         33.6          \n",
              "4  0                   0                              0         33.6          \n",
              "5  0                   0                              0         33.6          \n",
              "  church_attendence State       Household_Income\n",
              "1 30                Connecticut 78833           \n",
              "2 30                Connecticut 78833           \n",
              "3 30                Connecticut 78833           \n",
              "4 30                Connecticut 78833           \n",
              "5 30                Connecticut 78833           "
            ]
          },
          "metadata": {}
        }
      ]
    },
    {
      "cell_type": "markdown",
      "source": [
        "## Delaware"
      ],
      "metadata": {
        "id": "F3HGeWu9pe1I"
      }
    },
    {
      "cell_type": "code",
      "source": [
        "Full <- read.csv(\"/content/Delaware.csv\", skip=0, header=TRUE)\n",
        "Short <- read.csv(\"/content/DE_2.csv\", skip=0, header=TRUE)\n",
        "combo <- merge(Full,Short, by=\"Time\", all = T)\n",
        "\n",
        "#head(AL_combo,5)\n",
        "# Add FBI crime data\n",
        "combo$Rapes_per_100k <- 34.9 # <<<====\n",
        "# Add weekly church attendence\n",
        "combo$church_attendence <- 34 # <=======\n",
        "# Add State column\n",
        "combo$State <- \"Delaware\" # <<<========\n",
        "# Add median household income\n",
        "combo$Household_Income <- 70176\n",
        "#drop extraneous cols\n",
        "combo <- combo %>% \n",
        "        select(-c('State.x', 'State.y'))\n",
        "colnames(combo) <- c(\"Time\",\"ketamine\",\"date_rape\",\"GHB\",\"Rohypnol\",\n",
        "                        \"morning_after_pill\",\"roofie\",\"pills_to_avoid_preg\",\n",
        "                       \"how_much_is_morning_after_pill\",\"been_raped\",\"Rapes_per_100k\",\"church_attendence\",\"State\",\"Household_Income\")\n",
        "DE_combo <- combo                       \n",
        "head(DE_combo ,5)"
      ],
      "metadata": {
        "colab": {
          "base_uri": "https://localhost:8080/",
          "height": 448
        },
        "id": "HDx7RH-o3kCb",
        "outputId": "4bf81b3a-237e-49aa-ac16-f600b7f58b4f"
      },
      "execution_count": 184,
      "outputs": [
        {
          "output_type": "display_data",
          "data": {
            "text/html": [
              "<table class=\"dataframe\">\n",
              "<caption>A data.frame: 5 × 14</caption>\n",
              "<thead>\n",
              "\t<tr><th></th><th scope=col>Time</th><th scope=col>ketamine</th><th scope=col>date_rape</th><th scope=col>GHB</th><th scope=col>Rohypnol</th><th scope=col>morning_after_pill</th><th scope=col>roofie</th><th scope=col>pills_to_avoid_preg</th><th scope=col>how_much_is_morning_after_pill</th><th scope=col>been_raped</th><th scope=col>Rapes_per_100k</th><th scope=col>church_attendence</th><th scope=col>State</th><th scope=col>Household_Income</th></tr>\n",
              "\t<tr><th></th><th scope=col>&lt;chr&gt;</th><th scope=col>&lt;int&gt;</th><th scope=col>&lt;int&gt;</th><th scope=col>&lt;int&gt;</th><th scope=col>&lt;int&gt;</th><th scope=col>&lt;int&gt;</th><th scope=col>&lt;int&gt;</th><th scope=col>&lt;int&gt;</th><th scope=col>&lt;int&gt;</th><th scope=col>&lt;int&gt;</th><th scope=col>&lt;dbl&gt;</th><th scope=col>&lt;dbl&gt;</th><th scope=col>&lt;chr&gt;</th><th scope=col>&lt;dbl&gt;</th></tr>\n",
              "</thead>\n",
              "<tbody>\n",
              "\t<tr><th scope=row>1</th><td>2022-02-23T11</td><td> 0</td><td>0</td><td>0</td><td>0</td><td>NA</td><td>NA</td><td>NA</td><td>NA</td><td>NA</td><td>34.9</td><td>34</td><td>Delaware</td><td>70176</td></tr>\n",
              "\t<tr><th scope=row>2</th><td>2022-02-23T12</td><td>13</td><td>0</td><td>0</td><td>0</td><td>NA</td><td>NA</td><td>NA</td><td>NA</td><td>NA</td><td>34.9</td><td>34</td><td>Delaware</td><td>70176</td></tr>\n",
              "\t<tr><th scope=row>3</th><td>2022-02-23T13</td><td>12</td><td>0</td><td>0</td><td>0</td><td> 0</td><td> 0</td><td> 0</td><td> 0</td><td> 0</td><td>34.9</td><td>34</td><td>Delaware</td><td>70176</td></tr>\n",
              "\t<tr><th scope=row>4</th><td>2022-02-23T14</td><td> 0</td><td>0</td><td>0</td><td>0</td><td> 0</td><td> 0</td><td> 0</td><td> 0</td><td> 0</td><td>34.9</td><td>34</td><td>Delaware</td><td>70176</td></tr>\n",
              "\t<tr><th scope=row>5</th><td>2022-02-23T15</td><td> 0</td><td>0</td><td>0</td><td>0</td><td> 0</td><td> 0</td><td> 0</td><td> 0</td><td> 0</td><td>34.9</td><td>34</td><td>Delaware</td><td>70176</td></tr>\n",
              "</tbody>\n",
              "</table>\n"
            ],
            "text/markdown": "\nA data.frame: 5 × 14\n\n| <!--/--> | Time &lt;chr&gt; | ketamine &lt;int&gt; | date_rape &lt;int&gt; | GHB &lt;int&gt; | Rohypnol &lt;int&gt; | morning_after_pill &lt;int&gt; | roofie &lt;int&gt; | pills_to_avoid_preg &lt;int&gt; | how_much_is_morning_after_pill &lt;int&gt; | been_raped &lt;int&gt; | Rapes_per_100k &lt;dbl&gt; | church_attendence &lt;dbl&gt; | State &lt;chr&gt; | Household_Income &lt;dbl&gt; |\n|---|---|---|---|---|---|---|---|---|---|---|---|---|---|---|\n| 1 | 2022-02-23T11 |  0 | 0 | 0 | 0 | NA | NA | NA | NA | NA | 34.9 | 34 | Delaware | 70176 |\n| 2 | 2022-02-23T12 | 13 | 0 | 0 | 0 | NA | NA | NA | NA | NA | 34.9 | 34 | Delaware | 70176 |\n| 3 | 2022-02-23T13 | 12 | 0 | 0 | 0 |  0 |  0 |  0 |  0 |  0 | 34.9 | 34 | Delaware | 70176 |\n| 4 | 2022-02-23T14 |  0 | 0 | 0 | 0 |  0 |  0 |  0 |  0 |  0 | 34.9 | 34 | Delaware | 70176 |\n| 5 | 2022-02-23T15 |  0 | 0 | 0 | 0 |  0 |  0 |  0 |  0 |  0 | 34.9 | 34 | Delaware | 70176 |\n\n",
            "text/latex": "A data.frame: 5 × 14\n\\begin{tabular}{r|llllllllllllll}\n  & Time & ketamine & date\\_rape & GHB & Rohypnol & morning\\_after\\_pill & roofie & pills\\_to\\_avoid\\_preg & how\\_much\\_is\\_morning\\_after\\_pill & been\\_raped & Rapes\\_per\\_100k & church\\_attendence & State & Household\\_Income\\\\\n  & <chr> & <int> & <int> & <int> & <int> & <int> & <int> & <int> & <int> & <int> & <dbl> & <dbl> & <chr> & <dbl>\\\\\n\\hline\n\t1 & 2022-02-23T11 &  0 & 0 & 0 & 0 & NA & NA & NA & NA & NA & 34.9 & 34 & Delaware & 70176\\\\\n\t2 & 2022-02-23T12 & 13 & 0 & 0 & 0 & NA & NA & NA & NA & NA & 34.9 & 34 & Delaware & 70176\\\\\n\t3 & 2022-02-23T13 & 12 & 0 & 0 & 0 &  0 &  0 &  0 &  0 &  0 & 34.9 & 34 & Delaware & 70176\\\\\n\t4 & 2022-02-23T14 &  0 & 0 & 0 & 0 &  0 &  0 &  0 &  0 &  0 & 34.9 & 34 & Delaware & 70176\\\\\n\t5 & 2022-02-23T15 &  0 & 0 & 0 & 0 &  0 &  0 &  0 &  0 &  0 & 34.9 & 34 & Delaware & 70176\\\\\n\\end{tabular}\n",
            "text/plain": [
              "  Time          ketamine date_rape GHB Rohypnol morning_after_pill roofie\n",
              "1 2022-02-23T11  0       0         0   0        NA                 NA    \n",
              "2 2022-02-23T12 13       0         0   0        NA                 NA    \n",
              "3 2022-02-23T13 12       0         0   0         0                  0    \n",
              "4 2022-02-23T14  0       0         0   0         0                  0    \n",
              "5 2022-02-23T15  0       0         0   0         0                  0    \n",
              "  pills_to_avoid_preg how_much_is_morning_after_pill been_raped Rapes_per_100k\n",
              "1 NA                  NA                             NA         34.9          \n",
              "2 NA                  NA                             NA         34.9          \n",
              "3  0                   0                              0         34.9          \n",
              "4  0                   0                              0         34.9          \n",
              "5  0                   0                              0         34.9          \n",
              "  church_attendence State    Household_Income\n",
              "1 34                Delaware 70176           \n",
              "2 34                Delaware 70176           \n",
              "3 34                Delaware 70176           \n",
              "4 34                Delaware 70176           \n",
              "5 34                Delaware 70176           "
            ]
          },
          "metadata": {}
        }
      ]
    },
    {
      "cell_type": "markdown",
      "source": [
        "## Florida"
      ],
      "metadata": {
        "id": "EF1JjXzCpew3"
      }
    },
    {
      "cell_type": "code",
      "source": [
        "Full <- read.csv(\"/content/Florida_data.csv\", skip=0, header=TRUE)\n",
        "Short <- read.csv(\"/content/FL_2.csv\", skip=0, header=TRUE)\n",
        "combo <- merge(Full,Short, by=\"Time\", all = T)\n",
        "\n",
        "#head(AL_combo,5)\n",
        "# Add FBI crime data\n",
        "combo$Rapes_per_100k <- 39.6 # <<<====\n",
        "# Add weekly church attendence\n",
        "combo$church_attendence <- 35 # <=======\n",
        "# Add State column\n",
        "combo$State <- \"Florida\" # <<<========\n",
        "# Add median household income\n",
        "combo$Household_Income <- 59227\n",
        "#drop extraneous cols\n",
        "combo <- combo %>% \n",
        "        select(-c('State.x', 'State.y'))\n",
        "colnames(combo) <- c(\"Time\",\"ketamine\",\"date_rape\",\"GHB\",\"Rohypnol\",\n",
        "                        \"morning_after_pill\",\"roofie\",\"pills_to_avoid_preg\",\n",
        "                       \"how_much_is_morning_after_pill\",\"been_raped\",\"Rapes_per_100k\",\"church_attendence\",\"State\",\"Household_Income\")\n",
        "FL_combo <- combo                       \n",
        "head(FL_combo ,5)"
      ],
      "metadata": {
        "colab": {
          "base_uri": "https://localhost:8080/",
          "height": 448
        },
        "id": "uTXSg58g3_tf",
        "outputId": "2b3dcd2d-ad44-45af-9771-5ee2cde66364"
      },
      "execution_count": 185,
      "outputs": [
        {
          "output_type": "display_data",
          "data": {
            "text/html": [
              "<table class=\"dataframe\">\n",
              "<caption>A data.frame: 5 × 14</caption>\n",
              "<thead>\n",
              "\t<tr><th></th><th scope=col>Time</th><th scope=col>ketamine</th><th scope=col>date_rape</th><th scope=col>GHB</th><th scope=col>Rohypnol</th><th scope=col>morning_after_pill</th><th scope=col>roofie</th><th scope=col>pills_to_avoid_preg</th><th scope=col>how_much_is_morning_after_pill</th><th scope=col>been_raped</th><th scope=col>Rapes_per_100k</th><th scope=col>church_attendence</th><th scope=col>State</th><th scope=col>Household_Income</th></tr>\n",
              "\t<tr><th></th><th scope=col>&lt;chr&gt;</th><th scope=col>&lt;int&gt;</th><th scope=col>&lt;int&gt;</th><th scope=col>&lt;int&gt;</th><th scope=col>&lt;int&gt;</th><th scope=col>&lt;int&gt;</th><th scope=col>&lt;int&gt;</th><th scope=col>&lt;int&gt;</th><th scope=col>&lt;int&gt;</th><th scope=col>&lt;int&gt;</th><th scope=col>&lt;dbl&gt;</th><th scope=col>&lt;dbl&gt;</th><th scope=col>&lt;chr&gt;</th><th scope=col>&lt;dbl&gt;</th></tr>\n",
              "</thead>\n",
              "<tbody>\n",
              "\t<tr><th scope=row>1</th><td>2022-02-23T12</td><td>28</td><td>2</td><td>2</td><td>1</td><td>NA</td><td>NA</td><td>NA</td><td>NA</td><td>NA</td><td>39.6</td><td>35</td><td>Florida</td><td>59227</td></tr>\n",
              "\t<tr><th scope=row>2</th><td>2022-02-23T13</td><td>45</td><td>2</td><td>5</td><td>1</td><td> 5</td><td> 0</td><td> 0</td><td> 0</td><td> 0</td><td>39.6</td><td>35</td><td>Florida</td><td>59227</td></tr>\n",
              "\t<tr><th scope=row>3</th><td>2022-02-23T14</td><td>38</td><td>2</td><td>4</td><td>0</td><td> 5</td><td> 0</td><td> 0</td><td> 0</td><td> 0</td><td>39.6</td><td>35</td><td>Florida</td><td>59227</td></tr>\n",
              "\t<tr><th scope=row>4</th><td>2022-02-23T15</td><td>40</td><td>1</td><td>4</td><td>0</td><td>11</td><td> 5</td><td> 0</td><td> 0</td><td> 0</td><td>39.6</td><td>35</td><td>Florida</td><td>59227</td></tr>\n",
              "\t<tr><th scope=row>5</th><td>2022-02-23T16</td><td>34</td><td>1</td><td>3</td><td>0</td><td>17</td><td> 0</td><td> 0</td><td> 0</td><td> 0</td><td>39.6</td><td>35</td><td>Florida</td><td>59227</td></tr>\n",
              "</tbody>\n",
              "</table>\n"
            ],
            "text/markdown": "\nA data.frame: 5 × 14\n\n| <!--/--> | Time &lt;chr&gt; | ketamine &lt;int&gt; | date_rape &lt;int&gt; | GHB &lt;int&gt; | Rohypnol &lt;int&gt; | morning_after_pill &lt;int&gt; | roofie &lt;int&gt; | pills_to_avoid_preg &lt;int&gt; | how_much_is_morning_after_pill &lt;int&gt; | been_raped &lt;int&gt; | Rapes_per_100k &lt;dbl&gt; | church_attendence &lt;dbl&gt; | State &lt;chr&gt; | Household_Income &lt;dbl&gt; |\n|---|---|---|---|---|---|---|---|---|---|---|---|---|---|---|\n| 1 | 2022-02-23T12 | 28 | 2 | 2 | 1 | NA | NA | NA | NA | NA | 39.6 | 35 | Florida | 59227 |\n| 2 | 2022-02-23T13 | 45 | 2 | 5 | 1 |  5 |  0 |  0 |  0 |  0 | 39.6 | 35 | Florida | 59227 |\n| 3 | 2022-02-23T14 | 38 | 2 | 4 | 0 |  5 |  0 |  0 |  0 |  0 | 39.6 | 35 | Florida | 59227 |\n| 4 | 2022-02-23T15 | 40 | 1 | 4 | 0 | 11 |  5 |  0 |  0 |  0 | 39.6 | 35 | Florida | 59227 |\n| 5 | 2022-02-23T16 | 34 | 1 | 3 | 0 | 17 |  0 |  0 |  0 |  0 | 39.6 | 35 | Florida | 59227 |\n\n",
            "text/latex": "A data.frame: 5 × 14\n\\begin{tabular}{r|llllllllllllll}\n  & Time & ketamine & date\\_rape & GHB & Rohypnol & morning\\_after\\_pill & roofie & pills\\_to\\_avoid\\_preg & how\\_much\\_is\\_morning\\_after\\_pill & been\\_raped & Rapes\\_per\\_100k & church\\_attendence & State & Household\\_Income\\\\\n  & <chr> & <int> & <int> & <int> & <int> & <int> & <int> & <int> & <int> & <int> & <dbl> & <dbl> & <chr> & <dbl>\\\\\n\\hline\n\t1 & 2022-02-23T12 & 28 & 2 & 2 & 1 & NA & NA & NA & NA & NA & 39.6 & 35 & Florida & 59227\\\\\n\t2 & 2022-02-23T13 & 45 & 2 & 5 & 1 &  5 &  0 &  0 &  0 &  0 & 39.6 & 35 & Florida & 59227\\\\\n\t3 & 2022-02-23T14 & 38 & 2 & 4 & 0 &  5 &  0 &  0 &  0 &  0 & 39.6 & 35 & Florida & 59227\\\\\n\t4 & 2022-02-23T15 & 40 & 1 & 4 & 0 & 11 &  5 &  0 &  0 &  0 & 39.6 & 35 & Florida & 59227\\\\\n\t5 & 2022-02-23T16 & 34 & 1 & 3 & 0 & 17 &  0 &  0 &  0 &  0 & 39.6 & 35 & Florida & 59227\\\\\n\\end{tabular}\n",
            "text/plain": [
              "  Time          ketamine date_rape GHB Rohypnol morning_after_pill roofie\n",
              "1 2022-02-23T12 28       2         2   1        NA                 NA    \n",
              "2 2022-02-23T13 45       2         5   1         5                  0    \n",
              "3 2022-02-23T14 38       2         4   0         5                  0    \n",
              "4 2022-02-23T15 40       1         4   0        11                  5    \n",
              "5 2022-02-23T16 34       1         3   0        17                  0    \n",
              "  pills_to_avoid_preg how_much_is_morning_after_pill been_raped Rapes_per_100k\n",
              "1 NA                  NA                             NA         39.6          \n",
              "2  0                   0                              0         39.6          \n",
              "3  0                   0                              0         39.6          \n",
              "4  0                   0                              0         39.6          \n",
              "5  0                   0                              0         39.6          \n",
              "  church_attendence State   Household_Income\n",
              "1 35                Florida 59227           \n",
              "2 35                Florida 59227           \n",
              "3 35                Florida 59227           \n",
              "4 35                Florida 59227           \n",
              "5 35                Florida 59227           "
            ]
          },
          "metadata": {}
        }
      ]
    },
    {
      "cell_type": "markdown",
      "source": [
        "## Georgia"
      ],
      "metadata": {
        "id": "00jVeoqOpes6"
      }
    },
    {
      "cell_type": "code",
      "source": [
        "Full <- read.csv(\"/content/Georgia.csv\", skip=0, header=TRUE)\n",
        "Short <- read.csv(\"/content/GA_2.csv\", skip=0, header=TRUE)\n",
        "combo <- merge(Full,Short, by=\"Time\", all = T)\n",
        "\n",
        "#head(AL_combo,5)\n",
        "# Add FBI crime data\n",
        "combo$Rapes_per_100k <- 25.2 # <<<====\n",
        "# Add weekly church attendence\n",
        "combo$church_attendence <- 42 # <=======\n",
        "# Add State column\n",
        "combo$State <- \"Georgia\" # <<<========\n",
        "# Add median household income\n",
        "combo$Household_Income <- 61980\n",
        "#drop extraneous cols\n",
        "combo <- combo %>% \n",
        "        select(-c('State.x', 'State.y'))\n",
        "colnames(combo) <- c(\"Time\",\"ketamine\",\"date_rape\",\"GHB\",\"Rohypnol\",\n",
        "                        \"morning_after_pill\",\"roofie\",\"pills_to_avoid_preg\",\n",
        "                       \"how_much_is_morning_after_pill\",\"been_raped\",\"Rapes_per_100k\",\"church_attendence\",\"State\",\"Household_Income\")\n",
        "GA_combo <- combo                       \n",
        "head(GA_combo ,5)"
      ],
      "metadata": {
        "colab": {
          "base_uri": "https://localhost:8080/",
          "height": 448
        },
        "id": "u1vrafJC4ZHI",
        "outputId": "331bdd6e-5d59-4cef-da78-405a169319f7"
      },
      "execution_count": 186,
      "outputs": [
        {
          "output_type": "display_data",
          "data": {
            "text/html": [
              "<table class=\"dataframe\">\n",
              "<caption>A data.frame: 5 × 14</caption>\n",
              "<thead>\n",
              "\t<tr><th></th><th scope=col>Time</th><th scope=col>ketamine</th><th scope=col>date_rape</th><th scope=col>GHB</th><th scope=col>Rohypnol</th><th scope=col>morning_after_pill</th><th scope=col>roofie</th><th scope=col>pills_to_avoid_preg</th><th scope=col>how_much_is_morning_after_pill</th><th scope=col>been_raped</th><th scope=col>Rapes_per_100k</th><th scope=col>church_attendence</th><th scope=col>State</th><th scope=col>Household_Income</th></tr>\n",
              "\t<tr><th></th><th scope=col>&lt;chr&gt;</th><th scope=col>&lt;int&gt;</th><th scope=col>&lt;int&gt;</th><th scope=col>&lt;int&gt;</th><th scope=col>&lt;int&gt;</th><th scope=col>&lt;int&gt;</th><th scope=col>&lt;int&gt;</th><th scope=col>&lt;int&gt;</th><th scope=col>&lt;int&gt;</th><th scope=col>&lt;int&gt;</th><th scope=col>&lt;dbl&gt;</th><th scope=col>&lt;dbl&gt;</th><th scope=col>&lt;chr&gt;</th><th scope=col>&lt;dbl&gt;</th></tr>\n",
              "</thead>\n",
              "<tbody>\n",
              "\t<tr><th scope=row>1</th><td>2022-02-23T12</td><td>15</td><td>0</td><td> 5</td><td>2</td><td>NA</td><td>NA</td><td>NA</td><td>NA</td><td>NA</td><td>25.2</td><td>42</td><td>Georgia</td><td>61980</td></tr>\n",
              "\t<tr><th scope=row>2</th><td>2022-02-23T13</td><td>32</td><td>2</td><td> 8</td><td>0</td><td> 0</td><td> 0</td><td> 0</td><td> 0</td><td> 0</td><td>25.2</td><td>42</td><td>Georgia</td><td>61980</td></tr>\n",
              "\t<tr><th scope=row>3</th><td>2022-02-23T14</td><td>41</td><td>0</td><td>10</td><td>5</td><td>13</td><td> 4</td><td> 0</td><td> 0</td><td> 0</td><td>25.2</td><td>42</td><td>Georgia</td><td>61980</td></tr>\n",
              "\t<tr><th scope=row>4</th><td>2022-02-23T15</td><td>25</td><td>3</td><td> 3</td><td>2</td><td> 4</td><td> 0</td><td> 0</td><td> 0</td><td> 0</td><td>25.2</td><td>42</td><td>Georgia</td><td>61980</td></tr>\n",
              "\t<tr><th scope=row>5</th><td>2022-02-23T16</td><td>18</td><td>5</td><td> 0</td><td>0</td><td> 9</td><td> 0</td><td> 0</td><td> 0</td><td> 0</td><td>25.2</td><td>42</td><td>Georgia</td><td>61980</td></tr>\n",
              "</tbody>\n",
              "</table>\n"
            ],
            "text/markdown": "\nA data.frame: 5 × 14\n\n| <!--/--> | Time &lt;chr&gt; | ketamine &lt;int&gt; | date_rape &lt;int&gt; | GHB &lt;int&gt; | Rohypnol &lt;int&gt; | morning_after_pill &lt;int&gt; | roofie &lt;int&gt; | pills_to_avoid_preg &lt;int&gt; | how_much_is_morning_after_pill &lt;int&gt; | been_raped &lt;int&gt; | Rapes_per_100k &lt;dbl&gt; | church_attendence &lt;dbl&gt; | State &lt;chr&gt; | Household_Income &lt;dbl&gt; |\n|---|---|---|---|---|---|---|---|---|---|---|---|---|---|---|\n| 1 | 2022-02-23T12 | 15 | 0 |  5 | 2 | NA | NA | NA | NA | NA | 25.2 | 42 | Georgia | 61980 |\n| 2 | 2022-02-23T13 | 32 | 2 |  8 | 0 |  0 |  0 |  0 |  0 |  0 | 25.2 | 42 | Georgia | 61980 |\n| 3 | 2022-02-23T14 | 41 | 0 | 10 | 5 | 13 |  4 |  0 |  0 |  0 | 25.2 | 42 | Georgia | 61980 |\n| 4 | 2022-02-23T15 | 25 | 3 |  3 | 2 |  4 |  0 |  0 |  0 |  0 | 25.2 | 42 | Georgia | 61980 |\n| 5 | 2022-02-23T16 | 18 | 5 |  0 | 0 |  9 |  0 |  0 |  0 |  0 | 25.2 | 42 | Georgia | 61980 |\n\n",
            "text/latex": "A data.frame: 5 × 14\n\\begin{tabular}{r|llllllllllllll}\n  & Time & ketamine & date\\_rape & GHB & Rohypnol & morning\\_after\\_pill & roofie & pills\\_to\\_avoid\\_preg & how\\_much\\_is\\_morning\\_after\\_pill & been\\_raped & Rapes\\_per\\_100k & church\\_attendence & State & Household\\_Income\\\\\n  & <chr> & <int> & <int> & <int> & <int> & <int> & <int> & <int> & <int> & <int> & <dbl> & <dbl> & <chr> & <dbl>\\\\\n\\hline\n\t1 & 2022-02-23T12 & 15 & 0 &  5 & 2 & NA & NA & NA & NA & NA & 25.2 & 42 & Georgia & 61980\\\\\n\t2 & 2022-02-23T13 & 32 & 2 &  8 & 0 &  0 &  0 &  0 &  0 &  0 & 25.2 & 42 & Georgia & 61980\\\\\n\t3 & 2022-02-23T14 & 41 & 0 & 10 & 5 & 13 &  4 &  0 &  0 &  0 & 25.2 & 42 & Georgia & 61980\\\\\n\t4 & 2022-02-23T15 & 25 & 3 &  3 & 2 &  4 &  0 &  0 &  0 &  0 & 25.2 & 42 & Georgia & 61980\\\\\n\t5 & 2022-02-23T16 & 18 & 5 &  0 & 0 &  9 &  0 &  0 &  0 &  0 & 25.2 & 42 & Georgia & 61980\\\\\n\\end{tabular}\n",
            "text/plain": [
              "  Time          ketamine date_rape GHB Rohypnol morning_after_pill roofie\n",
              "1 2022-02-23T12 15       0          5  2        NA                 NA    \n",
              "2 2022-02-23T13 32       2          8  0         0                  0    \n",
              "3 2022-02-23T14 41       0         10  5        13                  4    \n",
              "4 2022-02-23T15 25       3          3  2         4                  0    \n",
              "5 2022-02-23T16 18       5          0  0         9                  0    \n",
              "  pills_to_avoid_preg how_much_is_morning_after_pill been_raped Rapes_per_100k\n",
              "1 NA                  NA                             NA         25.2          \n",
              "2  0                   0                              0         25.2          \n",
              "3  0                   0                              0         25.2          \n",
              "4  0                   0                              0         25.2          \n",
              "5  0                   0                              0         25.2          \n",
              "  church_attendence State   Household_Income\n",
              "1 42                Georgia 61980           \n",
              "2 42                Georgia 61980           \n",
              "3 42                Georgia 61980           \n",
              "4 42                Georgia 61980           \n",
              "5 42                Georgia 61980           "
            ]
          },
          "metadata": {}
        }
      ]
    },
    {
      "cell_type": "markdown",
      "source": [
        "## Hawaii"
      ],
      "metadata": {
        "id": "amwm5Hf1peox"
      }
    },
    {
      "cell_type": "code",
      "source": [
        "Full <- read.csv(\"/content/Hawaii.csv\", skip=0, header=TRUE)\n",
        "Short <- read.csv(\"/content/HI_2.csv\", skip=0, header=TRUE)\n",
        "combo <- merge(Full,Short, by=\"Time\", all = T)\n",
        "\n",
        "#head(AL_combo,5)\n",
        "# Add FBI crime data\n",
        "combo$Rapes_per_100k <- 44 # <<<====\n",
        "# Add weekly church attendence\n",
        "combo$church_attendence <- 28 # <=======\n",
        "# Add State column\n",
        "combo$State <- \"Hawaii\" # <<<========\n",
        "# Add median household income\n",
        "combo$Household_Income <- 83102\n",
        "#drop extraneous cols\n",
        "combo <- combo %>% \n",
        "        select(-c('State.x', 'State.y'))\n",
        "colnames(combo) <- c(\"Time\",\"ketamine\",\"date_rape\",\"GHB\",\"Rohypnol\",\n",
        "                        \"morning_after_pill\",\"roofie\",\"pills_to_avoid_preg\",\n",
        "                       \"how_much_is_morning_after_pill\",\"been_raped\",\"Rapes_per_100k\",\"church_attendence\",\"State\",\"Household_Income\")\n",
        "HI_combo <- combo                       \n",
        "head(HI_combo ,5)"
      ],
      "metadata": {
        "colab": {
          "base_uri": "https://localhost:8080/",
          "height": 448
        },
        "id": "eWUCNTyb4xfE",
        "outputId": "9464ff3e-1ca9-49e9-ffd7-aa616d4805a9"
      },
      "execution_count": 187,
      "outputs": [
        {
          "output_type": "display_data",
          "data": {
            "text/html": [
              "<table class=\"dataframe\">\n",
              "<caption>A data.frame: 5 × 14</caption>\n",
              "<thead>\n",
              "\t<tr><th></th><th scope=col>Time</th><th scope=col>ketamine</th><th scope=col>date_rape</th><th scope=col>GHB</th><th scope=col>Rohypnol</th><th scope=col>morning_after_pill</th><th scope=col>roofie</th><th scope=col>pills_to_avoid_preg</th><th scope=col>how_much_is_morning_after_pill</th><th scope=col>been_raped</th><th scope=col>Rapes_per_100k</th><th scope=col>church_attendence</th><th scope=col>State</th><th scope=col>Household_Income</th></tr>\n",
              "\t<tr><th></th><th scope=col>&lt;chr&gt;</th><th scope=col>&lt;int&gt;</th><th scope=col>&lt;int&gt;</th><th scope=col>&lt;int&gt;</th><th scope=col>&lt;int&gt;</th><th scope=col>&lt;int&gt;</th><th scope=col>&lt;int&gt;</th><th scope=col>&lt;int&gt;</th><th scope=col>&lt;int&gt;</th><th scope=col>&lt;int&gt;</th><th scope=col>&lt;dbl&gt;</th><th scope=col>&lt;dbl&gt;</th><th scope=col>&lt;chr&gt;</th><th scope=col>&lt;dbl&gt;</th></tr>\n",
              "</thead>\n",
              "<tbody>\n",
              "\t<tr><th scope=row>1</th><td>2022-02-23T12</td><td>76</td><td> 0</td><td>0</td><td>0</td><td>NA</td><td>NA</td><td>NA</td><td>NA</td><td>NA</td><td>44</td><td>28</td><td>Hawaii</td><td>83102</td></tr>\n",
              "\t<tr><th scope=row>2</th><td>2022-02-23T13</td><td>46</td><td> 0</td><td>0</td><td>0</td><td>19</td><td> 0</td><td> 0</td><td> 0</td><td> 0</td><td>44</td><td>28</td><td>Hawaii</td><td>83102</td></tr>\n",
              "\t<tr><th scope=row>3</th><td>2022-02-23T14</td><td>30</td><td>14</td><td>0</td><td>0</td><td> 0</td><td> 0</td><td> 0</td><td> 0</td><td> 0</td><td>44</td><td>28</td><td>Hawaii</td><td>83102</td></tr>\n",
              "\t<tr><th scope=row>4</th><td>2022-02-23T15</td><td>15</td><td> 0</td><td>0</td><td>0</td><td> 0</td><td> 0</td><td> 0</td><td> 0</td><td> 0</td><td>44</td><td>28</td><td>Hawaii</td><td>83102</td></tr>\n",
              "\t<tr><th scope=row>5</th><td>2022-02-23T16</td><td>30</td><td>14</td><td>0</td><td>0</td><td> 0</td><td> 0</td><td> 0</td><td> 0</td><td> 0</td><td>44</td><td>28</td><td>Hawaii</td><td>83102</td></tr>\n",
              "</tbody>\n",
              "</table>\n"
            ],
            "text/markdown": "\nA data.frame: 5 × 14\n\n| <!--/--> | Time &lt;chr&gt; | ketamine &lt;int&gt; | date_rape &lt;int&gt; | GHB &lt;int&gt; | Rohypnol &lt;int&gt; | morning_after_pill &lt;int&gt; | roofie &lt;int&gt; | pills_to_avoid_preg &lt;int&gt; | how_much_is_morning_after_pill &lt;int&gt; | been_raped &lt;int&gt; | Rapes_per_100k &lt;dbl&gt; | church_attendence &lt;dbl&gt; | State &lt;chr&gt; | Household_Income &lt;dbl&gt; |\n|---|---|---|---|---|---|---|---|---|---|---|---|---|---|---|\n| 1 | 2022-02-23T12 | 76 |  0 | 0 | 0 | NA | NA | NA | NA | NA | 44 | 28 | Hawaii | 83102 |\n| 2 | 2022-02-23T13 | 46 |  0 | 0 | 0 | 19 |  0 |  0 |  0 |  0 | 44 | 28 | Hawaii | 83102 |\n| 3 | 2022-02-23T14 | 30 | 14 | 0 | 0 |  0 |  0 |  0 |  0 |  0 | 44 | 28 | Hawaii | 83102 |\n| 4 | 2022-02-23T15 | 15 |  0 | 0 | 0 |  0 |  0 |  0 |  0 |  0 | 44 | 28 | Hawaii | 83102 |\n| 5 | 2022-02-23T16 | 30 | 14 | 0 | 0 |  0 |  0 |  0 |  0 |  0 | 44 | 28 | Hawaii | 83102 |\n\n",
            "text/latex": "A data.frame: 5 × 14\n\\begin{tabular}{r|llllllllllllll}\n  & Time & ketamine & date\\_rape & GHB & Rohypnol & morning\\_after\\_pill & roofie & pills\\_to\\_avoid\\_preg & how\\_much\\_is\\_morning\\_after\\_pill & been\\_raped & Rapes\\_per\\_100k & church\\_attendence & State & Household\\_Income\\\\\n  & <chr> & <int> & <int> & <int> & <int> & <int> & <int> & <int> & <int> & <int> & <dbl> & <dbl> & <chr> & <dbl>\\\\\n\\hline\n\t1 & 2022-02-23T12 & 76 &  0 & 0 & 0 & NA & NA & NA & NA & NA & 44 & 28 & Hawaii & 83102\\\\\n\t2 & 2022-02-23T13 & 46 &  0 & 0 & 0 & 19 &  0 &  0 &  0 &  0 & 44 & 28 & Hawaii & 83102\\\\\n\t3 & 2022-02-23T14 & 30 & 14 & 0 & 0 &  0 &  0 &  0 &  0 &  0 & 44 & 28 & Hawaii & 83102\\\\\n\t4 & 2022-02-23T15 & 15 &  0 & 0 & 0 &  0 &  0 &  0 &  0 &  0 & 44 & 28 & Hawaii & 83102\\\\\n\t5 & 2022-02-23T16 & 30 & 14 & 0 & 0 &  0 &  0 &  0 &  0 &  0 & 44 & 28 & Hawaii & 83102\\\\\n\\end{tabular}\n",
            "text/plain": [
              "  Time          ketamine date_rape GHB Rohypnol morning_after_pill roofie\n",
              "1 2022-02-23T12 76        0        0   0        NA                 NA    \n",
              "2 2022-02-23T13 46        0        0   0        19                  0    \n",
              "3 2022-02-23T14 30       14        0   0         0                  0    \n",
              "4 2022-02-23T15 15        0        0   0         0                  0    \n",
              "5 2022-02-23T16 30       14        0   0         0                  0    \n",
              "  pills_to_avoid_preg how_much_is_morning_after_pill been_raped Rapes_per_100k\n",
              "1 NA                  NA                             NA         44            \n",
              "2  0                   0                              0         44            \n",
              "3  0                   0                              0         44            \n",
              "4  0                   0                              0         44            \n",
              "5  0                   0                              0         44            \n",
              "  church_attendence State  Household_Income\n",
              "1 28                Hawaii 83102           \n",
              "2 28                Hawaii 83102           \n",
              "3 28                Hawaii 83102           \n",
              "4 28                Hawaii 83102           \n",
              "5 28                Hawaii 83102           "
            ]
          },
          "metadata": {}
        }
      ]
    },
    {
      "cell_type": "markdown",
      "source": [
        "## Idaho"
      ],
      "metadata": {
        "id": "sOeWfJHupek0"
      }
    },
    {
      "cell_type": "code",
      "source": [
        "Full <- read.csv(\"/content/Idaho.csv\", skip=0, header=TRUE)\n",
        "Short <- read.csv(\"/content/ID_2.csv\", skip=0, header=TRUE)\n",
        "combo <- merge(Full,Short, by=\"Time\", all = T)\n",
        "\n",
        "#head(AL_combo,5)\n",
        "# Add FBI crime data\n",
        "combo$Rapes_per_100k <- 45.1 # <<<====\n",
        "# Add weekly church attendence\n",
        "combo$church_attendence <- 35 # <=======\n",
        "# Add State column\n",
        "combo$State <- \"Idaho\" # <<<========\n",
        "# Add median household income\n",
        "combo$Household_Income <- 60999\n",
        "#drop extraneous cols\n",
        "combo <- combo %>% \n",
        "        select(-c('State.x', 'State.y'))\n",
        "colnames(combo) <- c(\"Time\",\"ketamine\",\"date_rape\",\"GHB\",\"Rohypnol\",\n",
        "                        \"morning_after_pill\",\"roofie\",\"pills_to_avoid_preg\",\n",
        "                       \"how_much_is_morning_after_pill\",\"been_raped\",\"Rapes_per_100k\",\"church_attendence\",\"State\",\"Household_Income\")\n",
        "ID_combo <- combo                       \n",
        "head(ID_combo ,5)"
      ],
      "metadata": {
        "colab": {
          "base_uri": "https://localhost:8080/",
          "height": 448
        },
        "id": "fqYe1iuC6Ykf",
        "outputId": "c09094e8-ff10-4199-83d1-93b4202b50cf"
      },
      "execution_count": 188,
      "outputs": [
        {
          "output_type": "display_data",
          "data": {
            "text/html": [
              "<table class=\"dataframe\">\n",
              "<caption>A data.frame: 5 × 14</caption>\n",
              "<thead>\n",
              "\t<tr><th></th><th scope=col>Time</th><th scope=col>ketamine</th><th scope=col>date_rape</th><th scope=col>GHB</th><th scope=col>Rohypnol</th><th scope=col>morning_after_pill</th><th scope=col>roofie</th><th scope=col>pills_to_avoid_preg</th><th scope=col>how_much_is_morning_after_pill</th><th scope=col>been_raped</th><th scope=col>Rapes_per_100k</th><th scope=col>church_attendence</th><th scope=col>State</th><th scope=col>Household_Income</th></tr>\n",
              "\t<tr><th></th><th scope=col>&lt;chr&gt;</th><th scope=col>&lt;int&gt;</th><th scope=col>&lt;int&gt;</th><th scope=col>&lt;int&gt;</th><th scope=col>&lt;int&gt;</th><th scope=col>&lt;int&gt;</th><th scope=col>&lt;int&gt;</th><th scope=col>&lt;int&gt;</th><th scope=col>&lt;int&gt;</th><th scope=col>&lt;int&gt;</th><th scope=col>&lt;dbl&gt;</th><th scope=col>&lt;dbl&gt;</th><th scope=col>&lt;chr&gt;</th><th scope=col>&lt;dbl&gt;</th></tr>\n",
              "</thead>\n",
              "<tbody>\n",
              "\t<tr><th scope=row>1</th><td>2022-02-23T12</td><td>17</td><td>0</td><td> 8</td><td>0</td><td>NA</td><td>NA</td><td>NA</td><td>NA</td><td>NA</td><td>45.1</td><td>35</td><td>Idaho</td><td>60999</td></tr>\n",
              "\t<tr><th scope=row>2</th><td>2022-02-23T13</td><td>17</td><td>8</td><td> 0</td><td>0</td><td>11</td><td> 0</td><td> 0</td><td> 0</td><td> 0</td><td>45.1</td><td>35</td><td>Idaho</td><td>60999</td></tr>\n",
              "\t<tr><th scope=row>3</th><td>2022-02-23T14</td><td> 8</td><td>0</td><td>16</td><td>0</td><td> 0</td><td> 0</td><td> 0</td><td> 0</td><td> 0</td><td>45.1</td><td>35</td><td>Idaho</td><td>60999</td></tr>\n",
              "\t<tr><th scope=row>4</th><td>2022-02-23T15</td><td>26</td><td>0</td><td> 8</td><td>0</td><td> 0</td><td> 0</td><td> 0</td><td> 0</td><td> 0</td><td>45.1</td><td>35</td><td>Idaho</td><td>60999</td></tr>\n",
              "\t<tr><th scope=row>5</th><td>2022-02-23T16</td><td>26</td><td>0</td><td> 0</td><td>0</td><td> 0</td><td> 0</td><td> 0</td><td> 0</td><td> 0</td><td>45.1</td><td>35</td><td>Idaho</td><td>60999</td></tr>\n",
              "</tbody>\n",
              "</table>\n"
            ],
            "text/markdown": "\nA data.frame: 5 × 14\n\n| <!--/--> | Time &lt;chr&gt; | ketamine &lt;int&gt; | date_rape &lt;int&gt; | GHB &lt;int&gt; | Rohypnol &lt;int&gt; | morning_after_pill &lt;int&gt; | roofie &lt;int&gt; | pills_to_avoid_preg &lt;int&gt; | how_much_is_morning_after_pill &lt;int&gt; | been_raped &lt;int&gt; | Rapes_per_100k &lt;dbl&gt; | church_attendence &lt;dbl&gt; | State &lt;chr&gt; | Household_Income &lt;dbl&gt; |\n|---|---|---|---|---|---|---|---|---|---|---|---|---|---|---|\n| 1 | 2022-02-23T12 | 17 | 0 |  8 | 0 | NA | NA | NA | NA | NA | 45.1 | 35 | Idaho | 60999 |\n| 2 | 2022-02-23T13 | 17 | 8 |  0 | 0 | 11 |  0 |  0 |  0 |  0 | 45.1 | 35 | Idaho | 60999 |\n| 3 | 2022-02-23T14 |  8 | 0 | 16 | 0 |  0 |  0 |  0 |  0 |  0 | 45.1 | 35 | Idaho | 60999 |\n| 4 | 2022-02-23T15 | 26 | 0 |  8 | 0 |  0 |  0 |  0 |  0 |  0 | 45.1 | 35 | Idaho | 60999 |\n| 5 | 2022-02-23T16 | 26 | 0 |  0 | 0 |  0 |  0 |  0 |  0 |  0 | 45.1 | 35 | Idaho | 60999 |\n\n",
            "text/latex": "A data.frame: 5 × 14\n\\begin{tabular}{r|llllllllllllll}\n  & Time & ketamine & date\\_rape & GHB & Rohypnol & morning\\_after\\_pill & roofie & pills\\_to\\_avoid\\_preg & how\\_much\\_is\\_morning\\_after\\_pill & been\\_raped & Rapes\\_per\\_100k & church\\_attendence & State & Household\\_Income\\\\\n  & <chr> & <int> & <int> & <int> & <int> & <int> & <int> & <int> & <int> & <int> & <dbl> & <dbl> & <chr> & <dbl>\\\\\n\\hline\n\t1 & 2022-02-23T12 & 17 & 0 &  8 & 0 & NA & NA & NA & NA & NA & 45.1 & 35 & Idaho & 60999\\\\\n\t2 & 2022-02-23T13 & 17 & 8 &  0 & 0 & 11 &  0 &  0 &  0 &  0 & 45.1 & 35 & Idaho & 60999\\\\\n\t3 & 2022-02-23T14 &  8 & 0 & 16 & 0 &  0 &  0 &  0 &  0 &  0 & 45.1 & 35 & Idaho & 60999\\\\\n\t4 & 2022-02-23T15 & 26 & 0 &  8 & 0 &  0 &  0 &  0 &  0 &  0 & 45.1 & 35 & Idaho & 60999\\\\\n\t5 & 2022-02-23T16 & 26 & 0 &  0 & 0 &  0 &  0 &  0 &  0 &  0 & 45.1 & 35 & Idaho & 60999\\\\\n\\end{tabular}\n",
            "text/plain": [
              "  Time          ketamine date_rape GHB Rohypnol morning_after_pill roofie\n",
              "1 2022-02-23T12 17       0          8  0        NA                 NA    \n",
              "2 2022-02-23T13 17       8          0  0        11                  0    \n",
              "3 2022-02-23T14  8       0         16  0         0                  0    \n",
              "4 2022-02-23T15 26       0          8  0         0                  0    \n",
              "5 2022-02-23T16 26       0          0  0         0                  0    \n",
              "  pills_to_avoid_preg how_much_is_morning_after_pill been_raped Rapes_per_100k\n",
              "1 NA                  NA                             NA         45.1          \n",
              "2  0                   0                              0         45.1          \n",
              "3  0                   0                              0         45.1          \n",
              "4  0                   0                              0         45.1          \n",
              "5  0                   0                              0         45.1          \n",
              "  church_attendence State Household_Income\n",
              "1 35                Idaho 60999           \n",
              "2 35                Idaho 60999           \n",
              "3 35                Idaho 60999           \n",
              "4 35                Idaho 60999           \n",
              "5 35                Idaho 60999           "
            ]
          },
          "metadata": {}
        }
      ]
    },
    {
      "cell_type": "markdown",
      "source": [
        "## Illinois"
      ],
      "metadata": {
        "id": "zi2KSUWdpeg8"
      }
    },
    {
      "cell_type": "code",
      "source": [
        "Full <- read.csv(\"/content/Illinois.csv\", skip=0, header=TRUE)\n",
        "Short <- read.csv(\"/content/IL_2.csv\", skip=0, header=TRUE)\n",
        "combo <- merge(Full,Short, by=\"Time\", all = T)\n",
        "\n",
        "#head(AL_combo,5)\n",
        "# Add FBI crime data\n",
        "combo$Rapes_per_100k <- 46 # <<<====\n",
        "# Add weekly church attendence\n",
        "combo$church_attendence <- 34 # <=======\n",
        "# Add State column\n",
        "combo$State <- \"Illinois\" # <<<========\n",
        "# Add median household income\n",
        "combo$Household_Income <- 69187\n",
        "#drop extraneous cols\n",
        "combo <- combo %>% \n",
        "        select(-c('State.x', 'State.y'))\n",
        "colnames(combo) <- c(\"Time\",\"ketamine\",\"date_rape\",\"GHB\",\"Rohypnol\",\n",
        "                        \"morning_after_pill\",\"roofie\",\"pills_to_avoid_preg\",\n",
        "                       \"how_much_is_morning_after_pill\",\"been_raped\",\"Rapes_per_100k\",\"church_attendence\",\"State\",\"Household_Income\")\n",
        "IL_combo <- combo                       \n",
        "head(IL_combo ,5)"
      ],
      "metadata": {
        "colab": {
          "base_uri": "https://localhost:8080/",
          "height": 448
        },
        "id": "BmKLWQ0v625K",
        "outputId": "1ac4b950-e6ad-4448-95ea-66100ffe2c59"
      },
      "execution_count": 189,
      "outputs": [
        {
          "output_type": "display_data",
          "data": {
            "text/html": [
              "<table class=\"dataframe\">\n",
              "<caption>A data.frame: 5 × 14</caption>\n",
              "<thead>\n",
              "\t<tr><th></th><th scope=col>Time</th><th scope=col>ketamine</th><th scope=col>date_rape</th><th scope=col>GHB</th><th scope=col>Rohypnol</th><th scope=col>morning_after_pill</th><th scope=col>roofie</th><th scope=col>pills_to_avoid_preg</th><th scope=col>how_much_is_morning_after_pill</th><th scope=col>been_raped</th><th scope=col>Rapes_per_100k</th><th scope=col>church_attendence</th><th scope=col>State</th><th scope=col>Household_Income</th></tr>\n",
              "\t<tr><th></th><th scope=col>&lt;chr&gt;</th><th scope=col>&lt;int&gt;</th><th scope=col>&lt;int&gt;</th><th scope=col>&lt;int&gt;</th><th scope=col>&lt;int&gt;</th><th scope=col>&lt;int&gt;</th><th scope=col>&lt;int&gt;</th><th scope=col>&lt;int&gt;</th><th scope=col>&lt;int&gt;</th><th scope=col>&lt;int&gt;</th><th scope=col>&lt;dbl&gt;</th><th scope=col>&lt;dbl&gt;</th><th scope=col>&lt;chr&gt;</th><th scope=col>&lt;dbl&gt;</th></tr>\n",
              "</thead>\n",
              "<tbody>\n",
              "\t<tr><th scope=row>1</th><td>2022-02-23T12</td><td>50</td><td>2</td><td>2</td><td>0</td><td>NA</td><td>NA</td><td>NA</td><td>NA</td><td>NA</td><td>46</td><td>34</td><td>Illinois</td><td>69187</td></tr>\n",
              "\t<tr><th scope=row>2</th><td>2022-02-23T13</td><td>20</td><td>0</td><td>6</td><td>0</td><td> 4</td><td> 0</td><td> 0</td><td> 0</td><td> 0</td><td>46</td><td>34</td><td>Illinois</td><td>69187</td></tr>\n",
              "\t<tr><th scope=row>3</th><td>2022-02-23T14</td><td>34</td><td>2</td><td>8</td><td>0</td><td> 4</td><td> 0</td><td> 0</td><td> 0</td><td> 0</td><td>46</td><td>34</td><td>Illinois</td><td>69187</td></tr>\n",
              "\t<tr><th scope=row>4</th><td>2022-02-23T15</td><td>24</td><td>2</td><td>0</td><td>0</td><td> 0</td><td> 0</td><td> 0</td><td> 0</td><td> 0</td><td>46</td><td>34</td><td>Illinois</td><td>69187</td></tr>\n",
              "\t<tr><th scope=row>5</th><td>2022-02-23T16</td><td>22</td><td>2</td><td>4</td><td>2</td><td> 8</td><td> 8</td><td> 0</td><td> 0</td><td> 0</td><td>46</td><td>34</td><td>Illinois</td><td>69187</td></tr>\n",
              "</tbody>\n",
              "</table>\n"
            ],
            "text/markdown": "\nA data.frame: 5 × 14\n\n| <!--/--> | Time &lt;chr&gt; | ketamine &lt;int&gt; | date_rape &lt;int&gt; | GHB &lt;int&gt; | Rohypnol &lt;int&gt; | morning_after_pill &lt;int&gt; | roofie &lt;int&gt; | pills_to_avoid_preg &lt;int&gt; | how_much_is_morning_after_pill &lt;int&gt; | been_raped &lt;int&gt; | Rapes_per_100k &lt;dbl&gt; | church_attendence &lt;dbl&gt; | State &lt;chr&gt; | Household_Income &lt;dbl&gt; |\n|---|---|---|---|---|---|---|---|---|---|---|---|---|---|---|\n| 1 | 2022-02-23T12 | 50 | 2 | 2 | 0 | NA | NA | NA | NA | NA | 46 | 34 | Illinois | 69187 |\n| 2 | 2022-02-23T13 | 20 | 0 | 6 | 0 |  4 |  0 |  0 |  0 |  0 | 46 | 34 | Illinois | 69187 |\n| 3 | 2022-02-23T14 | 34 | 2 | 8 | 0 |  4 |  0 |  0 |  0 |  0 | 46 | 34 | Illinois | 69187 |\n| 4 | 2022-02-23T15 | 24 | 2 | 0 | 0 |  0 |  0 |  0 |  0 |  0 | 46 | 34 | Illinois | 69187 |\n| 5 | 2022-02-23T16 | 22 | 2 | 4 | 2 |  8 |  8 |  0 |  0 |  0 | 46 | 34 | Illinois | 69187 |\n\n",
            "text/latex": "A data.frame: 5 × 14\n\\begin{tabular}{r|llllllllllllll}\n  & Time & ketamine & date\\_rape & GHB & Rohypnol & morning\\_after\\_pill & roofie & pills\\_to\\_avoid\\_preg & how\\_much\\_is\\_morning\\_after\\_pill & been\\_raped & Rapes\\_per\\_100k & church\\_attendence & State & Household\\_Income\\\\\n  & <chr> & <int> & <int> & <int> & <int> & <int> & <int> & <int> & <int> & <int> & <dbl> & <dbl> & <chr> & <dbl>\\\\\n\\hline\n\t1 & 2022-02-23T12 & 50 & 2 & 2 & 0 & NA & NA & NA & NA & NA & 46 & 34 & Illinois & 69187\\\\\n\t2 & 2022-02-23T13 & 20 & 0 & 6 & 0 &  4 &  0 &  0 &  0 &  0 & 46 & 34 & Illinois & 69187\\\\\n\t3 & 2022-02-23T14 & 34 & 2 & 8 & 0 &  4 &  0 &  0 &  0 &  0 & 46 & 34 & Illinois & 69187\\\\\n\t4 & 2022-02-23T15 & 24 & 2 & 0 & 0 &  0 &  0 &  0 &  0 &  0 & 46 & 34 & Illinois & 69187\\\\\n\t5 & 2022-02-23T16 & 22 & 2 & 4 & 2 &  8 &  8 &  0 &  0 &  0 & 46 & 34 & Illinois & 69187\\\\\n\\end{tabular}\n",
            "text/plain": [
              "  Time          ketamine date_rape GHB Rohypnol morning_after_pill roofie\n",
              "1 2022-02-23T12 50       2         2   0        NA                 NA    \n",
              "2 2022-02-23T13 20       0         6   0         4                  0    \n",
              "3 2022-02-23T14 34       2         8   0         4                  0    \n",
              "4 2022-02-23T15 24       2         0   0         0                  0    \n",
              "5 2022-02-23T16 22       2         4   2         8                  8    \n",
              "  pills_to_avoid_preg how_much_is_morning_after_pill been_raped Rapes_per_100k\n",
              "1 NA                  NA                             NA         46            \n",
              "2  0                   0                              0         46            \n",
              "3  0                   0                              0         46            \n",
              "4  0                   0                              0         46            \n",
              "5  0                   0                              0         46            \n",
              "  church_attendence State    Household_Income\n",
              "1 34                Illinois 69187           \n",
              "2 34                Illinois 69187           \n",
              "3 34                Illinois 69187           \n",
              "4 34                Illinois 69187           \n",
              "5 34                Illinois 69187           "
            ]
          },
          "metadata": {}
        }
      ]
    },
    {
      "cell_type": "markdown",
      "source": [
        "## Indiana"
      ],
      "metadata": {
        "id": "YavzfuTdpecx"
      }
    },
    {
      "cell_type": "code",
      "source": [
        "Full <- read.csv(\"/content/Indiana.csv\", skip=0, header=TRUE)\n",
        "Short <- read.csv(\"/content/IN_2.csv\", skip=0, header=TRUE)\n",
        "combo <- merge(Full,Short, by=\"Time\", all = T)\n",
        "\n",
        "#head(AL_combo,5)\n",
        "# Add FBI crime data\n",
        "combo$Rapes_per_100k <- 35.4 # <<<====\n",
        "# Add weekly church attendence\n",
        "combo$church_attendence <- 37 # <=======\n",
        "# Add State column\n",
        "combo$State <- \"Indiana\" # <<<========\n",
        "# Add median household income\n",
        "combo$Household_Income <- 57603\n",
        "#drop extraneous cols\n",
        "combo <- combo %>% \n",
        "        select(-c('State.x', 'State.y'))\n",
        "colnames(combo) <- c(\"Time\",\"ketamine\",\"date_rape\",\"GHB\",\"Rohypnol\",\n",
        "                        \"morning_after_pill\",\"roofie\",\"pills_to_avoid_preg\",\n",
        "                       \"how_much_is_morning_after_pill\",\"been_raped\",\"Rapes_per_100k\",\"church_attendence\",\"State\",\"Household_Income\")\n",
        "IN_combo <- combo                       \n",
        "head(IN_combo ,5)"
      ],
      "metadata": {
        "colab": {
          "base_uri": "https://localhost:8080/",
          "height": 448
        },
        "id": "5pZVbf7S64LB",
        "outputId": "1ec9e666-4fd8-4f60-ee96-c684cf2ca056"
      },
      "execution_count": 190,
      "outputs": [
        {
          "output_type": "display_data",
          "data": {
            "text/html": [
              "<table class=\"dataframe\">\n",
              "<caption>A data.frame: 5 × 14</caption>\n",
              "<thead>\n",
              "\t<tr><th></th><th scope=col>Time</th><th scope=col>ketamine</th><th scope=col>date_rape</th><th scope=col>GHB</th><th scope=col>Rohypnol</th><th scope=col>morning_after_pill</th><th scope=col>roofie</th><th scope=col>pills_to_avoid_preg</th><th scope=col>how_much_is_morning_after_pill</th><th scope=col>been_raped</th><th scope=col>Rapes_per_100k</th><th scope=col>church_attendence</th><th scope=col>State</th><th scope=col>Household_Income</th></tr>\n",
              "\t<tr><th></th><th scope=col>&lt;chr&gt;</th><th scope=col>&lt;int&gt;</th><th scope=col>&lt;int&gt;</th><th scope=col>&lt;int&gt;</th><th scope=col>&lt;int&gt;</th><th scope=col>&lt;int&gt;</th><th scope=col>&lt;int&gt;</th><th scope=col>&lt;int&gt;</th><th scope=col>&lt;int&gt;</th><th scope=col>&lt;int&gt;</th><th scope=col>&lt;dbl&gt;</th><th scope=col>&lt;dbl&gt;</th><th scope=col>&lt;chr&gt;</th><th scope=col>&lt;dbl&gt;</th></tr>\n",
              "</thead>\n",
              "<tbody>\n",
              "\t<tr><th scope=row>1</th><td>2022-02-23T12</td><td> 4</td><td>0</td><td>0</td><td>0</td><td>NA</td><td>NA</td><td>NA</td><td>NA</td><td>NA</td><td>35.4</td><td>37</td><td>Indiana</td><td>57603</td></tr>\n",
              "\t<tr><th scope=row>2</th><td>2022-02-23T13</td><td>20</td><td>0</td><td>0</td><td>0</td><td> 0</td><td> 0</td><td> 0</td><td> 0</td><td> 0</td><td>35.4</td><td>37</td><td>Indiana</td><td>57603</td></tr>\n",
              "\t<tr><th scope=row>3</th><td>2022-02-23T14</td><td>32</td><td>8</td><td>0</td><td>0</td><td> 7</td><td> 0</td><td> 0</td><td> 0</td><td> 0</td><td>35.4</td><td>37</td><td>Indiana</td><td>57603</td></tr>\n",
              "\t<tr><th scope=row>4</th><td>2022-02-23T15</td><td>28</td><td>0</td><td>4</td><td>0</td><td> 0</td><td> 0</td><td> 0</td><td> 0</td><td> 0</td><td>35.4</td><td>37</td><td>Indiana</td><td>57603</td></tr>\n",
              "\t<tr><th scope=row>5</th><td>2022-02-23T16</td><td> 4</td><td>0</td><td>0</td><td>0</td><td> 0</td><td> 0</td><td> 0</td><td> 0</td><td> 0</td><td>35.4</td><td>37</td><td>Indiana</td><td>57603</td></tr>\n",
              "</tbody>\n",
              "</table>\n"
            ],
            "text/markdown": "\nA data.frame: 5 × 14\n\n| <!--/--> | Time &lt;chr&gt; | ketamine &lt;int&gt; | date_rape &lt;int&gt; | GHB &lt;int&gt; | Rohypnol &lt;int&gt; | morning_after_pill &lt;int&gt; | roofie &lt;int&gt; | pills_to_avoid_preg &lt;int&gt; | how_much_is_morning_after_pill &lt;int&gt; | been_raped &lt;int&gt; | Rapes_per_100k &lt;dbl&gt; | church_attendence &lt;dbl&gt; | State &lt;chr&gt; | Household_Income &lt;dbl&gt; |\n|---|---|---|---|---|---|---|---|---|---|---|---|---|---|---|\n| 1 | 2022-02-23T12 |  4 | 0 | 0 | 0 | NA | NA | NA | NA | NA | 35.4 | 37 | Indiana | 57603 |\n| 2 | 2022-02-23T13 | 20 | 0 | 0 | 0 |  0 |  0 |  0 |  0 |  0 | 35.4 | 37 | Indiana | 57603 |\n| 3 | 2022-02-23T14 | 32 | 8 | 0 | 0 |  7 |  0 |  0 |  0 |  0 | 35.4 | 37 | Indiana | 57603 |\n| 4 | 2022-02-23T15 | 28 | 0 | 4 | 0 |  0 |  0 |  0 |  0 |  0 | 35.4 | 37 | Indiana | 57603 |\n| 5 | 2022-02-23T16 |  4 | 0 | 0 | 0 |  0 |  0 |  0 |  0 |  0 | 35.4 | 37 | Indiana | 57603 |\n\n",
            "text/latex": "A data.frame: 5 × 14\n\\begin{tabular}{r|llllllllllllll}\n  & Time & ketamine & date\\_rape & GHB & Rohypnol & morning\\_after\\_pill & roofie & pills\\_to\\_avoid\\_preg & how\\_much\\_is\\_morning\\_after\\_pill & been\\_raped & Rapes\\_per\\_100k & church\\_attendence & State & Household\\_Income\\\\\n  & <chr> & <int> & <int> & <int> & <int> & <int> & <int> & <int> & <int> & <int> & <dbl> & <dbl> & <chr> & <dbl>\\\\\n\\hline\n\t1 & 2022-02-23T12 &  4 & 0 & 0 & 0 & NA & NA & NA & NA & NA & 35.4 & 37 & Indiana & 57603\\\\\n\t2 & 2022-02-23T13 & 20 & 0 & 0 & 0 &  0 &  0 &  0 &  0 &  0 & 35.4 & 37 & Indiana & 57603\\\\\n\t3 & 2022-02-23T14 & 32 & 8 & 0 & 0 &  7 &  0 &  0 &  0 &  0 & 35.4 & 37 & Indiana & 57603\\\\\n\t4 & 2022-02-23T15 & 28 & 0 & 4 & 0 &  0 &  0 &  0 &  0 &  0 & 35.4 & 37 & Indiana & 57603\\\\\n\t5 & 2022-02-23T16 &  4 & 0 & 0 & 0 &  0 &  0 &  0 &  0 &  0 & 35.4 & 37 & Indiana & 57603\\\\\n\\end{tabular}\n",
            "text/plain": [
              "  Time          ketamine date_rape GHB Rohypnol morning_after_pill roofie\n",
              "1 2022-02-23T12  4       0         0   0        NA                 NA    \n",
              "2 2022-02-23T13 20       0         0   0         0                  0    \n",
              "3 2022-02-23T14 32       8         0   0         7                  0    \n",
              "4 2022-02-23T15 28       0         4   0         0                  0    \n",
              "5 2022-02-23T16  4       0         0   0         0                  0    \n",
              "  pills_to_avoid_preg how_much_is_morning_after_pill been_raped Rapes_per_100k\n",
              "1 NA                  NA                             NA         35.4          \n",
              "2  0                   0                              0         35.4          \n",
              "3  0                   0                              0         35.4          \n",
              "4  0                   0                              0         35.4          \n",
              "5  0                   0                              0         35.4          \n",
              "  church_attendence State   Household_Income\n",
              "1 37                Indiana 57603           \n",
              "2 37                Indiana 57603           \n",
              "3 37                Indiana 57603           \n",
              "4 37                Indiana 57603           \n",
              "5 37                Indiana 57603           "
            ]
          },
          "metadata": {}
        }
      ]
    },
    {
      "cell_type": "markdown",
      "source": [
        "## Iowa"
      ],
      "metadata": {
        "id": "-mD5x_40peX2"
      }
    },
    {
      "cell_type": "code",
      "source": [
        "Full <- read.csv(\"/content/Iowa.csv\", skip=0, header=TRUE)\n",
        "Short <- read.csv(\"/content/IW_2.csv\", skip=0, header=TRUE)\n",
        "combo <- merge(Full,Short, by=\"Time\", all = T)\n",
        "\n",
        "#head(AL_combo,5)\n",
        "# Add FBI crime data\n",
        "combo$Rapes_per_100k <- 30.9 # <<<====\n",
        "# Add weekly church attendence\n",
        "combo$church_attendence <- 36 # <=======\n",
        "# Add State column\n",
        "combo$State <- \"Iowa\" # <<<========\n",
        "# Add median household income\n",
        "combo$Household_Income <- 61691\n",
        "#drop extraneous cols\n",
        "combo <- combo %>% \n",
        "        select(-c('State.x', 'State.y'))\n",
        "colnames(combo) <- c(\"Time\",\"ketamine\",\"date_rape\",\"GHB\",\"Rohypnol\",\n",
        "                        \"morning_after_pill\",\"roofie\",\"pills_to_avoid_preg\",\n",
        "                       \"how_much_is_morning_after_pill\",\"been_raped\",\"Rapes_per_100k\",\"church_attendence\",\"State\",\"Household_Income\")\n",
        "Iowa_combo <- combo                       \n",
        "head(Iowa_combo ,5)"
      ],
      "metadata": {
        "colab": {
          "base_uri": "https://localhost:8080/",
          "height": 448
        },
        "id": "D2cqT-gh8J5Y",
        "outputId": "6d88edf4-6e32-4e71-d398-ba1441d7ff02"
      },
      "execution_count": 191,
      "outputs": [
        {
          "output_type": "display_data",
          "data": {
            "text/html": [
              "<table class=\"dataframe\">\n",
              "<caption>A data.frame: 5 × 14</caption>\n",
              "<thead>\n",
              "\t<tr><th></th><th scope=col>Time</th><th scope=col>ketamine</th><th scope=col>date_rape</th><th scope=col>GHB</th><th scope=col>Rohypnol</th><th scope=col>morning_after_pill</th><th scope=col>roofie</th><th scope=col>pills_to_avoid_preg</th><th scope=col>how_much_is_morning_after_pill</th><th scope=col>been_raped</th><th scope=col>Rapes_per_100k</th><th scope=col>church_attendence</th><th scope=col>State</th><th scope=col>Household_Income</th></tr>\n",
              "\t<tr><th></th><th scope=col>&lt;chr&gt;</th><th scope=col>&lt;int&gt;</th><th scope=col>&lt;int&gt;</th><th scope=col>&lt;int&gt;</th><th scope=col>&lt;int&gt;</th><th scope=col>&lt;int&gt;</th><th scope=col>&lt;int&gt;</th><th scope=col>&lt;int&gt;</th><th scope=col>&lt;int&gt;</th><th scope=col>&lt;int&gt;</th><th scope=col>&lt;dbl&gt;</th><th scope=col>&lt;dbl&gt;</th><th scope=col>&lt;chr&gt;</th><th scope=col>&lt;dbl&gt;</th></tr>\n",
              "</thead>\n",
              "<tbody>\n",
              "\t<tr><th scope=row>1</th><td>2022-02-23T12</td><td>25</td><td>0</td><td>0</td><td>0</td><td>NA</td><td>NA</td><td>NA</td><td>NA</td><td>NA</td><td>30.9</td><td>36</td><td>Iowa</td><td>61691</td></tr>\n",
              "\t<tr><th scope=row>2</th><td>2022-02-23T13</td><td> 6</td><td>0</td><td>0</td><td>0</td><td> 0</td><td> 0</td><td> 0</td><td> 0</td><td> 0</td><td>30.9</td><td>36</td><td>Iowa</td><td>61691</td></tr>\n",
              "\t<tr><th scope=row>3</th><td>2022-02-23T14</td><td>19</td><td>0</td><td>0</td><td>0</td><td> 0</td><td> 0</td><td> 0</td><td> 0</td><td> 0</td><td>30.9</td><td>36</td><td>Iowa</td><td>61691</td></tr>\n",
              "\t<tr><th scope=row>4</th><td>2022-02-23T15</td><td>19</td><td>0</td><td>0</td><td>0</td><td> 0</td><td> 0</td><td> 0</td><td> 0</td><td> 0</td><td>30.9</td><td>36</td><td>Iowa</td><td>61691</td></tr>\n",
              "\t<tr><th scope=row>5</th><td>2022-02-23T16</td><td>12</td><td>0</td><td>0</td><td>0</td><td>10</td><td>10</td><td> 0</td><td> 0</td><td> 0</td><td>30.9</td><td>36</td><td>Iowa</td><td>61691</td></tr>\n",
              "</tbody>\n",
              "</table>\n"
            ],
            "text/markdown": "\nA data.frame: 5 × 14\n\n| <!--/--> | Time &lt;chr&gt; | ketamine &lt;int&gt; | date_rape &lt;int&gt; | GHB &lt;int&gt; | Rohypnol &lt;int&gt; | morning_after_pill &lt;int&gt; | roofie &lt;int&gt; | pills_to_avoid_preg &lt;int&gt; | how_much_is_morning_after_pill &lt;int&gt; | been_raped &lt;int&gt; | Rapes_per_100k &lt;dbl&gt; | church_attendence &lt;dbl&gt; | State &lt;chr&gt; | Household_Income &lt;dbl&gt; |\n|---|---|---|---|---|---|---|---|---|---|---|---|---|---|---|\n| 1 | 2022-02-23T12 | 25 | 0 | 0 | 0 | NA | NA | NA | NA | NA | 30.9 | 36 | Iowa | 61691 |\n| 2 | 2022-02-23T13 |  6 | 0 | 0 | 0 |  0 |  0 |  0 |  0 |  0 | 30.9 | 36 | Iowa | 61691 |\n| 3 | 2022-02-23T14 | 19 | 0 | 0 | 0 |  0 |  0 |  0 |  0 |  0 | 30.9 | 36 | Iowa | 61691 |\n| 4 | 2022-02-23T15 | 19 | 0 | 0 | 0 |  0 |  0 |  0 |  0 |  0 | 30.9 | 36 | Iowa | 61691 |\n| 5 | 2022-02-23T16 | 12 | 0 | 0 | 0 | 10 | 10 |  0 |  0 |  0 | 30.9 | 36 | Iowa | 61691 |\n\n",
            "text/latex": "A data.frame: 5 × 14\n\\begin{tabular}{r|llllllllllllll}\n  & Time & ketamine & date\\_rape & GHB & Rohypnol & morning\\_after\\_pill & roofie & pills\\_to\\_avoid\\_preg & how\\_much\\_is\\_morning\\_after\\_pill & been\\_raped & Rapes\\_per\\_100k & church\\_attendence & State & Household\\_Income\\\\\n  & <chr> & <int> & <int> & <int> & <int> & <int> & <int> & <int> & <int> & <int> & <dbl> & <dbl> & <chr> & <dbl>\\\\\n\\hline\n\t1 & 2022-02-23T12 & 25 & 0 & 0 & 0 & NA & NA & NA & NA & NA & 30.9 & 36 & Iowa & 61691\\\\\n\t2 & 2022-02-23T13 &  6 & 0 & 0 & 0 &  0 &  0 &  0 &  0 &  0 & 30.9 & 36 & Iowa & 61691\\\\\n\t3 & 2022-02-23T14 & 19 & 0 & 0 & 0 &  0 &  0 &  0 &  0 &  0 & 30.9 & 36 & Iowa & 61691\\\\\n\t4 & 2022-02-23T15 & 19 & 0 & 0 & 0 &  0 &  0 &  0 &  0 &  0 & 30.9 & 36 & Iowa & 61691\\\\\n\t5 & 2022-02-23T16 & 12 & 0 & 0 & 0 & 10 & 10 &  0 &  0 &  0 & 30.9 & 36 & Iowa & 61691\\\\\n\\end{tabular}\n",
            "text/plain": [
              "  Time          ketamine date_rape GHB Rohypnol morning_after_pill roofie\n",
              "1 2022-02-23T12 25       0         0   0        NA                 NA    \n",
              "2 2022-02-23T13  6       0         0   0         0                  0    \n",
              "3 2022-02-23T14 19       0         0   0         0                  0    \n",
              "4 2022-02-23T15 19       0         0   0         0                  0    \n",
              "5 2022-02-23T16 12       0         0   0        10                 10    \n",
              "  pills_to_avoid_preg how_much_is_morning_after_pill been_raped Rapes_per_100k\n",
              "1 NA                  NA                             NA         30.9          \n",
              "2  0                   0                              0         30.9          \n",
              "3  0                   0                              0         30.9          \n",
              "4  0                   0                              0         30.9          \n",
              "5  0                   0                              0         30.9          \n",
              "  church_attendence State Household_Income\n",
              "1 36                Iowa  61691           \n",
              "2 36                Iowa  61691           \n",
              "3 36                Iowa  61691           \n",
              "4 36                Iowa  61691           \n",
              "5 36                Iowa  61691           "
            ]
          },
          "metadata": {}
        }
      ]
    },
    {
      "cell_type": "markdown",
      "source": [
        "## Kansas"
      ],
      "metadata": {
        "id": "p0cTjMEbpeT8"
      }
    },
    {
      "cell_type": "code",
      "source": [
        "Full <- read.csv(\"/content/Kansas.csv\", skip=0, header=TRUE)\n",
        "Short <- read.csv(\"/content/KS_2.csv\", skip=0, header=TRUE)\n",
        "combo <- merge(Full,Short, by=\"Time\", all = T)\n",
        "\n",
        "#head(AL_combo,5)\n",
        "# Add FBI crime data\n",
        "combo$Rapes_per_100k <- 53.8 # <<<====\n",
        "# Add weekly church attendence\n",
        "combo$church_attendence <- 37 # <=======\n",
        "# Add State column\n",
        "combo$State <- \"Kansas\" # <<<========\n",
        "# Add median household income\n",
        "combo$Household_Income <- 62807\n",
        "#drop extraneous cols\n",
        "combo <- combo %>% \n",
        "        select(-c('State.x', 'State.y'))\n",
        "colnames(combo) <- c(\"Time\",\"ketamine\",\"date_rape\",\"GHB\",\"Rohypnol\",\n",
        "                        \"morning_after_pill\",\"roofie\",\"pills_to_avoid_preg\",\n",
        "                       \"how_much_is_morning_after_pill\",\"been_raped\",\"Rapes_per_100k\",\"church_attendence\",\"State\",\"Household_Income\")\n",
        "KS_combo <- combo                       \n",
        "head(KS_combo ,5)"
      ],
      "metadata": {
        "colab": {
          "base_uri": "https://localhost:8080/",
          "height": 448
        },
        "id": "_zK9VMTU8t9n",
        "outputId": "e770f5d5-9d81-44de-f1b5-d6f8f20014c4"
      },
      "execution_count": 192,
      "outputs": [
        {
          "output_type": "display_data",
          "data": {
            "text/html": [
              "<table class=\"dataframe\">\n",
              "<caption>A data.frame: 5 × 14</caption>\n",
              "<thead>\n",
              "\t<tr><th></th><th scope=col>Time</th><th scope=col>ketamine</th><th scope=col>date_rape</th><th scope=col>GHB</th><th scope=col>Rohypnol</th><th scope=col>morning_after_pill</th><th scope=col>roofie</th><th scope=col>pills_to_avoid_preg</th><th scope=col>how_much_is_morning_after_pill</th><th scope=col>been_raped</th><th scope=col>Rapes_per_100k</th><th scope=col>church_attendence</th><th scope=col>State</th><th scope=col>Household_Income</th></tr>\n",
              "\t<tr><th></th><th scope=col>&lt;chr&gt;</th><th scope=col>&lt;int&gt;</th><th scope=col>&lt;int&gt;</th><th scope=col>&lt;int&gt;</th><th scope=col>&lt;int&gt;</th><th scope=col>&lt;int&gt;</th><th scope=col>&lt;int&gt;</th><th scope=col>&lt;int&gt;</th><th scope=col>&lt;int&gt;</th><th scope=col>&lt;int&gt;</th><th scope=col>&lt;dbl&gt;</th><th scope=col>&lt;dbl&gt;</th><th scope=col>&lt;chr&gt;</th><th scope=col>&lt;dbl&gt;</th></tr>\n",
              "</thead>\n",
              "<tbody>\n",
              "\t<tr><th scope=row>1</th><td>2022-02-23T12</td><td> 6</td><td>0</td><td>0</td><td>5</td><td>NA</td><td>NA</td><td>NA</td><td>NA</td><td>NA</td><td>53.8</td><td>37</td><td>Kansas</td><td>62807</td></tr>\n",
              "\t<tr><th scope=row>2</th><td>2022-02-23T13</td><td>17</td><td>0</td><td>0</td><td>0</td><td> 0</td><td> 0</td><td> 0</td><td> 0</td><td> 0</td><td>53.8</td><td>37</td><td>Kansas</td><td>62807</td></tr>\n",
              "\t<tr><th scope=row>3</th><td>2022-02-23T14</td><td>17</td><td>0</td><td>0</td><td>0</td><td> 0</td><td> 0</td><td> 0</td><td> 0</td><td> 0</td><td>53.8</td><td>37</td><td>Kansas</td><td>62807</td></tr>\n",
              "\t<tr><th scope=row>4</th><td>2022-02-23T15</td><td> 6</td><td>5</td><td>0</td><td>0</td><td> 0</td><td> 0</td><td> 0</td><td> 0</td><td> 0</td><td>53.8</td><td>37</td><td>Kansas</td><td>62807</td></tr>\n",
              "\t<tr><th scope=row>5</th><td>2022-02-23T16</td><td>12</td><td>0</td><td>6</td><td>0</td><td> 0</td><td> 0</td><td> 0</td><td> 0</td><td> 0</td><td>53.8</td><td>37</td><td>Kansas</td><td>62807</td></tr>\n",
              "</tbody>\n",
              "</table>\n"
            ],
            "text/markdown": "\nA data.frame: 5 × 14\n\n| <!--/--> | Time &lt;chr&gt; | ketamine &lt;int&gt; | date_rape &lt;int&gt; | GHB &lt;int&gt; | Rohypnol &lt;int&gt; | morning_after_pill &lt;int&gt; | roofie &lt;int&gt; | pills_to_avoid_preg &lt;int&gt; | how_much_is_morning_after_pill &lt;int&gt; | been_raped &lt;int&gt; | Rapes_per_100k &lt;dbl&gt; | church_attendence &lt;dbl&gt; | State &lt;chr&gt; | Household_Income &lt;dbl&gt; |\n|---|---|---|---|---|---|---|---|---|---|---|---|---|---|---|\n| 1 | 2022-02-23T12 |  6 | 0 | 0 | 5 | NA | NA | NA | NA | NA | 53.8 | 37 | Kansas | 62807 |\n| 2 | 2022-02-23T13 | 17 | 0 | 0 | 0 |  0 |  0 |  0 |  0 |  0 | 53.8 | 37 | Kansas | 62807 |\n| 3 | 2022-02-23T14 | 17 | 0 | 0 | 0 |  0 |  0 |  0 |  0 |  0 | 53.8 | 37 | Kansas | 62807 |\n| 4 | 2022-02-23T15 |  6 | 5 | 0 | 0 |  0 |  0 |  0 |  0 |  0 | 53.8 | 37 | Kansas | 62807 |\n| 5 | 2022-02-23T16 | 12 | 0 | 6 | 0 |  0 |  0 |  0 |  0 |  0 | 53.8 | 37 | Kansas | 62807 |\n\n",
            "text/latex": "A data.frame: 5 × 14\n\\begin{tabular}{r|llllllllllllll}\n  & Time & ketamine & date\\_rape & GHB & Rohypnol & morning\\_after\\_pill & roofie & pills\\_to\\_avoid\\_preg & how\\_much\\_is\\_morning\\_after\\_pill & been\\_raped & Rapes\\_per\\_100k & church\\_attendence & State & Household\\_Income\\\\\n  & <chr> & <int> & <int> & <int> & <int> & <int> & <int> & <int> & <int> & <int> & <dbl> & <dbl> & <chr> & <dbl>\\\\\n\\hline\n\t1 & 2022-02-23T12 &  6 & 0 & 0 & 5 & NA & NA & NA & NA & NA & 53.8 & 37 & Kansas & 62807\\\\\n\t2 & 2022-02-23T13 & 17 & 0 & 0 & 0 &  0 &  0 &  0 &  0 &  0 & 53.8 & 37 & Kansas & 62807\\\\\n\t3 & 2022-02-23T14 & 17 & 0 & 0 & 0 &  0 &  0 &  0 &  0 &  0 & 53.8 & 37 & Kansas & 62807\\\\\n\t4 & 2022-02-23T15 &  6 & 5 & 0 & 0 &  0 &  0 &  0 &  0 &  0 & 53.8 & 37 & Kansas & 62807\\\\\n\t5 & 2022-02-23T16 & 12 & 0 & 6 & 0 &  0 &  0 &  0 &  0 &  0 & 53.8 & 37 & Kansas & 62807\\\\\n\\end{tabular}\n",
            "text/plain": [
              "  Time          ketamine date_rape GHB Rohypnol morning_after_pill roofie\n",
              "1 2022-02-23T12  6       0         0   5        NA                 NA    \n",
              "2 2022-02-23T13 17       0         0   0         0                  0    \n",
              "3 2022-02-23T14 17       0         0   0         0                  0    \n",
              "4 2022-02-23T15  6       5         0   0         0                  0    \n",
              "5 2022-02-23T16 12       0         6   0         0                  0    \n",
              "  pills_to_avoid_preg how_much_is_morning_after_pill been_raped Rapes_per_100k\n",
              "1 NA                  NA                             NA         53.8          \n",
              "2  0                   0                              0         53.8          \n",
              "3  0                   0                              0         53.8          \n",
              "4  0                   0                              0         53.8          \n",
              "5  0                   0                              0         53.8          \n",
              "  church_attendence State  Household_Income\n",
              "1 37                Kansas 62807           \n",
              "2 37                Kansas 62807           \n",
              "3 37                Kansas 62807           \n",
              "4 37                Kansas 62807           \n",
              "5 37                Kansas 62807           "
            ]
          },
          "metadata": {}
        }
      ]
    },
    {
      "cell_type": "markdown",
      "source": [
        "# Kentucky"
      ],
      "metadata": {
        "id": "pLKu1C6apeP0"
      }
    },
    {
      "cell_type": "code",
      "source": [
        "Full <- read.csv(\"/content/Kentucky.csv\", skip=0, header=TRUE)\n",
        "Short <- read.csv(\"/content/KY_2.csv\", skip=0, header=TRUE)\n",
        "combo <- merge(Full,Short, by=\"Time\", all = T)\n",
        "\n",
        "#head(AL_combo,5)\n",
        "# Add FBI crime data\n",
        "combo$Rapes_per_100k <- 38.2 # <<<====\n",
        "# Add weekly church attendence\n",
        "combo$church_attendence <- 39 # <=======\n",
        "# Add State column\n",
        "combo$State <- \"Kentucky\" # <<<========\n",
        "# Add median household income\n",
        "combo$Household_Income <- 52295\n",
        "#drop extraneous cols\n",
        "combo <- combo %>% \n",
        "        select(-c('State.x', 'State.y'))\n",
        "colnames(combo) <- c(\"Time\",\"ketamine\",\"date_rape\",\"GHB\",\"Rohypnol\",\n",
        "                        \"morning_after_pill\",\"roofie\",\"pills_to_avoid_preg\",\n",
        "                       \"how_much_is_morning_after_pill\",\"been_raped\",\"Rapes_per_100k\",\"church_attendence\",\"State\",\"Household_Income\")\n",
        "KY_combo <- combo                       \n",
        "head(KY_combo ,5)"
      ],
      "metadata": {
        "colab": {
          "base_uri": "https://localhost:8080/",
          "height": 448
        },
        "id": "geCXv92p9GeC",
        "outputId": "1c7bc03f-29b3-4313-ab64-4c44480d56fb"
      },
      "execution_count": 193,
      "outputs": [
        {
          "output_type": "display_data",
          "data": {
            "text/html": [
              "<table class=\"dataframe\">\n",
              "<caption>A data.frame: 5 × 14</caption>\n",
              "<thead>\n",
              "\t<tr><th></th><th scope=col>Time</th><th scope=col>ketamine</th><th scope=col>date_rape</th><th scope=col>GHB</th><th scope=col>Rohypnol</th><th scope=col>morning_after_pill</th><th scope=col>roofie</th><th scope=col>pills_to_avoid_preg</th><th scope=col>how_much_is_morning_after_pill</th><th scope=col>been_raped</th><th scope=col>Rapes_per_100k</th><th scope=col>church_attendence</th><th scope=col>State</th><th scope=col>Household_Income</th></tr>\n",
              "\t<tr><th></th><th scope=col>&lt;chr&gt;</th><th scope=col>&lt;int&gt;</th><th scope=col>&lt;int&gt;</th><th scope=col>&lt;int&gt;</th><th scope=col>&lt;int&gt;</th><th scope=col>&lt;int&gt;</th><th scope=col>&lt;int&gt;</th><th scope=col>&lt;int&gt;</th><th scope=col>&lt;int&gt;</th><th scope=col>&lt;int&gt;</th><th scope=col>&lt;dbl&gt;</th><th scope=col>&lt;dbl&gt;</th><th scope=col>&lt;chr&gt;</th><th scope=col>&lt;dbl&gt;</th></tr>\n",
              "</thead>\n",
              "<tbody>\n",
              "\t<tr><th scope=row>1</th><td>2022-02-23T12</td><td>27</td><td>0</td><td>0</td><td>0</td><td>NA</td><td>NA</td><td>NA</td><td>NA</td><td>NA</td><td>38.2</td><td>39</td><td>Kentucky</td><td>52295</td></tr>\n",
              "\t<tr><th scope=row>2</th><td>2022-02-23T13</td><td>18</td><td>0</td><td>0</td><td>0</td><td> 6</td><td> 0</td><td> 0</td><td> 0</td><td> 0</td><td>38.2</td><td>39</td><td>Kentucky</td><td>52295</td></tr>\n",
              "\t<tr><th scope=row>3</th><td>2022-02-23T14</td><td> 9</td><td>4</td><td>0</td><td>0</td><td> 0</td><td> 0</td><td> 0</td><td> 0</td><td> 0</td><td>38.2</td><td>39</td><td>Kentucky</td><td>52295</td></tr>\n",
              "\t<tr><th scope=row>4</th><td>2022-02-23T15</td><td>14</td><td>0</td><td>0</td><td>0</td><td>19</td><td> 0</td><td> 0</td><td> 0</td><td> 0</td><td>38.2</td><td>39</td><td>Kentucky</td><td>52295</td></tr>\n",
              "\t<tr><th scope=row>5</th><td>2022-02-23T16</td><td>19</td><td>0</td><td>5</td><td>0</td><td> 0</td><td> 0</td><td> 0</td><td> 0</td><td> 0</td><td>38.2</td><td>39</td><td>Kentucky</td><td>52295</td></tr>\n",
              "</tbody>\n",
              "</table>\n"
            ],
            "text/markdown": "\nA data.frame: 5 × 14\n\n| <!--/--> | Time &lt;chr&gt; | ketamine &lt;int&gt; | date_rape &lt;int&gt; | GHB &lt;int&gt; | Rohypnol &lt;int&gt; | morning_after_pill &lt;int&gt; | roofie &lt;int&gt; | pills_to_avoid_preg &lt;int&gt; | how_much_is_morning_after_pill &lt;int&gt; | been_raped &lt;int&gt; | Rapes_per_100k &lt;dbl&gt; | church_attendence &lt;dbl&gt; | State &lt;chr&gt; | Household_Income &lt;dbl&gt; |\n|---|---|---|---|---|---|---|---|---|---|---|---|---|---|---|\n| 1 | 2022-02-23T12 | 27 | 0 | 0 | 0 | NA | NA | NA | NA | NA | 38.2 | 39 | Kentucky | 52295 |\n| 2 | 2022-02-23T13 | 18 | 0 | 0 | 0 |  6 |  0 |  0 |  0 |  0 | 38.2 | 39 | Kentucky | 52295 |\n| 3 | 2022-02-23T14 |  9 | 4 | 0 | 0 |  0 |  0 |  0 |  0 |  0 | 38.2 | 39 | Kentucky | 52295 |\n| 4 | 2022-02-23T15 | 14 | 0 | 0 | 0 | 19 |  0 |  0 |  0 |  0 | 38.2 | 39 | Kentucky | 52295 |\n| 5 | 2022-02-23T16 | 19 | 0 | 5 | 0 |  0 |  0 |  0 |  0 |  0 | 38.2 | 39 | Kentucky | 52295 |\n\n",
            "text/latex": "A data.frame: 5 × 14\n\\begin{tabular}{r|llllllllllllll}\n  & Time & ketamine & date\\_rape & GHB & Rohypnol & morning\\_after\\_pill & roofie & pills\\_to\\_avoid\\_preg & how\\_much\\_is\\_morning\\_after\\_pill & been\\_raped & Rapes\\_per\\_100k & church\\_attendence & State & Household\\_Income\\\\\n  & <chr> & <int> & <int> & <int> & <int> & <int> & <int> & <int> & <int> & <int> & <dbl> & <dbl> & <chr> & <dbl>\\\\\n\\hline\n\t1 & 2022-02-23T12 & 27 & 0 & 0 & 0 & NA & NA & NA & NA & NA & 38.2 & 39 & Kentucky & 52295\\\\\n\t2 & 2022-02-23T13 & 18 & 0 & 0 & 0 &  6 &  0 &  0 &  0 &  0 & 38.2 & 39 & Kentucky & 52295\\\\\n\t3 & 2022-02-23T14 &  9 & 4 & 0 & 0 &  0 &  0 &  0 &  0 &  0 & 38.2 & 39 & Kentucky & 52295\\\\\n\t4 & 2022-02-23T15 & 14 & 0 & 0 & 0 & 19 &  0 &  0 &  0 &  0 & 38.2 & 39 & Kentucky & 52295\\\\\n\t5 & 2022-02-23T16 & 19 & 0 & 5 & 0 &  0 &  0 &  0 &  0 &  0 & 38.2 & 39 & Kentucky & 52295\\\\\n\\end{tabular}\n",
            "text/plain": [
              "  Time          ketamine date_rape GHB Rohypnol morning_after_pill roofie\n",
              "1 2022-02-23T12 27       0         0   0        NA                 NA    \n",
              "2 2022-02-23T13 18       0         0   0         6                  0    \n",
              "3 2022-02-23T14  9       4         0   0         0                  0    \n",
              "4 2022-02-23T15 14       0         0   0        19                  0    \n",
              "5 2022-02-23T16 19       0         5   0         0                  0    \n",
              "  pills_to_avoid_preg how_much_is_morning_after_pill been_raped Rapes_per_100k\n",
              "1 NA                  NA                             NA         38.2          \n",
              "2  0                   0                              0         38.2          \n",
              "3  0                   0                              0         38.2          \n",
              "4  0                   0                              0         38.2          \n",
              "5  0                   0                              0         38.2          \n",
              "  church_attendence State    Household_Income\n",
              "1 39                Kentucky 52295           \n",
              "2 39                Kentucky 52295           \n",
              "3 39                Kentucky 52295           \n",
              "4 39                Kentucky 52295           \n",
              "5 39                Kentucky 52295           "
            ]
          },
          "metadata": {}
        }
      ]
    },
    {
      "cell_type": "markdown",
      "source": [
        "## Louisiana"
      ],
      "metadata": {
        "id": "OG7scZibpeL8"
      }
    },
    {
      "cell_type": "code",
      "source": [
        "Full <- read.csv(\"/content/Louisiana.csv\", skip=0, header=TRUE)\n",
        "Short <- read.csv(\"/content/LO_2.csv\", skip=0, header=TRUE)\n",
        "combo <- merge(Full,Short, by=\"Time\", all = T)\n",
        "\n",
        "#head(AL_combo,5)\n",
        "# Add FBI crime data\n",
        "combo$Rapes_per_100k <- 44.7 # <<<====\n",
        "# Add weekly church attendence\n",
        "combo$church_attendence <- 46 # <=======\n",
        "# Add State column\n",
        "combo$State <- \"Louisiana\" # <<<========\n",
        "# Add median household income\n",
        "combo$Household_Income <- 51073 # <<<======\n",
        "#drop extraneous cols\n",
        "combo <- combo %>% \n",
        "        select(-c('State.x', 'State.y'))\n",
        "colnames(combo) <- c(\"Time\",\"ketamine\",\"date_rape\",\"GHB\",\"Rohypnol\",\n",
        "                        \"morning_after_pill\",\"roofie\",\"pills_to_avoid_preg\",\n",
        "                       \"how_much_is_morning_after_pill\",\"been_raped\",\"Rapes_per_100k\",\"church_attendence\",\"State\",\"Household_Income\")\n",
        "LO_combo <- combo                       \n",
        "head(LO_combo ,5)"
      ],
      "metadata": {
        "colab": {
          "base_uri": "https://localhost:8080/",
          "height": 448
        },
        "id": "vXo9tBf79opm",
        "outputId": "58d1a911-9497-4783-e481-2542a9a75da1"
      },
      "execution_count": 194,
      "outputs": [
        {
          "output_type": "display_data",
          "data": {
            "text/html": [
              "<table class=\"dataframe\">\n",
              "<caption>A data.frame: 5 × 14</caption>\n",
              "<thead>\n",
              "\t<tr><th></th><th scope=col>Time</th><th scope=col>ketamine</th><th scope=col>date_rape</th><th scope=col>GHB</th><th scope=col>Rohypnol</th><th scope=col>morning_after_pill</th><th scope=col>roofie</th><th scope=col>pills_to_avoid_preg</th><th scope=col>how_much_is_morning_after_pill</th><th scope=col>been_raped</th><th scope=col>Rapes_per_100k</th><th scope=col>church_attendence</th><th scope=col>State</th><th scope=col>Household_Income</th></tr>\n",
              "\t<tr><th></th><th scope=col>&lt;chr&gt;</th><th scope=col>&lt;int&gt;</th><th scope=col>&lt;int&gt;</th><th scope=col>&lt;int&gt;</th><th scope=col>&lt;int&gt;</th><th scope=col>&lt;int&gt;</th><th scope=col>&lt;int&gt;</th><th scope=col>&lt;int&gt;</th><th scope=col>&lt;int&gt;</th><th scope=col>&lt;int&gt;</th><th scope=col>&lt;dbl&gt;</th><th scope=col>&lt;dbl&gt;</th><th scope=col>&lt;chr&gt;</th><th scope=col>&lt;dbl&gt;</th></tr>\n",
              "</thead>\n",
              "<tbody>\n",
              "\t<tr><th scope=row>1</th><td>2022-02-23T12</td><td>16</td><td>5</td><td> 0</td><td>0</td><td>NA</td><td>NA</td><td>NA</td><td>NA</td><td>NA</td><td>44.7</td><td>46</td><td>Louisiana</td><td>51073</td></tr>\n",
              "\t<tr><th scope=row>2</th><td>2022-02-23T13</td><td>22</td><td>0</td><td> 0</td><td>0</td><td>10</td><td> 0</td><td> 0</td><td> 0</td><td> 0</td><td>44.7</td><td>46</td><td>Louisiana</td><td>51073</td></tr>\n",
              "\t<tr><th scope=row>3</th><td>2022-02-23T14</td><td>49</td><td>0</td><td> 0</td><td>0</td><td> 0</td><td> 0</td><td> 0</td><td> 0</td><td> 0</td><td>44.7</td><td>46</td><td>Louisiana</td><td>51073</td></tr>\n",
              "\t<tr><th scope=row>4</th><td>2022-02-23T15</td><td>33</td><td>0</td><td> 0</td><td>0</td><td> 0</td><td> 0</td><td> 0</td><td> 0</td><td> 0</td><td>44.7</td><td>46</td><td>Louisiana</td><td>51073</td></tr>\n",
              "\t<tr><th scope=row>5</th><td>2022-02-23T16</td><td>34</td><td>0</td><td>11</td><td>0</td><td> 0</td><td> 0</td><td> 0</td><td> 0</td><td> 0</td><td>44.7</td><td>46</td><td>Louisiana</td><td>51073</td></tr>\n",
              "</tbody>\n",
              "</table>\n"
            ],
            "text/markdown": "\nA data.frame: 5 × 14\n\n| <!--/--> | Time &lt;chr&gt; | ketamine &lt;int&gt; | date_rape &lt;int&gt; | GHB &lt;int&gt; | Rohypnol &lt;int&gt; | morning_after_pill &lt;int&gt; | roofie &lt;int&gt; | pills_to_avoid_preg &lt;int&gt; | how_much_is_morning_after_pill &lt;int&gt; | been_raped &lt;int&gt; | Rapes_per_100k &lt;dbl&gt; | church_attendence &lt;dbl&gt; | State &lt;chr&gt; | Household_Income &lt;dbl&gt; |\n|---|---|---|---|---|---|---|---|---|---|---|---|---|---|---|\n| 1 | 2022-02-23T12 | 16 | 5 |  0 | 0 | NA | NA | NA | NA | NA | 44.7 | 46 | Louisiana | 51073 |\n| 2 | 2022-02-23T13 | 22 | 0 |  0 | 0 | 10 |  0 |  0 |  0 |  0 | 44.7 | 46 | Louisiana | 51073 |\n| 3 | 2022-02-23T14 | 49 | 0 |  0 | 0 |  0 |  0 |  0 |  0 |  0 | 44.7 | 46 | Louisiana | 51073 |\n| 4 | 2022-02-23T15 | 33 | 0 |  0 | 0 |  0 |  0 |  0 |  0 |  0 | 44.7 | 46 | Louisiana | 51073 |\n| 5 | 2022-02-23T16 | 34 | 0 | 11 | 0 |  0 |  0 |  0 |  0 |  0 | 44.7 | 46 | Louisiana | 51073 |\n\n",
            "text/latex": "A data.frame: 5 × 14\n\\begin{tabular}{r|llllllllllllll}\n  & Time & ketamine & date\\_rape & GHB & Rohypnol & morning\\_after\\_pill & roofie & pills\\_to\\_avoid\\_preg & how\\_much\\_is\\_morning\\_after\\_pill & been\\_raped & Rapes\\_per\\_100k & church\\_attendence & State & Household\\_Income\\\\\n  & <chr> & <int> & <int> & <int> & <int> & <int> & <int> & <int> & <int> & <int> & <dbl> & <dbl> & <chr> & <dbl>\\\\\n\\hline\n\t1 & 2022-02-23T12 & 16 & 5 &  0 & 0 & NA & NA & NA & NA & NA & 44.7 & 46 & Louisiana & 51073\\\\\n\t2 & 2022-02-23T13 & 22 & 0 &  0 & 0 & 10 &  0 &  0 &  0 &  0 & 44.7 & 46 & Louisiana & 51073\\\\\n\t3 & 2022-02-23T14 & 49 & 0 &  0 & 0 &  0 &  0 &  0 &  0 &  0 & 44.7 & 46 & Louisiana & 51073\\\\\n\t4 & 2022-02-23T15 & 33 & 0 &  0 & 0 &  0 &  0 &  0 &  0 &  0 & 44.7 & 46 & Louisiana & 51073\\\\\n\t5 & 2022-02-23T16 & 34 & 0 & 11 & 0 &  0 &  0 &  0 &  0 &  0 & 44.7 & 46 & Louisiana & 51073\\\\\n\\end{tabular}\n",
            "text/plain": [
              "  Time          ketamine date_rape GHB Rohypnol morning_after_pill roofie\n",
              "1 2022-02-23T12 16       5          0  0        NA                 NA    \n",
              "2 2022-02-23T13 22       0          0  0        10                  0    \n",
              "3 2022-02-23T14 49       0          0  0         0                  0    \n",
              "4 2022-02-23T15 33       0          0  0         0                  0    \n",
              "5 2022-02-23T16 34       0         11  0         0                  0    \n",
              "  pills_to_avoid_preg how_much_is_morning_after_pill been_raped Rapes_per_100k\n",
              "1 NA                  NA                             NA         44.7          \n",
              "2  0                   0                              0         44.7          \n",
              "3  0                   0                              0         44.7          \n",
              "4  0                   0                              0         44.7          \n",
              "5  0                   0                              0         44.7          \n",
              "  church_attendence State     Household_Income\n",
              "1 46                Louisiana 51073           \n",
              "2 46                Louisiana 51073           \n",
              "3 46                Louisiana 51073           \n",
              "4 46                Louisiana 51073           \n",
              "5 46                Louisiana 51073           "
            ]
          },
          "metadata": {}
        }
      ]
    },
    {
      "cell_type": "markdown",
      "source": [
        "## Maine"
      ],
      "metadata": {
        "id": "bdDCMlHipeH6"
      }
    },
    {
      "cell_type": "code",
      "source": [
        "Full <- read.csv(\"/content/Maine.csv\", skip=0, header=TRUE)\n",
        "Short <- read.csv(\"/content/ME_2.csv\", skip=0, header=TRUE)\n",
        "combo <- merge(Full,Short, by=\"Time\", all = T)\n",
        "\n",
        "#head(AL_combo,5)\n",
        "# Add FBI crime data\n",
        "combo$Rapes_per_100k <- 33.3 # <<<====\n",
        "# Add weekly church attendence\n",
        "combo$church_attendence <- 22 # <=======\n",
        "# Add State column\n",
        "combo$State <- \"Maine\" # <<<========\n",
        "# Add median household income\n",
        "combo$Household_Income <- 58924 # <<<======\n",
        "#drop extraneous cols\n",
        "combo <- combo %>% \n",
        "        select(-c('State.x', 'State.y'))\n",
        "colnames(combo) <- c(\"Time\",\"ketamine\",\"date_rape\",\"GHB\",\"Rohypnol\",\n",
        "                        \"morning_after_pill\",\"roofie\",\"pills_to_avoid_preg\",\n",
        "                       \"how_much_is_morning_after_pill\",\"been_raped\",\"Rapes_per_100k\",\"church_attendence\",\"State\",\"Household_Income\")\n",
        "ME_combo <- combo                       \n",
        "head(ME_combo ,5)"
      ],
      "metadata": {
        "colab": {
          "base_uri": "https://localhost:8080/",
          "height": 448
        },
        "id": "qACghWE8-DNH",
        "outputId": "952e8fb7-2873-4b82-e994-fcfdb31d4c15"
      },
      "execution_count": 195,
      "outputs": [
        {
          "output_type": "display_data",
          "data": {
            "text/html": [
              "<table class=\"dataframe\">\n",
              "<caption>A data.frame: 5 × 14</caption>\n",
              "<thead>\n",
              "\t<tr><th></th><th scope=col>Time</th><th scope=col>ketamine</th><th scope=col>date_rape</th><th scope=col>GHB</th><th scope=col>Rohypnol</th><th scope=col>morning_after_pill</th><th scope=col>roofie</th><th scope=col>pills_to_avoid_preg</th><th scope=col>how_much_is_morning_after_pill</th><th scope=col>been_raped</th><th scope=col>Rapes_per_100k</th><th scope=col>church_attendence</th><th scope=col>State</th><th scope=col>Household_Income</th></tr>\n",
              "\t<tr><th></th><th scope=col>&lt;chr&gt;</th><th scope=col>&lt;int&gt;</th><th scope=col>&lt;int&gt;</th><th scope=col>&lt;int&gt;</th><th scope=col>&lt;int&gt;</th><th scope=col>&lt;int&gt;</th><th scope=col>&lt;int&gt;</th><th scope=col>&lt;int&gt;</th><th scope=col>&lt;int&gt;</th><th scope=col>&lt;int&gt;</th><th scope=col>&lt;dbl&gt;</th><th scope=col>&lt;dbl&gt;</th><th scope=col>&lt;chr&gt;</th><th scope=col>&lt;dbl&gt;</th></tr>\n",
              "</thead>\n",
              "<tbody>\n",
              "\t<tr><th scope=row>1</th><td>2022-02-23T12</td><td>22</td><td>0</td><td> 0</td><td>0</td><td>NA</td><td>NA</td><td>NA</td><td>NA</td><td>NA</td><td>33.3</td><td>22</td><td>Maine</td><td>58924</td></tr>\n",
              "\t<tr><th scope=row>2</th><td>2022-02-23T13</td><td> 0</td><td>0</td><td>10</td><td>0</td><td> 0</td><td> 0</td><td> 0</td><td> 0</td><td> 0</td><td>33.3</td><td>22</td><td>Maine</td><td>58924</td></tr>\n",
              "\t<tr><th scope=row>3</th><td>2022-02-23T14</td><td> 0</td><td>0</td><td> 0</td><td>0</td><td> 0</td><td> 0</td><td> 0</td><td> 0</td><td> 0</td><td>33.3</td><td>22</td><td>Maine</td><td>58924</td></tr>\n",
              "\t<tr><th scope=row>4</th><td>2022-02-23T15</td><td>11</td><td>0</td><td> 0</td><td>0</td><td> 0</td><td> 0</td><td> 0</td><td> 0</td><td> 0</td><td>33.3</td><td>22</td><td>Maine</td><td>58924</td></tr>\n",
              "\t<tr><th scope=row>5</th><td>2022-02-23T16</td><td>11</td><td>0</td><td> 0</td><td>0</td><td> 0</td><td> 0</td><td> 0</td><td> 0</td><td> 0</td><td>33.3</td><td>22</td><td>Maine</td><td>58924</td></tr>\n",
              "</tbody>\n",
              "</table>\n"
            ],
            "text/markdown": "\nA data.frame: 5 × 14\n\n| <!--/--> | Time &lt;chr&gt; | ketamine &lt;int&gt; | date_rape &lt;int&gt; | GHB &lt;int&gt; | Rohypnol &lt;int&gt; | morning_after_pill &lt;int&gt; | roofie &lt;int&gt; | pills_to_avoid_preg &lt;int&gt; | how_much_is_morning_after_pill &lt;int&gt; | been_raped &lt;int&gt; | Rapes_per_100k &lt;dbl&gt; | church_attendence &lt;dbl&gt; | State &lt;chr&gt; | Household_Income &lt;dbl&gt; |\n|---|---|---|---|---|---|---|---|---|---|---|---|---|---|---|\n| 1 | 2022-02-23T12 | 22 | 0 |  0 | 0 | NA | NA | NA | NA | NA | 33.3 | 22 | Maine | 58924 |\n| 2 | 2022-02-23T13 |  0 | 0 | 10 | 0 |  0 |  0 |  0 |  0 |  0 | 33.3 | 22 | Maine | 58924 |\n| 3 | 2022-02-23T14 |  0 | 0 |  0 | 0 |  0 |  0 |  0 |  0 |  0 | 33.3 | 22 | Maine | 58924 |\n| 4 | 2022-02-23T15 | 11 | 0 |  0 | 0 |  0 |  0 |  0 |  0 |  0 | 33.3 | 22 | Maine | 58924 |\n| 5 | 2022-02-23T16 | 11 | 0 |  0 | 0 |  0 |  0 |  0 |  0 |  0 | 33.3 | 22 | Maine | 58924 |\n\n",
            "text/latex": "A data.frame: 5 × 14\n\\begin{tabular}{r|llllllllllllll}\n  & Time & ketamine & date\\_rape & GHB & Rohypnol & morning\\_after\\_pill & roofie & pills\\_to\\_avoid\\_preg & how\\_much\\_is\\_morning\\_after\\_pill & been\\_raped & Rapes\\_per\\_100k & church\\_attendence & State & Household\\_Income\\\\\n  & <chr> & <int> & <int> & <int> & <int> & <int> & <int> & <int> & <int> & <int> & <dbl> & <dbl> & <chr> & <dbl>\\\\\n\\hline\n\t1 & 2022-02-23T12 & 22 & 0 &  0 & 0 & NA & NA & NA & NA & NA & 33.3 & 22 & Maine & 58924\\\\\n\t2 & 2022-02-23T13 &  0 & 0 & 10 & 0 &  0 &  0 &  0 &  0 &  0 & 33.3 & 22 & Maine & 58924\\\\\n\t3 & 2022-02-23T14 &  0 & 0 &  0 & 0 &  0 &  0 &  0 &  0 &  0 & 33.3 & 22 & Maine & 58924\\\\\n\t4 & 2022-02-23T15 & 11 & 0 &  0 & 0 &  0 &  0 &  0 &  0 &  0 & 33.3 & 22 & Maine & 58924\\\\\n\t5 & 2022-02-23T16 & 11 & 0 &  0 & 0 &  0 &  0 &  0 &  0 &  0 & 33.3 & 22 & Maine & 58924\\\\\n\\end{tabular}\n",
            "text/plain": [
              "  Time          ketamine date_rape GHB Rohypnol morning_after_pill roofie\n",
              "1 2022-02-23T12 22       0          0  0        NA                 NA    \n",
              "2 2022-02-23T13  0       0         10  0         0                  0    \n",
              "3 2022-02-23T14  0       0          0  0         0                  0    \n",
              "4 2022-02-23T15 11       0          0  0         0                  0    \n",
              "5 2022-02-23T16 11       0          0  0         0                  0    \n",
              "  pills_to_avoid_preg how_much_is_morning_after_pill been_raped Rapes_per_100k\n",
              "1 NA                  NA                             NA         33.3          \n",
              "2  0                   0                              0         33.3          \n",
              "3  0                   0                              0         33.3          \n",
              "4  0                   0                              0         33.3          \n",
              "5  0                   0                              0         33.3          \n",
              "  church_attendence State Household_Income\n",
              "1 22                Maine 58924           \n",
              "2 22                Maine 58924           \n",
              "3 22                Maine 58924           \n",
              "4 22                Maine 58924           \n",
              "5 22                Maine 58924           "
            ]
          },
          "metadata": {}
        }
      ]
    },
    {
      "cell_type": "markdown",
      "source": [
        " ## Maryland"
      ],
      "metadata": {
        "id": "XkSC_xqHpeDy"
      }
    },
    {
      "cell_type": "code",
      "source": [
        "Full <- read.csv(\"/content/Maryland.csv\", skip=0, header=TRUE)\n",
        "Short <- read.csv(\"/content/MD_2.csv\", skip=0, header=TRUE)\n",
        "combo <- merge(Full,Short, by=\"Time\", all = T)\n",
        "\n",
        "#head(AL_combo,5)\n",
        "# Add FBI crime data\n",
        "combo$Rapes_per_100k <- 32.8 # <<<====\n",
        "# Add weekly church attendence\n",
        "combo$church_attendence <- 31 # <=======\n",
        "# Add State column\n",
        "combo$State <- \"Maryland\" # <<<========\n",
        "# Add median household income\n",
        "combo$Household_Income <- 86738 # <<<======\n",
        "#drop extraneous cols\n",
        "combo <- combo %>% \n",
        "        select(-c('State.x', 'State.y'))\n",
        "colnames(combo) <- c(\"Time\",\"ketamine\",\"date_rape\",\"GHB\",\"Rohypnol\",\n",
        "                        \"morning_after_pill\",\"roofie\",\"pills_to_avoid_preg\",\n",
        "                       \"how_much_is_morning_after_pill\",\"been_raped\",\"Rapes_per_100k\",\"church_attendence\",\"State\",\"Household_Income\")\n",
        "MD_combo <- combo                       \n",
        "head(MD_combo ,5)"
      ],
      "metadata": {
        "colab": {
          "base_uri": "https://localhost:8080/",
          "height": 448
        },
        "id": "RdNnKAsKBGPm",
        "outputId": "3c248b31-118c-49c5-88a6-a3f6400cd27c"
      },
      "execution_count": 196,
      "outputs": [
        {
          "output_type": "display_data",
          "data": {
            "text/html": [
              "<table class=\"dataframe\">\n",
              "<caption>A data.frame: 5 × 14</caption>\n",
              "<thead>\n",
              "\t<tr><th></th><th scope=col>Time</th><th scope=col>ketamine</th><th scope=col>date_rape</th><th scope=col>GHB</th><th scope=col>Rohypnol</th><th scope=col>morning_after_pill</th><th scope=col>roofie</th><th scope=col>pills_to_avoid_preg</th><th scope=col>how_much_is_morning_after_pill</th><th scope=col>been_raped</th><th scope=col>Rapes_per_100k</th><th scope=col>church_attendence</th><th scope=col>State</th><th scope=col>Household_Income</th></tr>\n",
              "\t<tr><th></th><th scope=col>&lt;chr&gt;</th><th scope=col>&lt;int&gt;</th><th scope=col>&lt;int&gt;</th><th scope=col>&lt;int&gt;</th><th scope=col>&lt;int&gt;</th><th scope=col>&lt;int&gt;</th><th scope=col>&lt;int&gt;</th><th scope=col>&lt;int&gt;</th><th scope=col>&lt;int&gt;</th><th scope=col>&lt;int&gt;</th><th scope=col>&lt;dbl&gt;</th><th scope=col>&lt;dbl&gt;</th><th scope=col>&lt;chr&gt;</th><th scope=col>&lt;dbl&gt;</th></tr>\n",
              "</thead>\n",
              "<tbody>\n",
              "\t<tr><th scope=row>1</th><td>2022-02-23T12</td><td>24</td><td>12</td><td> 6</td><td> 0</td><td>NA</td><td>NA</td><td>NA</td><td>NA</td><td>NA</td><td>32.8</td><td>31</td><td>Maryland</td><td>86738</td></tr>\n",
              "\t<tr><th scope=row>2</th><td>2022-02-23T13</td><td>24</td><td> 0</td><td>12</td><td> 0</td><td> 0</td><td> 0</td><td> 0</td><td> 0</td><td> 0</td><td>32.8</td><td>31</td><td>Maryland</td><td>86738</td></tr>\n",
              "\t<tr><th scope=row>3</th><td>2022-02-23T14</td><td>30</td><td>12</td><td> 6</td><td> 0</td><td> 0</td><td> 0</td><td> 0</td><td> 0</td><td> 0</td><td>32.8</td><td>31</td><td>Maryland</td><td>86738</td></tr>\n",
              "\t<tr><th scope=row>4</th><td>2022-02-23T15</td><td>19</td><td> 0</td><td> 0</td><td>12</td><td>13</td><td> 0</td><td> 0</td><td> 0</td><td> 0</td><td>32.8</td><td>31</td><td>Maryland</td><td>86738</td></tr>\n",
              "\t<tr><th scope=row>5</th><td>2022-02-23T16</td><td>31</td><td>12</td><td> 6</td><td> 6</td><td> 0</td><td> 0</td><td> 0</td><td> 0</td><td> 0</td><td>32.8</td><td>31</td><td>Maryland</td><td>86738</td></tr>\n",
              "</tbody>\n",
              "</table>\n"
            ],
            "text/markdown": "\nA data.frame: 5 × 14\n\n| <!--/--> | Time &lt;chr&gt; | ketamine &lt;int&gt; | date_rape &lt;int&gt; | GHB &lt;int&gt; | Rohypnol &lt;int&gt; | morning_after_pill &lt;int&gt; | roofie &lt;int&gt; | pills_to_avoid_preg &lt;int&gt; | how_much_is_morning_after_pill &lt;int&gt; | been_raped &lt;int&gt; | Rapes_per_100k &lt;dbl&gt; | church_attendence &lt;dbl&gt; | State &lt;chr&gt; | Household_Income &lt;dbl&gt; |\n|---|---|---|---|---|---|---|---|---|---|---|---|---|---|---|\n| 1 | 2022-02-23T12 | 24 | 12 |  6 |  0 | NA | NA | NA | NA | NA | 32.8 | 31 | Maryland | 86738 |\n| 2 | 2022-02-23T13 | 24 |  0 | 12 |  0 |  0 |  0 |  0 |  0 |  0 | 32.8 | 31 | Maryland | 86738 |\n| 3 | 2022-02-23T14 | 30 | 12 |  6 |  0 |  0 |  0 |  0 |  0 |  0 | 32.8 | 31 | Maryland | 86738 |\n| 4 | 2022-02-23T15 | 19 |  0 |  0 | 12 | 13 |  0 |  0 |  0 |  0 | 32.8 | 31 | Maryland | 86738 |\n| 5 | 2022-02-23T16 | 31 | 12 |  6 |  6 |  0 |  0 |  0 |  0 |  0 | 32.8 | 31 | Maryland | 86738 |\n\n",
            "text/latex": "A data.frame: 5 × 14\n\\begin{tabular}{r|llllllllllllll}\n  & Time & ketamine & date\\_rape & GHB & Rohypnol & morning\\_after\\_pill & roofie & pills\\_to\\_avoid\\_preg & how\\_much\\_is\\_morning\\_after\\_pill & been\\_raped & Rapes\\_per\\_100k & church\\_attendence & State & Household\\_Income\\\\\n  & <chr> & <int> & <int> & <int> & <int> & <int> & <int> & <int> & <int> & <int> & <dbl> & <dbl> & <chr> & <dbl>\\\\\n\\hline\n\t1 & 2022-02-23T12 & 24 & 12 &  6 &  0 & NA & NA & NA & NA & NA & 32.8 & 31 & Maryland & 86738\\\\\n\t2 & 2022-02-23T13 & 24 &  0 & 12 &  0 &  0 &  0 &  0 &  0 &  0 & 32.8 & 31 & Maryland & 86738\\\\\n\t3 & 2022-02-23T14 & 30 & 12 &  6 &  0 &  0 &  0 &  0 &  0 &  0 & 32.8 & 31 & Maryland & 86738\\\\\n\t4 & 2022-02-23T15 & 19 &  0 &  0 & 12 & 13 &  0 &  0 &  0 &  0 & 32.8 & 31 & Maryland & 86738\\\\\n\t5 & 2022-02-23T16 & 31 & 12 &  6 &  6 &  0 &  0 &  0 &  0 &  0 & 32.8 & 31 & Maryland & 86738\\\\\n\\end{tabular}\n",
            "text/plain": [
              "  Time          ketamine date_rape GHB Rohypnol morning_after_pill roofie\n",
              "1 2022-02-23T12 24       12         6   0       NA                 NA    \n",
              "2 2022-02-23T13 24        0        12   0        0                  0    \n",
              "3 2022-02-23T14 30       12         6   0        0                  0    \n",
              "4 2022-02-23T15 19        0         0  12       13                  0    \n",
              "5 2022-02-23T16 31       12         6   6        0                  0    \n",
              "  pills_to_avoid_preg how_much_is_morning_after_pill been_raped Rapes_per_100k\n",
              "1 NA                  NA                             NA         32.8          \n",
              "2  0                   0                              0         32.8          \n",
              "3  0                   0                              0         32.8          \n",
              "4  0                   0                              0         32.8          \n",
              "5  0                   0                              0         32.8          \n",
              "  church_attendence State    Household_Income\n",
              "1 31                Maryland 86738           \n",
              "2 31                Maryland 86738           \n",
              "3 31                Maryland 86738           \n",
              "4 31                Maryland 86738           \n",
              "5 31                Maryland 86738           "
            ]
          },
          "metadata": {}
        }
      ]
    },
    {
      "cell_type": "markdown",
      "source": [
        "## Massachussettes"
      ],
      "metadata": {
        "id": "UhjmzTjgpd_0"
      }
    },
    {
      "cell_type": "code",
      "source": [
        "Full <- read.csv(\"/content/Massachusesttes.csv\", skip=0, header=TRUE)\n",
        "Short <- read.csv(\"/content/MA_2.csv\", skip=0, header=TRUE)\n",
        "combo <- merge(Full,Short, by=\"Time\", all = T)\n",
        "\n",
        "#head(AL_combo,5)\n",
        "# Add FBI crime data\n",
        "combo$Rapes_per_100k <- 34.9 # <<<====\n",
        "# Add weekly church attendence\n",
        "combo$church_attendence <- 23 # <=======\n",
        "# Add State column\n",
        "combo$State <- \"Massachussettes\" # <<<========\n",
        "# Add median household income\n",
        "combo$Household_Income <- 85843 # <<<======\n",
        "#drop extraneous cols\n",
        "combo <- combo %>% \n",
        "        select(-c('State.x', 'State.y'))\n",
        "colnames(combo) <- c(\"Time\",\"ketamine\",\"date_rape\",\"GHB\",\"Rohypnol\",\n",
        "                        \"morning_after_pill\",\"roofie\",\"pills_to_avoid_preg\",\n",
        "                       \"how_much_is_morning_after_pill\",\"been_raped\",\"Rapes_per_100k\",\"church_attendence\",\"State\",\"Household_Income\")\n",
        "MA_combo <- combo                       \n",
        "head(MA_combo ,5)"
      ],
      "metadata": {
        "colab": {
          "base_uri": "https://localhost:8080/",
          "height": 448
        },
        "id": "XmgY17t-BbB3",
        "outputId": "7b33f66b-2c4e-4dfa-a462-441d87d4c3a8"
      },
      "execution_count": 197,
      "outputs": [
        {
          "output_type": "display_data",
          "data": {
            "text/html": [
              "<table class=\"dataframe\">\n",
              "<caption>A data.frame: 5 × 14</caption>\n",
              "<thead>\n",
              "\t<tr><th></th><th scope=col>Time</th><th scope=col>ketamine</th><th scope=col>date_rape</th><th scope=col>GHB</th><th scope=col>Rohypnol</th><th scope=col>morning_after_pill</th><th scope=col>roofie</th><th scope=col>pills_to_avoid_preg</th><th scope=col>how_much_is_morning_after_pill</th><th scope=col>been_raped</th><th scope=col>Rapes_per_100k</th><th scope=col>church_attendence</th><th scope=col>State</th><th scope=col>Household_Income</th></tr>\n",
              "\t<tr><th></th><th scope=col>&lt;chr&gt;</th><th scope=col>&lt;int&gt;</th><th scope=col>&lt;int&gt;</th><th scope=col>&lt;int&gt;</th><th scope=col>&lt;int&gt;</th><th scope=col>&lt;int&gt;</th><th scope=col>&lt;int&gt;</th><th scope=col>&lt;int&gt;</th><th scope=col>&lt;int&gt;</th><th scope=col>&lt;int&gt;</th><th scope=col>&lt;dbl&gt;</th><th scope=col>&lt;dbl&gt;</th><th scope=col>&lt;chr&gt;</th><th scope=col>&lt;dbl&gt;</th></tr>\n",
              "</thead>\n",
              "<tbody>\n",
              "\t<tr><th scope=row>1</th><td>2022-02-23T12</td><td>31</td><td>0</td><td>0</td><td>2</td><td>NA</td><td>NA</td><td>NA</td><td>NA</td><td>NA</td><td>34.9</td><td>23</td><td>Massachussettes</td><td>85843</td></tr>\n",
              "\t<tr><th scope=row>2</th><td>2022-02-23T13</td><td>12</td><td>0</td><td>0</td><td>0</td><td> 0</td><td> 0</td><td> 0</td><td> 0</td><td> 0</td><td>34.9</td><td>23</td><td>Massachussettes</td><td>85843</td></tr>\n",
              "\t<tr><th scope=row>3</th><td>2022-02-23T14</td><td>19</td><td>5</td><td>0</td><td>2</td><td> 0</td><td> 0</td><td> 0</td><td> 0</td><td> 0</td><td>34.9</td><td>23</td><td>Massachussettes</td><td>85843</td></tr>\n",
              "\t<tr><th scope=row>4</th><td>2022-02-23T15</td><td> 7</td><td>2</td><td>0</td><td>0</td><td> 0</td><td> 0</td><td> 0</td><td> 0</td><td> 0</td><td>34.9</td><td>23</td><td>Massachussettes</td><td>85843</td></tr>\n",
              "\t<tr><th scope=row>5</th><td>2022-02-23T16</td><td>22</td><td>2</td><td>2</td><td>0</td><td> 0</td><td> 0</td><td> 0</td><td> 0</td><td> 0</td><td>34.9</td><td>23</td><td>Massachussettes</td><td>85843</td></tr>\n",
              "</tbody>\n",
              "</table>\n"
            ],
            "text/markdown": "\nA data.frame: 5 × 14\n\n| <!--/--> | Time &lt;chr&gt; | ketamine &lt;int&gt; | date_rape &lt;int&gt; | GHB &lt;int&gt; | Rohypnol &lt;int&gt; | morning_after_pill &lt;int&gt; | roofie &lt;int&gt; | pills_to_avoid_preg &lt;int&gt; | how_much_is_morning_after_pill &lt;int&gt; | been_raped &lt;int&gt; | Rapes_per_100k &lt;dbl&gt; | church_attendence &lt;dbl&gt; | State &lt;chr&gt; | Household_Income &lt;dbl&gt; |\n|---|---|---|---|---|---|---|---|---|---|---|---|---|---|---|\n| 1 | 2022-02-23T12 | 31 | 0 | 0 | 2 | NA | NA | NA | NA | NA | 34.9 | 23 | Massachussettes | 85843 |\n| 2 | 2022-02-23T13 | 12 | 0 | 0 | 0 |  0 |  0 |  0 |  0 |  0 | 34.9 | 23 | Massachussettes | 85843 |\n| 3 | 2022-02-23T14 | 19 | 5 | 0 | 2 |  0 |  0 |  0 |  0 |  0 | 34.9 | 23 | Massachussettes | 85843 |\n| 4 | 2022-02-23T15 |  7 | 2 | 0 | 0 |  0 |  0 |  0 |  0 |  0 | 34.9 | 23 | Massachussettes | 85843 |\n| 5 | 2022-02-23T16 | 22 | 2 | 2 | 0 |  0 |  0 |  0 |  0 |  0 | 34.9 | 23 | Massachussettes | 85843 |\n\n",
            "text/latex": "A data.frame: 5 × 14\n\\begin{tabular}{r|llllllllllllll}\n  & Time & ketamine & date\\_rape & GHB & Rohypnol & morning\\_after\\_pill & roofie & pills\\_to\\_avoid\\_preg & how\\_much\\_is\\_morning\\_after\\_pill & been\\_raped & Rapes\\_per\\_100k & church\\_attendence & State & Household\\_Income\\\\\n  & <chr> & <int> & <int> & <int> & <int> & <int> & <int> & <int> & <int> & <int> & <dbl> & <dbl> & <chr> & <dbl>\\\\\n\\hline\n\t1 & 2022-02-23T12 & 31 & 0 & 0 & 2 & NA & NA & NA & NA & NA & 34.9 & 23 & Massachussettes & 85843\\\\\n\t2 & 2022-02-23T13 & 12 & 0 & 0 & 0 &  0 &  0 &  0 &  0 &  0 & 34.9 & 23 & Massachussettes & 85843\\\\\n\t3 & 2022-02-23T14 & 19 & 5 & 0 & 2 &  0 &  0 &  0 &  0 &  0 & 34.9 & 23 & Massachussettes & 85843\\\\\n\t4 & 2022-02-23T15 &  7 & 2 & 0 & 0 &  0 &  0 &  0 &  0 &  0 & 34.9 & 23 & Massachussettes & 85843\\\\\n\t5 & 2022-02-23T16 & 22 & 2 & 2 & 0 &  0 &  0 &  0 &  0 &  0 & 34.9 & 23 & Massachussettes & 85843\\\\\n\\end{tabular}\n",
            "text/plain": [
              "  Time          ketamine date_rape GHB Rohypnol morning_after_pill roofie\n",
              "1 2022-02-23T12 31       0         0   2        NA                 NA    \n",
              "2 2022-02-23T13 12       0         0   0         0                  0    \n",
              "3 2022-02-23T14 19       5         0   2         0                  0    \n",
              "4 2022-02-23T15  7       2         0   0         0                  0    \n",
              "5 2022-02-23T16 22       2         2   0         0                  0    \n",
              "  pills_to_avoid_preg how_much_is_morning_after_pill been_raped Rapes_per_100k\n",
              "1 NA                  NA                             NA         34.9          \n",
              "2  0                   0                              0         34.9          \n",
              "3  0                   0                              0         34.9          \n",
              "4  0                   0                              0         34.9          \n",
              "5  0                   0                              0         34.9          \n",
              "  church_attendence State           Household_Income\n",
              "1 23                Massachussettes 85843           \n",
              "2 23                Massachussettes 85843           \n",
              "3 23                Massachussettes 85843           \n",
              "4 23                Massachussettes 85843           \n",
              "5 23                Massachussettes 85843           "
            ]
          },
          "metadata": {}
        }
      ]
    },
    {
      "cell_type": "markdown",
      "source": [
        "## Michigan"
      ],
      "metadata": {
        "id": "ooDISLjepd7Y"
      }
    },
    {
      "cell_type": "code",
      "source": [
        "Full <- read.csv(\"/content/Michigan.csv\", skip=0, header=TRUE)\n",
        "Short <- read.csv(\"/content/MI_2.csv\", skip=0, header=TRUE)\n",
        "combo <- merge(Full,Short, by=\"Time\", all = T)\n",
        "\n",
        "#head(AL_combo,5)\n",
        "# Add FBI crime data\n",
        "combo$Rapes_per_100k <- 76.9 # <<<====\n",
        "# Add weekly church attendence\n",
        "combo$church_attendence <- 33 # <=======\n",
        "# Add State column\n",
        "combo$State <- \"Michigan\" # <<<========\n",
        "# Add median household income\n",
        "combo$Household_Income <- 59584 # <<<======\n",
        "#drop extraneous cols\n",
        "combo <- combo %>% \n",
        "        select(-c('State.x', 'State.y'))\n",
        "colnames(combo) <- c(\"Time\",\"ketamine\",\"date_rape\",\"GHB\",\"Rohypnol\",\n",
        "                        \"morning_after_pill\",\"roofie\",\"pills_to_avoid_preg\",\n",
        "                       \"how_much_is_morning_after_pill\",\"been_raped\",\"Rapes_per_100k\",\"church_attendence\",\"State\",\"Household_Income\")\n",
        "MI_combo <- combo                       \n",
        "head(MI_combo ,5)"
      ],
      "metadata": {
        "colab": {
          "base_uri": "https://localhost:8080/",
          "height": 448
        },
        "id": "GTbj4XvABshk",
        "outputId": "585e250d-b433-4721-faa3-17e583906c39"
      },
      "execution_count": 198,
      "outputs": [
        {
          "output_type": "display_data",
          "data": {
            "text/html": [
              "<table class=\"dataframe\">\n",
              "<caption>A data.frame: 5 × 14</caption>\n",
              "<thead>\n",
              "\t<tr><th></th><th scope=col>Time</th><th scope=col>ketamine</th><th scope=col>date_rape</th><th scope=col>GHB</th><th scope=col>Rohypnol</th><th scope=col>morning_after_pill</th><th scope=col>roofie</th><th scope=col>pills_to_avoid_preg</th><th scope=col>how_much_is_morning_after_pill</th><th scope=col>been_raped</th><th scope=col>Rapes_per_100k</th><th scope=col>church_attendence</th><th scope=col>State</th><th scope=col>Household_Income</th></tr>\n",
              "\t<tr><th></th><th scope=col>&lt;chr&gt;</th><th scope=col>&lt;int&gt;</th><th scope=col>&lt;int&gt;</th><th scope=col>&lt;int&gt;</th><th scope=col>&lt;int&gt;</th><th scope=col>&lt;int&gt;</th><th scope=col>&lt;int&gt;</th><th scope=col>&lt;int&gt;</th><th scope=col>&lt;int&gt;</th><th scope=col>&lt;int&gt;</th><th scope=col>&lt;dbl&gt;</th><th scope=col>&lt;dbl&gt;</th><th scope=col>&lt;chr&gt;</th><th scope=col>&lt;dbl&gt;</th></tr>\n",
              "</thead>\n",
              "<tbody>\n",
              "\t<tr><th scope=row>1</th><td>2022-02-23T12</td><td>40</td><td> 4</td><td> 0</td><td>0</td><td>NA</td><td>NA</td><td>NA</td><td>NA</td><td>NA</td><td>76.9</td><td>33</td><td>Michigan</td><td>59584</td></tr>\n",
              "\t<tr><th scope=row>2</th><td>2022-02-23T13</td><td>24</td><td> 0</td><td>12</td><td>0</td><td> 0</td><td> 0</td><td> 0</td><td> 0</td><td> 0</td><td>76.9</td><td>33</td><td>Michigan</td><td>59584</td></tr>\n",
              "\t<tr><th scope=row>3</th><td>2022-02-23T14</td><td>32</td><td> 8</td><td> 0</td><td>0</td><td> 0</td><td> 0</td><td> 0</td><td> 0</td><td> 0</td><td>76.9</td><td>33</td><td>Michigan</td><td>59584</td></tr>\n",
              "\t<tr><th scope=row>4</th><td>2022-02-23T15</td><td>43</td><td>12</td><td> 0</td><td>0</td><td> 6</td><td> 6</td><td> 0</td><td> 0</td><td> 0</td><td>76.9</td><td>33</td><td>Michigan</td><td>59584</td></tr>\n",
              "\t<tr><th scope=row>5</th><td>2022-02-23T16</td><td>24</td><td> 8</td><td> 0</td><td>0</td><td>19</td><td> 0</td><td> 0</td><td> 0</td><td> 0</td><td>76.9</td><td>33</td><td>Michigan</td><td>59584</td></tr>\n",
              "</tbody>\n",
              "</table>\n"
            ],
            "text/markdown": "\nA data.frame: 5 × 14\n\n| <!--/--> | Time &lt;chr&gt; | ketamine &lt;int&gt; | date_rape &lt;int&gt; | GHB &lt;int&gt; | Rohypnol &lt;int&gt; | morning_after_pill &lt;int&gt; | roofie &lt;int&gt; | pills_to_avoid_preg &lt;int&gt; | how_much_is_morning_after_pill &lt;int&gt; | been_raped &lt;int&gt; | Rapes_per_100k &lt;dbl&gt; | church_attendence &lt;dbl&gt; | State &lt;chr&gt; | Household_Income &lt;dbl&gt; |\n|---|---|---|---|---|---|---|---|---|---|---|---|---|---|---|\n| 1 | 2022-02-23T12 | 40 |  4 |  0 | 0 | NA | NA | NA | NA | NA | 76.9 | 33 | Michigan | 59584 |\n| 2 | 2022-02-23T13 | 24 |  0 | 12 | 0 |  0 |  0 |  0 |  0 |  0 | 76.9 | 33 | Michigan | 59584 |\n| 3 | 2022-02-23T14 | 32 |  8 |  0 | 0 |  0 |  0 |  0 |  0 |  0 | 76.9 | 33 | Michigan | 59584 |\n| 4 | 2022-02-23T15 | 43 | 12 |  0 | 0 |  6 |  6 |  0 |  0 |  0 | 76.9 | 33 | Michigan | 59584 |\n| 5 | 2022-02-23T16 | 24 |  8 |  0 | 0 | 19 |  0 |  0 |  0 |  0 | 76.9 | 33 | Michigan | 59584 |\n\n",
            "text/latex": "A data.frame: 5 × 14\n\\begin{tabular}{r|llllllllllllll}\n  & Time & ketamine & date\\_rape & GHB & Rohypnol & morning\\_after\\_pill & roofie & pills\\_to\\_avoid\\_preg & how\\_much\\_is\\_morning\\_after\\_pill & been\\_raped & Rapes\\_per\\_100k & church\\_attendence & State & Household\\_Income\\\\\n  & <chr> & <int> & <int> & <int> & <int> & <int> & <int> & <int> & <int> & <int> & <dbl> & <dbl> & <chr> & <dbl>\\\\\n\\hline\n\t1 & 2022-02-23T12 & 40 &  4 &  0 & 0 & NA & NA & NA & NA & NA & 76.9 & 33 & Michigan & 59584\\\\\n\t2 & 2022-02-23T13 & 24 &  0 & 12 & 0 &  0 &  0 &  0 &  0 &  0 & 76.9 & 33 & Michigan & 59584\\\\\n\t3 & 2022-02-23T14 & 32 &  8 &  0 & 0 &  0 &  0 &  0 &  0 &  0 & 76.9 & 33 & Michigan & 59584\\\\\n\t4 & 2022-02-23T15 & 43 & 12 &  0 & 0 &  6 &  6 &  0 &  0 &  0 & 76.9 & 33 & Michigan & 59584\\\\\n\t5 & 2022-02-23T16 & 24 &  8 &  0 & 0 & 19 &  0 &  0 &  0 &  0 & 76.9 & 33 & Michigan & 59584\\\\\n\\end{tabular}\n",
            "text/plain": [
              "  Time          ketamine date_rape GHB Rohypnol morning_after_pill roofie\n",
              "1 2022-02-23T12 40        4         0  0        NA                 NA    \n",
              "2 2022-02-23T13 24        0        12  0         0                  0    \n",
              "3 2022-02-23T14 32        8         0  0         0                  0    \n",
              "4 2022-02-23T15 43       12         0  0         6                  6    \n",
              "5 2022-02-23T16 24        8         0  0        19                  0    \n",
              "  pills_to_avoid_preg how_much_is_morning_after_pill been_raped Rapes_per_100k\n",
              "1 NA                  NA                             NA         76.9          \n",
              "2  0                   0                              0         76.9          \n",
              "3  0                   0                              0         76.9          \n",
              "4  0                   0                              0         76.9          \n",
              "5  0                   0                              0         76.9          \n",
              "  church_attendence State    Household_Income\n",
              "1 33                Michigan 59584           \n",
              "2 33                Michigan 59584           \n",
              "3 33                Michigan 59584           \n",
              "4 33                Michigan 59584           \n",
              "5 33                Michigan 59584           "
            ]
          },
          "metadata": {}
        }
      ]
    },
    {
      "cell_type": "markdown",
      "source": [
        "## Minnesota"
      ],
      "metadata": {
        "id": "Rg2ZxmkHpd3N"
      }
    },
    {
      "cell_type": "code",
      "source": [
        "Full <- read.csv(\"/content/Minnesota.csv\", skip=0, header=TRUE)\n",
        "Short <- read.csv(\"/content/MN_2.csv\", skip=0, header=TRUE)\n",
        "combo <- merge(Full,Short, by=\"Time\", all = T)\n",
        "\n",
        "#head(AL_combo,5)\n",
        "# Add FBI crime data\n",
        "combo$Rapes_per_100k <- 43.9 # <<<====\n",
        "# Add weekly church attendence\n",
        "combo$church_attendence <- 34 # <=======\n",
        "# Add State column\n",
        "combo$State <- \"Minnesota\" # <<<========\n",
        "# Add median household income\n",
        "combo$Household_Income <-  74593 # <<<======\n",
        "#drop extraneous cols\n",
        "combo <- combo %>% \n",
        "        select(-c('State.x', 'State.y'))\n",
        "colnames(combo) <- c(\"Time\",\"ketamine\",\"date_rape\",\"GHB\",\"Rohypnol\",\n",
        "                        \"morning_after_pill\",\"roofie\",\"pills_to_avoid_preg\",\n",
        "                       \"how_much_is_morning_after_pill\",\"been_raped\",\"Rapes_per_100k\",\"church_attendence\",\"State\",\"Household_Income\")\n",
        "MN_combo <- combo                       \n",
        "head(MN_combo ,5)"
      ],
      "metadata": {
        "colab": {
          "base_uri": "https://localhost:8080/",
          "height": 448
        },
        "id": "k0oWKktvbK6i",
        "outputId": "76cc9f22-2ce9-4695-e917-d8b027b46360"
      },
      "execution_count": 199,
      "outputs": [
        {
          "output_type": "display_data",
          "data": {
            "text/html": [
              "<table class=\"dataframe\">\n",
              "<caption>A data.frame: 5 × 14</caption>\n",
              "<thead>\n",
              "\t<tr><th></th><th scope=col>Time</th><th scope=col>ketamine</th><th scope=col>date_rape</th><th scope=col>GHB</th><th scope=col>Rohypnol</th><th scope=col>morning_after_pill</th><th scope=col>roofie</th><th scope=col>pills_to_avoid_preg</th><th scope=col>how_much_is_morning_after_pill</th><th scope=col>been_raped</th><th scope=col>Rapes_per_100k</th><th scope=col>church_attendence</th><th scope=col>State</th><th scope=col>Household_Income</th></tr>\n",
              "\t<tr><th></th><th scope=col>&lt;chr&gt;</th><th scope=col>&lt;int&gt;</th><th scope=col>&lt;int&gt;</th><th scope=col>&lt;int&gt;</th><th scope=col>&lt;int&gt;</th><th scope=col>&lt;int&gt;</th><th scope=col>&lt;int&gt;</th><th scope=col>&lt;int&gt;</th><th scope=col>&lt;int&gt;</th><th scope=col>&lt;int&gt;</th><th scope=col>&lt;dbl&gt;</th><th scope=col>&lt;dbl&gt;</th><th scope=col>&lt;chr&gt;</th><th scope=col>&lt;dbl&gt;</th></tr>\n",
              "</thead>\n",
              "<tbody>\n",
              "\t<tr><th scope=row>1</th><td>2022-02-23T12</td><td>43</td><td>0</td><td> 0</td><td>0</td><td>NA</td><td>NA</td><td>NA</td><td>NA</td><td>NA</td><td>43.9</td><td>34</td><td>Minnesota</td><td>74593</td></tr>\n",
              "\t<tr><th scope=row>2</th><td>2022-02-23T13</td><td>22</td><td>0</td><td> 6</td><td>0</td><td> 0</td><td> 9</td><td> 0</td><td> 0</td><td> 0</td><td>43.9</td><td>34</td><td>Minnesota</td><td>74593</td></tr>\n",
              "\t<tr><th scope=row>3</th><td>2022-02-23T14</td><td>25</td><td>3</td><td> 0</td><td>0</td><td> 9</td><td> 0</td><td> 0</td><td> 0</td><td> 0</td><td>43.9</td><td>34</td><td>Minnesota</td><td>74593</td></tr>\n",
              "\t<tr><th scope=row>4</th><td>2022-02-23T15</td><td>12</td><td>3</td><td> 3</td><td>0</td><td> 0</td><td> 0</td><td> 0</td><td> 0</td><td> 0</td><td>43.9</td><td>34</td><td>Minnesota</td><td>74593</td></tr>\n",
              "\t<tr><th scope=row>5</th><td>2022-02-23T16</td><td>19</td><td>6</td><td>13</td><td>0</td><td> 0</td><td> 0</td><td> 0</td><td> 0</td><td> 0</td><td>43.9</td><td>34</td><td>Minnesota</td><td>74593</td></tr>\n",
              "</tbody>\n",
              "</table>\n"
            ],
            "text/markdown": "\nA data.frame: 5 × 14\n\n| <!--/--> | Time &lt;chr&gt; | ketamine &lt;int&gt; | date_rape &lt;int&gt; | GHB &lt;int&gt; | Rohypnol &lt;int&gt; | morning_after_pill &lt;int&gt; | roofie &lt;int&gt; | pills_to_avoid_preg &lt;int&gt; | how_much_is_morning_after_pill &lt;int&gt; | been_raped &lt;int&gt; | Rapes_per_100k &lt;dbl&gt; | church_attendence &lt;dbl&gt; | State &lt;chr&gt; | Household_Income &lt;dbl&gt; |\n|---|---|---|---|---|---|---|---|---|---|---|---|---|---|---|\n| 1 | 2022-02-23T12 | 43 | 0 |  0 | 0 | NA | NA | NA | NA | NA | 43.9 | 34 | Minnesota | 74593 |\n| 2 | 2022-02-23T13 | 22 | 0 |  6 | 0 |  0 |  9 |  0 |  0 |  0 | 43.9 | 34 | Minnesota | 74593 |\n| 3 | 2022-02-23T14 | 25 | 3 |  0 | 0 |  9 |  0 |  0 |  0 |  0 | 43.9 | 34 | Minnesota | 74593 |\n| 4 | 2022-02-23T15 | 12 | 3 |  3 | 0 |  0 |  0 |  0 |  0 |  0 | 43.9 | 34 | Minnesota | 74593 |\n| 5 | 2022-02-23T16 | 19 | 6 | 13 | 0 |  0 |  0 |  0 |  0 |  0 | 43.9 | 34 | Minnesota | 74593 |\n\n",
            "text/latex": "A data.frame: 5 × 14\n\\begin{tabular}{r|llllllllllllll}\n  & Time & ketamine & date\\_rape & GHB & Rohypnol & morning\\_after\\_pill & roofie & pills\\_to\\_avoid\\_preg & how\\_much\\_is\\_morning\\_after\\_pill & been\\_raped & Rapes\\_per\\_100k & church\\_attendence & State & Household\\_Income\\\\\n  & <chr> & <int> & <int> & <int> & <int> & <int> & <int> & <int> & <int> & <int> & <dbl> & <dbl> & <chr> & <dbl>\\\\\n\\hline\n\t1 & 2022-02-23T12 & 43 & 0 &  0 & 0 & NA & NA & NA & NA & NA & 43.9 & 34 & Minnesota & 74593\\\\\n\t2 & 2022-02-23T13 & 22 & 0 &  6 & 0 &  0 &  9 &  0 &  0 &  0 & 43.9 & 34 & Minnesota & 74593\\\\\n\t3 & 2022-02-23T14 & 25 & 3 &  0 & 0 &  9 &  0 &  0 &  0 &  0 & 43.9 & 34 & Minnesota & 74593\\\\\n\t4 & 2022-02-23T15 & 12 & 3 &  3 & 0 &  0 &  0 &  0 &  0 &  0 & 43.9 & 34 & Minnesota & 74593\\\\\n\t5 & 2022-02-23T16 & 19 & 6 & 13 & 0 &  0 &  0 &  0 &  0 &  0 & 43.9 & 34 & Minnesota & 74593\\\\\n\\end{tabular}\n",
            "text/plain": [
              "  Time          ketamine date_rape GHB Rohypnol morning_after_pill roofie\n",
              "1 2022-02-23T12 43       0          0  0        NA                 NA    \n",
              "2 2022-02-23T13 22       0          6  0         0                  9    \n",
              "3 2022-02-23T14 25       3          0  0         9                  0    \n",
              "4 2022-02-23T15 12       3          3  0         0                  0    \n",
              "5 2022-02-23T16 19       6         13  0         0                  0    \n",
              "  pills_to_avoid_preg how_much_is_morning_after_pill been_raped Rapes_per_100k\n",
              "1 NA                  NA                             NA         43.9          \n",
              "2  0                   0                              0         43.9          \n",
              "3  0                   0                              0         43.9          \n",
              "4  0                   0                              0         43.9          \n",
              "5  0                   0                              0         43.9          \n",
              "  church_attendence State     Household_Income\n",
              "1 34                Minnesota 74593           \n",
              "2 34                Minnesota 74593           \n",
              "3 34                Minnesota 74593           \n",
              "4 34                Minnesota 74593           \n",
              "5 34                Minnesota 74593           "
            ]
          },
          "metadata": {}
        }
      ]
    },
    {
      "cell_type": "markdown",
      "source": [
        "## Mississippi"
      ],
      "metadata": {
        "id": "ZZVd7yxApdzH"
      }
    },
    {
      "cell_type": "code",
      "source": [
        "Full <- read.csv(\"/content/Mississippi.csv\", skip=0, header=TRUE)\n",
        "Short <- read.csv(\"/content/MS_2.csv\", skip=0, header=TRUE)\n",
        "combo <- merge(Full,Short, by=\"Time\", all = T)\n",
        "\n",
        "#head(AL_combo,5)\n",
        "# Add FBI crime data\n",
        "combo$Rapes_per_100k <- 43.9 # <<<====\n",
        "# Add weekly church attendence\n",
        "combo$church_attendence <- 34 # <=======\n",
        "# Add State column\n",
        "combo$State <- \"Mississippi\" # <<<========\n",
        "# Add median household income\n",
        "combo$Household_Income <-  74593 # <<<======\n",
        "#drop extraneous cols\n",
        "combo <- combo %>% \n",
        "        select(-c('State.x', 'State.y'))\n",
        "colnames(combo) <- c(\"Time\",\"ketamine\",\"date_rape\",\"GHB\",\"Rohypnol\",\n",
        "                        \"morning_after_pill\",\"roofie\",\"pills_to_avoid_preg\",\n",
        "                       \"how_much_is_morning_after_pill\",\"been_raped\",\"Rapes_per_100k\",\"church_attendence\",\"State\",\"Household_Income\")\n",
        "MS_combo <- combo                       \n",
        "head(MS_combo ,5)"
      ],
      "metadata": {
        "colab": {
          "base_uri": "https://localhost:8080/",
          "height": 448
        },
        "id": "I_IhScJ_ca0i",
        "outputId": "5436a8f9-eacc-478f-cc27-6de2af0d175e"
      },
      "execution_count": 200,
      "outputs": [
        {
          "output_type": "display_data",
          "data": {
            "text/html": [
              "<table class=\"dataframe\">\n",
              "<caption>A data.frame: 5 × 14</caption>\n",
              "<thead>\n",
              "\t<tr><th></th><th scope=col>Time</th><th scope=col>ketamine</th><th scope=col>date_rape</th><th scope=col>GHB</th><th scope=col>Rohypnol</th><th scope=col>morning_after_pill</th><th scope=col>roofie</th><th scope=col>pills_to_avoid_preg</th><th scope=col>how_much_is_morning_after_pill</th><th scope=col>been_raped</th><th scope=col>Rapes_per_100k</th><th scope=col>church_attendence</th><th scope=col>State</th><th scope=col>Household_Income</th></tr>\n",
              "\t<tr><th></th><th scope=col>&lt;chr&gt;</th><th scope=col>&lt;int&gt;</th><th scope=col>&lt;int&gt;</th><th scope=col>&lt;int&gt;</th><th scope=col>&lt;int&gt;</th><th scope=col>&lt;int&gt;</th><th scope=col>&lt;int&gt;</th><th scope=col>&lt;int&gt;</th><th scope=col>&lt;int&gt;</th><th scope=col>&lt;int&gt;</th><th scope=col>&lt;dbl&gt;</th><th scope=col>&lt;dbl&gt;</th><th scope=col>&lt;chr&gt;</th><th scope=col>&lt;dbl&gt;</th></tr>\n",
              "</thead>\n",
              "<tbody>\n",
              "\t<tr><th scope=row>1</th><td>2022-02-23T12</td><td>10</td><td>20</td><td>10</td><td>10</td><td>NA</td><td>NA</td><td>NA</td><td>NA</td><td>NA</td><td>43.9</td><td>34</td><td>Mississippi</td><td>74593</td></tr>\n",
              "\t<tr><th scope=row>2</th><td>2022-02-23T13</td><td> 0</td><td> 0</td><td> 0</td><td> 0</td><td> 0</td><td> 0</td><td> 0</td><td> 0</td><td> 0</td><td>43.9</td><td>34</td><td>Mississippi</td><td>74593</td></tr>\n",
              "\t<tr><th scope=row>3</th><td>2022-02-23T14</td><td>20</td><td> 0</td><td> 0</td><td> 0</td><td> 0</td><td> 0</td><td> 0</td><td> 0</td><td> 0</td><td>43.9</td><td>34</td><td>Mississippi</td><td>74593</td></tr>\n",
              "\t<tr><th scope=row>4</th><td>2022-02-23T15</td><td>20</td><td> 0</td><td>10</td><td> 0</td><td> 0</td><td> 0</td><td> 0</td><td> 0</td><td> 0</td><td>43.9</td><td>34</td><td>Mississippi</td><td>74593</td></tr>\n",
              "\t<tr><th scope=row>5</th><td>2022-02-23T16</td><td>10</td><td> 0</td><td> 0</td><td> 0</td><td> 0</td><td> 0</td><td> 0</td><td> 0</td><td> 0</td><td>43.9</td><td>34</td><td>Mississippi</td><td>74593</td></tr>\n",
              "</tbody>\n",
              "</table>\n"
            ],
            "text/markdown": "\nA data.frame: 5 × 14\n\n| <!--/--> | Time &lt;chr&gt; | ketamine &lt;int&gt; | date_rape &lt;int&gt; | GHB &lt;int&gt; | Rohypnol &lt;int&gt; | morning_after_pill &lt;int&gt; | roofie &lt;int&gt; | pills_to_avoid_preg &lt;int&gt; | how_much_is_morning_after_pill &lt;int&gt; | been_raped &lt;int&gt; | Rapes_per_100k &lt;dbl&gt; | church_attendence &lt;dbl&gt; | State &lt;chr&gt; | Household_Income &lt;dbl&gt; |\n|---|---|---|---|---|---|---|---|---|---|---|---|---|---|---|\n| 1 | 2022-02-23T12 | 10 | 20 | 10 | 10 | NA | NA | NA | NA | NA | 43.9 | 34 | Mississippi | 74593 |\n| 2 | 2022-02-23T13 |  0 |  0 |  0 |  0 |  0 |  0 |  0 |  0 |  0 | 43.9 | 34 | Mississippi | 74593 |\n| 3 | 2022-02-23T14 | 20 |  0 |  0 |  0 |  0 |  0 |  0 |  0 |  0 | 43.9 | 34 | Mississippi | 74593 |\n| 4 | 2022-02-23T15 | 20 |  0 | 10 |  0 |  0 |  0 |  0 |  0 |  0 | 43.9 | 34 | Mississippi | 74593 |\n| 5 | 2022-02-23T16 | 10 |  0 |  0 |  0 |  0 |  0 |  0 |  0 |  0 | 43.9 | 34 | Mississippi | 74593 |\n\n",
            "text/latex": "A data.frame: 5 × 14\n\\begin{tabular}{r|llllllllllllll}\n  & Time & ketamine & date\\_rape & GHB & Rohypnol & morning\\_after\\_pill & roofie & pills\\_to\\_avoid\\_preg & how\\_much\\_is\\_morning\\_after\\_pill & been\\_raped & Rapes\\_per\\_100k & church\\_attendence & State & Household\\_Income\\\\\n  & <chr> & <int> & <int> & <int> & <int> & <int> & <int> & <int> & <int> & <int> & <dbl> & <dbl> & <chr> & <dbl>\\\\\n\\hline\n\t1 & 2022-02-23T12 & 10 & 20 & 10 & 10 & NA & NA & NA & NA & NA & 43.9 & 34 & Mississippi & 74593\\\\\n\t2 & 2022-02-23T13 &  0 &  0 &  0 &  0 &  0 &  0 &  0 &  0 &  0 & 43.9 & 34 & Mississippi & 74593\\\\\n\t3 & 2022-02-23T14 & 20 &  0 &  0 &  0 &  0 &  0 &  0 &  0 &  0 & 43.9 & 34 & Mississippi & 74593\\\\\n\t4 & 2022-02-23T15 & 20 &  0 & 10 &  0 &  0 &  0 &  0 &  0 &  0 & 43.9 & 34 & Mississippi & 74593\\\\\n\t5 & 2022-02-23T16 & 10 &  0 &  0 &  0 &  0 &  0 &  0 &  0 &  0 & 43.9 & 34 & Mississippi & 74593\\\\\n\\end{tabular}\n",
            "text/plain": [
              "  Time          ketamine date_rape GHB Rohypnol morning_after_pill roofie\n",
              "1 2022-02-23T12 10       20        10  10       NA                 NA    \n",
              "2 2022-02-23T13  0        0         0   0        0                  0    \n",
              "3 2022-02-23T14 20        0         0   0        0                  0    \n",
              "4 2022-02-23T15 20        0        10   0        0                  0    \n",
              "5 2022-02-23T16 10        0         0   0        0                  0    \n",
              "  pills_to_avoid_preg how_much_is_morning_after_pill been_raped Rapes_per_100k\n",
              "1 NA                  NA                             NA         43.9          \n",
              "2  0                   0                              0         43.9          \n",
              "3  0                   0                              0         43.9          \n",
              "4  0                   0                              0         43.9          \n",
              "5  0                   0                              0         43.9          \n",
              "  church_attendence State       Household_Income\n",
              "1 34                Mississippi 74593           \n",
              "2 34                Mississippi 74593           \n",
              "3 34                Mississippi 74593           \n",
              "4 34                Mississippi 74593           \n",
              "5 34                Mississippi 74593           "
            ]
          },
          "metadata": {}
        }
      ]
    },
    {
      "cell_type": "markdown",
      "source": [
        "## Missouri"
      ],
      "metadata": {
        "id": "aEaS6CnGpdva"
      }
    },
    {
      "cell_type": "code",
      "source": [
        "MO_2 <- read.csv(\"/content/MO_2.csv\", skip=0, header=TRUE)"
      ],
      "metadata": {
        "id": "RUH6CPZ0GIOh"
      },
      "execution_count": 257,
      "outputs": []
    },
    {
      "cell_type": "code",
      "source": [
        "MO_2$State <- \"Missouri\"\n",
        "head(MO_2)"
      ],
      "metadata": {
        "id": "Hp8WcCfIGVxO"
      },
      "execution_count": null,
      "outputs": []
    },
    {
      "cell_type": "code",
      "source": [
        ""
      ],
      "metadata": {
        "id": "U_OgIiVVGVhK"
      },
      "execution_count": null,
      "outputs": []
    },
    {
      "cell_type": "code",
      "source": [
        "Full <- read.csv(\"/content/Missouri.csv\", skip=0, header=TRUE)\n",
        "Short <- MO_2\n",
        "#Short <- read.csv(\"/content/MO_2.csv\", skip=0, header=TRUE)\n",
        "combo <- merge(Full,Short, by=\"Time\", all = T)\n",
        "\n",
        "#head(AL_combo,5)\n",
        "# Add FBI crime data\n",
        "combo$Rapes_per_100k <- 47.5 # <<<====\n",
        "# Add weekly church attendence\n",
        "combo$church_attendence <- 37 # <=======\n",
        "# Add State column\n",
        "combo$State <- \"Missouri\" # <<<========\n",
        "# Add median household income\n",
        "combo$Household_Income <-  57409 # <<<======\n",
        "#drop extraneous cols\n",
        "combo <- combo %>% \n",
        "        select(-c('State.x', 'State.y'))\n",
        "colnames(combo) <- c(\"Time\",\"ketamine\",\"date_rape\",\"GHB\",\"Rohypnol\",\n",
        "                        \"morning_after_pill\",\"roofie\",\"pills_to_avoid_preg\",\n",
        "                       \"how_much_is_morning_after_pill\",\"been_raped\",\"Rapes_per_100k\",\"church_attendence\",\"State\",\"Household_Income\")\n",
        "MO_combo <- combo                       \n",
        "head(MO_combo ,5)"
      ],
      "metadata": {
        "colab": {
          "base_uri": "https://localhost:8080/",
          "height": 448
        },
        "id": "ZnVPDmMDc8ue",
        "outputId": "c3f010f7-7930-43d8-cb48-6ab4b96393f0"
      },
      "execution_count": 259,
      "outputs": [
        {
          "output_type": "display_data",
          "data": {
            "text/html": [
              "<table class=\"dataframe\">\n",
              "<caption>A data.frame: 5 × 14</caption>\n",
              "<thead>\n",
              "\t<tr><th></th><th scope=col>Time</th><th scope=col>ketamine</th><th scope=col>date_rape</th><th scope=col>GHB</th><th scope=col>Rohypnol</th><th scope=col>morning_after_pill</th><th scope=col>roofie</th><th scope=col>pills_to_avoid_preg</th><th scope=col>how_much_is_morning_after_pill</th><th scope=col>been_raped</th><th scope=col>Rapes_per_100k</th><th scope=col>church_attendence</th><th scope=col>State</th><th scope=col>Household_Income</th></tr>\n",
              "\t<tr><th></th><th scope=col>&lt;chr&gt;</th><th scope=col>&lt;int&gt;</th><th scope=col>&lt;int&gt;</th><th scope=col>&lt;int&gt;</th><th scope=col>&lt;int&gt;</th><th scope=col>&lt;int&gt;</th><th scope=col>&lt;int&gt;</th><th scope=col>&lt;int&gt;</th><th scope=col>&lt;int&gt;</th><th scope=col>&lt;int&gt;</th><th scope=col>&lt;dbl&gt;</th><th scope=col>&lt;dbl&gt;</th><th scope=col>&lt;chr&gt;</th><th scope=col>&lt;dbl&gt;</th></tr>\n",
              "</thead>\n",
              "<tbody>\n",
              "\t<tr><th scope=row>1</th><td>2022-02-23T12</td><td>22</td><td>0</td><td>0</td><td>0</td><td>NA</td><td>NA</td><td>NA</td><td>NA</td><td>NA</td><td>47.5</td><td>37</td><td>Missouri</td><td>57409</td></tr>\n",
              "\t<tr><th scope=row>2</th><td>2022-02-23T13</td><td>15</td><td>3</td><td>0</td><td>0</td><td> 0</td><td> 0</td><td> 0</td><td> 0</td><td> 0</td><td>47.5</td><td>37</td><td>Missouri</td><td>57409</td></tr>\n",
              "\t<tr><th scope=row>3</th><td>2022-02-23T14</td><td>24</td><td>3</td><td>0</td><td>0</td><td> 0</td><td> 0</td><td> 0</td><td> 0</td><td> 0</td><td>47.5</td><td>37</td><td>Missouri</td><td>57409</td></tr>\n",
              "\t<tr><th scope=row>4</th><td>2022-02-23T15</td><td>24</td><td>0</td><td>0</td><td>0</td><td> 0</td><td> 0</td><td> 0</td><td> 0</td><td> 0</td><td>47.5</td><td>37</td><td>Missouri</td><td>57409</td></tr>\n",
              "\t<tr><th scope=row>5</th><td>2022-02-23T16</td><td>16</td><td>3</td><td>3</td><td>0</td><td> 0</td><td> 0</td><td> 0</td><td> 0</td><td> 0</td><td>47.5</td><td>37</td><td>Missouri</td><td>57409</td></tr>\n",
              "</tbody>\n",
              "</table>\n"
            ],
            "text/markdown": "\nA data.frame: 5 × 14\n\n| <!--/--> | Time &lt;chr&gt; | ketamine &lt;int&gt; | date_rape &lt;int&gt; | GHB &lt;int&gt; | Rohypnol &lt;int&gt; | morning_after_pill &lt;int&gt; | roofie &lt;int&gt; | pills_to_avoid_preg &lt;int&gt; | how_much_is_morning_after_pill &lt;int&gt; | been_raped &lt;int&gt; | Rapes_per_100k &lt;dbl&gt; | church_attendence &lt;dbl&gt; | State &lt;chr&gt; | Household_Income &lt;dbl&gt; |\n|---|---|---|---|---|---|---|---|---|---|---|---|---|---|---|\n| 1 | 2022-02-23T12 | 22 | 0 | 0 | 0 | NA | NA | NA | NA | NA | 47.5 | 37 | Missouri | 57409 |\n| 2 | 2022-02-23T13 | 15 | 3 | 0 | 0 |  0 |  0 |  0 |  0 |  0 | 47.5 | 37 | Missouri | 57409 |\n| 3 | 2022-02-23T14 | 24 | 3 | 0 | 0 |  0 |  0 |  0 |  0 |  0 | 47.5 | 37 | Missouri | 57409 |\n| 4 | 2022-02-23T15 | 24 | 0 | 0 | 0 |  0 |  0 |  0 |  0 |  0 | 47.5 | 37 | Missouri | 57409 |\n| 5 | 2022-02-23T16 | 16 | 3 | 3 | 0 |  0 |  0 |  0 |  0 |  0 | 47.5 | 37 | Missouri | 57409 |\n\n",
            "text/latex": "A data.frame: 5 × 14\n\\begin{tabular}{r|llllllllllllll}\n  & Time & ketamine & date\\_rape & GHB & Rohypnol & morning\\_after\\_pill & roofie & pills\\_to\\_avoid\\_preg & how\\_much\\_is\\_morning\\_after\\_pill & been\\_raped & Rapes\\_per\\_100k & church\\_attendence & State & Household\\_Income\\\\\n  & <chr> & <int> & <int> & <int> & <int> & <int> & <int> & <int> & <int> & <int> & <dbl> & <dbl> & <chr> & <dbl>\\\\\n\\hline\n\t1 & 2022-02-23T12 & 22 & 0 & 0 & 0 & NA & NA & NA & NA & NA & 47.5 & 37 & Missouri & 57409\\\\\n\t2 & 2022-02-23T13 & 15 & 3 & 0 & 0 &  0 &  0 &  0 &  0 &  0 & 47.5 & 37 & Missouri & 57409\\\\\n\t3 & 2022-02-23T14 & 24 & 3 & 0 & 0 &  0 &  0 &  0 &  0 &  0 & 47.5 & 37 & Missouri & 57409\\\\\n\t4 & 2022-02-23T15 & 24 & 0 & 0 & 0 &  0 &  0 &  0 &  0 &  0 & 47.5 & 37 & Missouri & 57409\\\\\n\t5 & 2022-02-23T16 & 16 & 3 & 3 & 0 &  0 &  0 &  0 &  0 &  0 & 47.5 & 37 & Missouri & 57409\\\\\n\\end{tabular}\n",
            "text/plain": [
              "  Time          ketamine date_rape GHB Rohypnol morning_after_pill roofie\n",
              "1 2022-02-23T12 22       0         0   0        NA                 NA    \n",
              "2 2022-02-23T13 15       3         0   0         0                  0    \n",
              "3 2022-02-23T14 24       3         0   0         0                  0    \n",
              "4 2022-02-23T15 24       0         0   0         0                  0    \n",
              "5 2022-02-23T16 16       3         3   0         0                  0    \n",
              "  pills_to_avoid_preg how_much_is_morning_after_pill been_raped Rapes_per_100k\n",
              "1 NA                  NA                             NA         47.5          \n",
              "2  0                   0                              0         47.5          \n",
              "3  0                   0                              0         47.5          \n",
              "4  0                   0                              0         47.5          \n",
              "5  0                   0                              0         47.5          \n",
              "  church_attendence State    Household_Income\n",
              "1 37                Missouri 57409           \n",
              "2 37                Missouri 57409           \n",
              "3 37                Missouri 57409           \n",
              "4 37                Missouri 57409           \n",
              "5 37                Missouri 57409           "
            ]
          },
          "metadata": {}
        }
      ]
    },
    {
      "cell_type": "code",
      "source": [
        "MO_combo[ , ]"
      ],
      "metadata": {
        "id": "BHB28lPVE4NI"
      },
      "execution_count": null,
      "outputs": []
    },
    {
      "cell_type": "markdown",
      "source": [
        "## Montana"
      ],
      "metadata": {
        "id": "BNYcVXUspdrs"
      }
    },
    {
      "cell_type": "code",
      "source": [
        "Full <- read.csv(\"/content/Montana.csv\", skip=0, header=TRUE)\n",
        "Short <- read.csv(\"/content/MT_2.csv\", skip=0, header=TRUE)\n",
        "combo <- merge(Full,Short, by=\"Time\", all = T)\n",
        "\n",
        "#head(AL_combo,5)\n",
        "# Add FBI crime data\n",
        "combo$Rapes_per_100k <- 51.9 # <<<====\n",
        "# Add weekly church attendence\n",
        "combo$church_attendence <- 31 # <=======\n",
        "# Add State column\n",
        "combo$State <- \"Montana\" # <<<========\n",
        "# Add median household income\n",
        "combo$Household_Income <-  57153 # <<<======\n",
        "#drop extraneous cols\n",
        "combo <- combo %>% \n",
        "        select(-c('State.x', 'State.y'))\n",
        "colnames(combo) <- c(\"Time\",\"ketamine\",\"date_rape\",\"GHB\",\"Rohypnol\",\n",
        "                        \"morning_after_pill\",\"roofie\",\"pills_to_avoid_preg\",\n",
        "                       \"how_much_is_morning_after_pill\",\"been_raped\",\"Rapes_per_100k\",\"church_attendence\",\"State\",\"Household_Income\")\n",
        "MT_combo <- combo                       \n",
        "head(MT_combo ,5)"
      ],
      "metadata": {
        "colab": {
          "base_uri": "https://localhost:8080/",
          "height": 448
        },
        "id": "6go0325nkUW1",
        "outputId": "1a53071f-ce62-4ac6-b656-250e877ea607"
      },
      "execution_count": 202,
      "outputs": [
        {
          "output_type": "display_data",
          "data": {
            "text/html": [
              "<table class=\"dataframe\">\n",
              "<caption>A data.frame: 5 × 14</caption>\n",
              "<thead>\n",
              "\t<tr><th></th><th scope=col>Time</th><th scope=col>ketamine</th><th scope=col>date_rape</th><th scope=col>GHB</th><th scope=col>Rohypnol</th><th scope=col>morning_after_pill</th><th scope=col>roofie</th><th scope=col>pills_to_avoid_preg</th><th scope=col>how_much_is_morning_after_pill</th><th scope=col>been_raped</th><th scope=col>Rapes_per_100k</th><th scope=col>church_attendence</th><th scope=col>State</th><th scope=col>Household_Income</th></tr>\n",
              "\t<tr><th></th><th scope=col>&lt;chr&gt;</th><th scope=col>&lt;int&gt;</th><th scope=col>&lt;int&gt;</th><th scope=col>&lt;int&gt;</th><th scope=col>&lt;int&gt;</th><th scope=col>&lt;int&gt;</th><th scope=col>&lt;int&gt;</th><th scope=col>&lt;int&gt;</th><th scope=col>&lt;int&gt;</th><th scope=col>&lt;int&gt;</th><th scope=col>&lt;dbl&gt;</th><th scope=col>&lt;dbl&gt;</th><th scope=col>&lt;chr&gt;</th><th scope=col>&lt;dbl&gt;</th></tr>\n",
              "</thead>\n",
              "<tbody>\n",
              "\t<tr><th scope=row>1</th><td>2022-02-23T12</td><td>0</td><td>0</td><td>0</td><td>0</td><td>NA</td><td>NA</td><td>NA</td><td>NA</td><td>NA</td><td>51.9</td><td>31</td><td>Montana</td><td>57153</td></tr>\n",
              "\t<tr><th scope=row>2</th><td>2022-02-23T13</td><td>8</td><td>0</td><td>0</td><td>0</td><td> 0</td><td> 0</td><td> 0</td><td> 0</td><td> 0</td><td>51.9</td><td>31</td><td>Montana</td><td>57153</td></tr>\n",
              "\t<tr><th scope=row>3</th><td>2022-02-23T14</td><td>0</td><td>0</td><td>0</td><td>8</td><td> 0</td><td> 0</td><td> 0</td><td> 0</td><td> 0</td><td>51.9</td><td>31</td><td>Montana</td><td>57153</td></tr>\n",
              "\t<tr><th scope=row>4</th><td>2022-02-23T15</td><td>0</td><td>0</td><td>0</td><td>0</td><td> 0</td><td> 0</td><td> 0</td><td> 0</td><td> 0</td><td>51.9</td><td>31</td><td>Montana</td><td>57153</td></tr>\n",
              "\t<tr><th scope=row>5</th><td>2022-02-23T16</td><td>0</td><td>0</td><td>7</td><td>0</td><td> 0</td><td> 0</td><td> 0</td><td> 0</td><td> 0</td><td>51.9</td><td>31</td><td>Montana</td><td>57153</td></tr>\n",
              "</tbody>\n",
              "</table>\n"
            ],
            "text/markdown": "\nA data.frame: 5 × 14\n\n| <!--/--> | Time &lt;chr&gt; | ketamine &lt;int&gt; | date_rape &lt;int&gt; | GHB &lt;int&gt; | Rohypnol &lt;int&gt; | morning_after_pill &lt;int&gt; | roofie &lt;int&gt; | pills_to_avoid_preg &lt;int&gt; | how_much_is_morning_after_pill &lt;int&gt; | been_raped &lt;int&gt; | Rapes_per_100k &lt;dbl&gt; | church_attendence &lt;dbl&gt; | State &lt;chr&gt; | Household_Income &lt;dbl&gt; |\n|---|---|---|---|---|---|---|---|---|---|---|---|---|---|---|\n| 1 | 2022-02-23T12 | 0 | 0 | 0 | 0 | NA | NA | NA | NA | NA | 51.9 | 31 | Montana | 57153 |\n| 2 | 2022-02-23T13 | 8 | 0 | 0 | 0 |  0 |  0 |  0 |  0 |  0 | 51.9 | 31 | Montana | 57153 |\n| 3 | 2022-02-23T14 | 0 | 0 | 0 | 8 |  0 |  0 |  0 |  0 |  0 | 51.9 | 31 | Montana | 57153 |\n| 4 | 2022-02-23T15 | 0 | 0 | 0 | 0 |  0 |  0 |  0 |  0 |  0 | 51.9 | 31 | Montana | 57153 |\n| 5 | 2022-02-23T16 | 0 | 0 | 7 | 0 |  0 |  0 |  0 |  0 |  0 | 51.9 | 31 | Montana | 57153 |\n\n",
            "text/latex": "A data.frame: 5 × 14\n\\begin{tabular}{r|llllllllllllll}\n  & Time & ketamine & date\\_rape & GHB & Rohypnol & morning\\_after\\_pill & roofie & pills\\_to\\_avoid\\_preg & how\\_much\\_is\\_morning\\_after\\_pill & been\\_raped & Rapes\\_per\\_100k & church\\_attendence & State & Household\\_Income\\\\\n  & <chr> & <int> & <int> & <int> & <int> & <int> & <int> & <int> & <int> & <int> & <dbl> & <dbl> & <chr> & <dbl>\\\\\n\\hline\n\t1 & 2022-02-23T12 & 0 & 0 & 0 & 0 & NA & NA & NA & NA & NA & 51.9 & 31 & Montana & 57153\\\\\n\t2 & 2022-02-23T13 & 8 & 0 & 0 & 0 &  0 &  0 &  0 &  0 &  0 & 51.9 & 31 & Montana & 57153\\\\\n\t3 & 2022-02-23T14 & 0 & 0 & 0 & 8 &  0 &  0 &  0 &  0 &  0 & 51.9 & 31 & Montana & 57153\\\\\n\t4 & 2022-02-23T15 & 0 & 0 & 0 & 0 &  0 &  0 &  0 &  0 &  0 & 51.9 & 31 & Montana & 57153\\\\\n\t5 & 2022-02-23T16 & 0 & 0 & 7 & 0 &  0 &  0 &  0 &  0 &  0 & 51.9 & 31 & Montana & 57153\\\\\n\\end{tabular}\n",
            "text/plain": [
              "  Time          ketamine date_rape GHB Rohypnol morning_after_pill roofie\n",
              "1 2022-02-23T12 0        0         0   0        NA                 NA    \n",
              "2 2022-02-23T13 8        0         0   0         0                  0    \n",
              "3 2022-02-23T14 0        0         0   8         0                  0    \n",
              "4 2022-02-23T15 0        0         0   0         0                  0    \n",
              "5 2022-02-23T16 0        0         7   0         0                  0    \n",
              "  pills_to_avoid_preg how_much_is_morning_after_pill been_raped Rapes_per_100k\n",
              "1 NA                  NA                             NA         51.9          \n",
              "2  0                   0                              0         51.9          \n",
              "3  0                   0                              0         51.9          \n",
              "4  0                   0                              0         51.9          \n",
              "5  0                   0                              0         51.9          \n",
              "  church_attendence State   Household_Income\n",
              "1 31                Montana 57153           \n",
              "2 31                Montana 57153           \n",
              "3 31                Montana 57153           \n",
              "4 31                Montana 57153           \n",
              "5 31                Montana 57153           "
            ]
          },
          "metadata": {}
        }
      ]
    },
    {
      "cell_type": "markdown",
      "source": [
        "## Nebraska"
      ],
      "metadata": {
        "id": "Ks-r5ojVpdnq"
      }
    },
    {
      "cell_type": "code",
      "source": [
        "Full <- read.csv(\"/content/Nebraska.csv\", skip=0, header=TRUE)\n",
        "Short <- read.csv(\"/content/NE_2.csv\", skip=0, header=TRUE)\n",
        "combo <- merge(Full,Short, by=\"Time\", all = T)\n",
        "\n",
        "#head(AL_combo,5)\n",
        "# Add FBI crime data\n",
        "combo$Rapes_per_100k <- 51.9 # <<<====\n",
        "# Add weekly church attendence\n",
        "combo$church_attendence <- 31 # <=======\n",
        "# Add State column\n",
        "combo$State <- \"Nebraska\" # <<<========\n",
        "# Add median household income\n",
        "combo$Household_Income <-  57153 # <<<======\n",
        "#drop extraneous cols\n",
        "combo <- combo %>% \n",
        "        select(-c('State.x', 'State.y'))\n",
        "colnames(combo) <- c(\"Time\",\"ketamine\",\"date_rape\",\"GHB\",\"Rohypnol\",\n",
        "                        \"morning_after_pill\",\"roofie\",\"pills_to_avoid_preg\",\n",
        "                       \"how_much_is_morning_after_pill\",\"been_raped\",\"Rapes_per_100k\",\"church_attendence\",\"State\",\"Household_Income\")\n",
        "NE_combo <- combo                       \n",
        "head(NE_combo ,5)"
      ],
      "metadata": {
        "colab": {
          "base_uri": "https://localhost:8080/",
          "height": 448
        },
        "id": "CeJWG4v3lVY0",
        "outputId": "a4c6c569-39ef-4cfc-a87c-321eed4faefd"
      },
      "execution_count": 203,
      "outputs": [
        {
          "output_type": "display_data",
          "data": {
            "text/html": [
              "<table class=\"dataframe\">\n",
              "<caption>A data.frame: 5 × 14</caption>\n",
              "<thead>\n",
              "\t<tr><th></th><th scope=col>Time</th><th scope=col>ketamine</th><th scope=col>date_rape</th><th scope=col>GHB</th><th scope=col>Rohypnol</th><th scope=col>morning_after_pill</th><th scope=col>roofie</th><th scope=col>pills_to_avoid_preg</th><th scope=col>how_much_is_morning_after_pill</th><th scope=col>been_raped</th><th scope=col>Rapes_per_100k</th><th scope=col>church_attendence</th><th scope=col>State</th><th scope=col>Household_Income</th></tr>\n",
              "\t<tr><th></th><th scope=col>&lt;chr&gt;</th><th scope=col>&lt;int&gt;</th><th scope=col>&lt;int&gt;</th><th scope=col>&lt;int&gt;</th><th scope=col>&lt;int&gt;</th><th scope=col>&lt;int&gt;</th><th scope=col>&lt;int&gt;</th><th scope=col>&lt;int&gt;</th><th scope=col>&lt;int&gt;</th><th scope=col>&lt;int&gt;</th><th scope=col>&lt;dbl&gt;</th><th scope=col>&lt;dbl&gt;</th><th scope=col>&lt;chr&gt;</th><th scope=col>&lt;dbl&gt;</th></tr>\n",
              "</thead>\n",
              "<tbody>\n",
              "\t<tr><th scope=row>1</th><td>2022-02-23T12</td><td> 6</td><td>0</td><td>0</td><td>0</td><td>NA</td><td>NA</td><td>NA</td><td>NA</td><td>NA</td><td>51.9</td><td>31</td><td>Nebraska</td><td>57153</td></tr>\n",
              "\t<tr><th scope=row>2</th><td>2022-02-23T13</td><td> 0</td><td>0</td><td>0</td><td>0</td><td> 0</td><td> 0</td><td> 0</td><td> 0</td><td> 0</td><td>51.9</td><td>31</td><td>Nebraska</td><td>57153</td></tr>\n",
              "\t<tr><th scope=row>3</th><td>2022-02-23T14</td><td> 0</td><td>0</td><td>0</td><td>0</td><td> 0</td><td> 0</td><td> 0</td><td> 0</td><td> 0</td><td>51.9</td><td>31</td><td>Nebraska</td><td>57153</td></tr>\n",
              "\t<tr><th scope=row>4</th><td>2022-02-23T15</td><td> 6</td><td>0</td><td>0</td><td>0</td><td> 8</td><td> 0</td><td> 0</td><td> 0</td><td> 0</td><td>51.9</td><td>31</td><td>Nebraska</td><td>57153</td></tr>\n",
              "\t<tr><th scope=row>5</th><td>2022-02-23T16</td><td>37</td><td>0</td><td>0</td><td>0</td><td> 8</td><td> 0</td><td> 0</td><td> 0</td><td> 0</td><td>51.9</td><td>31</td><td>Nebraska</td><td>57153</td></tr>\n",
              "</tbody>\n",
              "</table>\n"
            ],
            "text/markdown": "\nA data.frame: 5 × 14\n\n| <!--/--> | Time &lt;chr&gt; | ketamine &lt;int&gt; | date_rape &lt;int&gt; | GHB &lt;int&gt; | Rohypnol &lt;int&gt; | morning_after_pill &lt;int&gt; | roofie &lt;int&gt; | pills_to_avoid_preg &lt;int&gt; | how_much_is_morning_after_pill &lt;int&gt; | been_raped &lt;int&gt; | Rapes_per_100k &lt;dbl&gt; | church_attendence &lt;dbl&gt; | State &lt;chr&gt; | Household_Income &lt;dbl&gt; |\n|---|---|---|---|---|---|---|---|---|---|---|---|---|---|---|\n| 1 | 2022-02-23T12 |  6 | 0 | 0 | 0 | NA | NA | NA | NA | NA | 51.9 | 31 | Nebraska | 57153 |\n| 2 | 2022-02-23T13 |  0 | 0 | 0 | 0 |  0 |  0 |  0 |  0 |  0 | 51.9 | 31 | Nebraska | 57153 |\n| 3 | 2022-02-23T14 |  0 | 0 | 0 | 0 |  0 |  0 |  0 |  0 |  0 | 51.9 | 31 | Nebraska | 57153 |\n| 4 | 2022-02-23T15 |  6 | 0 | 0 | 0 |  8 |  0 |  0 |  0 |  0 | 51.9 | 31 | Nebraska | 57153 |\n| 5 | 2022-02-23T16 | 37 | 0 | 0 | 0 |  8 |  0 |  0 |  0 |  0 | 51.9 | 31 | Nebraska | 57153 |\n\n",
            "text/latex": "A data.frame: 5 × 14\n\\begin{tabular}{r|llllllllllllll}\n  & Time & ketamine & date\\_rape & GHB & Rohypnol & morning\\_after\\_pill & roofie & pills\\_to\\_avoid\\_preg & how\\_much\\_is\\_morning\\_after\\_pill & been\\_raped & Rapes\\_per\\_100k & church\\_attendence & State & Household\\_Income\\\\\n  & <chr> & <int> & <int> & <int> & <int> & <int> & <int> & <int> & <int> & <int> & <dbl> & <dbl> & <chr> & <dbl>\\\\\n\\hline\n\t1 & 2022-02-23T12 &  6 & 0 & 0 & 0 & NA & NA & NA & NA & NA & 51.9 & 31 & Nebraska & 57153\\\\\n\t2 & 2022-02-23T13 &  0 & 0 & 0 & 0 &  0 &  0 &  0 &  0 &  0 & 51.9 & 31 & Nebraska & 57153\\\\\n\t3 & 2022-02-23T14 &  0 & 0 & 0 & 0 &  0 &  0 &  0 &  0 &  0 & 51.9 & 31 & Nebraska & 57153\\\\\n\t4 & 2022-02-23T15 &  6 & 0 & 0 & 0 &  8 &  0 &  0 &  0 &  0 & 51.9 & 31 & Nebraska & 57153\\\\\n\t5 & 2022-02-23T16 & 37 & 0 & 0 & 0 &  8 &  0 &  0 &  0 &  0 & 51.9 & 31 & Nebraska & 57153\\\\\n\\end{tabular}\n",
            "text/plain": [
              "  Time          ketamine date_rape GHB Rohypnol morning_after_pill roofie\n",
              "1 2022-02-23T12  6       0         0   0        NA                 NA    \n",
              "2 2022-02-23T13  0       0         0   0         0                  0    \n",
              "3 2022-02-23T14  0       0         0   0         0                  0    \n",
              "4 2022-02-23T15  6       0         0   0         8                  0    \n",
              "5 2022-02-23T16 37       0         0   0         8                  0    \n",
              "  pills_to_avoid_preg how_much_is_morning_after_pill been_raped Rapes_per_100k\n",
              "1 NA                  NA                             NA         51.9          \n",
              "2  0                   0                              0         51.9          \n",
              "3  0                   0                              0         51.9          \n",
              "4  0                   0                              0         51.9          \n",
              "5  0                   0                              0         51.9          \n",
              "  church_attendence State    Household_Income\n",
              "1 31                Nebraska 57153           \n",
              "2 31                Nebraska 57153           \n",
              "3 31                Nebraska 57153           \n",
              "4 31                Nebraska 57153           \n",
              "5 31                Nebraska 57153           "
            ]
          },
          "metadata": {}
        }
      ]
    },
    {
      "cell_type": "markdown",
      "source": [
        "## Nevada"
      ],
      "metadata": {
        "id": "Or_tWpIMpdkZ"
      }
    },
    {
      "cell_type": "code",
      "source": [
        "Full <- read.csv(\"/content/Nevada.csv\", skip=0, header=TRUE)\n",
        "Short <- read.csv(\"/content/NE_2.csv\", skip=0, header=TRUE)\n",
        "combo <- merge(Full,Short, by=\"Time\", all = T)\n",
        "\n",
        "#head(AL_combo,5)\n",
        "# Add FBI crime data\n",
        "combo$Rapes_per_100k <- 51.9 # <<<====\n",
        "# Add weekly church attendence\n",
        "combo$church_attendence <- 31 # <=======\n",
        "# Add State column\n",
        "combo$State <- \"Nevada\" # <<<========\n",
        "# Add median household income\n",
        "combo$Household_Income <-  57153 # <<<======\n",
        "#drop extraneous cols\n",
        "combo <- combo %>% \n",
        "        select(-c('State.x', 'State.y'))\n",
        "colnames(combo) <- c(\"Time\",\"ketamine\",\"date_rape\",\"GHB\",\"Rohypnol\",\n",
        "                        \"morning_after_pill\",\"roofie\",\"pills_to_avoid_preg\",\n",
        "                       \"how_much_is_morning_after_pill\",\"been_raped\",\"Rapes_per_100k\",\"church_attendence\",\"State\",\"Household_Income\")\n",
        "NV_combo <- combo                       \n",
        "head(NV_combo ,5)"
      ],
      "metadata": {
        "colab": {
          "base_uri": "https://localhost:8080/",
          "height": 448
        },
        "id": "PybYsQN_lm8E",
        "outputId": "d490762c-0ee7-470c-cf5f-f2c0d6d58236"
      },
      "execution_count": 204,
      "outputs": [
        {
          "output_type": "display_data",
          "data": {
            "text/html": [
              "<table class=\"dataframe\">\n",
              "<caption>A data.frame: 5 × 14</caption>\n",
              "<thead>\n",
              "\t<tr><th></th><th scope=col>Time</th><th scope=col>ketamine</th><th scope=col>date_rape</th><th scope=col>GHB</th><th scope=col>Rohypnol</th><th scope=col>morning_after_pill</th><th scope=col>roofie</th><th scope=col>pills_to_avoid_preg</th><th scope=col>how_much_is_morning_after_pill</th><th scope=col>been_raped</th><th scope=col>Rapes_per_100k</th><th scope=col>church_attendence</th><th scope=col>State</th><th scope=col>Household_Income</th></tr>\n",
              "\t<tr><th></th><th scope=col>&lt;chr&gt;</th><th scope=col>&lt;int&gt;</th><th scope=col>&lt;int&gt;</th><th scope=col>&lt;int&gt;</th><th scope=col>&lt;int&gt;</th><th scope=col>&lt;int&gt;</th><th scope=col>&lt;int&gt;</th><th scope=col>&lt;int&gt;</th><th scope=col>&lt;int&gt;</th><th scope=col>&lt;int&gt;</th><th scope=col>&lt;dbl&gt;</th><th scope=col>&lt;dbl&gt;</th><th scope=col>&lt;chr&gt;</th><th scope=col>&lt;dbl&gt;</th></tr>\n",
              "</thead>\n",
              "<tbody>\n",
              "\t<tr><th scope=row>1</th><td>2022-02-23T12</td><td>10</td><td>5</td><td> 0</td><td>0</td><td>NA</td><td>NA</td><td>NA</td><td>NA</td><td>NA</td><td>51.9</td><td>31</td><td>Nevada</td><td>57153</td></tr>\n",
              "\t<tr><th scope=row>2</th><td>2022-02-23T13</td><td> 0</td><td>0</td><td>14</td><td>0</td><td> 0</td><td> 0</td><td> 0</td><td> 0</td><td> 0</td><td>51.9</td><td>31</td><td>Nevada</td><td>57153</td></tr>\n",
              "\t<tr><th scope=row>3</th><td>2022-02-23T14</td><td>10</td><td>0</td><td> 5</td><td>0</td><td> 0</td><td> 0</td><td> 0</td><td> 0</td><td> 0</td><td>51.9</td><td>31</td><td>Nevada</td><td>57153</td></tr>\n",
              "\t<tr><th scope=row>4</th><td>2022-02-23T15</td><td>10</td><td>0</td><td> 0</td><td>0</td><td> 8</td><td> 0</td><td> 0</td><td> 0</td><td> 0</td><td>51.9</td><td>31</td><td>Nevada</td><td>57153</td></tr>\n",
              "\t<tr><th scope=row>5</th><td>2022-02-23T16</td><td>10</td><td>0</td><td> 9</td><td>0</td><td> 8</td><td> 0</td><td> 0</td><td> 0</td><td> 0</td><td>51.9</td><td>31</td><td>Nevada</td><td>57153</td></tr>\n",
              "</tbody>\n",
              "</table>\n"
            ],
            "text/markdown": "\nA data.frame: 5 × 14\n\n| <!--/--> | Time &lt;chr&gt; | ketamine &lt;int&gt; | date_rape &lt;int&gt; | GHB &lt;int&gt; | Rohypnol &lt;int&gt; | morning_after_pill &lt;int&gt; | roofie &lt;int&gt; | pills_to_avoid_preg &lt;int&gt; | how_much_is_morning_after_pill &lt;int&gt; | been_raped &lt;int&gt; | Rapes_per_100k &lt;dbl&gt; | church_attendence &lt;dbl&gt; | State &lt;chr&gt; | Household_Income &lt;dbl&gt; |\n|---|---|---|---|---|---|---|---|---|---|---|---|---|---|---|\n| 1 | 2022-02-23T12 | 10 | 5 |  0 | 0 | NA | NA | NA | NA | NA | 51.9 | 31 | Nevada | 57153 |\n| 2 | 2022-02-23T13 |  0 | 0 | 14 | 0 |  0 |  0 |  0 |  0 |  0 | 51.9 | 31 | Nevada | 57153 |\n| 3 | 2022-02-23T14 | 10 | 0 |  5 | 0 |  0 |  0 |  0 |  0 |  0 | 51.9 | 31 | Nevada | 57153 |\n| 4 | 2022-02-23T15 | 10 | 0 |  0 | 0 |  8 |  0 |  0 |  0 |  0 | 51.9 | 31 | Nevada | 57153 |\n| 5 | 2022-02-23T16 | 10 | 0 |  9 | 0 |  8 |  0 |  0 |  0 |  0 | 51.9 | 31 | Nevada | 57153 |\n\n",
            "text/latex": "A data.frame: 5 × 14\n\\begin{tabular}{r|llllllllllllll}\n  & Time & ketamine & date\\_rape & GHB & Rohypnol & morning\\_after\\_pill & roofie & pills\\_to\\_avoid\\_preg & how\\_much\\_is\\_morning\\_after\\_pill & been\\_raped & Rapes\\_per\\_100k & church\\_attendence & State & Household\\_Income\\\\\n  & <chr> & <int> & <int> & <int> & <int> & <int> & <int> & <int> & <int> & <int> & <dbl> & <dbl> & <chr> & <dbl>\\\\\n\\hline\n\t1 & 2022-02-23T12 & 10 & 5 &  0 & 0 & NA & NA & NA & NA & NA & 51.9 & 31 & Nevada & 57153\\\\\n\t2 & 2022-02-23T13 &  0 & 0 & 14 & 0 &  0 &  0 &  0 &  0 &  0 & 51.9 & 31 & Nevada & 57153\\\\\n\t3 & 2022-02-23T14 & 10 & 0 &  5 & 0 &  0 &  0 &  0 &  0 &  0 & 51.9 & 31 & Nevada & 57153\\\\\n\t4 & 2022-02-23T15 & 10 & 0 &  0 & 0 &  8 &  0 &  0 &  0 &  0 & 51.9 & 31 & Nevada & 57153\\\\\n\t5 & 2022-02-23T16 & 10 & 0 &  9 & 0 &  8 &  0 &  0 &  0 &  0 & 51.9 & 31 & Nevada & 57153\\\\\n\\end{tabular}\n",
            "text/plain": [
              "  Time          ketamine date_rape GHB Rohypnol morning_after_pill roofie\n",
              "1 2022-02-23T12 10       5          0  0        NA                 NA    \n",
              "2 2022-02-23T13  0       0         14  0         0                  0    \n",
              "3 2022-02-23T14 10       0          5  0         0                  0    \n",
              "4 2022-02-23T15 10       0          0  0         8                  0    \n",
              "5 2022-02-23T16 10       0          9  0         8                  0    \n",
              "  pills_to_avoid_preg how_much_is_morning_after_pill been_raped Rapes_per_100k\n",
              "1 NA                  NA                             NA         51.9          \n",
              "2  0                   0                              0         51.9          \n",
              "3  0                   0                              0         51.9          \n",
              "4  0                   0                              0         51.9          \n",
              "5  0                   0                              0         51.9          \n",
              "  church_attendence State  Household_Income\n",
              "1 31                Nevada 57153           \n",
              "2 31                Nevada 57153           \n",
              "3 31                Nevada 57153           \n",
              "4 31                Nevada 57153           \n",
              "5 31                Nevada 57153           "
            ]
          },
          "metadata": {}
        }
      ]
    },
    {
      "cell_type": "markdown",
      "source": [
        " ## New Hampshire"
      ],
      "metadata": {
        "id": "JG9Y2_b2pdgP"
      }
    },
    {
      "cell_type": "code",
      "source": [
        "Full <- read.csv(\"/content/NewHampshire.csv\", skip=0, header=TRUE)\n",
        "Short <- read.csv(\"/content/NH_2.csv\", skip=0, header=TRUE)\n",
        "combo <- merge(Full,Short, by=\"Time\", all = T)\n",
        "\n",
        "#head(AL_combo,5)\n",
        "# Add FBI crime data\n",
        "combo$Rapes_per_100k <- 39.4 # <<<====\n",
        "# Add weekly church attendence\n",
        "combo$church_attendence <- 22 # <=======\n",
        "# Add State column\n",
        "combo$State <- \"NewHampshire\" # <<<========\n",
        "# Add median household income\n",
        "combo$Household_Income <-  77933 # <<<======\n",
        "#drop extraneous cols\n",
        "combo <- combo %>% \n",
        "        select(-c('State.x', 'State.y'))\n",
        "colnames(combo) <- c(\"Time\",\"ketamine\",\"date_rape\",\"GHB\",\"Rohypnol\",\n",
        "                        \"morning_after_pill\",\"roofie\",\"pills_to_avoid_preg\",\n",
        "                       \"how_much_is_morning_after_pill\",\"been_raped\",\"Rapes_per_100k\",\"church_attendence\",\"State\",\"Household_Income\")\n",
        "NH_combo <- combo                       \n",
        "head(NH_combo ,5)"
      ],
      "metadata": {
        "colab": {
          "base_uri": "https://localhost:8080/",
          "height": 448
        },
        "id": "fc9C1pFql6OC",
        "outputId": "0767a9a7-d18b-49a3-fb09-a031d29b5b3f"
      },
      "execution_count": 205,
      "outputs": [
        {
          "output_type": "display_data",
          "data": {
            "text/html": [
              "<table class=\"dataframe\">\n",
              "<caption>A data.frame: 5 × 14</caption>\n",
              "<thead>\n",
              "\t<tr><th></th><th scope=col>Time</th><th scope=col>ketamine</th><th scope=col>date_rape</th><th scope=col>GHB</th><th scope=col>Rohypnol</th><th scope=col>morning_after_pill</th><th scope=col>roofie</th><th scope=col>pills_to_avoid_preg</th><th scope=col>how_much_is_morning_after_pill</th><th scope=col>been_raped</th><th scope=col>Rapes_per_100k</th><th scope=col>church_attendence</th><th scope=col>State</th><th scope=col>Household_Income</th></tr>\n",
              "\t<tr><th></th><th scope=col>&lt;chr&gt;</th><th scope=col>&lt;int&gt;</th><th scope=col>&lt;int&gt;</th><th scope=col>&lt;int&gt;</th><th scope=col>&lt;int&gt;</th><th scope=col>&lt;int&gt;</th><th scope=col>&lt;int&gt;</th><th scope=col>&lt;int&gt;</th><th scope=col>&lt;int&gt;</th><th scope=col>&lt;int&gt;</th><th scope=col>&lt;dbl&gt;</th><th scope=col>&lt;dbl&gt;</th><th scope=col>&lt;chr&gt;</th><th scope=col>&lt;dbl&gt;</th></tr>\n",
              "</thead>\n",
              "<tbody>\n",
              "\t<tr><th scope=row>1</th><td>2022-02-23T12</td><td> 0</td><td>0</td><td> 0</td><td>0</td><td>NA</td><td>NA</td><td>NA</td><td>NA</td><td>NA</td><td>39.4</td><td>22</td><td>NewHampshire</td><td>77933</td></tr>\n",
              "\t<tr><th scope=row>2</th><td>2022-02-23T13</td><td> 0</td><td>0</td><td> 0</td><td>0</td><td> 0</td><td> 0</td><td> 0</td><td> 0</td><td> 0</td><td>39.4</td><td>22</td><td>NewHampshire</td><td>77933</td></tr>\n",
              "\t<tr><th scope=row>3</th><td>2022-02-23T14</td><td> 0</td><td>0</td><td> 8</td><td>0</td><td> 0</td><td> 0</td><td> 0</td><td> 0</td><td> 0</td><td>39.4</td><td>22</td><td>NewHampshire</td><td>77933</td></tr>\n",
              "\t<tr><th scope=row>4</th><td>2022-02-23T15</td><td> 9</td><td>0</td><td> 0</td><td>8</td><td> 0</td><td> 0</td><td> 0</td><td> 0</td><td> 0</td><td>39.4</td><td>22</td><td>NewHampshire</td><td>77933</td></tr>\n",
              "\t<tr><th scope=row>5</th><td>2022-02-23T16</td><td>25</td><td>0</td><td>16</td><td>0</td><td> 0</td><td> 0</td><td> 0</td><td> 0</td><td> 0</td><td>39.4</td><td>22</td><td>NewHampshire</td><td>77933</td></tr>\n",
              "</tbody>\n",
              "</table>\n"
            ],
            "text/markdown": "\nA data.frame: 5 × 14\n\n| <!--/--> | Time &lt;chr&gt; | ketamine &lt;int&gt; | date_rape &lt;int&gt; | GHB &lt;int&gt; | Rohypnol &lt;int&gt; | morning_after_pill &lt;int&gt; | roofie &lt;int&gt; | pills_to_avoid_preg &lt;int&gt; | how_much_is_morning_after_pill &lt;int&gt; | been_raped &lt;int&gt; | Rapes_per_100k &lt;dbl&gt; | church_attendence &lt;dbl&gt; | State &lt;chr&gt; | Household_Income &lt;dbl&gt; |\n|---|---|---|---|---|---|---|---|---|---|---|---|---|---|---|\n| 1 | 2022-02-23T12 |  0 | 0 |  0 | 0 | NA | NA | NA | NA | NA | 39.4 | 22 | NewHampshire | 77933 |\n| 2 | 2022-02-23T13 |  0 | 0 |  0 | 0 |  0 |  0 |  0 |  0 |  0 | 39.4 | 22 | NewHampshire | 77933 |\n| 3 | 2022-02-23T14 |  0 | 0 |  8 | 0 |  0 |  0 |  0 |  0 |  0 | 39.4 | 22 | NewHampshire | 77933 |\n| 4 | 2022-02-23T15 |  9 | 0 |  0 | 8 |  0 |  0 |  0 |  0 |  0 | 39.4 | 22 | NewHampshire | 77933 |\n| 5 | 2022-02-23T16 | 25 | 0 | 16 | 0 |  0 |  0 |  0 |  0 |  0 | 39.4 | 22 | NewHampshire | 77933 |\n\n",
            "text/latex": "A data.frame: 5 × 14\n\\begin{tabular}{r|llllllllllllll}\n  & Time & ketamine & date\\_rape & GHB & Rohypnol & morning\\_after\\_pill & roofie & pills\\_to\\_avoid\\_preg & how\\_much\\_is\\_morning\\_after\\_pill & been\\_raped & Rapes\\_per\\_100k & church\\_attendence & State & Household\\_Income\\\\\n  & <chr> & <int> & <int> & <int> & <int> & <int> & <int> & <int> & <int> & <int> & <dbl> & <dbl> & <chr> & <dbl>\\\\\n\\hline\n\t1 & 2022-02-23T12 &  0 & 0 &  0 & 0 & NA & NA & NA & NA & NA & 39.4 & 22 & NewHampshire & 77933\\\\\n\t2 & 2022-02-23T13 &  0 & 0 &  0 & 0 &  0 &  0 &  0 &  0 &  0 & 39.4 & 22 & NewHampshire & 77933\\\\\n\t3 & 2022-02-23T14 &  0 & 0 &  8 & 0 &  0 &  0 &  0 &  0 &  0 & 39.4 & 22 & NewHampshire & 77933\\\\\n\t4 & 2022-02-23T15 &  9 & 0 &  0 & 8 &  0 &  0 &  0 &  0 &  0 & 39.4 & 22 & NewHampshire & 77933\\\\\n\t5 & 2022-02-23T16 & 25 & 0 & 16 & 0 &  0 &  0 &  0 &  0 &  0 & 39.4 & 22 & NewHampshire & 77933\\\\\n\\end{tabular}\n",
            "text/plain": [
              "  Time          ketamine date_rape GHB Rohypnol morning_after_pill roofie\n",
              "1 2022-02-23T12  0       0          0  0        NA                 NA    \n",
              "2 2022-02-23T13  0       0          0  0         0                  0    \n",
              "3 2022-02-23T14  0       0          8  0         0                  0    \n",
              "4 2022-02-23T15  9       0          0  8         0                  0    \n",
              "5 2022-02-23T16 25       0         16  0         0                  0    \n",
              "  pills_to_avoid_preg how_much_is_morning_after_pill been_raped Rapes_per_100k\n",
              "1 NA                  NA                             NA         39.4          \n",
              "2  0                   0                              0         39.4          \n",
              "3  0                   0                              0         39.4          \n",
              "4  0                   0                              0         39.4          \n",
              "5  0                   0                              0         39.4          \n",
              "  church_attendence State        Household_Income\n",
              "1 22                NewHampshire 77933           \n",
              "2 22                NewHampshire 77933           \n",
              "3 22                NewHampshire 77933           \n",
              "4 22                NewHampshire 77933           \n",
              "5 22                NewHampshire 77933           "
            ]
          },
          "metadata": {}
        }
      ]
    },
    {
      "cell_type": "markdown",
      "source": [
        "## New Jersey"
      ],
      "metadata": {
        "id": "Ayqh0YhSpdcA"
      }
    },
    {
      "cell_type": "code",
      "source": [
        "Full <- read.csv(\"/content/NewJersey.csv\", skip=0, header=TRUE)\n",
        "Short <- read.csv(\"/content/NJ_2.csv\", skip=0, header=TRUE)\n",
        "combo <- merge(Full,Short, by=\"Time\", all = T)\n",
        "\n",
        "#head(AL_combo,5)\n",
        "# Add FBI crime data\n",
        "combo$Rapes_per_100k <- 16 # <<<====\n",
        "# Add weekly church attendence\n",
        "combo$church_attendence <- 35 # <=======\n",
        "# Add State column\n",
        "combo$State <- \"NewJersey\" # <<<========\n",
        "# Add median household income\n",
        "combo$Household_Income <-  77933 # <<<======\n",
        "#drop extraneous cols\n",
        "combo <- combo %>% \n",
        "        select(-c('State.x', 'State.y'))\n",
        "colnames(combo) <- c(\"Time\",\"ketamine\",\"date_rape\",\"GHB\",\"Rohypnol\",\n",
        "                        \"morning_after_pill\",\"roofie\",\"pills_to_avoid_preg\",\n",
        "                       \"how_much_is_morning_after_pill\",\"been_raped\",\"Rapes_per_100k\",\"church_attendence\",\"State\",\"Household_Income\")\n",
        "NJ_combo <- combo                       \n",
        "head(NJ_combo ,5)"
      ],
      "metadata": {
        "colab": {
          "base_uri": "https://localhost:8080/",
          "height": 448
        },
        "id": "bm4VaAFNmoWM",
        "outputId": "1a02adce-d19a-4d8a-a4f2-e2ab780147f5"
      },
      "execution_count": 206,
      "outputs": [
        {
          "output_type": "display_data",
          "data": {
            "text/html": [
              "<table class=\"dataframe\">\n",
              "<caption>A data.frame: 5 × 14</caption>\n",
              "<thead>\n",
              "\t<tr><th></th><th scope=col>Time</th><th scope=col>ketamine</th><th scope=col>date_rape</th><th scope=col>GHB</th><th scope=col>Rohypnol</th><th scope=col>morning_after_pill</th><th scope=col>roofie</th><th scope=col>pills_to_avoid_preg</th><th scope=col>how_much_is_morning_after_pill</th><th scope=col>been_raped</th><th scope=col>Rapes_per_100k</th><th scope=col>church_attendence</th><th scope=col>State</th><th scope=col>Household_Income</th></tr>\n",
              "\t<tr><th></th><th scope=col>&lt;chr&gt;</th><th scope=col>&lt;int&gt;</th><th scope=col>&lt;int&gt;</th><th scope=col>&lt;int&gt;</th><th scope=col>&lt;int&gt;</th><th scope=col>&lt;int&gt;</th><th scope=col>&lt;int&gt;</th><th scope=col>&lt;int&gt;</th><th scope=col>&lt;int&gt;</th><th scope=col>&lt;int&gt;</th><th scope=col>&lt;dbl&gt;</th><th scope=col>&lt;dbl&gt;</th><th scope=col>&lt;chr&gt;</th><th scope=col>&lt;dbl&gt;</th></tr>\n",
              "</thead>\n",
              "<tbody>\n",
              "\t<tr><th scope=row>1</th><td>2022-02-23T12</td><td>25</td><td>3</td><td>0</td><td>0</td><td>NA</td><td>NA</td><td>NA</td><td>NA</td><td>NA</td><td>16</td><td>35</td><td>NewJersey</td><td>77933</td></tr>\n",
              "\t<tr><th scope=row>2</th><td>2022-02-23T13</td><td>25</td><td>3</td><td>3</td><td>0</td><td> 0</td><td> 7</td><td> 0</td><td> 0</td><td> 0</td><td>16</td><td>35</td><td>NewJersey</td><td>77933</td></tr>\n",
              "\t<tr><th scope=row>3</th><td>2022-02-23T14</td><td>53</td><td>0</td><td>0</td><td>0</td><td> 8</td><td> 0</td><td> 0</td><td> 0</td><td> 0</td><td>16</td><td>35</td><td>NewJersey</td><td>77933</td></tr>\n",
              "\t<tr><th scope=row>4</th><td>2022-02-23T15</td><td>42</td><td>0</td><td>7</td><td>0</td><td> 0</td><td> 0</td><td> 0</td><td> 0</td><td> 0</td><td>16</td><td>35</td><td>NewJersey</td><td>77933</td></tr>\n",
              "\t<tr><th scope=row>5</th><td>2022-02-23T16</td><td>25</td><td>0</td><td>7</td><td>0</td><td> 0</td><td> 0</td><td> 0</td><td> 0</td><td> 0</td><td>16</td><td>35</td><td>NewJersey</td><td>77933</td></tr>\n",
              "</tbody>\n",
              "</table>\n"
            ],
            "text/markdown": "\nA data.frame: 5 × 14\n\n| <!--/--> | Time &lt;chr&gt; | ketamine &lt;int&gt; | date_rape &lt;int&gt; | GHB &lt;int&gt; | Rohypnol &lt;int&gt; | morning_after_pill &lt;int&gt; | roofie &lt;int&gt; | pills_to_avoid_preg &lt;int&gt; | how_much_is_morning_after_pill &lt;int&gt; | been_raped &lt;int&gt; | Rapes_per_100k &lt;dbl&gt; | church_attendence &lt;dbl&gt; | State &lt;chr&gt; | Household_Income &lt;dbl&gt; |\n|---|---|---|---|---|---|---|---|---|---|---|---|---|---|---|\n| 1 | 2022-02-23T12 | 25 | 3 | 0 | 0 | NA | NA | NA | NA | NA | 16 | 35 | NewJersey | 77933 |\n| 2 | 2022-02-23T13 | 25 | 3 | 3 | 0 |  0 |  7 |  0 |  0 |  0 | 16 | 35 | NewJersey | 77933 |\n| 3 | 2022-02-23T14 | 53 | 0 | 0 | 0 |  8 |  0 |  0 |  0 |  0 | 16 | 35 | NewJersey | 77933 |\n| 4 | 2022-02-23T15 | 42 | 0 | 7 | 0 |  0 |  0 |  0 |  0 |  0 | 16 | 35 | NewJersey | 77933 |\n| 5 | 2022-02-23T16 | 25 | 0 | 7 | 0 |  0 |  0 |  0 |  0 |  0 | 16 | 35 | NewJersey | 77933 |\n\n",
            "text/latex": "A data.frame: 5 × 14\n\\begin{tabular}{r|llllllllllllll}\n  & Time & ketamine & date\\_rape & GHB & Rohypnol & morning\\_after\\_pill & roofie & pills\\_to\\_avoid\\_preg & how\\_much\\_is\\_morning\\_after\\_pill & been\\_raped & Rapes\\_per\\_100k & church\\_attendence & State & Household\\_Income\\\\\n  & <chr> & <int> & <int> & <int> & <int> & <int> & <int> & <int> & <int> & <int> & <dbl> & <dbl> & <chr> & <dbl>\\\\\n\\hline\n\t1 & 2022-02-23T12 & 25 & 3 & 0 & 0 & NA & NA & NA & NA & NA & 16 & 35 & NewJersey & 77933\\\\\n\t2 & 2022-02-23T13 & 25 & 3 & 3 & 0 &  0 &  7 &  0 &  0 &  0 & 16 & 35 & NewJersey & 77933\\\\\n\t3 & 2022-02-23T14 & 53 & 0 & 0 & 0 &  8 &  0 &  0 &  0 &  0 & 16 & 35 & NewJersey & 77933\\\\\n\t4 & 2022-02-23T15 & 42 & 0 & 7 & 0 &  0 &  0 &  0 &  0 &  0 & 16 & 35 & NewJersey & 77933\\\\\n\t5 & 2022-02-23T16 & 25 & 0 & 7 & 0 &  0 &  0 &  0 &  0 &  0 & 16 & 35 & NewJersey & 77933\\\\\n\\end{tabular}\n",
            "text/plain": [
              "  Time          ketamine date_rape GHB Rohypnol morning_after_pill roofie\n",
              "1 2022-02-23T12 25       3         0   0        NA                 NA    \n",
              "2 2022-02-23T13 25       3         3   0         0                  7    \n",
              "3 2022-02-23T14 53       0         0   0         8                  0    \n",
              "4 2022-02-23T15 42       0         7   0         0                  0    \n",
              "5 2022-02-23T16 25       0         7   0         0                  0    \n",
              "  pills_to_avoid_preg how_much_is_morning_after_pill been_raped Rapes_per_100k\n",
              "1 NA                  NA                             NA         16            \n",
              "2  0                   0                              0         16            \n",
              "3  0                   0                              0         16            \n",
              "4  0                   0                              0         16            \n",
              "5  0                   0                              0         16            \n",
              "  church_attendence State     Household_Income\n",
              "1 35                NewJersey 77933           \n",
              "2 35                NewJersey 77933           \n",
              "3 35                NewJersey 77933           \n",
              "4 35                NewJersey 77933           \n",
              "5 35                NewJersey 77933           "
            ]
          },
          "metadata": {}
        }
      ]
    },
    {
      "cell_type": "markdown",
      "source": [
        "## New Mexico"
      ],
      "metadata": {
        "id": "CNs3Yr5VpdX-"
      }
    },
    {
      "cell_type": "code",
      "source": [
        "Full <- read.csv(\"/content/NewMexico.csv\", skip=0, header=TRUE)\n",
        "Short <- read.csv(\"/content/NM_2.csv\", skip=0, header=TRUE)\n",
        "combo <- merge(Full,Short, by=\"Time\", all = T)\n",
        "\n",
        "#head(AL_combo,5)\n",
        "# Add FBI crime data\n",
        "combo$Rapes_per_100k <- 64.6 # <<<====\n",
        "# Add weekly church attendence\n",
        "combo$church_attendence <- 36 # <=======\n",
        "# Add State column\n",
        "combo$State <- \"NewMexico\" # <<<========\n",
        "# Add median household income\n",
        "combo$Household_Income <-  51945 # <<<======\n",
        "#drop extraneous cols\n",
        "combo <- combo %>% \n",
        "        select(-c('State.x', 'State.y'))\n",
        "colnames(combo) <- c(\"Time\",\"ketamine\",\"date_rape\",\"GHB\",\"Rohypnol\",\n",
        "                        \"morning_after_pill\",\"roofie\",\"pills_to_avoid_preg\",\n",
        "                       \"how_much_is_morning_after_pill\",\"been_raped\",\"Rapes_per_100k\",\"church_attendence\",\"State\",\"Household_Income\")\n",
        "NM_combo <- combo                       \n",
        "head(NM_combo ,5)"
      ],
      "metadata": {
        "colab": {
          "base_uri": "https://localhost:8080/",
          "height": 448
        },
        "id": "Bleid3M5nFVA",
        "outputId": "187b1125-01c1-45c9-e7ea-b2c2f8a876ae"
      },
      "execution_count": 207,
      "outputs": [
        {
          "output_type": "display_data",
          "data": {
            "text/html": [
              "<table class=\"dataframe\">\n",
              "<caption>A data.frame: 5 × 14</caption>\n",
              "<thead>\n",
              "\t<tr><th></th><th scope=col>Time</th><th scope=col>ketamine</th><th scope=col>date_rape</th><th scope=col>GHB</th><th scope=col>Rohypnol</th><th scope=col>morning_after_pill</th><th scope=col>roofie</th><th scope=col>pills_to_avoid_preg</th><th scope=col>how_much_is_morning_after_pill</th><th scope=col>been_raped</th><th scope=col>Rapes_per_100k</th><th scope=col>church_attendence</th><th scope=col>State</th><th scope=col>Household_Income</th></tr>\n",
              "\t<tr><th></th><th scope=col>&lt;chr&gt;</th><th scope=col>&lt;int&gt;</th><th scope=col>&lt;int&gt;</th><th scope=col>&lt;int&gt;</th><th scope=col>&lt;int&gt;</th><th scope=col>&lt;int&gt;</th><th scope=col>&lt;int&gt;</th><th scope=col>&lt;int&gt;</th><th scope=col>&lt;int&gt;</th><th scope=col>&lt;int&gt;</th><th scope=col>&lt;dbl&gt;</th><th scope=col>&lt;dbl&gt;</th><th scope=col>&lt;chr&gt;</th><th scope=col>&lt;dbl&gt;</th></tr>\n",
              "</thead>\n",
              "<tbody>\n",
              "\t<tr><th scope=row>1</th><td>2022-02-23T12</td><td>16</td><td>0</td><td>0</td><td>0</td><td>NA</td><td>NA</td><td>NA</td><td>NA</td><td>NA</td><td>64.6</td><td>36</td><td>NewMexico</td><td>51945</td></tr>\n",
              "\t<tr><th scope=row>2</th><td>2022-02-23T13</td><td>32</td><td>0</td><td>0</td><td>0</td><td>11</td><td> 0</td><td> 0</td><td> 0</td><td> 0</td><td>64.6</td><td>36</td><td>NewMexico</td><td>51945</td></tr>\n",
              "\t<tr><th scope=row>3</th><td>2022-02-23T14</td><td>33</td><td>0</td><td>0</td><td>0</td><td> 0</td><td> 0</td><td> 0</td><td> 0</td><td> 0</td><td>64.6</td><td>36</td><td>NewMexico</td><td>51945</td></tr>\n",
              "\t<tr><th scope=row>4</th><td>2022-02-23T15</td><td>24</td><td>0</td><td>0</td><td>0</td><td> 0</td><td> 0</td><td> 0</td><td> 0</td><td> 0</td><td>64.6</td><td>36</td><td>NewMexico</td><td>51945</td></tr>\n",
              "\t<tr><th scope=row>5</th><td>2022-02-23T16</td><td>24</td><td>0</td><td>0</td><td>0</td><td> 0</td><td> 0</td><td> 0</td><td> 0</td><td> 0</td><td>64.6</td><td>36</td><td>NewMexico</td><td>51945</td></tr>\n",
              "</tbody>\n",
              "</table>\n"
            ],
            "text/markdown": "\nA data.frame: 5 × 14\n\n| <!--/--> | Time &lt;chr&gt; | ketamine &lt;int&gt; | date_rape &lt;int&gt; | GHB &lt;int&gt; | Rohypnol &lt;int&gt; | morning_after_pill &lt;int&gt; | roofie &lt;int&gt; | pills_to_avoid_preg &lt;int&gt; | how_much_is_morning_after_pill &lt;int&gt; | been_raped &lt;int&gt; | Rapes_per_100k &lt;dbl&gt; | church_attendence &lt;dbl&gt; | State &lt;chr&gt; | Household_Income &lt;dbl&gt; |\n|---|---|---|---|---|---|---|---|---|---|---|---|---|---|---|\n| 1 | 2022-02-23T12 | 16 | 0 | 0 | 0 | NA | NA | NA | NA | NA | 64.6 | 36 | NewMexico | 51945 |\n| 2 | 2022-02-23T13 | 32 | 0 | 0 | 0 | 11 |  0 |  0 |  0 |  0 | 64.6 | 36 | NewMexico | 51945 |\n| 3 | 2022-02-23T14 | 33 | 0 | 0 | 0 |  0 |  0 |  0 |  0 |  0 | 64.6 | 36 | NewMexico | 51945 |\n| 4 | 2022-02-23T15 | 24 | 0 | 0 | 0 |  0 |  0 |  0 |  0 |  0 | 64.6 | 36 | NewMexico | 51945 |\n| 5 | 2022-02-23T16 | 24 | 0 | 0 | 0 |  0 |  0 |  0 |  0 |  0 | 64.6 | 36 | NewMexico | 51945 |\n\n",
            "text/latex": "A data.frame: 5 × 14\n\\begin{tabular}{r|llllllllllllll}\n  & Time & ketamine & date\\_rape & GHB & Rohypnol & morning\\_after\\_pill & roofie & pills\\_to\\_avoid\\_preg & how\\_much\\_is\\_morning\\_after\\_pill & been\\_raped & Rapes\\_per\\_100k & church\\_attendence & State & Household\\_Income\\\\\n  & <chr> & <int> & <int> & <int> & <int> & <int> & <int> & <int> & <int> & <int> & <dbl> & <dbl> & <chr> & <dbl>\\\\\n\\hline\n\t1 & 2022-02-23T12 & 16 & 0 & 0 & 0 & NA & NA & NA & NA & NA & 64.6 & 36 & NewMexico & 51945\\\\\n\t2 & 2022-02-23T13 & 32 & 0 & 0 & 0 & 11 &  0 &  0 &  0 &  0 & 64.6 & 36 & NewMexico & 51945\\\\\n\t3 & 2022-02-23T14 & 33 & 0 & 0 & 0 &  0 &  0 &  0 &  0 &  0 & 64.6 & 36 & NewMexico & 51945\\\\\n\t4 & 2022-02-23T15 & 24 & 0 & 0 & 0 &  0 &  0 &  0 &  0 &  0 & 64.6 & 36 & NewMexico & 51945\\\\\n\t5 & 2022-02-23T16 & 24 & 0 & 0 & 0 &  0 &  0 &  0 &  0 &  0 & 64.6 & 36 & NewMexico & 51945\\\\\n\\end{tabular}\n",
            "text/plain": [
              "  Time          ketamine date_rape GHB Rohypnol morning_after_pill roofie\n",
              "1 2022-02-23T12 16       0         0   0        NA                 NA    \n",
              "2 2022-02-23T13 32       0         0   0        11                  0    \n",
              "3 2022-02-23T14 33       0         0   0         0                  0    \n",
              "4 2022-02-23T15 24       0         0   0         0                  0    \n",
              "5 2022-02-23T16 24       0         0   0         0                  0    \n",
              "  pills_to_avoid_preg how_much_is_morning_after_pill been_raped Rapes_per_100k\n",
              "1 NA                  NA                             NA         64.6          \n",
              "2  0                   0                              0         64.6          \n",
              "3  0                   0                              0         64.6          \n",
              "4  0                   0                              0         64.6          \n",
              "5  0                   0                              0         64.6          \n",
              "  church_attendence State     Household_Income\n",
              "1 36                NewMexico 51945           \n",
              "2 36                NewMexico 51945           \n",
              "3 36                NewMexico 51945           \n",
              "4 36                NewMexico 51945           \n",
              "5 36                NewMexico 51945           "
            ]
          },
          "metadata": {}
        }
      ]
    },
    {
      "cell_type": "markdown",
      "source": [
        "## New York"
      ],
      "metadata": {
        "id": "3BsPXI7BpdUF"
      }
    },
    {
      "cell_type": "code",
      "source": [
        "Full <- read.csv(\"/content/NewYork.csv\", skip=0, header=TRUE)\n",
        "Short <- read.csv(\"/content/NY_2.csv\", skip=0, header=TRUE)\n",
        "combo <- merge(Full,Short, by=\"Time\", all = T)\n",
        "\n",
        "#head(AL_combo,5)\n",
        "# Add FBI crime data\n",
        "combo$Rapes_per_100k <- 33.6 # <<<====\n",
        "# Add weekly church attendence\n",
        "combo$church_attendence <- 29 # <=======\n",
        "# Add State column\n",
        "combo$State <- \"NewYork\" # <<<========\n",
        "# Add median household income\n",
        "combo$Household_Income <- 72108 # <<<======\n",
        "#drop extraneous cols\n",
        "combo <- combo %>% \n",
        "        select(-c('State.x', 'State.y'))\n",
        "colnames(combo) <- c(\"Time\",\"ketamine\",\"date_rape\",\"GHB\",\"Rohypnol\",\n",
        "                        \"morning_after_pill\",\"roofie\",\"pills_to_avoid_preg\",\n",
        "                       \"how_much_is_morning_after_pill\",\"been_raped\",\"Rapes_per_100k\",\"church_attendence\",\"State\",\"Household_Income\")\n",
        "NY_combo <- combo                       \n",
        "head(NY_combo ,5)"
      ],
      "metadata": {
        "colab": {
          "base_uri": "https://localhost:8080/",
          "height": 448
        },
        "id": "UUMDl5cqoX4U",
        "outputId": "c3f23119-9bd9-4966-ac34-a57efd3aa223"
      },
      "execution_count": 208,
      "outputs": [
        {
          "output_type": "display_data",
          "data": {
            "text/html": [
              "<table class=\"dataframe\">\n",
              "<caption>A data.frame: 5 × 14</caption>\n",
              "<thead>\n",
              "\t<tr><th></th><th scope=col>Time</th><th scope=col>ketamine</th><th scope=col>date_rape</th><th scope=col>GHB</th><th scope=col>Rohypnol</th><th scope=col>morning_after_pill</th><th scope=col>roofie</th><th scope=col>pills_to_avoid_preg</th><th scope=col>how_much_is_morning_after_pill</th><th scope=col>been_raped</th><th scope=col>Rapes_per_100k</th><th scope=col>church_attendence</th><th scope=col>State</th><th scope=col>Household_Income</th></tr>\n",
              "\t<tr><th></th><th scope=col>&lt;chr&gt;</th><th scope=col>&lt;int&gt;</th><th scope=col>&lt;int&gt;</th><th scope=col>&lt;int&gt;</th><th scope=col>&lt;int&gt;</th><th scope=col>&lt;int&gt;</th><th scope=col>&lt;int&gt;</th><th scope=col>&lt;int&gt;</th><th scope=col>&lt;int&gt;</th><th scope=col>&lt;int&gt;</th><th scope=col>&lt;dbl&gt;</th><th scope=col>&lt;dbl&gt;</th><th scope=col>&lt;chr&gt;</th><th scope=col>&lt;dbl&gt;</th></tr>\n",
              "</thead>\n",
              "<tbody>\n",
              "\t<tr><th scope=row>1</th><td>2022-02-23T12</td><td>25</td><td>0</td><td>6</td><td>0</td><td>NA</td><td>NA</td><td>NA</td><td>NA</td><td>NA</td><td>33.6</td><td>29</td><td>NewYork</td><td>72108</td></tr>\n",
              "\t<tr><th scope=row>2</th><td>2022-02-23T13</td><td>21</td><td>0</td><td>6</td><td>0</td><td> 9</td><td> 5</td><td> 0</td><td> 0</td><td> 0</td><td>33.6</td><td>29</td><td>NewYork</td><td>72108</td></tr>\n",
              "\t<tr><th scope=row>3</th><td>2022-02-23T14</td><td>40</td><td>3</td><td>8</td><td>0</td><td>14</td><td> 3</td><td> 0</td><td> 0</td><td> 0</td><td>33.6</td><td>29</td><td>NewYork</td><td>72108</td></tr>\n",
              "\t<tr><th scope=row>4</th><td>2022-02-23T15</td><td>34</td><td>0</td><td>9</td><td>0</td><td>15</td><td> 6</td><td> 0</td><td> 0</td><td> 0</td><td>33.6</td><td>29</td><td>NewYork</td><td>72108</td></tr>\n",
              "\t<tr><th scope=row>5</th><td>2022-02-23T16</td><td>34</td><td>2</td><td>4</td><td>0</td><td> 3</td><td> 9</td><td> 0</td><td> 0</td><td> 0</td><td>33.6</td><td>29</td><td>NewYork</td><td>72108</td></tr>\n",
              "</tbody>\n",
              "</table>\n"
            ],
            "text/markdown": "\nA data.frame: 5 × 14\n\n| <!--/--> | Time &lt;chr&gt; | ketamine &lt;int&gt; | date_rape &lt;int&gt; | GHB &lt;int&gt; | Rohypnol &lt;int&gt; | morning_after_pill &lt;int&gt; | roofie &lt;int&gt; | pills_to_avoid_preg &lt;int&gt; | how_much_is_morning_after_pill &lt;int&gt; | been_raped &lt;int&gt; | Rapes_per_100k &lt;dbl&gt; | church_attendence &lt;dbl&gt; | State &lt;chr&gt; | Household_Income &lt;dbl&gt; |\n|---|---|---|---|---|---|---|---|---|---|---|---|---|---|---|\n| 1 | 2022-02-23T12 | 25 | 0 | 6 | 0 | NA | NA | NA | NA | NA | 33.6 | 29 | NewYork | 72108 |\n| 2 | 2022-02-23T13 | 21 | 0 | 6 | 0 |  9 |  5 |  0 |  0 |  0 | 33.6 | 29 | NewYork | 72108 |\n| 3 | 2022-02-23T14 | 40 | 3 | 8 | 0 | 14 |  3 |  0 |  0 |  0 | 33.6 | 29 | NewYork | 72108 |\n| 4 | 2022-02-23T15 | 34 | 0 | 9 | 0 | 15 |  6 |  0 |  0 |  0 | 33.6 | 29 | NewYork | 72108 |\n| 5 | 2022-02-23T16 | 34 | 2 | 4 | 0 |  3 |  9 |  0 |  0 |  0 | 33.6 | 29 | NewYork | 72108 |\n\n",
            "text/latex": "A data.frame: 5 × 14\n\\begin{tabular}{r|llllllllllllll}\n  & Time & ketamine & date\\_rape & GHB & Rohypnol & morning\\_after\\_pill & roofie & pills\\_to\\_avoid\\_preg & how\\_much\\_is\\_morning\\_after\\_pill & been\\_raped & Rapes\\_per\\_100k & church\\_attendence & State & Household\\_Income\\\\\n  & <chr> & <int> & <int> & <int> & <int> & <int> & <int> & <int> & <int> & <int> & <dbl> & <dbl> & <chr> & <dbl>\\\\\n\\hline\n\t1 & 2022-02-23T12 & 25 & 0 & 6 & 0 & NA & NA & NA & NA & NA & 33.6 & 29 & NewYork & 72108\\\\\n\t2 & 2022-02-23T13 & 21 & 0 & 6 & 0 &  9 &  5 &  0 &  0 &  0 & 33.6 & 29 & NewYork & 72108\\\\\n\t3 & 2022-02-23T14 & 40 & 3 & 8 & 0 & 14 &  3 &  0 &  0 &  0 & 33.6 & 29 & NewYork & 72108\\\\\n\t4 & 2022-02-23T15 & 34 & 0 & 9 & 0 & 15 &  6 &  0 &  0 &  0 & 33.6 & 29 & NewYork & 72108\\\\\n\t5 & 2022-02-23T16 & 34 & 2 & 4 & 0 &  3 &  9 &  0 &  0 &  0 & 33.6 & 29 & NewYork & 72108\\\\\n\\end{tabular}\n",
            "text/plain": [
              "  Time          ketamine date_rape GHB Rohypnol morning_after_pill roofie\n",
              "1 2022-02-23T12 25       0         6   0        NA                 NA    \n",
              "2 2022-02-23T13 21       0         6   0         9                  5    \n",
              "3 2022-02-23T14 40       3         8   0        14                  3    \n",
              "4 2022-02-23T15 34       0         9   0        15                  6    \n",
              "5 2022-02-23T16 34       2         4   0         3                  9    \n",
              "  pills_to_avoid_preg how_much_is_morning_after_pill been_raped Rapes_per_100k\n",
              "1 NA                  NA                             NA         33.6          \n",
              "2  0                   0                              0         33.6          \n",
              "3  0                   0                              0         33.6          \n",
              "4  0                   0                              0         33.6          \n",
              "5  0                   0                              0         33.6          \n",
              "  church_attendence State   Household_Income\n",
              "1 29                NewYork 72108           \n",
              "2 29                NewYork 72108           \n",
              "3 29                NewYork 72108           \n",
              "4 29                NewYork 72108           \n",
              "5 29                NewYork 72108           "
            ]
          },
          "metadata": {}
        }
      ]
    },
    {
      "cell_type": "markdown",
      "source": [
        "## North Carolina"
      ],
      "metadata": {
        "id": "qXeDsQn3pdQU"
      }
    },
    {
      "cell_type": "code",
      "source": [
        "Full <- read.csv(\"/content/NorthCarolina.csv\", skip=0, header=TRUE)\n",
        "Short <- read.csv(\"/content/NC_2.csv\", skip=0, header=TRUE)\n",
        "combo <- merge(Full,Short, by=\"Time\", all = T)\n",
        "\n",
        "#head(AL_combo,5)\n",
        "# Add FBI crime data\n",
        "combo$Rapes_per_100k <- 25.4 # <<<====\n",
        "# Add weekly church attendence\n",
        "combo$church_attendence <- 39 # <=======\n",
        "# Add State column\n",
        "combo$State <- \"NorthCarolina\" # <<<========\n",
        "# Add median household income\n",
        "combo$Household_Income <- 57341 # <<<======\n",
        "#drop extraneous cols\n",
        "combo <- combo %>% \n",
        "        select(-c('State.x', 'State.y'))\n",
        "colnames(combo) <- c(\"Time\",\"ketamine\",\"date_rape\",\"GHB\",\"Rohypnol\",\n",
        "                        \"morning_after_pill\",\"roofie\",\"pills_to_avoid_preg\",\n",
        "                       \"how_much_is_morning_after_pill\",\"been_raped\",\"Rapes_per_100k\",\"church_attendence\",\"State\",\"Household_Income\")\n",
        "NC_combo <- combo                       \n",
        "head(NC_combo ,5)"
      ],
      "metadata": {
        "colab": {
          "base_uri": "https://localhost:8080/",
          "height": 448
        },
        "id": "yBV01ZgVo9-o",
        "outputId": "d201727e-d490-457d-a67e-bf488acb829d"
      },
      "execution_count": 209,
      "outputs": [
        {
          "output_type": "display_data",
          "data": {
            "text/html": [
              "<table class=\"dataframe\">\n",
              "<caption>A data.frame: 5 × 14</caption>\n",
              "<thead>\n",
              "\t<tr><th></th><th scope=col>Time</th><th scope=col>ketamine</th><th scope=col>date_rape</th><th scope=col>GHB</th><th scope=col>Rohypnol</th><th scope=col>morning_after_pill</th><th scope=col>roofie</th><th scope=col>pills_to_avoid_preg</th><th scope=col>how_much_is_morning_after_pill</th><th scope=col>been_raped</th><th scope=col>Rapes_per_100k</th><th scope=col>church_attendence</th><th scope=col>State</th><th scope=col>Household_Income</th></tr>\n",
              "\t<tr><th></th><th scope=col>&lt;chr&gt;</th><th scope=col>&lt;int&gt;</th><th scope=col>&lt;int&gt;</th><th scope=col>&lt;int&gt;</th><th scope=col>&lt;int&gt;</th><th scope=col>&lt;int&gt;</th><th scope=col>&lt;int&gt;</th><th scope=col>&lt;int&gt;</th><th scope=col>&lt;int&gt;</th><th scope=col>&lt;int&gt;</th><th scope=col>&lt;dbl&gt;</th><th scope=col>&lt;dbl&gt;</th><th scope=col>&lt;chr&gt;</th><th scope=col>&lt;dbl&gt;</th></tr>\n",
              "</thead>\n",
              "<tbody>\n",
              "\t<tr><th scope=row>1</th><td>2022-02-23T12</td><td>22</td><td>0</td><td>0</td><td>0</td><td>NA</td><td>NA</td><td>NA</td><td>NA</td><td>NA</td><td>25.4</td><td>39</td><td>NorthCarolina</td><td>57341</td></tr>\n",
              "\t<tr><th scope=row>2</th><td>2022-02-23T13</td><td>27</td><td>2</td><td>9</td><td>2</td><td>17</td><td> 8</td><td> 0</td><td> 0</td><td> 0</td><td>25.4</td><td>39</td><td>NorthCarolina</td><td>57341</td></tr>\n",
              "\t<tr><th scope=row>3</th><td>2022-02-23T14</td><td>51</td><td>0</td><td>2</td><td>2</td><td> 8</td><td> 0</td><td> 0</td><td> 0</td><td> 0</td><td>25.4</td><td>39</td><td>NorthCarolina</td><td>57341</td></tr>\n",
              "\t<tr><th scope=row>4</th><td>2022-02-23T15</td><td>29</td><td>7</td><td>7</td><td>0</td><td> 0</td><td> 0</td><td> 0</td><td> 0</td><td> 0</td><td>25.4</td><td>39</td><td>NorthCarolina</td><td>57341</td></tr>\n",
              "\t<tr><th scope=row>5</th><td>2022-02-23T16</td><td>34</td><td>0</td><td>5</td><td>0</td><td> 0</td><td> 0</td><td> 0</td><td> 0</td><td> 0</td><td>25.4</td><td>39</td><td>NorthCarolina</td><td>57341</td></tr>\n",
              "</tbody>\n",
              "</table>\n"
            ],
            "text/markdown": "\nA data.frame: 5 × 14\n\n| <!--/--> | Time &lt;chr&gt; | ketamine &lt;int&gt; | date_rape &lt;int&gt; | GHB &lt;int&gt; | Rohypnol &lt;int&gt; | morning_after_pill &lt;int&gt; | roofie &lt;int&gt; | pills_to_avoid_preg &lt;int&gt; | how_much_is_morning_after_pill &lt;int&gt; | been_raped &lt;int&gt; | Rapes_per_100k &lt;dbl&gt; | church_attendence &lt;dbl&gt; | State &lt;chr&gt; | Household_Income &lt;dbl&gt; |\n|---|---|---|---|---|---|---|---|---|---|---|---|---|---|---|\n| 1 | 2022-02-23T12 | 22 | 0 | 0 | 0 | NA | NA | NA | NA | NA | 25.4 | 39 | NorthCarolina | 57341 |\n| 2 | 2022-02-23T13 | 27 | 2 | 9 | 2 | 17 |  8 |  0 |  0 |  0 | 25.4 | 39 | NorthCarolina | 57341 |\n| 3 | 2022-02-23T14 | 51 | 0 | 2 | 2 |  8 |  0 |  0 |  0 |  0 | 25.4 | 39 | NorthCarolina | 57341 |\n| 4 | 2022-02-23T15 | 29 | 7 | 7 | 0 |  0 |  0 |  0 |  0 |  0 | 25.4 | 39 | NorthCarolina | 57341 |\n| 5 | 2022-02-23T16 | 34 | 0 | 5 | 0 |  0 |  0 |  0 |  0 |  0 | 25.4 | 39 | NorthCarolina | 57341 |\n\n",
            "text/latex": "A data.frame: 5 × 14\n\\begin{tabular}{r|llllllllllllll}\n  & Time & ketamine & date\\_rape & GHB & Rohypnol & morning\\_after\\_pill & roofie & pills\\_to\\_avoid\\_preg & how\\_much\\_is\\_morning\\_after\\_pill & been\\_raped & Rapes\\_per\\_100k & church\\_attendence & State & Household\\_Income\\\\\n  & <chr> & <int> & <int> & <int> & <int> & <int> & <int> & <int> & <int> & <int> & <dbl> & <dbl> & <chr> & <dbl>\\\\\n\\hline\n\t1 & 2022-02-23T12 & 22 & 0 & 0 & 0 & NA & NA & NA & NA & NA & 25.4 & 39 & NorthCarolina & 57341\\\\\n\t2 & 2022-02-23T13 & 27 & 2 & 9 & 2 & 17 &  8 &  0 &  0 &  0 & 25.4 & 39 & NorthCarolina & 57341\\\\\n\t3 & 2022-02-23T14 & 51 & 0 & 2 & 2 &  8 &  0 &  0 &  0 &  0 & 25.4 & 39 & NorthCarolina & 57341\\\\\n\t4 & 2022-02-23T15 & 29 & 7 & 7 & 0 &  0 &  0 &  0 &  0 &  0 & 25.4 & 39 & NorthCarolina & 57341\\\\\n\t5 & 2022-02-23T16 & 34 & 0 & 5 & 0 &  0 &  0 &  0 &  0 &  0 & 25.4 & 39 & NorthCarolina & 57341\\\\\n\\end{tabular}\n",
            "text/plain": [
              "  Time          ketamine date_rape GHB Rohypnol morning_after_pill roofie\n",
              "1 2022-02-23T12 22       0         0   0        NA                 NA    \n",
              "2 2022-02-23T13 27       2         9   2        17                  8    \n",
              "3 2022-02-23T14 51       0         2   2         8                  0    \n",
              "4 2022-02-23T15 29       7         7   0         0                  0    \n",
              "5 2022-02-23T16 34       0         5   0         0                  0    \n",
              "  pills_to_avoid_preg how_much_is_morning_after_pill been_raped Rapes_per_100k\n",
              "1 NA                  NA                             NA         25.4          \n",
              "2  0                   0                              0         25.4          \n",
              "3  0                   0                              0         25.4          \n",
              "4  0                   0                              0         25.4          \n",
              "5  0                   0                              0         25.4          \n",
              "  church_attendence State         Household_Income\n",
              "1 39                NorthCarolina 57341           \n",
              "2 39                NorthCarolina 57341           \n",
              "3 39                NorthCarolina 57341           \n",
              "4 39                NorthCarolina 57341           \n",
              "5 39                NorthCarolina 57341           "
            ]
          },
          "metadata": {}
        }
      ]
    },
    {
      "cell_type": "markdown",
      "source": [
        "## North Dakota"
      ],
      "metadata": {
        "id": "wIb0kRHYpdMT"
      }
    },
    {
      "cell_type": "code",
      "source": [
        "Full <- read.csv(\"/content/NorthDakota.csv\", skip=0, header=TRUE)\n",
        "Short <- read.csv(\"/content/ND_2.csv\", skip=0, header=TRUE)\n",
        "combo <- merge(Full,Short, by=\"Time\", all = T)\n",
        "\n",
        "#head(AL_combo,5)\n",
        "# Add FBI crime data\n",
        "combo$Rapes_per_100k <- 52.2 # <<<====\n",
        "# Add weekly church attendence\n",
        "combo$church_attendence <- 33 # <=======\n",
        "# Add State column\n",
        "combo$State <- \"NorthDakota\" # <<<========\n",
        "# Add median household income\n",
        "combo$Household_Income <- 64577 # <<<======\n",
        "#drop extraneous cols\n",
        "combo <- combo %>% \n",
        "        select(-c('State.x', 'State.y'))\n",
        "colnames(combo) <- c(\"Time\",\"ketamine\",\"date_rape\",\"GHB\",\"Rohypnol\",\n",
        "                        \"morning_after_pill\",\"roofie\",\"pills_to_avoid_preg\",\n",
        "                       \"how_much_is_morning_after_pill\",\"been_raped\",\"Rapes_per_100k\",\"church_attendence\",\"State\",\"Household_Income\")\n",
        "ND_combo <- combo                       \n",
        "head(ND_combo ,5)"
      ],
      "metadata": {
        "colab": {
          "base_uri": "https://localhost:8080/",
          "height": 448
        },
        "id": "0xTPLZUjprPB",
        "outputId": "b14d4cad-57ec-48ce-e1f7-7c3860d7cacc"
      },
      "execution_count": 210,
      "outputs": [
        {
          "output_type": "display_data",
          "data": {
            "text/html": [
              "<table class=\"dataframe\">\n",
              "<caption>A data.frame: 5 × 14</caption>\n",
              "<thead>\n",
              "\t<tr><th></th><th scope=col>Time</th><th scope=col>ketamine</th><th scope=col>date_rape</th><th scope=col>GHB</th><th scope=col>Rohypnol</th><th scope=col>morning_after_pill</th><th scope=col>roofie</th><th scope=col>pills_to_avoid_preg</th><th scope=col>how_much_is_morning_after_pill</th><th scope=col>been_raped</th><th scope=col>Rapes_per_100k</th><th scope=col>church_attendence</th><th scope=col>State</th><th scope=col>Household_Income</th></tr>\n",
              "\t<tr><th></th><th scope=col>&lt;chr&gt;</th><th scope=col>&lt;int&gt;</th><th scope=col>&lt;int&gt;</th><th scope=col>&lt;int&gt;</th><th scope=col>&lt;int&gt;</th><th scope=col>&lt;int&gt;</th><th scope=col>&lt;int&gt;</th><th scope=col>&lt;int&gt;</th><th scope=col>&lt;int&gt;</th><th scope=col>&lt;int&gt;</th><th scope=col>&lt;dbl&gt;</th><th scope=col>&lt;dbl&gt;</th><th scope=col>&lt;chr&gt;</th><th scope=col>&lt;dbl&gt;</th></tr>\n",
              "</thead>\n",
              "<tbody>\n",
              "\t<tr><th scope=row>1</th><td>2022-02-23T12</td><td> 9</td><td>0</td><td>0</td><td>0</td><td>NA</td><td>NA</td><td>NA</td><td>NA</td><td>NA</td><td>52.2</td><td>33</td><td>NorthDakota</td><td>64577</td></tr>\n",
              "\t<tr><th scope=row>2</th><td>2022-02-23T13</td><td>10</td><td>0</td><td>0</td><td>0</td><td> 0</td><td> 0</td><td> 0</td><td> 0</td><td> 0</td><td>52.2</td><td>33</td><td>NorthDakota</td><td>64577</td></tr>\n",
              "\t<tr><th scope=row>3</th><td>2022-02-23T14</td><td>10</td><td>0</td><td>0</td><td>0</td><td>94</td><td> 0</td><td> 0</td><td> 0</td><td> 0</td><td>52.2</td><td>33</td><td>NorthDakota</td><td>64577</td></tr>\n",
              "\t<tr><th scope=row>4</th><td>2022-02-23T15</td><td> 0</td><td>0</td><td>0</td><td>0</td><td> 0</td><td> 0</td><td> 0</td><td> 0</td><td> 0</td><td>52.2</td><td>33</td><td>NorthDakota</td><td>64577</td></tr>\n",
              "\t<tr><th scope=row>5</th><td>2022-02-23T16</td><td>20</td><td>0</td><td>0</td><td>0</td><td> 0</td><td> 0</td><td> 0</td><td> 0</td><td> 0</td><td>52.2</td><td>33</td><td>NorthDakota</td><td>64577</td></tr>\n",
              "</tbody>\n",
              "</table>\n"
            ],
            "text/markdown": "\nA data.frame: 5 × 14\n\n| <!--/--> | Time &lt;chr&gt; | ketamine &lt;int&gt; | date_rape &lt;int&gt; | GHB &lt;int&gt; | Rohypnol &lt;int&gt; | morning_after_pill &lt;int&gt; | roofie &lt;int&gt; | pills_to_avoid_preg &lt;int&gt; | how_much_is_morning_after_pill &lt;int&gt; | been_raped &lt;int&gt; | Rapes_per_100k &lt;dbl&gt; | church_attendence &lt;dbl&gt; | State &lt;chr&gt; | Household_Income &lt;dbl&gt; |\n|---|---|---|---|---|---|---|---|---|---|---|---|---|---|---|\n| 1 | 2022-02-23T12 |  9 | 0 | 0 | 0 | NA | NA | NA | NA | NA | 52.2 | 33 | NorthDakota | 64577 |\n| 2 | 2022-02-23T13 | 10 | 0 | 0 | 0 |  0 |  0 |  0 |  0 |  0 | 52.2 | 33 | NorthDakota | 64577 |\n| 3 | 2022-02-23T14 | 10 | 0 | 0 | 0 | 94 |  0 |  0 |  0 |  0 | 52.2 | 33 | NorthDakota | 64577 |\n| 4 | 2022-02-23T15 |  0 | 0 | 0 | 0 |  0 |  0 |  0 |  0 |  0 | 52.2 | 33 | NorthDakota | 64577 |\n| 5 | 2022-02-23T16 | 20 | 0 | 0 | 0 |  0 |  0 |  0 |  0 |  0 | 52.2 | 33 | NorthDakota | 64577 |\n\n",
            "text/latex": "A data.frame: 5 × 14\n\\begin{tabular}{r|llllllllllllll}\n  & Time & ketamine & date\\_rape & GHB & Rohypnol & morning\\_after\\_pill & roofie & pills\\_to\\_avoid\\_preg & how\\_much\\_is\\_morning\\_after\\_pill & been\\_raped & Rapes\\_per\\_100k & church\\_attendence & State & Household\\_Income\\\\\n  & <chr> & <int> & <int> & <int> & <int> & <int> & <int> & <int> & <int> & <int> & <dbl> & <dbl> & <chr> & <dbl>\\\\\n\\hline\n\t1 & 2022-02-23T12 &  9 & 0 & 0 & 0 & NA & NA & NA & NA & NA & 52.2 & 33 & NorthDakota & 64577\\\\\n\t2 & 2022-02-23T13 & 10 & 0 & 0 & 0 &  0 &  0 &  0 &  0 &  0 & 52.2 & 33 & NorthDakota & 64577\\\\\n\t3 & 2022-02-23T14 & 10 & 0 & 0 & 0 & 94 &  0 &  0 &  0 &  0 & 52.2 & 33 & NorthDakota & 64577\\\\\n\t4 & 2022-02-23T15 &  0 & 0 & 0 & 0 &  0 &  0 &  0 &  0 &  0 & 52.2 & 33 & NorthDakota & 64577\\\\\n\t5 & 2022-02-23T16 & 20 & 0 & 0 & 0 &  0 &  0 &  0 &  0 &  0 & 52.2 & 33 & NorthDakota & 64577\\\\\n\\end{tabular}\n",
            "text/plain": [
              "  Time          ketamine date_rape GHB Rohypnol morning_after_pill roofie\n",
              "1 2022-02-23T12  9       0         0   0        NA                 NA    \n",
              "2 2022-02-23T13 10       0         0   0         0                  0    \n",
              "3 2022-02-23T14 10       0         0   0        94                  0    \n",
              "4 2022-02-23T15  0       0         0   0         0                  0    \n",
              "5 2022-02-23T16 20       0         0   0         0                  0    \n",
              "  pills_to_avoid_preg how_much_is_morning_after_pill been_raped Rapes_per_100k\n",
              "1 NA                  NA                             NA         52.2          \n",
              "2  0                   0                              0         52.2          \n",
              "3  0                   0                              0         52.2          \n",
              "4  0                   0                              0         52.2          \n",
              "5  0                   0                              0         52.2          \n",
              "  church_attendence State       Household_Income\n",
              "1 33                NorthDakota 64577           \n",
              "2 33                NorthDakota 64577           \n",
              "3 33                NorthDakota 64577           \n",
              "4 33                NorthDakota 64577           \n",
              "5 33                NorthDakota 64577           "
            ]
          },
          "metadata": {}
        }
      ]
    },
    {
      "cell_type": "markdown",
      "source": [
        "## Ohio"
      ],
      "metadata": {
        "id": "n_zt3AdupdIV"
      }
    },
    {
      "cell_type": "code",
      "source": [
        "Full <- read.csv(\"/content/Ohio.csv\", skip=0, header=TRUE)\n",
        "Short <- read.csv(\"/content/OH_2.csv\", skip=0, header=TRUE)\n",
        "combo <- merge(Full,Short, by=\"Time\", all = T)\n",
        "\n",
        "#head(AL_combo,5)\n",
        "# Add FBI crime data\n",
        "combo$Rapes_per_100k <- 45.3 # <<<====\n",
        "# Add weekly church attendence\n",
        "combo$church_attendence <- 38 # <=======\n",
        "# Add State column\n",
        "combo$State <- \"Ohio\" # <<<========\n",
        "# Add median household income\n",
        "combo$Household_Income <- 58642 # <<<======\n",
        "#drop extraneous cols\n",
        "combo <- combo %>% \n",
        "        select(-c('State.x', 'State.y'))\n",
        "colnames(combo) <- c(\"Time\",\"ketamine\",\"date_rape\",\"GHB\",\"Rohypnol\",\n",
        "                        \"morning_after_pill\",\"roofie\",\"pills_to_avoid_preg\",\n",
        "                       \"how_much_is_morning_after_pill\",\"been_raped\",\"Rapes_per_100k\",\"church_attendence\",\"State\",\"Household_Income\")\n",
        "OH_combo <- combo                       \n",
        "head(OH_combo ,5)"
      ],
      "metadata": {
        "colab": {
          "base_uri": "https://localhost:8080/",
          "height": 448
        },
        "id": "X9JmKH70qgJ6",
        "outputId": "c0fff36b-4aee-4988-b69a-ef7b8475a411"
      },
      "execution_count": 211,
      "outputs": [
        {
          "output_type": "display_data",
          "data": {
            "text/html": [
              "<table class=\"dataframe\">\n",
              "<caption>A data.frame: 5 × 14</caption>\n",
              "<thead>\n",
              "\t<tr><th></th><th scope=col>Time</th><th scope=col>ketamine</th><th scope=col>date_rape</th><th scope=col>GHB</th><th scope=col>Rohypnol</th><th scope=col>morning_after_pill</th><th scope=col>roofie</th><th scope=col>pills_to_avoid_preg</th><th scope=col>how_much_is_morning_after_pill</th><th scope=col>been_raped</th><th scope=col>Rapes_per_100k</th><th scope=col>church_attendence</th><th scope=col>State</th><th scope=col>Household_Income</th></tr>\n",
              "\t<tr><th></th><th scope=col>&lt;chr&gt;</th><th scope=col>&lt;int&gt;</th><th scope=col>&lt;int&gt;</th><th scope=col>&lt;int&gt;</th><th scope=col>&lt;int&gt;</th><th scope=col>&lt;int&gt;</th><th scope=col>&lt;int&gt;</th><th scope=col>&lt;int&gt;</th><th scope=col>&lt;int&gt;</th><th scope=col>&lt;int&gt;</th><th scope=col>&lt;dbl&gt;</th><th scope=col>&lt;dbl&gt;</th><th scope=col>&lt;chr&gt;</th><th scope=col>&lt;dbl&gt;</th></tr>\n",
              "</thead>\n",
              "<tbody>\n",
              "\t<tr><th scope=row>1</th><td>2022-02-23T12</td><td>27</td><td> 3</td><td>3</td><td>0</td><td>NA</td><td>NA</td><td>NA</td><td>NA</td><td>NA</td><td>45.3</td><td>38</td><td>Ohio</td><td>58642</td></tr>\n",
              "\t<tr><th scope=row>2</th><td>2022-02-23T13</td><td>37</td><td> 0</td><td>3</td><td>0</td><td>12</td><td>17</td><td> 0</td><td> 0</td><td> 0</td><td>45.3</td><td>38</td><td>Ohio</td><td>58642</td></tr>\n",
              "\t<tr><th scope=row>3</th><td>2022-02-23T14</td><td>45</td><td> 0</td><td>8</td><td>0</td><td> 0</td><td> 0</td><td> 0</td><td> 0</td><td> 0</td><td>45.3</td><td>38</td><td>Ohio</td><td>58642</td></tr>\n",
              "\t<tr><th scope=row>4</th><td>2022-02-23T15</td><td>24</td><td> 8</td><td>3</td><td>0</td><td> 6</td><td> 0</td><td> 0</td><td> 0</td><td> 0</td><td>45.3</td><td>38</td><td>Ohio</td><td>58642</td></tr>\n",
              "\t<tr><th scope=row>5</th><td>2022-02-23T16</td><td>11</td><td>11</td><td>0</td><td>0</td><td> 6</td><td> 0</td><td> 0</td><td> 0</td><td> 0</td><td>45.3</td><td>38</td><td>Ohio</td><td>58642</td></tr>\n",
              "</tbody>\n",
              "</table>\n"
            ],
            "text/markdown": "\nA data.frame: 5 × 14\n\n| <!--/--> | Time &lt;chr&gt; | ketamine &lt;int&gt; | date_rape &lt;int&gt; | GHB &lt;int&gt; | Rohypnol &lt;int&gt; | morning_after_pill &lt;int&gt; | roofie &lt;int&gt; | pills_to_avoid_preg &lt;int&gt; | how_much_is_morning_after_pill &lt;int&gt; | been_raped &lt;int&gt; | Rapes_per_100k &lt;dbl&gt; | church_attendence &lt;dbl&gt; | State &lt;chr&gt; | Household_Income &lt;dbl&gt; |\n|---|---|---|---|---|---|---|---|---|---|---|---|---|---|---|\n| 1 | 2022-02-23T12 | 27 |  3 | 3 | 0 | NA | NA | NA | NA | NA | 45.3 | 38 | Ohio | 58642 |\n| 2 | 2022-02-23T13 | 37 |  0 | 3 | 0 | 12 | 17 |  0 |  0 |  0 | 45.3 | 38 | Ohio | 58642 |\n| 3 | 2022-02-23T14 | 45 |  0 | 8 | 0 |  0 |  0 |  0 |  0 |  0 | 45.3 | 38 | Ohio | 58642 |\n| 4 | 2022-02-23T15 | 24 |  8 | 3 | 0 |  6 |  0 |  0 |  0 |  0 | 45.3 | 38 | Ohio | 58642 |\n| 5 | 2022-02-23T16 | 11 | 11 | 0 | 0 |  6 |  0 |  0 |  0 |  0 | 45.3 | 38 | Ohio | 58642 |\n\n",
            "text/latex": "A data.frame: 5 × 14\n\\begin{tabular}{r|llllllllllllll}\n  & Time & ketamine & date\\_rape & GHB & Rohypnol & morning\\_after\\_pill & roofie & pills\\_to\\_avoid\\_preg & how\\_much\\_is\\_morning\\_after\\_pill & been\\_raped & Rapes\\_per\\_100k & church\\_attendence & State & Household\\_Income\\\\\n  & <chr> & <int> & <int> & <int> & <int> & <int> & <int> & <int> & <int> & <int> & <dbl> & <dbl> & <chr> & <dbl>\\\\\n\\hline\n\t1 & 2022-02-23T12 & 27 &  3 & 3 & 0 & NA & NA & NA & NA & NA & 45.3 & 38 & Ohio & 58642\\\\\n\t2 & 2022-02-23T13 & 37 &  0 & 3 & 0 & 12 & 17 &  0 &  0 &  0 & 45.3 & 38 & Ohio & 58642\\\\\n\t3 & 2022-02-23T14 & 45 &  0 & 8 & 0 &  0 &  0 &  0 &  0 &  0 & 45.3 & 38 & Ohio & 58642\\\\\n\t4 & 2022-02-23T15 & 24 &  8 & 3 & 0 &  6 &  0 &  0 &  0 &  0 & 45.3 & 38 & Ohio & 58642\\\\\n\t5 & 2022-02-23T16 & 11 & 11 & 0 & 0 &  6 &  0 &  0 &  0 &  0 & 45.3 & 38 & Ohio & 58642\\\\\n\\end{tabular}\n",
            "text/plain": [
              "  Time          ketamine date_rape GHB Rohypnol morning_after_pill roofie\n",
              "1 2022-02-23T12 27        3        3   0        NA                 NA    \n",
              "2 2022-02-23T13 37        0        3   0        12                 17    \n",
              "3 2022-02-23T14 45        0        8   0         0                  0    \n",
              "4 2022-02-23T15 24        8        3   0         6                  0    \n",
              "5 2022-02-23T16 11       11        0   0         6                  0    \n",
              "  pills_to_avoid_preg how_much_is_morning_after_pill been_raped Rapes_per_100k\n",
              "1 NA                  NA                             NA         45.3          \n",
              "2  0                   0                              0         45.3          \n",
              "3  0                   0                              0         45.3          \n",
              "4  0                   0                              0         45.3          \n",
              "5  0                   0                              0         45.3          \n",
              "  church_attendence State Household_Income\n",
              "1 38                Ohio  58642           \n",
              "2 38                Ohio  58642           \n",
              "3 38                Ohio  58642           \n",
              "4 38                Ohio  58642           \n",
              "5 38                Ohio  58642           "
            ]
          },
          "metadata": {}
        }
      ]
    },
    {
      "cell_type": "markdown",
      "source": [
        "## Oklahoma"
      ],
      "metadata": {
        "id": "4tluTLiupdEp"
      }
    },
    {
      "cell_type": "code",
      "source": [
        "Full <- read.csv(\"/content/Oklahoma.csv\", skip=0, header=TRUE)\n",
        "Short <- read.csv(\"/content/OK_2.csv\", skip=0, header=TRUE)\n",
        "combo <- merge(Full,Short, by=\"Time\", all = T)\n",
        "\n",
        "#head(AL_combo,5)\n",
        "# Add FBI crime data\n",
        "combo$Rapes_per_100k <- 58.3 # <<<====\n",
        "# Add weekly church attendence\n",
        "combo$church_attendence <- 43 # <=======\n",
        "# Add State column\n",
        "combo$State <- \"Oklahoma\" # <<<========\n",
        "# Add median household income\n",
        "combo$Household_Income <- 54449 # <<<======\n",
        "#drop extraneous cols\n",
        "combo <- combo %>% \n",
        "        select(-c('State.x', 'State.y'))\n",
        "colnames(combo) <- c(\"Time\",\"ketamine\",\"date_rape\",\"GHB\",\"Rohypnol\",\n",
        "                        \"morning_after_pill\",\"roofie\",\"pills_to_avoid_preg\",\n",
        "                       \"how_much_is_morning_after_pill\",\"been_raped\",\"Rapes_per_100k\",\"church_attendence\",\"State\",\"Household_Income\")\n",
        "OK_combo <- combo                       \n",
        "head(OK_combo ,5)"
      ],
      "metadata": {
        "colab": {
          "base_uri": "https://localhost:8080/",
          "height": 448
        },
        "id": "qKS_BfRJrQMg",
        "outputId": "b593bba3-b5c7-4436-b4f7-5f89ddf66fb4"
      },
      "execution_count": 212,
      "outputs": [
        {
          "output_type": "display_data",
          "data": {
            "text/html": [
              "<table class=\"dataframe\">\n",
              "<caption>A data.frame: 5 × 14</caption>\n",
              "<thead>\n",
              "\t<tr><th></th><th scope=col>Time</th><th scope=col>ketamine</th><th scope=col>date_rape</th><th scope=col>GHB</th><th scope=col>Rohypnol</th><th scope=col>morning_after_pill</th><th scope=col>roofie</th><th scope=col>pills_to_avoid_preg</th><th scope=col>how_much_is_morning_after_pill</th><th scope=col>been_raped</th><th scope=col>Rapes_per_100k</th><th scope=col>church_attendence</th><th scope=col>State</th><th scope=col>Household_Income</th></tr>\n",
              "\t<tr><th></th><th scope=col>&lt;chr&gt;</th><th scope=col>&lt;int&gt;</th><th scope=col>&lt;int&gt;</th><th scope=col>&lt;int&gt;</th><th scope=col>&lt;int&gt;</th><th scope=col>&lt;int&gt;</th><th scope=col>&lt;int&gt;</th><th scope=col>&lt;int&gt;</th><th scope=col>&lt;int&gt;</th><th scope=col>&lt;int&gt;</th><th scope=col>&lt;dbl&gt;</th><th scope=col>&lt;dbl&gt;</th><th scope=col>&lt;chr&gt;</th><th scope=col>&lt;dbl&gt;</th></tr>\n",
              "</thead>\n",
              "<tbody>\n",
              "\t<tr><th scope=row>1</th><td>2022-02-23T12</td><td>12</td><td>18</td><td>0</td><td>0</td><td>NA</td><td>NA</td><td>NA</td><td>NA</td><td>NA</td><td>58.3</td><td>43</td><td>Oklahoma</td><td>54449</td></tr>\n",
              "\t<tr><th scope=row>2</th><td>2022-02-23T13</td><td>36</td><td> 0</td><td>0</td><td>0</td><td> 0</td><td> 0</td><td> 0</td><td> 0</td><td> 0</td><td>58.3</td><td>43</td><td>Oklahoma</td><td>54449</td></tr>\n",
              "\t<tr><th scope=row>3</th><td>2022-02-23T14</td><td>30</td><td> 0</td><td>0</td><td>0</td><td> 0</td><td> 0</td><td> 0</td><td> 0</td><td> 0</td><td>58.3</td><td>43</td><td>Oklahoma</td><td>54449</td></tr>\n",
              "\t<tr><th scope=row>4</th><td>2022-02-23T15</td><td>30</td><td> 0</td><td>6</td><td>0</td><td> 0</td><td> 0</td><td> 0</td><td> 0</td><td> 0</td><td>58.3</td><td>43</td><td>Oklahoma</td><td>54449</td></tr>\n",
              "\t<tr><th scope=row>5</th><td>2022-02-23T16</td><td>12</td><td>12</td><td>0</td><td>0</td><td> 0</td><td> 0</td><td> 0</td><td> 0</td><td> 0</td><td>58.3</td><td>43</td><td>Oklahoma</td><td>54449</td></tr>\n",
              "</tbody>\n",
              "</table>\n"
            ],
            "text/markdown": "\nA data.frame: 5 × 14\n\n| <!--/--> | Time &lt;chr&gt; | ketamine &lt;int&gt; | date_rape &lt;int&gt; | GHB &lt;int&gt; | Rohypnol &lt;int&gt; | morning_after_pill &lt;int&gt; | roofie &lt;int&gt; | pills_to_avoid_preg &lt;int&gt; | how_much_is_morning_after_pill &lt;int&gt; | been_raped &lt;int&gt; | Rapes_per_100k &lt;dbl&gt; | church_attendence &lt;dbl&gt; | State &lt;chr&gt; | Household_Income &lt;dbl&gt; |\n|---|---|---|---|---|---|---|---|---|---|---|---|---|---|---|\n| 1 | 2022-02-23T12 | 12 | 18 | 0 | 0 | NA | NA | NA | NA | NA | 58.3 | 43 | Oklahoma | 54449 |\n| 2 | 2022-02-23T13 | 36 |  0 | 0 | 0 |  0 |  0 |  0 |  0 |  0 | 58.3 | 43 | Oklahoma | 54449 |\n| 3 | 2022-02-23T14 | 30 |  0 | 0 | 0 |  0 |  0 |  0 |  0 |  0 | 58.3 | 43 | Oklahoma | 54449 |\n| 4 | 2022-02-23T15 | 30 |  0 | 6 | 0 |  0 |  0 |  0 |  0 |  0 | 58.3 | 43 | Oklahoma | 54449 |\n| 5 | 2022-02-23T16 | 12 | 12 | 0 | 0 |  0 |  0 |  0 |  0 |  0 | 58.3 | 43 | Oklahoma | 54449 |\n\n",
            "text/latex": "A data.frame: 5 × 14\n\\begin{tabular}{r|llllllllllllll}\n  & Time & ketamine & date\\_rape & GHB & Rohypnol & morning\\_after\\_pill & roofie & pills\\_to\\_avoid\\_preg & how\\_much\\_is\\_morning\\_after\\_pill & been\\_raped & Rapes\\_per\\_100k & church\\_attendence & State & Household\\_Income\\\\\n  & <chr> & <int> & <int> & <int> & <int> & <int> & <int> & <int> & <int> & <int> & <dbl> & <dbl> & <chr> & <dbl>\\\\\n\\hline\n\t1 & 2022-02-23T12 & 12 & 18 & 0 & 0 & NA & NA & NA & NA & NA & 58.3 & 43 & Oklahoma & 54449\\\\\n\t2 & 2022-02-23T13 & 36 &  0 & 0 & 0 &  0 &  0 &  0 &  0 &  0 & 58.3 & 43 & Oklahoma & 54449\\\\\n\t3 & 2022-02-23T14 & 30 &  0 & 0 & 0 &  0 &  0 &  0 &  0 &  0 & 58.3 & 43 & Oklahoma & 54449\\\\\n\t4 & 2022-02-23T15 & 30 &  0 & 6 & 0 &  0 &  0 &  0 &  0 &  0 & 58.3 & 43 & Oklahoma & 54449\\\\\n\t5 & 2022-02-23T16 & 12 & 12 & 0 & 0 &  0 &  0 &  0 &  0 &  0 & 58.3 & 43 & Oklahoma & 54449\\\\\n\\end{tabular}\n",
            "text/plain": [
              "  Time          ketamine date_rape GHB Rohypnol morning_after_pill roofie\n",
              "1 2022-02-23T12 12       18        0   0        NA                 NA    \n",
              "2 2022-02-23T13 36        0        0   0         0                  0    \n",
              "3 2022-02-23T14 30        0        0   0         0                  0    \n",
              "4 2022-02-23T15 30        0        6   0         0                  0    \n",
              "5 2022-02-23T16 12       12        0   0         0                  0    \n",
              "  pills_to_avoid_preg how_much_is_morning_after_pill been_raped Rapes_per_100k\n",
              "1 NA                  NA                             NA         58.3          \n",
              "2  0                   0                              0         58.3          \n",
              "3  0                   0                              0         58.3          \n",
              "4  0                   0                              0         58.3          \n",
              "5  0                   0                              0         58.3          \n",
              "  church_attendence State    Household_Income\n",
              "1 43                Oklahoma 54449           \n",
              "2 43                Oklahoma 54449           \n",
              "3 43                Oklahoma 54449           \n",
              "4 43                Oklahoma 54449           \n",
              "5 43                Oklahoma 54449           "
            ]
          },
          "metadata": {}
        }
      ]
    },
    {
      "cell_type": "markdown",
      "source": [
        "## Oregon"
      ],
      "metadata": {
        "id": "zjakvN-opdAy"
      }
    },
    {
      "cell_type": "code",
      "source": [
        "Full <- read.csv(\"/content/Oregon.csv\", skip=0, header=TRUE)\n",
        "Short <- read.csv(\"/content/OR_2.csv\", skip=0, header=TRUE)\n",
        "combo <- merge(Full,Short, by=\"Time\", all = T)\n",
        "\n",
        "#head(AL_combo,5)\n",
        "# Add FBI crime data\n",
        "combo$Rapes_per_100k <- 47.1 # <<<====\n",
        "# Add weekly church attendence\n",
        "combo$church_attendence <- 29 # <=======\n",
        "# Add State column\n",
        "combo$State <- \"Oregon\" # <<<========\n",
        "# Add median household income\n",
        "combo$Household_Income <- 67058 # <<<======\n",
        "#drop extraneous cols\n",
        "combo <- combo %>% \n",
        "        select(-c('State.x', 'State.y'))\n",
        "colnames(combo) <- c(\"Time\",\"ketamine\",\"date_rape\",\"GHB\",\"Rohypnol\",\n",
        "                        \"morning_after_pill\",\"roofie\",\"pills_to_avoid_preg\",\n",
        "                       \"how_much_is_morning_after_pill\",\"been_raped\",\"Rapes_per_100k\",\"church_attendence\",\"State\",\"Household_Income\")\n",
        "OR_combo <- combo                       \n",
        "head(OR_combo ,5)"
      ],
      "metadata": {
        "colab": {
          "base_uri": "https://localhost:8080/",
          "height": 448
        },
        "id": "mFOaS3ACsLNZ",
        "outputId": "cf51bb28-b3fe-4eb9-e068-41fedf21da38"
      },
      "execution_count": 213,
      "outputs": [
        {
          "output_type": "display_data",
          "data": {
            "text/html": [
              "<table class=\"dataframe\">\n",
              "<caption>A data.frame: 5 × 14</caption>\n",
              "<thead>\n",
              "\t<tr><th></th><th scope=col>Time</th><th scope=col>ketamine</th><th scope=col>date_rape</th><th scope=col>GHB</th><th scope=col>Rohypnol</th><th scope=col>morning_after_pill</th><th scope=col>roofie</th><th scope=col>pills_to_avoid_preg</th><th scope=col>how_much_is_morning_after_pill</th><th scope=col>been_raped</th><th scope=col>Rapes_per_100k</th><th scope=col>church_attendence</th><th scope=col>State</th><th scope=col>Household_Income</th></tr>\n",
              "\t<tr><th></th><th scope=col>&lt;chr&gt;</th><th scope=col>&lt;int&gt;</th><th scope=col>&lt;int&gt;</th><th scope=col>&lt;int&gt;</th><th scope=col>&lt;int&gt;</th><th scope=col>&lt;int&gt;</th><th scope=col>&lt;int&gt;</th><th scope=col>&lt;int&gt;</th><th scope=col>&lt;int&gt;</th><th scope=col>&lt;int&gt;</th><th scope=col>&lt;dbl&gt;</th><th scope=col>&lt;dbl&gt;</th><th scope=col>&lt;chr&gt;</th><th scope=col>&lt;dbl&gt;</th></tr>\n",
              "</thead>\n",
              "<tbody>\n",
              "\t<tr><th scope=row>1</th><td>2022-02-23T12</td><td>25</td><td>0</td><td> 4</td><td>0</td><td>NA</td><td>NA</td><td>NA</td><td>NA</td><td>NA</td><td>47.1</td><td>29</td><td>Oregon</td><td>67058</td></tr>\n",
              "\t<tr><th scope=row>2</th><td>2022-02-23T13</td><td>12</td><td>0</td><td> 0</td><td>0</td><td> 0</td><td> 0</td><td> 0</td><td> 0</td><td> 0</td><td>47.1</td><td>29</td><td>Oregon</td><td>67058</td></tr>\n",
              "\t<tr><th scope=row>3</th><td>2022-02-23T14</td><td>23</td><td>0</td><td> 4</td><td>0</td><td> 0</td><td> 0</td><td> 0</td><td> 0</td><td> 0</td><td>47.1</td><td>29</td><td>Oregon</td><td>67058</td></tr>\n",
              "\t<tr><th scope=row>4</th><td>2022-02-23T15</td><td>20</td><td>0</td><td> 0</td><td>0</td><td> 0</td><td> 0</td><td> 0</td><td> 0</td><td> 0</td><td>47.1</td><td>29</td><td>Oregon</td><td>67058</td></tr>\n",
              "\t<tr><th scope=row>5</th><td>2022-02-23T16</td><td>12</td><td>0</td><td>11</td><td>0</td><td>11</td><td>11</td><td> 0</td><td> 0</td><td> 0</td><td>47.1</td><td>29</td><td>Oregon</td><td>67058</td></tr>\n",
              "</tbody>\n",
              "</table>\n"
            ],
            "text/markdown": "\nA data.frame: 5 × 14\n\n| <!--/--> | Time &lt;chr&gt; | ketamine &lt;int&gt; | date_rape &lt;int&gt; | GHB &lt;int&gt; | Rohypnol &lt;int&gt; | morning_after_pill &lt;int&gt; | roofie &lt;int&gt; | pills_to_avoid_preg &lt;int&gt; | how_much_is_morning_after_pill &lt;int&gt; | been_raped &lt;int&gt; | Rapes_per_100k &lt;dbl&gt; | church_attendence &lt;dbl&gt; | State &lt;chr&gt; | Household_Income &lt;dbl&gt; |\n|---|---|---|---|---|---|---|---|---|---|---|---|---|---|---|\n| 1 | 2022-02-23T12 | 25 | 0 |  4 | 0 | NA | NA | NA | NA | NA | 47.1 | 29 | Oregon | 67058 |\n| 2 | 2022-02-23T13 | 12 | 0 |  0 | 0 |  0 |  0 |  0 |  0 |  0 | 47.1 | 29 | Oregon | 67058 |\n| 3 | 2022-02-23T14 | 23 | 0 |  4 | 0 |  0 |  0 |  0 |  0 |  0 | 47.1 | 29 | Oregon | 67058 |\n| 4 | 2022-02-23T15 | 20 | 0 |  0 | 0 |  0 |  0 |  0 |  0 |  0 | 47.1 | 29 | Oregon | 67058 |\n| 5 | 2022-02-23T16 | 12 | 0 | 11 | 0 | 11 | 11 |  0 |  0 |  0 | 47.1 | 29 | Oregon | 67058 |\n\n",
            "text/latex": "A data.frame: 5 × 14\n\\begin{tabular}{r|llllllllllllll}\n  & Time & ketamine & date\\_rape & GHB & Rohypnol & morning\\_after\\_pill & roofie & pills\\_to\\_avoid\\_preg & how\\_much\\_is\\_morning\\_after\\_pill & been\\_raped & Rapes\\_per\\_100k & church\\_attendence & State & Household\\_Income\\\\\n  & <chr> & <int> & <int> & <int> & <int> & <int> & <int> & <int> & <int> & <int> & <dbl> & <dbl> & <chr> & <dbl>\\\\\n\\hline\n\t1 & 2022-02-23T12 & 25 & 0 &  4 & 0 & NA & NA & NA & NA & NA & 47.1 & 29 & Oregon & 67058\\\\\n\t2 & 2022-02-23T13 & 12 & 0 &  0 & 0 &  0 &  0 &  0 &  0 &  0 & 47.1 & 29 & Oregon & 67058\\\\\n\t3 & 2022-02-23T14 & 23 & 0 &  4 & 0 &  0 &  0 &  0 &  0 &  0 & 47.1 & 29 & Oregon & 67058\\\\\n\t4 & 2022-02-23T15 & 20 & 0 &  0 & 0 &  0 &  0 &  0 &  0 &  0 & 47.1 & 29 & Oregon & 67058\\\\\n\t5 & 2022-02-23T16 & 12 & 0 & 11 & 0 & 11 & 11 &  0 &  0 &  0 & 47.1 & 29 & Oregon & 67058\\\\\n\\end{tabular}\n",
            "text/plain": [
              "  Time          ketamine date_rape GHB Rohypnol morning_after_pill roofie\n",
              "1 2022-02-23T12 25       0          4  0        NA                 NA    \n",
              "2 2022-02-23T13 12       0          0  0         0                  0    \n",
              "3 2022-02-23T14 23       0          4  0         0                  0    \n",
              "4 2022-02-23T15 20       0          0  0         0                  0    \n",
              "5 2022-02-23T16 12       0         11  0        11                 11    \n",
              "  pills_to_avoid_preg how_much_is_morning_after_pill been_raped Rapes_per_100k\n",
              "1 NA                  NA                             NA         47.1          \n",
              "2  0                   0                              0         47.1          \n",
              "3  0                   0                              0         47.1          \n",
              "4  0                   0                              0         47.1          \n",
              "5  0                   0                              0         47.1          \n",
              "  church_attendence State  Household_Income\n",
              "1 29                Oregon 67058           \n",
              "2 29                Oregon 67058           \n",
              "3 29                Oregon 67058           \n",
              "4 29                Oregon 67058           \n",
              "5 29                Oregon 67058           "
            ]
          },
          "metadata": {}
        }
      ]
    },
    {
      "cell_type": "markdown",
      "source": [
        "## Pennsylvania"
      ],
      "metadata": {
        "id": "apWKB7PMpc8v"
      }
    },
    {
      "cell_type": "code",
      "source": [
        "Full <- read.csv(\"/content/Pennsylvania.csv\", skip=0, header=TRUE)\n",
        "Short <- read.csv(\"/content/PA_2.csv\", skip=0, header=TRUE)\n",
        "combo <- merge(Full,Short, by=\"Time\", all = T)\n",
        "\n",
        "#head(AL_combo,5)\n",
        "# Add FBI crime data\n",
        "combo$Rapes_per_100k <- 35 # <<<====\n",
        "# Add weekly church attendence\n",
        "combo$church_attendence <- 29 # <=======\n",
        "# Add State column\n",
        "combo$State <- \"Pennsylvania\" # <<<========\n",
        "# Add median household income\n",
        "combo$Household_Income <- 63463 # <<<======\n",
        "#drop extraneous cols\n",
        "combo <- combo %>% \n",
        "        select(-c('State.x', 'State.y'))\n",
        "colnames(combo) <- c(\"Time\",\"ketamine\",\"date_rape\",\"GHB\",\"Rohypnol\",\n",
        "                        \"morning_after_pill\",\"roofie\",\"pills_to_avoid_preg\",\n",
        "                       \"how_much_is_morning_after_pill\",\"been_raped\",\"Rapes_per_100k\",\"church_attendence\",\"State\",\"Household_Income\")\n",
        "PA_combo <- combo                       \n",
        "head(PA_combo ,5)"
      ],
      "metadata": {
        "colab": {
          "base_uri": "https://localhost:8080/",
          "height": 448
        },
        "id": "lQVxrQEgsoeq",
        "outputId": "66b0abba-6033-4a02-cfd5-9a9a895380f5"
      },
      "execution_count": 214,
      "outputs": [
        {
          "output_type": "display_data",
          "data": {
            "text/html": [
              "<table class=\"dataframe\">\n",
              "<caption>A data.frame: 5 × 14</caption>\n",
              "<thead>\n",
              "\t<tr><th></th><th scope=col>Time</th><th scope=col>ketamine</th><th scope=col>date_rape</th><th scope=col>GHB</th><th scope=col>Rohypnol</th><th scope=col>morning_after_pill</th><th scope=col>roofie</th><th scope=col>pills_to_avoid_preg</th><th scope=col>how_much_is_morning_after_pill</th><th scope=col>been_raped</th><th scope=col>Rapes_per_100k</th><th scope=col>church_attendence</th><th scope=col>State</th><th scope=col>Household_Income</th></tr>\n",
              "\t<tr><th></th><th scope=col>&lt;chr&gt;</th><th scope=col>&lt;int&gt;</th><th scope=col>&lt;int&gt;</th><th scope=col>&lt;int&gt;</th><th scope=col>&lt;int&gt;</th><th scope=col>&lt;int&gt;</th><th scope=col>&lt;int&gt;</th><th scope=col>&lt;int&gt;</th><th scope=col>&lt;int&gt;</th><th scope=col>&lt;int&gt;</th><th scope=col>&lt;dbl&gt;</th><th scope=col>&lt;dbl&gt;</th><th scope=col>&lt;chr&gt;</th><th scope=col>&lt;dbl&gt;</th></tr>\n",
              "</thead>\n",
              "<tbody>\n",
              "\t<tr><th scope=row>1</th><td>2022-02-23T12</td><td>19</td><td>0</td><td>6</td><td>0</td><td>NA</td><td>NA</td><td>NA</td><td>NA</td><td>NA</td><td>35</td><td>29</td><td>Pennsylvania</td><td>63463</td></tr>\n",
              "\t<tr><th scope=row>2</th><td>2022-02-23T13</td><td>46</td><td>0</td><td>3</td><td>3</td><td> 7</td><td> 7</td><td> 0</td><td> 0</td><td> 0</td><td>35</td><td>29</td><td>Pennsylvania</td><td>63463</td></tr>\n",
              "\t<tr><th scope=row>3</th><td>2022-02-23T14</td><td>59</td><td>0</td><td>0</td><td>0</td><td>27</td><td> 0</td><td> 0</td><td> 0</td><td> 0</td><td>35</td><td>29</td><td>Pennsylvania</td><td>63463</td></tr>\n",
              "\t<tr><th scope=row>4</th><td>2022-02-23T15</td><td>21</td><td>0</td><td>6</td><td>3</td><td> 7</td><td>14</td><td> 0</td><td> 0</td><td> 0</td><td>35</td><td>29</td><td>Pennsylvania</td><td>63463</td></tr>\n",
              "\t<tr><th scope=row>5</th><td>2022-02-23T16</td><td>31</td><td>6</td><td>3</td><td>0</td><td>21</td><td> 7</td><td> 0</td><td> 0</td><td> 0</td><td>35</td><td>29</td><td>Pennsylvania</td><td>63463</td></tr>\n",
              "</tbody>\n",
              "</table>\n"
            ],
            "text/markdown": "\nA data.frame: 5 × 14\n\n| <!--/--> | Time &lt;chr&gt; | ketamine &lt;int&gt; | date_rape &lt;int&gt; | GHB &lt;int&gt; | Rohypnol &lt;int&gt; | morning_after_pill &lt;int&gt; | roofie &lt;int&gt; | pills_to_avoid_preg &lt;int&gt; | how_much_is_morning_after_pill &lt;int&gt; | been_raped &lt;int&gt; | Rapes_per_100k &lt;dbl&gt; | church_attendence &lt;dbl&gt; | State &lt;chr&gt; | Household_Income &lt;dbl&gt; |\n|---|---|---|---|---|---|---|---|---|---|---|---|---|---|---|\n| 1 | 2022-02-23T12 | 19 | 0 | 6 | 0 | NA | NA | NA | NA | NA | 35 | 29 | Pennsylvania | 63463 |\n| 2 | 2022-02-23T13 | 46 | 0 | 3 | 3 |  7 |  7 |  0 |  0 |  0 | 35 | 29 | Pennsylvania | 63463 |\n| 3 | 2022-02-23T14 | 59 | 0 | 0 | 0 | 27 |  0 |  0 |  0 |  0 | 35 | 29 | Pennsylvania | 63463 |\n| 4 | 2022-02-23T15 | 21 | 0 | 6 | 3 |  7 | 14 |  0 |  0 |  0 | 35 | 29 | Pennsylvania | 63463 |\n| 5 | 2022-02-23T16 | 31 | 6 | 3 | 0 | 21 |  7 |  0 |  0 |  0 | 35 | 29 | Pennsylvania | 63463 |\n\n",
            "text/latex": "A data.frame: 5 × 14\n\\begin{tabular}{r|llllllllllllll}\n  & Time & ketamine & date\\_rape & GHB & Rohypnol & morning\\_after\\_pill & roofie & pills\\_to\\_avoid\\_preg & how\\_much\\_is\\_morning\\_after\\_pill & been\\_raped & Rapes\\_per\\_100k & church\\_attendence & State & Household\\_Income\\\\\n  & <chr> & <int> & <int> & <int> & <int> & <int> & <int> & <int> & <int> & <int> & <dbl> & <dbl> & <chr> & <dbl>\\\\\n\\hline\n\t1 & 2022-02-23T12 & 19 & 0 & 6 & 0 & NA & NA & NA & NA & NA & 35 & 29 & Pennsylvania & 63463\\\\\n\t2 & 2022-02-23T13 & 46 & 0 & 3 & 3 &  7 &  7 &  0 &  0 &  0 & 35 & 29 & Pennsylvania & 63463\\\\\n\t3 & 2022-02-23T14 & 59 & 0 & 0 & 0 & 27 &  0 &  0 &  0 &  0 & 35 & 29 & Pennsylvania & 63463\\\\\n\t4 & 2022-02-23T15 & 21 & 0 & 6 & 3 &  7 & 14 &  0 &  0 &  0 & 35 & 29 & Pennsylvania & 63463\\\\\n\t5 & 2022-02-23T16 & 31 & 6 & 3 & 0 & 21 &  7 &  0 &  0 &  0 & 35 & 29 & Pennsylvania & 63463\\\\\n\\end{tabular}\n",
            "text/plain": [
              "  Time          ketamine date_rape GHB Rohypnol morning_after_pill roofie\n",
              "1 2022-02-23T12 19       0         6   0        NA                 NA    \n",
              "2 2022-02-23T13 46       0         3   3         7                  7    \n",
              "3 2022-02-23T14 59       0         0   0        27                  0    \n",
              "4 2022-02-23T15 21       0         6   3         7                 14    \n",
              "5 2022-02-23T16 31       6         3   0        21                  7    \n",
              "  pills_to_avoid_preg how_much_is_morning_after_pill been_raped Rapes_per_100k\n",
              "1 NA                  NA                             NA         35            \n",
              "2  0                   0                              0         35            \n",
              "3  0                   0                              0         35            \n",
              "4  0                   0                              0         35            \n",
              "5  0                   0                              0         35            \n",
              "  church_attendence State        Household_Income\n",
              "1 29                Pennsylvania 63463           \n",
              "2 29                Pennsylvania 63463           \n",
              "3 29                Pennsylvania 63463           \n",
              "4 29                Pennsylvania 63463           \n",
              "5 29                Pennsylvania 63463           "
            ]
          },
          "metadata": {}
        }
      ]
    },
    {
      "cell_type": "markdown",
      "source": [
        "## Rhode Island"
      ],
      "metadata": {
        "id": "HzUB5Mmwpc5P"
      }
    },
    {
      "cell_type": "code",
      "source": [
        "Full <- read.csv(\"/content/RhodeIsland.csv\", skip=0, header=TRUE)\n",
        "Short <- read.csv(\"/content/RI_2.csv\", skip=0, header=TRUE)\n",
        "combo <- merge(Full,Short, by=\"Time\", all = T)\n",
        "\n",
        "#head(AL_combo,5)\n",
        "# Add FBI crime data\n",
        "combo$Rapes_per_100k <- 45.5 # <<<====\n",
        "# Add weekly church attendence\n",
        "combo$church_attendence <- 36 # <=======\n",
        "# Add State column\n",
        "combo$State <- \"RhodeIsland\" # <<<========\n",
        "# Add median household income\n",
        "combo$Household_Income <- 71169 # <<<======\n",
        "#drop extraneous cols\n",
        "combo <- combo %>% \n",
        "        select(-c('State.x', 'State.y'))\n",
        "colnames(combo) <- c(\"Time\",\"ketamine\",\"date_rape\",\"GHB\",\"Rohypnol\",\n",
        "                        \"morning_after_pill\",\"roofie\",\"pills_to_avoid_preg\",\n",
        "                       \"how_much_is_morning_after_pill\",\"been_raped\",\"Rapes_per_100k\",\"church_attendence\",\"State\",\"Household_Income\")\n",
        "RI_combo <- combo                       \n",
        "head(RI_combo ,5)"
      ],
      "metadata": {
        "colab": {
          "base_uri": "https://localhost:8080/",
          "height": 448
        },
        "id": "3hh743WqtQ24",
        "outputId": "40896bc2-ed78-490f-c729-6e427110b131"
      },
      "execution_count": 215,
      "outputs": [
        {
          "output_type": "display_data",
          "data": {
            "text/html": [
              "<table class=\"dataframe\">\n",
              "<caption>A data.frame: 5 × 14</caption>\n",
              "<thead>\n",
              "\t<tr><th></th><th scope=col>Time</th><th scope=col>ketamine</th><th scope=col>date_rape</th><th scope=col>GHB</th><th scope=col>Rohypnol</th><th scope=col>morning_after_pill</th><th scope=col>roofie</th><th scope=col>pills_to_avoid_preg</th><th scope=col>how_much_is_morning_after_pill</th><th scope=col>been_raped</th><th scope=col>Rapes_per_100k</th><th scope=col>church_attendence</th><th scope=col>State</th><th scope=col>Household_Income</th></tr>\n",
              "\t<tr><th></th><th scope=col>&lt;chr&gt;</th><th scope=col>&lt;int&gt;</th><th scope=col>&lt;int&gt;</th><th scope=col>&lt;int&gt;</th><th scope=col>&lt;int&gt;</th><th scope=col>&lt;int&gt;</th><th scope=col>&lt;int&gt;</th><th scope=col>&lt;int&gt;</th><th scope=col>&lt;int&gt;</th><th scope=col>&lt;int&gt;</th><th scope=col>&lt;dbl&gt;</th><th scope=col>&lt;dbl&gt;</th><th scope=col>&lt;chr&gt;</th><th scope=col>&lt;dbl&gt;</th></tr>\n",
              "</thead>\n",
              "<tbody>\n",
              "\t<tr><th scope=row>1</th><td>2022-02-23T12</td><td> 0</td><td>0</td><td>0</td><td>0</td><td>NA</td><td>NA</td><td>NA</td><td>NA</td><td>NA</td><td>45.5</td><td>36</td><td>RhodeIsland</td><td>71169</td></tr>\n",
              "\t<tr><th scope=row>2</th><td>2022-02-23T13</td><td> 0</td><td>0</td><td>0</td><td>0</td><td> 0</td><td> 0</td><td> 0</td><td> 0</td><td> 0</td><td>45.5</td><td>36</td><td>RhodeIsland</td><td>71169</td></tr>\n",
              "\t<tr><th scope=row>3</th><td>2022-02-23T14</td><td>11</td><td>0</td><td>0</td><td>0</td><td> 0</td><td> 0</td><td> 0</td><td> 0</td><td> 0</td><td>45.5</td><td>36</td><td>RhodeIsland</td><td>71169</td></tr>\n",
              "\t<tr><th scope=row>4</th><td>2022-02-23T15</td><td> 0</td><td>0</td><td>0</td><td>0</td><td> 0</td><td> 0</td><td> 0</td><td> 0</td><td> 0</td><td>45.5</td><td>36</td><td>RhodeIsland</td><td>71169</td></tr>\n",
              "\t<tr><th scope=row>5</th><td>2022-02-23T16</td><td>22</td><td>0</td><td>0</td><td>0</td><td> 0</td><td> 0</td><td> 0</td><td> 0</td><td> 0</td><td>45.5</td><td>36</td><td>RhodeIsland</td><td>71169</td></tr>\n",
              "</tbody>\n",
              "</table>\n"
            ],
            "text/markdown": "\nA data.frame: 5 × 14\n\n| <!--/--> | Time &lt;chr&gt; | ketamine &lt;int&gt; | date_rape &lt;int&gt; | GHB &lt;int&gt; | Rohypnol &lt;int&gt; | morning_after_pill &lt;int&gt; | roofie &lt;int&gt; | pills_to_avoid_preg &lt;int&gt; | how_much_is_morning_after_pill &lt;int&gt; | been_raped &lt;int&gt; | Rapes_per_100k &lt;dbl&gt; | church_attendence &lt;dbl&gt; | State &lt;chr&gt; | Household_Income &lt;dbl&gt; |\n|---|---|---|---|---|---|---|---|---|---|---|---|---|---|---|\n| 1 | 2022-02-23T12 |  0 | 0 | 0 | 0 | NA | NA | NA | NA | NA | 45.5 | 36 | RhodeIsland | 71169 |\n| 2 | 2022-02-23T13 |  0 | 0 | 0 | 0 |  0 |  0 |  0 |  0 |  0 | 45.5 | 36 | RhodeIsland | 71169 |\n| 3 | 2022-02-23T14 | 11 | 0 | 0 | 0 |  0 |  0 |  0 |  0 |  0 | 45.5 | 36 | RhodeIsland | 71169 |\n| 4 | 2022-02-23T15 |  0 | 0 | 0 | 0 |  0 |  0 |  0 |  0 |  0 | 45.5 | 36 | RhodeIsland | 71169 |\n| 5 | 2022-02-23T16 | 22 | 0 | 0 | 0 |  0 |  0 |  0 |  0 |  0 | 45.5 | 36 | RhodeIsland | 71169 |\n\n",
            "text/latex": "A data.frame: 5 × 14\n\\begin{tabular}{r|llllllllllllll}\n  & Time & ketamine & date\\_rape & GHB & Rohypnol & morning\\_after\\_pill & roofie & pills\\_to\\_avoid\\_preg & how\\_much\\_is\\_morning\\_after\\_pill & been\\_raped & Rapes\\_per\\_100k & church\\_attendence & State & Household\\_Income\\\\\n  & <chr> & <int> & <int> & <int> & <int> & <int> & <int> & <int> & <int> & <int> & <dbl> & <dbl> & <chr> & <dbl>\\\\\n\\hline\n\t1 & 2022-02-23T12 &  0 & 0 & 0 & 0 & NA & NA & NA & NA & NA & 45.5 & 36 & RhodeIsland & 71169\\\\\n\t2 & 2022-02-23T13 &  0 & 0 & 0 & 0 &  0 &  0 &  0 &  0 &  0 & 45.5 & 36 & RhodeIsland & 71169\\\\\n\t3 & 2022-02-23T14 & 11 & 0 & 0 & 0 &  0 &  0 &  0 &  0 &  0 & 45.5 & 36 & RhodeIsland & 71169\\\\\n\t4 & 2022-02-23T15 &  0 & 0 & 0 & 0 &  0 &  0 &  0 &  0 &  0 & 45.5 & 36 & RhodeIsland & 71169\\\\\n\t5 & 2022-02-23T16 & 22 & 0 & 0 & 0 &  0 &  0 &  0 &  0 &  0 & 45.5 & 36 & RhodeIsland & 71169\\\\\n\\end{tabular}\n",
            "text/plain": [
              "  Time          ketamine date_rape GHB Rohypnol morning_after_pill roofie\n",
              "1 2022-02-23T12  0       0         0   0        NA                 NA    \n",
              "2 2022-02-23T13  0       0         0   0         0                  0    \n",
              "3 2022-02-23T14 11       0         0   0         0                  0    \n",
              "4 2022-02-23T15  0       0         0   0         0                  0    \n",
              "5 2022-02-23T16 22       0         0   0         0                  0    \n",
              "  pills_to_avoid_preg how_much_is_morning_after_pill been_raped Rapes_per_100k\n",
              "1 NA                  NA                             NA         45.5          \n",
              "2  0                   0                              0         45.5          \n",
              "3  0                   0                              0         45.5          \n",
              "4  0                   0                              0         45.5          \n",
              "5  0                   0                              0         45.5          \n",
              "  church_attendence State       Household_Income\n",
              "1 36                RhodeIsland 71169           \n",
              "2 36                RhodeIsland 71169           \n",
              "3 36                RhodeIsland 71169           \n",
              "4 36                RhodeIsland 71169           \n",
              "5 36                RhodeIsland 71169           "
            ]
          },
          "metadata": {}
        }
      ]
    },
    {
      "cell_type": "markdown",
      "source": [
        "## South Caroliana"
      ],
      "metadata": {
        "id": "yyQutSiPpc02"
      }
    },
    {
      "cell_type": "code",
      "source": [
        "Full <- read.csv(\"/content/SouthCarolina.csv\", skip=0, header=TRUE)\n",
        "Short <- read.csv(\"/content/SC_2.csv\", skip=0, header=TRUE)\n",
        "combo <- merge(Full,Short, by=\"Time\", all = T)\n",
        "\n",
        "#head(AL_combo,5)\n",
        "# Add FBI crime data\n",
        "combo$Rapes_per_100k <- 47.9 # <<<====\n",
        "# Add weekly church attendence\n",
        "combo$church_attendence <- 47 # <=======\n",
        "# Add State column\n",
        "combo$State <- \"SouthCarolina\" # <<<========\n",
        "# Add median household income\n",
        "combo$Household_Income <- 56227 # <<<======\n",
        "#drop extraneous cols\n",
        "combo <- combo %>% \n",
        "        select(-c('State.x', 'State.y'))\n",
        "colnames(combo) <- c(\"Time\",\"ketamine\",\"date_rape\",\"GHB\",\"Rohypnol\",\n",
        "                        \"morning_after_pill\",\"roofie\",\"pills_to_avoid_preg\",\n",
        "                       \"how_much_is_morning_after_pill\",\"been_raped\",\"Rapes_per_100k\",\"church_attendence\",\"State\",\"Household_Income\")\n",
        "SC_combo <- combo                       \n",
        "head(SC_combo ,5)"
      ],
      "metadata": {
        "colab": {
          "base_uri": "https://localhost:8080/",
          "height": 448
        },
        "id": "n0XCbdLHt8_G",
        "outputId": "d1c8ec12-b718-41fe-f08f-8fc0967b774d"
      },
      "execution_count": 218,
      "outputs": [
        {
          "output_type": "display_data",
          "data": {
            "text/html": [
              "<table class=\"dataframe\">\n",
              "<caption>A data.frame: 5 × 14</caption>\n",
              "<thead>\n",
              "\t<tr><th></th><th scope=col>Time</th><th scope=col>ketamine</th><th scope=col>date_rape</th><th scope=col>GHB</th><th scope=col>Rohypnol</th><th scope=col>morning_after_pill</th><th scope=col>roofie</th><th scope=col>pills_to_avoid_preg</th><th scope=col>how_much_is_morning_after_pill</th><th scope=col>been_raped</th><th scope=col>Rapes_per_100k</th><th scope=col>church_attendence</th><th scope=col>State</th><th scope=col>Household_Income</th></tr>\n",
              "\t<tr><th></th><th scope=col>&lt;chr&gt;</th><th scope=col>&lt;int&gt;</th><th scope=col>&lt;int&gt;</th><th scope=col>&lt;int&gt;</th><th scope=col>&lt;int&gt;</th><th scope=col>&lt;int&gt;</th><th scope=col>&lt;int&gt;</th><th scope=col>&lt;int&gt;</th><th scope=col>&lt;int&gt;</th><th scope=col>&lt;int&gt;</th><th scope=col>&lt;dbl&gt;</th><th scope=col>&lt;dbl&gt;</th><th scope=col>&lt;chr&gt;</th><th scope=col>&lt;dbl&gt;</th></tr>\n",
              "</thead>\n",
              "<tbody>\n",
              "\t<tr><th scope=row>1</th><td>2022-02-23T12</td><td>25</td><td>0</td><td> 6</td><td>0</td><td>NA</td><td>NA</td><td>NA</td><td>NA</td><td>NA</td><td>47.9</td><td>47</td><td>SouthCarolina</td><td>56227</td></tr>\n",
              "\t<tr><th scope=row>2</th><td>2022-02-23T13</td><td>31</td><td>6</td><td>12</td><td>0</td><td> 0</td><td> 0</td><td> 0</td><td> 0</td><td> 0</td><td>47.9</td><td>47</td><td>SouthCarolina</td><td>56227</td></tr>\n",
              "\t<tr><th scope=row>3</th><td>2022-02-23T14</td><td>19</td><td>0</td><td> 0</td><td>0</td><td>21</td><td> 0</td><td> 0</td><td> 0</td><td> 0</td><td>47.9</td><td>47</td><td>SouthCarolina</td><td>56227</td></tr>\n",
              "\t<tr><th scope=row>4</th><td>2022-02-23T15</td><td> 6</td><td>0</td><td> 0</td><td>0</td><td>10</td><td> 0</td><td> 0</td><td> 0</td><td> 0</td><td>47.9</td><td>47</td><td>SouthCarolina</td><td>56227</td></tr>\n",
              "\t<tr><th scope=row>5</th><td>2022-02-23T16</td><td> 6</td><td>0</td><td> 6</td><td>0</td><td> 0</td><td> 0</td><td> 0</td><td> 0</td><td> 0</td><td>47.9</td><td>47</td><td>SouthCarolina</td><td>56227</td></tr>\n",
              "</tbody>\n",
              "</table>\n"
            ],
            "text/markdown": "\nA data.frame: 5 × 14\n\n| <!--/--> | Time &lt;chr&gt; | ketamine &lt;int&gt; | date_rape &lt;int&gt; | GHB &lt;int&gt; | Rohypnol &lt;int&gt; | morning_after_pill &lt;int&gt; | roofie &lt;int&gt; | pills_to_avoid_preg &lt;int&gt; | how_much_is_morning_after_pill &lt;int&gt; | been_raped &lt;int&gt; | Rapes_per_100k &lt;dbl&gt; | church_attendence &lt;dbl&gt; | State &lt;chr&gt; | Household_Income &lt;dbl&gt; |\n|---|---|---|---|---|---|---|---|---|---|---|---|---|---|---|\n| 1 | 2022-02-23T12 | 25 | 0 |  6 | 0 | NA | NA | NA | NA | NA | 47.9 | 47 | SouthCarolina | 56227 |\n| 2 | 2022-02-23T13 | 31 | 6 | 12 | 0 |  0 |  0 |  0 |  0 |  0 | 47.9 | 47 | SouthCarolina | 56227 |\n| 3 | 2022-02-23T14 | 19 | 0 |  0 | 0 | 21 |  0 |  0 |  0 |  0 | 47.9 | 47 | SouthCarolina | 56227 |\n| 4 | 2022-02-23T15 |  6 | 0 |  0 | 0 | 10 |  0 |  0 |  0 |  0 | 47.9 | 47 | SouthCarolina | 56227 |\n| 5 | 2022-02-23T16 |  6 | 0 |  6 | 0 |  0 |  0 |  0 |  0 |  0 | 47.9 | 47 | SouthCarolina | 56227 |\n\n",
            "text/latex": "A data.frame: 5 × 14\n\\begin{tabular}{r|llllllllllllll}\n  & Time & ketamine & date\\_rape & GHB & Rohypnol & morning\\_after\\_pill & roofie & pills\\_to\\_avoid\\_preg & how\\_much\\_is\\_morning\\_after\\_pill & been\\_raped & Rapes\\_per\\_100k & church\\_attendence & State & Household\\_Income\\\\\n  & <chr> & <int> & <int> & <int> & <int> & <int> & <int> & <int> & <int> & <int> & <dbl> & <dbl> & <chr> & <dbl>\\\\\n\\hline\n\t1 & 2022-02-23T12 & 25 & 0 &  6 & 0 & NA & NA & NA & NA & NA & 47.9 & 47 & SouthCarolina & 56227\\\\\n\t2 & 2022-02-23T13 & 31 & 6 & 12 & 0 &  0 &  0 &  0 &  0 &  0 & 47.9 & 47 & SouthCarolina & 56227\\\\\n\t3 & 2022-02-23T14 & 19 & 0 &  0 & 0 & 21 &  0 &  0 &  0 &  0 & 47.9 & 47 & SouthCarolina & 56227\\\\\n\t4 & 2022-02-23T15 &  6 & 0 &  0 & 0 & 10 &  0 &  0 &  0 &  0 & 47.9 & 47 & SouthCarolina & 56227\\\\\n\t5 & 2022-02-23T16 &  6 & 0 &  6 & 0 &  0 &  0 &  0 &  0 &  0 & 47.9 & 47 & SouthCarolina & 56227\\\\\n\\end{tabular}\n",
            "text/plain": [
              "  Time          ketamine date_rape GHB Rohypnol morning_after_pill roofie\n",
              "1 2022-02-23T12 25       0          6  0        NA                 NA    \n",
              "2 2022-02-23T13 31       6         12  0         0                  0    \n",
              "3 2022-02-23T14 19       0          0  0        21                  0    \n",
              "4 2022-02-23T15  6       0          0  0        10                  0    \n",
              "5 2022-02-23T16  6       0          6  0         0                  0    \n",
              "  pills_to_avoid_preg how_much_is_morning_after_pill been_raped Rapes_per_100k\n",
              "1 NA                  NA                             NA         47.9          \n",
              "2  0                   0                              0         47.9          \n",
              "3  0                   0                              0         47.9          \n",
              "4  0                   0                              0         47.9          \n",
              "5  0                   0                              0         47.9          \n",
              "  church_attendence State         Household_Income\n",
              "1 47                SouthCarolina 56227           \n",
              "2 47                SouthCarolina 56227           \n",
              "3 47                SouthCarolina 56227           \n",
              "4 47                SouthCarolina 56227           \n",
              "5 47                SouthCarolina 56227           "
            ]
          },
          "metadata": {}
        }
      ]
    },
    {
      "cell_type": "markdown",
      "source": [
        "## South Dakota"
      ],
      "metadata": {
        "id": "Q-67inbNpcxF"
      }
    },
    {
      "cell_type": "code",
      "source": [
        "Full <- read.csv(\"/content/SouthDakota.csv\", skip=0, header=TRUE)\n",
        "Short <- read.csv(\"/content/SD_2.csv\", skip=0, header=TRUE)\n",
        "combo <- merge(Full,Short, by=\"Time\", all = T)\n",
        "\n",
        "#head(AL_combo,5)\n",
        "# Add FBI crime data\n",
        "combo$Rapes_per_100k <- 69.6 # <<<====\n",
        "# Add weekly church attendence\n",
        "combo$church_attendence <- 36 # <=======\n",
        "# Add State column\n",
        "combo$State <- \"SouthDakota\" # <<<========\n",
        "# Add median household income\n",
        "combo$Household_Income <- 59533 # <<<======\n",
        "#drop extraneous cols\n",
        "combo <- combo %>% \n",
        "        select(-c('State.x', 'State.y'))\n",
        "colnames(combo) <- c(\"Time\",\"ketamine\",\"date_rape\",\"GHB\",\"Rohypnol\",\n",
        "                        \"morning_after_pill\",\"roofie\",\"pills_to_avoid_preg\",\n",
        "                       \"how_much_is_morning_after_pill\",\"been_raped\",\"Rapes_per_100k\",\"church_attendence\",\"State\",\"Household_Income\")\n",
        "SD_combo <- combo                       \n",
        "head(SD_combo ,5)"
      ],
      "metadata": {
        "colab": {
          "base_uri": "https://localhost:8080/",
          "height": 448
        },
        "id": "Em6gMDqJwf1c",
        "outputId": "2531bb7e-c5cc-476e-b3e3-1049ad490866"
      },
      "execution_count": 219,
      "outputs": [
        {
          "output_type": "display_data",
          "data": {
            "text/html": [
              "<table class=\"dataframe\">\n",
              "<caption>A data.frame: 5 × 14</caption>\n",
              "<thead>\n",
              "\t<tr><th></th><th scope=col>Time</th><th scope=col>ketamine</th><th scope=col>date_rape</th><th scope=col>GHB</th><th scope=col>Rohypnol</th><th scope=col>morning_after_pill</th><th scope=col>roofie</th><th scope=col>pills_to_avoid_preg</th><th scope=col>how_much_is_morning_after_pill</th><th scope=col>been_raped</th><th scope=col>Rapes_per_100k</th><th scope=col>church_attendence</th><th scope=col>State</th><th scope=col>Household_Income</th></tr>\n",
              "\t<tr><th></th><th scope=col>&lt;chr&gt;</th><th scope=col>&lt;int&gt;</th><th scope=col>&lt;int&gt;</th><th scope=col>&lt;int&gt;</th><th scope=col>&lt;int&gt;</th><th scope=col>&lt;lgl&gt;</th><th scope=col>&lt;lgl&gt;</th><th scope=col>&lt;lgl&gt;</th><th scope=col>&lt;lgl&gt;</th><th scope=col>&lt;lgl&gt;</th><th scope=col>&lt;dbl&gt;</th><th scope=col>&lt;dbl&gt;</th><th scope=col>&lt;chr&gt;</th><th scope=col>&lt;dbl&gt;</th></tr>\n",
              "</thead>\n",
              "<tbody>\n",
              "\t<tr><th scope=row>1</th><td>2022-02-23T12</td><td> 0</td><td>0</td><td>11</td><td>0</td><td>NA</td><td>NA</td><td>NA</td><td>NA</td><td>NA</td><td>69.6</td><td>36</td><td>SouthDakota</td><td>59533</td></tr>\n",
              "\t<tr><th scope=row>2</th><td>2022-02-23T13</td><td> 0</td><td>0</td><td> 0</td><td>0</td><td>NA</td><td>NA</td><td>NA</td><td>NA</td><td>NA</td><td>69.6</td><td>36</td><td>SouthDakota</td><td>59533</td></tr>\n",
              "\t<tr><th scope=row>3</th><td>2022-02-23T14</td><td> 0</td><td>0</td><td> 0</td><td>0</td><td>NA</td><td>NA</td><td>NA</td><td>NA</td><td>NA</td><td>69.6</td><td>36</td><td>SouthDakota</td><td>59533</td></tr>\n",
              "\t<tr><th scope=row>4</th><td>2022-02-23T15</td><td>12</td><td>0</td><td> 0</td><td>0</td><td>NA</td><td>NA</td><td>NA</td><td>NA</td><td>NA</td><td>69.6</td><td>36</td><td>SouthDakota</td><td>59533</td></tr>\n",
              "\t<tr><th scope=row>5</th><td>2022-02-23T16</td><td> 0</td><td>0</td><td>23</td><td>0</td><td>NA</td><td>NA</td><td>NA</td><td>NA</td><td>NA</td><td>69.6</td><td>36</td><td>SouthDakota</td><td>59533</td></tr>\n",
              "</tbody>\n",
              "</table>\n"
            ],
            "text/markdown": "\nA data.frame: 5 × 14\n\n| <!--/--> | Time &lt;chr&gt; | ketamine &lt;int&gt; | date_rape &lt;int&gt; | GHB &lt;int&gt; | Rohypnol &lt;int&gt; | morning_after_pill &lt;lgl&gt; | roofie &lt;lgl&gt; | pills_to_avoid_preg &lt;lgl&gt; | how_much_is_morning_after_pill &lt;lgl&gt; | been_raped &lt;lgl&gt; | Rapes_per_100k &lt;dbl&gt; | church_attendence &lt;dbl&gt; | State &lt;chr&gt; | Household_Income &lt;dbl&gt; |\n|---|---|---|---|---|---|---|---|---|---|---|---|---|---|---|\n| 1 | 2022-02-23T12 |  0 | 0 | 11 | 0 | NA | NA | NA | NA | NA | 69.6 | 36 | SouthDakota | 59533 |\n| 2 | 2022-02-23T13 |  0 | 0 |  0 | 0 | NA | NA | NA | NA | NA | 69.6 | 36 | SouthDakota | 59533 |\n| 3 | 2022-02-23T14 |  0 | 0 |  0 | 0 | NA | NA | NA | NA | NA | 69.6 | 36 | SouthDakota | 59533 |\n| 4 | 2022-02-23T15 | 12 | 0 |  0 | 0 | NA | NA | NA | NA | NA | 69.6 | 36 | SouthDakota | 59533 |\n| 5 | 2022-02-23T16 |  0 | 0 | 23 | 0 | NA | NA | NA | NA | NA | 69.6 | 36 | SouthDakota | 59533 |\n\n",
            "text/latex": "A data.frame: 5 × 14\n\\begin{tabular}{r|llllllllllllll}\n  & Time & ketamine & date\\_rape & GHB & Rohypnol & morning\\_after\\_pill & roofie & pills\\_to\\_avoid\\_preg & how\\_much\\_is\\_morning\\_after\\_pill & been\\_raped & Rapes\\_per\\_100k & church\\_attendence & State & Household\\_Income\\\\\n  & <chr> & <int> & <int> & <int> & <int> & <lgl> & <lgl> & <lgl> & <lgl> & <lgl> & <dbl> & <dbl> & <chr> & <dbl>\\\\\n\\hline\n\t1 & 2022-02-23T12 &  0 & 0 & 11 & 0 & NA & NA & NA & NA & NA & 69.6 & 36 & SouthDakota & 59533\\\\\n\t2 & 2022-02-23T13 &  0 & 0 &  0 & 0 & NA & NA & NA & NA & NA & 69.6 & 36 & SouthDakota & 59533\\\\\n\t3 & 2022-02-23T14 &  0 & 0 &  0 & 0 & NA & NA & NA & NA & NA & 69.6 & 36 & SouthDakota & 59533\\\\\n\t4 & 2022-02-23T15 & 12 & 0 &  0 & 0 & NA & NA & NA & NA & NA & 69.6 & 36 & SouthDakota & 59533\\\\\n\t5 & 2022-02-23T16 &  0 & 0 & 23 & 0 & NA & NA & NA & NA & NA & 69.6 & 36 & SouthDakota & 59533\\\\\n\\end{tabular}\n",
            "text/plain": [
              "  Time          ketamine date_rape GHB Rohypnol morning_after_pill roofie\n",
              "1 2022-02-23T12  0       0         11  0        NA                 NA    \n",
              "2 2022-02-23T13  0       0          0  0        NA                 NA    \n",
              "3 2022-02-23T14  0       0          0  0        NA                 NA    \n",
              "4 2022-02-23T15 12       0          0  0        NA                 NA    \n",
              "5 2022-02-23T16  0       0         23  0        NA                 NA    \n",
              "  pills_to_avoid_preg how_much_is_morning_after_pill been_raped Rapes_per_100k\n",
              "1 NA                  NA                             NA         69.6          \n",
              "2 NA                  NA                             NA         69.6          \n",
              "3 NA                  NA                             NA         69.6          \n",
              "4 NA                  NA                             NA         69.6          \n",
              "5 NA                  NA                             NA         69.6          \n",
              "  church_attendence State       Household_Income\n",
              "1 36                SouthDakota 59533           \n",
              "2 36                SouthDakota 59533           \n",
              "3 36                SouthDakota 59533           \n",
              "4 36                SouthDakota 59533           \n",
              "5 36                SouthDakota 59533           "
            ]
          },
          "metadata": {}
        }
      ]
    },
    {
      "cell_type": "markdown",
      "source": [
        "## Tennassee"
      ],
      "metadata": {
        "id": "il5xp6hOpctD"
      }
    },
    {
      "cell_type": "code",
      "source": [
        "Full <- read.csv(\"/content/Tennasee.csv\", skip=0, header=TRUE)\n",
        "head(Full,3)"
      ],
      "metadata": {
        "colab": {
          "base_uri": "https://localhost:8080/",
          "height": 316
        },
        "id": "BlT_U_yJRgUg",
        "outputId": "0596c1f8-8c32-4c6f-81cf-374da3473203"
      },
      "execution_count": 32,
      "outputs": [
        {
          "output_type": "display_data",
          "data": {
            "text/html": [
              "<table class=\"dataframe\">\n",
              "<caption>A data.frame: 3 × 7</caption>\n",
              "<thead>\n",
              "\t<tr><th></th><th scope=col>Time</th><th scope=col>ketamine...Tennessee.</th><th scope=col>date.rape...Tennessee.</th><th scope=col>GHB...Tennessee.</th><th scope=col>Rohypnol...Tennessee.</th><th scope=col>State</th><th scope=col>X</th></tr>\n",
              "\t<tr><th></th><th scope=col>&lt;chr&gt;</th><th scope=col>&lt;int&gt;</th><th scope=col>&lt;int&gt;</th><th scope=col>&lt;int&gt;</th><th scope=col>&lt;int&gt;</th><th scope=col>&lt;chr&gt;</th><th scope=col>&lt;chr&gt;</th></tr>\n",
              "</thead>\n",
              "<tbody>\n",
              "\t<tr><th scope=row>1</th><td>2022-02-23T12</td><td>14</td><td>0</td><td> 0</td><td>0</td><td>Tennessee</td><td></td></tr>\n",
              "\t<tr><th scope=row>2</th><td>2022-02-23T13</td><td>25</td><td>0</td><td> 6</td><td>3</td><td>Tennessee</td><td></td></tr>\n",
              "\t<tr><th scope=row>3</th><td>2022-02-23T14</td><td>19</td><td>0</td><td>11</td><td>5</td><td>Tennessee</td><td></td></tr>\n",
              "</tbody>\n",
              "</table>\n"
            ],
            "text/markdown": "\nA data.frame: 3 × 7\n\n| <!--/--> | Time &lt;chr&gt; | ketamine...Tennessee. &lt;int&gt; | date.rape...Tennessee. &lt;int&gt; | GHB...Tennessee. &lt;int&gt; | Rohypnol...Tennessee. &lt;int&gt; | State &lt;chr&gt; | X &lt;chr&gt; |\n|---|---|---|---|---|---|---|---|\n| 1 | 2022-02-23T12 | 14 | 0 |  0 | 0 | Tennessee | <!----> |\n| 2 | 2022-02-23T13 | 25 | 0 |  6 | 3 | Tennessee | <!----> |\n| 3 | 2022-02-23T14 | 19 | 0 | 11 | 5 | Tennessee | <!----> |\n\n",
            "text/latex": "A data.frame: 3 × 7\n\\begin{tabular}{r|lllllll}\n  & Time & ketamine...Tennessee. & date.rape...Tennessee. & GHB...Tennessee. & Rohypnol...Tennessee. & State & X\\\\\n  & <chr> & <int> & <int> & <int> & <int> & <chr> & <chr>\\\\\n\\hline\n\t1 & 2022-02-23T12 & 14 & 0 &  0 & 0 & Tennessee & \\\\\n\t2 & 2022-02-23T13 & 25 & 0 &  6 & 3 & Tennessee & \\\\\n\t3 & 2022-02-23T14 & 19 & 0 & 11 & 5 & Tennessee & \\\\\n\\end{tabular}\n",
            "text/plain": [
              "  Time          ketamine...Tennessee. date.rape...Tennessee. GHB...Tennessee.\n",
              "1 2022-02-23T12 14                    0                       0              \n",
              "2 2022-02-23T13 25                    0                       6              \n",
              "3 2022-02-23T14 19                    0                      11              \n",
              "  Rohypnol...Tennessee. State     X\n",
              "1 0                     Tennessee  \n",
              "2 3                     Tennessee  \n",
              "3 5                     Tennessee  "
            ]
          },
          "metadata": {}
        }
      ]
    },
    {
      "cell_type": "code",
      "source": [
        "Full<- Full %>% select(-c('X'))"
      ],
      "metadata": {
        "id": "Owt77cg1Rtp_"
      },
      "execution_count": 33,
      "outputs": []
    },
    {
      "cell_type": "code",
      "source": [
        "head(Full)"
      ],
      "metadata": {
        "colab": {
          "base_uri": "https://localhost:8080/",
          "height": 514
        },
        "id": "7OtApem5p-CS",
        "outputId": "440b34b7-c615-408e-af53-6911b31e0530"
      },
      "execution_count": 36,
      "outputs": [
        {
          "output_type": "display_data",
          "data": {
            "text/html": [
              "<table class=\"dataframe\">\n",
              "<caption>A data.frame: 6 × 6</caption>\n",
              "<thead>\n",
              "\t<tr><th></th><th scope=col>Time</th><th scope=col>ketamine...Tennessee.</th><th scope=col>date.rape...Tennessee.</th><th scope=col>GHB...Tennessee.</th><th scope=col>Rohypnol...Tennessee.</th><th scope=col>State</th></tr>\n",
              "\t<tr><th></th><th scope=col>&lt;chr&gt;</th><th scope=col>&lt;int&gt;</th><th scope=col>&lt;int&gt;</th><th scope=col>&lt;int&gt;</th><th scope=col>&lt;int&gt;</th><th scope=col>&lt;chr&gt;</th></tr>\n",
              "</thead>\n",
              "<tbody>\n",
              "\t<tr><th scope=row>1</th><td>2022-02-23T12</td><td>14</td><td>0</td><td> 0</td><td>0</td><td>Tennessee</td></tr>\n",
              "\t<tr><th scope=row>2</th><td>2022-02-23T13</td><td>25</td><td>0</td><td> 6</td><td>3</td><td>Tennessee</td></tr>\n",
              "\t<tr><th scope=row>3</th><td>2022-02-23T14</td><td>19</td><td>0</td><td>11</td><td>5</td><td>Tennessee</td></tr>\n",
              "\t<tr><th scope=row>4</th><td>2022-02-23T15</td><td>19</td><td>3</td><td> 3</td><td>0</td><td>Tennessee</td></tr>\n",
              "\t<tr><th scope=row>5</th><td>2022-02-23T16</td><td>31</td><td>6</td><td> 0</td><td>0</td><td>Tennessee</td></tr>\n",
              "\t<tr><th scope=row>6</th><td>2022-02-23T17</td><td>29</td><td>6</td><td> 3</td><td>3</td><td>Tennessee</td></tr>\n",
              "</tbody>\n",
              "</table>\n"
            ],
            "text/markdown": "\nA data.frame: 6 × 6\n\n| <!--/--> | Time &lt;chr&gt; | ketamine...Tennessee. &lt;int&gt; | date.rape...Tennessee. &lt;int&gt; | GHB...Tennessee. &lt;int&gt; | Rohypnol...Tennessee. &lt;int&gt; | State &lt;chr&gt; |\n|---|---|---|---|---|---|---|\n| 1 | 2022-02-23T12 | 14 | 0 |  0 | 0 | Tennessee |\n| 2 | 2022-02-23T13 | 25 | 0 |  6 | 3 | Tennessee |\n| 3 | 2022-02-23T14 | 19 | 0 | 11 | 5 | Tennessee |\n| 4 | 2022-02-23T15 | 19 | 3 |  3 | 0 | Tennessee |\n| 5 | 2022-02-23T16 | 31 | 6 |  0 | 0 | Tennessee |\n| 6 | 2022-02-23T17 | 29 | 6 |  3 | 3 | Tennessee |\n\n",
            "text/latex": "A data.frame: 6 × 6\n\\begin{tabular}{r|llllll}\n  & Time & ketamine...Tennessee. & date.rape...Tennessee. & GHB...Tennessee. & Rohypnol...Tennessee. & State\\\\\n  & <chr> & <int> & <int> & <int> & <int> & <chr>\\\\\n\\hline\n\t1 & 2022-02-23T12 & 14 & 0 &  0 & 0 & Tennessee\\\\\n\t2 & 2022-02-23T13 & 25 & 0 &  6 & 3 & Tennessee\\\\\n\t3 & 2022-02-23T14 & 19 & 0 & 11 & 5 & Tennessee\\\\\n\t4 & 2022-02-23T15 & 19 & 3 &  3 & 0 & Tennessee\\\\\n\t5 & 2022-02-23T16 & 31 & 6 &  0 & 0 & Tennessee\\\\\n\t6 & 2022-02-23T17 & 29 & 6 &  3 & 3 & Tennessee\\\\\n\\end{tabular}\n",
            "text/plain": [
              "  Time          ketamine...Tennessee. date.rape...Tennessee. GHB...Tennessee.\n",
              "1 2022-02-23T12 14                    0                       0              \n",
              "2 2022-02-23T13 25                    0                       6              \n",
              "3 2022-02-23T14 19                    0                      11              \n",
              "4 2022-02-23T15 19                    3                       3              \n",
              "5 2022-02-23T16 31                    6                       0              \n",
              "6 2022-02-23T17 29                    6                       3              \n",
              "  Rohypnol...Tennessee. State    \n",
              "1 0                     Tennessee\n",
              "2 3                     Tennessee\n",
              "3 5                     Tennessee\n",
              "4 0                     Tennessee\n",
              "5 0                     Tennessee\n",
              "6 3                     Tennessee"
            ]
          },
          "metadata": {}
        }
      ]
    },
    {
      "cell_type": "code",
      "source": [
        "Short <- read.csv(\"/content/TN_2.csv\", skip=0, header=TRUE)\n",
        "head(Short)"
      ],
      "metadata": {
        "colab": {
          "base_uri": "https://localhost:8080/",
          "height": 514
        },
        "id": "OAEwikUzp9xB",
        "outputId": "390ce4e6-a949-4702-c77a-6fc6eec2b0f9"
      },
      "execution_count": 35,
      "outputs": [
        {
          "output_type": "display_data",
          "data": {
            "text/html": [
              "<table class=\"dataframe\">\n",
              "<caption>A data.frame: 6 × 7</caption>\n",
              "<thead>\n",
              "\t<tr><th></th><th scope=col>Time</th><th scope=col>morning.after.pill...Tennessee.</th><th scope=col>roofie...Tennessee.</th><th scope=col>pills.to.avoid.pregnancy.after...Tennessee.</th><th scope=col>how.much.is.the.morning.after.bill...Tennessee.</th><th scope=col>i.been.raped...Tennessee.</th><th scope=col>State</th></tr>\n",
              "\t<tr><th></th><th scope=col>&lt;chr&gt;</th><th scope=col>&lt;int&gt;</th><th scope=col>&lt;int&gt;</th><th scope=col>&lt;int&gt;</th><th scope=col>&lt;int&gt;</th><th scope=col>&lt;int&gt;</th><th scope=col>&lt;chr&gt;</th></tr>\n",
              "</thead>\n",
              "<tbody>\n",
              "\t<tr><th scope=row>1</th><td>2022-02-23T13</td><td> 0</td><td>0</td><td>0</td><td>0</td><td>0</td><td>Tennessee</td></tr>\n",
              "\t<tr><th scope=row>2</th><td>2022-02-23T14</td><td>41</td><td>0</td><td>0</td><td>0</td><td>0</td><td>Tennessee</td></tr>\n",
              "\t<tr><th scope=row>3</th><td>2022-02-23T15</td><td> 0</td><td>0</td><td>0</td><td>0</td><td>0</td><td>Tennessee</td></tr>\n",
              "\t<tr><th scope=row>4</th><td>2022-02-23T16</td><td>17</td><td>0</td><td>0</td><td>0</td><td>0</td><td>Tennessee</td></tr>\n",
              "\t<tr><th scope=row>5</th><td>2022-02-23T17</td><td> 9</td><td>9</td><td>0</td><td>0</td><td>0</td><td>Tennessee</td></tr>\n",
              "\t<tr><th scope=row>6</th><td>2022-02-23T18</td><td>18</td><td>0</td><td>0</td><td>0</td><td>0</td><td>Tennessee</td></tr>\n",
              "</tbody>\n",
              "</table>\n"
            ],
            "text/markdown": "\nA data.frame: 6 × 7\n\n| <!--/--> | Time &lt;chr&gt; | morning.after.pill...Tennessee. &lt;int&gt; | roofie...Tennessee. &lt;int&gt; | pills.to.avoid.pregnancy.after...Tennessee. &lt;int&gt; | how.much.is.the.morning.after.bill...Tennessee. &lt;int&gt; | i.been.raped...Tennessee. &lt;int&gt; | State &lt;chr&gt; |\n|---|---|---|---|---|---|---|---|\n| 1 | 2022-02-23T13 |  0 | 0 | 0 | 0 | 0 | Tennessee |\n| 2 | 2022-02-23T14 | 41 | 0 | 0 | 0 | 0 | Tennessee |\n| 3 | 2022-02-23T15 |  0 | 0 | 0 | 0 | 0 | Tennessee |\n| 4 | 2022-02-23T16 | 17 | 0 | 0 | 0 | 0 | Tennessee |\n| 5 | 2022-02-23T17 |  9 | 9 | 0 | 0 | 0 | Tennessee |\n| 6 | 2022-02-23T18 | 18 | 0 | 0 | 0 | 0 | Tennessee |\n\n",
            "text/latex": "A data.frame: 6 × 7\n\\begin{tabular}{r|lllllll}\n  & Time & morning.after.pill...Tennessee. & roofie...Tennessee. & pills.to.avoid.pregnancy.after...Tennessee. & how.much.is.the.morning.after.bill...Tennessee. & i.been.raped...Tennessee. & State\\\\\n  & <chr> & <int> & <int> & <int> & <int> & <int> & <chr>\\\\\n\\hline\n\t1 & 2022-02-23T13 &  0 & 0 & 0 & 0 & 0 & Tennessee\\\\\n\t2 & 2022-02-23T14 & 41 & 0 & 0 & 0 & 0 & Tennessee\\\\\n\t3 & 2022-02-23T15 &  0 & 0 & 0 & 0 & 0 & Tennessee\\\\\n\t4 & 2022-02-23T16 & 17 & 0 & 0 & 0 & 0 & Tennessee\\\\\n\t5 & 2022-02-23T17 &  9 & 9 & 0 & 0 & 0 & Tennessee\\\\\n\t6 & 2022-02-23T18 & 18 & 0 & 0 & 0 & 0 & Tennessee\\\\\n\\end{tabular}\n",
            "text/plain": [
              "  Time          morning.after.pill...Tennessee. roofie...Tennessee.\n",
              "1 2022-02-23T13  0                              0                  \n",
              "2 2022-02-23T14 41                              0                  \n",
              "3 2022-02-23T15  0                              0                  \n",
              "4 2022-02-23T16 17                              0                  \n",
              "5 2022-02-23T17  9                              9                  \n",
              "6 2022-02-23T18 18                              0                  \n",
              "  pills.to.avoid.pregnancy.after...Tennessee.\n",
              "1 0                                          \n",
              "2 0                                          \n",
              "3 0                                          \n",
              "4 0                                          \n",
              "5 0                                          \n",
              "6 0                                          \n",
              "  how.much.is.the.morning.after.bill...Tennessee. i.been.raped...Tennessee.\n",
              "1 0                                               0                        \n",
              "2 0                                               0                        \n",
              "3 0                                               0                        \n",
              "4 0                                               0                        \n",
              "5 0                                               0                        \n",
              "6 0                                               0                        \n",
              "  State    \n",
              "1 Tennessee\n",
              "2 Tennessee\n",
              "3 Tennessee\n",
              "4 Tennessee\n",
              "5 Tennessee\n",
              "6 Tennessee"
            ]
          },
          "metadata": {}
        }
      ]
    },
    {
      "cell_type": "code",
      "source": [
        "#Full <- read.csv(\"/content/Tennasee.csv\", skip=0, header=TRUE)\n",
        "#Short <- read.csv(\"/content/TN_2.csv\", skip=0, header=TRUE)\n",
        "combo <- merge(Full,Short, by=\"Time\", all = T)\n",
        "\n",
        "#head(AL_combo,5)\n",
        "# Add FBI crime data\n",
        "combo$Rapes_per_100k <- 41.7 # <<<====\n",
        "# Add weekly church attendence\n",
        "combo$church_attendence <- 51 # <=======\n",
        "# Add State column\n",
        "combo$State <- \"Tennasee\" # <<<========\n",
        "# Add median household income\n",
        "combo$Household_Income <- 56071 # <<<======\n",
        "#drop extraneous cols\n",
        "combo <- combo %>% \n",
        "        select(-c('State.x', 'State.y'))\n",
        "colnames(combo) <- c(\"Time\",\"ketamine\",\"date_rape\",\"GHB\",\"Rohypnol\",\n",
        "                        \"morning_after_pill\",\"roofie\",\"pills_to_avoid_preg\",\n",
        "                       \"how_much_is_morning_after_pill\",\"been_raped\",\"Rapes_per_100k\",\"church_attendence\",\"State\",\"Household_Income\")\n",
        "TN_combo <- combo                       \n",
        "head(TN_combo ,5)"
      ],
      "metadata": {
        "colab": {
          "base_uri": "https://localhost:8080/",
          "height": 448
        },
        "id": "TNWQ5OOWxd00",
        "outputId": "1512cda3-a445-4dab-8e2c-3369f3d7c83d"
      },
      "execution_count": 37,
      "outputs": [
        {
          "output_type": "display_data",
          "data": {
            "text/html": [
              "<table class=\"dataframe\">\n",
              "<caption>A data.frame: 5 × 14</caption>\n",
              "<thead>\n",
              "\t<tr><th></th><th scope=col>Time</th><th scope=col>ketamine</th><th scope=col>date_rape</th><th scope=col>GHB</th><th scope=col>Rohypnol</th><th scope=col>morning_after_pill</th><th scope=col>roofie</th><th scope=col>pills_to_avoid_preg</th><th scope=col>how_much_is_morning_after_pill</th><th scope=col>been_raped</th><th scope=col>Rapes_per_100k</th><th scope=col>church_attendence</th><th scope=col>State</th><th scope=col>Household_Income</th></tr>\n",
              "\t<tr><th></th><th scope=col>&lt;chr&gt;</th><th scope=col>&lt;int&gt;</th><th scope=col>&lt;int&gt;</th><th scope=col>&lt;int&gt;</th><th scope=col>&lt;int&gt;</th><th scope=col>&lt;int&gt;</th><th scope=col>&lt;int&gt;</th><th scope=col>&lt;int&gt;</th><th scope=col>&lt;int&gt;</th><th scope=col>&lt;int&gt;</th><th scope=col>&lt;dbl&gt;</th><th scope=col>&lt;dbl&gt;</th><th scope=col>&lt;chr&gt;</th><th scope=col>&lt;dbl&gt;</th></tr>\n",
              "</thead>\n",
              "<tbody>\n",
              "\t<tr><th scope=row>1</th><td>2022-02-23T12</td><td>14</td><td>0</td><td> 0</td><td>0</td><td>NA</td><td>NA</td><td>NA</td><td>NA</td><td>NA</td><td>41.7</td><td>51</td><td>Tennasee</td><td>56071</td></tr>\n",
              "\t<tr><th scope=row>2</th><td>2022-02-23T13</td><td>25</td><td>0</td><td> 6</td><td>3</td><td> 0</td><td> 0</td><td> 0</td><td> 0</td><td> 0</td><td>41.7</td><td>51</td><td>Tennasee</td><td>56071</td></tr>\n",
              "\t<tr><th scope=row>3</th><td>2022-02-23T14</td><td>19</td><td>0</td><td>11</td><td>5</td><td>41</td><td> 0</td><td> 0</td><td> 0</td><td> 0</td><td>41.7</td><td>51</td><td>Tennasee</td><td>56071</td></tr>\n",
              "\t<tr><th scope=row>4</th><td>2022-02-23T15</td><td>19</td><td>3</td><td> 3</td><td>0</td><td> 0</td><td> 0</td><td> 0</td><td> 0</td><td> 0</td><td>41.7</td><td>51</td><td>Tennasee</td><td>56071</td></tr>\n",
              "\t<tr><th scope=row>5</th><td>2022-02-23T16</td><td>31</td><td>6</td><td> 0</td><td>0</td><td>17</td><td> 0</td><td> 0</td><td> 0</td><td> 0</td><td>41.7</td><td>51</td><td>Tennasee</td><td>56071</td></tr>\n",
              "</tbody>\n",
              "</table>\n"
            ],
            "text/markdown": "\nA data.frame: 5 × 14\n\n| <!--/--> | Time &lt;chr&gt; | ketamine &lt;int&gt; | date_rape &lt;int&gt; | GHB &lt;int&gt; | Rohypnol &lt;int&gt; | morning_after_pill &lt;int&gt; | roofie &lt;int&gt; | pills_to_avoid_preg &lt;int&gt; | how_much_is_morning_after_pill &lt;int&gt; | been_raped &lt;int&gt; | Rapes_per_100k &lt;dbl&gt; | church_attendence &lt;dbl&gt; | State &lt;chr&gt; | Household_Income &lt;dbl&gt; |\n|---|---|---|---|---|---|---|---|---|---|---|---|---|---|---|\n| 1 | 2022-02-23T12 | 14 | 0 |  0 | 0 | NA | NA | NA | NA | NA | 41.7 | 51 | Tennasee | 56071 |\n| 2 | 2022-02-23T13 | 25 | 0 |  6 | 3 |  0 |  0 |  0 |  0 |  0 | 41.7 | 51 | Tennasee | 56071 |\n| 3 | 2022-02-23T14 | 19 | 0 | 11 | 5 | 41 |  0 |  0 |  0 |  0 | 41.7 | 51 | Tennasee | 56071 |\n| 4 | 2022-02-23T15 | 19 | 3 |  3 | 0 |  0 |  0 |  0 |  0 |  0 | 41.7 | 51 | Tennasee | 56071 |\n| 5 | 2022-02-23T16 | 31 | 6 |  0 | 0 | 17 |  0 |  0 |  0 |  0 | 41.7 | 51 | Tennasee | 56071 |\n\n",
            "text/latex": "A data.frame: 5 × 14\n\\begin{tabular}{r|llllllllllllll}\n  & Time & ketamine & date\\_rape & GHB & Rohypnol & morning\\_after\\_pill & roofie & pills\\_to\\_avoid\\_preg & how\\_much\\_is\\_morning\\_after\\_pill & been\\_raped & Rapes\\_per\\_100k & church\\_attendence & State & Household\\_Income\\\\\n  & <chr> & <int> & <int> & <int> & <int> & <int> & <int> & <int> & <int> & <int> & <dbl> & <dbl> & <chr> & <dbl>\\\\\n\\hline\n\t1 & 2022-02-23T12 & 14 & 0 &  0 & 0 & NA & NA & NA & NA & NA & 41.7 & 51 & Tennasee & 56071\\\\\n\t2 & 2022-02-23T13 & 25 & 0 &  6 & 3 &  0 &  0 &  0 &  0 &  0 & 41.7 & 51 & Tennasee & 56071\\\\\n\t3 & 2022-02-23T14 & 19 & 0 & 11 & 5 & 41 &  0 &  0 &  0 &  0 & 41.7 & 51 & Tennasee & 56071\\\\\n\t4 & 2022-02-23T15 & 19 & 3 &  3 & 0 &  0 &  0 &  0 &  0 &  0 & 41.7 & 51 & Tennasee & 56071\\\\\n\t5 & 2022-02-23T16 & 31 & 6 &  0 & 0 & 17 &  0 &  0 &  0 &  0 & 41.7 & 51 & Tennasee & 56071\\\\\n\\end{tabular}\n",
            "text/plain": [
              "  Time          ketamine date_rape GHB Rohypnol morning_after_pill roofie\n",
              "1 2022-02-23T12 14       0          0  0        NA                 NA    \n",
              "2 2022-02-23T13 25       0          6  3         0                  0    \n",
              "3 2022-02-23T14 19       0         11  5        41                  0    \n",
              "4 2022-02-23T15 19       3          3  0         0                  0    \n",
              "5 2022-02-23T16 31       6          0  0        17                  0    \n",
              "  pills_to_avoid_preg how_much_is_morning_after_pill been_raped Rapes_per_100k\n",
              "1 NA                  NA                             NA         41.7          \n",
              "2  0                   0                              0         41.7          \n",
              "3  0                   0                              0         41.7          \n",
              "4  0                   0                              0         41.7          \n",
              "5  0                   0                              0         41.7          \n",
              "  church_attendence State    Household_Income\n",
              "1 51                Tennasee 56071           \n",
              "2 51                Tennasee 56071           \n",
              "3 51                Tennasee 56071           \n",
              "4 51                Tennasee 56071           \n",
              "5 51                Tennasee 56071           "
            ]
          },
          "metadata": {}
        }
      ]
    },
    {
      "cell_type": "code",
      "source": [
        "##AL_combo[ , 2:5] <- lapply(AL_combo[, 2:5], as.numeric)\n",
        "#TN_combo[ , 6] <- lapply(TN_combo[, 6], as.numeric)"
      ],
      "metadata": {
        "colab": {
          "base_uri": "https://localhost:8080/"
        },
        "id": "vmEfCIH1MHlx",
        "outputId": "5e03cca7-fd1b-4c6d-f88a-b8ad9bdd0709"
      },
      "execution_count": 267,
      "outputs": [
        {
          "output_type": "stream",
          "name": "stderr",
          "text": [
            "Warning message in lapply(TN_combo[, 6], as.numeric):\n",
            "“NAs introduced by coercion”\n",
            "Warning message in `[<-.data.frame`(`*tmp*`, , 6, value = list(NA_real_, NA_real_, :\n",
            "“provided 169 variables to replace 1 variables”\n"
          ]
        }
      ]
    },
    {
      "cell_type": "markdown",
      "source": [
        "## Texas"
      ],
      "metadata": {
        "id": "vsbcMjlTpcpN"
      }
    },
    {
      "cell_type": "code",
      "source": [
        "Full <- read.csv(\"/content/Texas.csv\", skip=0, header=TRUE)\n",
        "Short <- read.csv(\"/content/TX_2.csv\", skip=0, header=TRUE)\n",
        "combo <- merge(Full,Short, by=\"Time\", all = T)\n",
        "\n",
        "#head(AL_combo,5)\n",
        "# Add FBI crime data\n",
        "combo$Rapes_per_100k <- 41.7 # <<<====\n",
        "# Add weekly church attendence\n",
        "combo$church_attendence <- 51 # <=======\n",
        "# Add State column\n",
        "combo$State <- \"Texas\" # <<<========\n",
        "# Add median household income\n",
        "combo$Household_Income <- 56071 # <<<======\n",
        "#drop extraneous cols\n",
        "combo <- combo %>% \n",
        "        select(-c('State.x', 'State.y'))\n",
        "colnames(combo) <- c(\"Time\",\"ketamine\",\"date_rape\",\"GHB\",\"Rohypnol\",\n",
        "                        \"morning_after_pill\",\"roofie\",\"pills_to_avoid_preg\",\n",
        "                       \"how_much_is_morning_after_pill\",\"been_raped\",\"Rapes_per_100k\",\"church_attendence\",\"State\",\"Household_Income\")\n",
        "TX_combo <- combo                       \n",
        "head(TX_combo ,5)"
      ],
      "metadata": {
        "colab": {
          "base_uri": "https://localhost:8080/",
          "height": 448
        },
        "id": "redDng5pyB7Z",
        "outputId": "1518fc7d-1833-41d1-fec5-e0996293de74"
      },
      "execution_count": 221,
      "outputs": [
        {
          "output_type": "display_data",
          "data": {
            "text/html": [
              "<table class=\"dataframe\">\n",
              "<caption>A data.frame: 5 × 14</caption>\n",
              "<thead>\n",
              "\t<tr><th></th><th scope=col>Time</th><th scope=col>ketamine</th><th scope=col>date_rape</th><th scope=col>GHB</th><th scope=col>Rohypnol</th><th scope=col>morning_after_pill</th><th scope=col>roofie</th><th scope=col>pills_to_avoid_preg</th><th scope=col>how_much_is_morning_after_pill</th><th scope=col>been_raped</th><th scope=col>Rapes_per_100k</th><th scope=col>church_attendence</th><th scope=col>State</th><th scope=col>Household_Income</th></tr>\n",
              "\t<tr><th></th><th scope=col>&lt;chr&gt;</th><th scope=col>&lt;int&gt;</th><th scope=col>&lt;int&gt;</th><th scope=col>&lt;int&gt;</th><th scope=col>&lt;int&gt;</th><th scope=col>&lt;int&gt;</th><th scope=col>&lt;int&gt;</th><th scope=col>&lt;int&gt;</th><th scope=col>&lt;int&gt;</th><th scope=col>&lt;int&gt;</th><th scope=col>&lt;dbl&gt;</th><th scope=col>&lt;dbl&gt;</th><th scope=col>&lt;chr&gt;</th><th scope=col>&lt;dbl&gt;</th></tr>\n",
              "</thead>\n",
              "<tbody>\n",
              "\t<tr><th scope=row>1</th><td>2022-02-23T12</td><td>26</td><td>11</td><td>6</td><td>1</td><td>NA</td><td>NA</td><td>NA</td><td>NA</td><td>NA</td><td>41.7</td><td>51</td><td>Texas</td><td>56071</td></tr>\n",
              "\t<tr><th scope=row>2</th><td>2022-02-23T13</td><td>26</td><td> 3</td><td>4</td><td>1</td><td>12</td><td> 2</td><td> 0</td><td> 0</td><td> 0</td><td>41.7</td><td>51</td><td>Texas</td><td>56071</td></tr>\n",
              "\t<tr><th scope=row>3</th><td>2022-02-23T14</td><td>37</td><td> 3</td><td>6</td><td>1</td><td> 2</td><td> 0</td><td> 0</td><td> 0</td><td> 0</td><td>41.7</td><td>51</td><td>Texas</td><td>56071</td></tr>\n",
              "\t<tr><th scope=row>4</th><td>2022-02-23T15</td><td>43</td><td> 3</td><td>8</td><td>0</td><td> 7</td><td> 2</td><td> 0</td><td> 0</td><td> 0</td><td>41.7</td><td>51</td><td>Texas</td><td>56071</td></tr>\n",
              "\t<tr><th scope=row>5</th><td>2022-02-23T16</td><td>48</td><td> 3</td><td>8</td><td>0</td><td> 7</td><td> 2</td><td> 0</td><td> 0</td><td> 0</td><td>41.7</td><td>51</td><td>Texas</td><td>56071</td></tr>\n",
              "</tbody>\n",
              "</table>\n"
            ],
            "text/markdown": "\nA data.frame: 5 × 14\n\n| <!--/--> | Time &lt;chr&gt; | ketamine &lt;int&gt; | date_rape &lt;int&gt; | GHB &lt;int&gt; | Rohypnol &lt;int&gt; | morning_after_pill &lt;int&gt; | roofie &lt;int&gt; | pills_to_avoid_preg &lt;int&gt; | how_much_is_morning_after_pill &lt;int&gt; | been_raped &lt;int&gt; | Rapes_per_100k &lt;dbl&gt; | church_attendence &lt;dbl&gt; | State &lt;chr&gt; | Household_Income &lt;dbl&gt; |\n|---|---|---|---|---|---|---|---|---|---|---|---|---|---|---|\n| 1 | 2022-02-23T12 | 26 | 11 | 6 | 1 | NA | NA | NA | NA | NA | 41.7 | 51 | Texas | 56071 |\n| 2 | 2022-02-23T13 | 26 |  3 | 4 | 1 | 12 |  2 |  0 |  0 |  0 | 41.7 | 51 | Texas | 56071 |\n| 3 | 2022-02-23T14 | 37 |  3 | 6 | 1 |  2 |  0 |  0 |  0 |  0 | 41.7 | 51 | Texas | 56071 |\n| 4 | 2022-02-23T15 | 43 |  3 | 8 | 0 |  7 |  2 |  0 |  0 |  0 | 41.7 | 51 | Texas | 56071 |\n| 5 | 2022-02-23T16 | 48 |  3 | 8 | 0 |  7 |  2 |  0 |  0 |  0 | 41.7 | 51 | Texas | 56071 |\n\n",
            "text/latex": "A data.frame: 5 × 14\n\\begin{tabular}{r|llllllllllllll}\n  & Time & ketamine & date\\_rape & GHB & Rohypnol & morning\\_after\\_pill & roofie & pills\\_to\\_avoid\\_preg & how\\_much\\_is\\_morning\\_after\\_pill & been\\_raped & Rapes\\_per\\_100k & church\\_attendence & State & Household\\_Income\\\\\n  & <chr> & <int> & <int> & <int> & <int> & <int> & <int> & <int> & <int> & <int> & <dbl> & <dbl> & <chr> & <dbl>\\\\\n\\hline\n\t1 & 2022-02-23T12 & 26 & 11 & 6 & 1 & NA & NA & NA & NA & NA & 41.7 & 51 & Texas & 56071\\\\\n\t2 & 2022-02-23T13 & 26 &  3 & 4 & 1 & 12 &  2 &  0 &  0 &  0 & 41.7 & 51 & Texas & 56071\\\\\n\t3 & 2022-02-23T14 & 37 &  3 & 6 & 1 &  2 &  0 &  0 &  0 &  0 & 41.7 & 51 & Texas & 56071\\\\\n\t4 & 2022-02-23T15 & 43 &  3 & 8 & 0 &  7 &  2 &  0 &  0 &  0 & 41.7 & 51 & Texas & 56071\\\\\n\t5 & 2022-02-23T16 & 48 &  3 & 8 & 0 &  7 &  2 &  0 &  0 &  0 & 41.7 & 51 & Texas & 56071\\\\\n\\end{tabular}\n",
            "text/plain": [
              "  Time          ketamine date_rape GHB Rohypnol morning_after_pill roofie\n",
              "1 2022-02-23T12 26       11        6   1        NA                 NA    \n",
              "2 2022-02-23T13 26        3        4   1        12                  2    \n",
              "3 2022-02-23T14 37        3        6   1         2                  0    \n",
              "4 2022-02-23T15 43        3        8   0         7                  2    \n",
              "5 2022-02-23T16 48        3        8   0         7                  2    \n",
              "  pills_to_avoid_preg how_much_is_morning_after_pill been_raped Rapes_per_100k\n",
              "1 NA                  NA                             NA         41.7          \n",
              "2  0                   0                              0         41.7          \n",
              "3  0                   0                              0         41.7          \n",
              "4  0                   0                              0         41.7          \n",
              "5  0                   0                              0         41.7          \n",
              "  church_attendence State Household_Income\n",
              "1 51                Texas 56071           \n",
              "2 51                Texas 56071           \n",
              "3 51                Texas 56071           \n",
              "4 51                Texas 56071           \n",
              "5 51                Texas 56071           "
            ]
          },
          "metadata": {}
        }
      ]
    },
    {
      "cell_type": "markdown",
      "source": [
        "## Utah"
      ],
      "metadata": {
        "id": "gamK5LiopclM"
      }
    },
    {
      "cell_type": "code",
      "source": [
        "Full <- read.csv(\"/content/Utah.csv\", skip=0, header=TRUE)\n",
        "Short <- read.csv(\"/content/UT_2.csv\", skip=0, header=TRUE)\n",
        "combo <- merge(Full,Short, by=\"Time\", all = T)\n",
        "\n",
        "#head(AL_combo,5)\n",
        "# Add FBI crime data\n",
        "combo$Rapes_per_100k <- 55.5 # <<<====\n",
        "# Add weekly church attendence\n",
        "combo$church_attendence <- 53 # <=======\n",
        "# Add State column\n",
        "combo$State <- \"Utah\" # <<<========\n",
        "# Add median household income\n",
        "combo$Household_Income <- 75780 # <<<======\n",
        "#drop extraneous cols\n",
        "combo <- combo %>% \n",
        "        select(-c('State.x', 'State.y'))\n",
        "colnames(combo) <- c(\"Time\",\"ketamine\",\"date_rape\",\"GHB\",\"Rohypnol\",\n",
        "                        \"morning_after_pill\",\"roofie\",\"pills_to_avoid_preg\",\n",
        "                       \"how_much_is_morning_after_pill\",\"been_raped\",\"Rapes_per_100k\",\"church_attendence\",\"State\",\"Household_Income\")\n",
        "UT_combo <- combo                       \n",
        "head(UT_combo ,5)"
      ],
      "metadata": {
        "colab": {
          "base_uri": "https://localhost:8080/",
          "height": 448
        },
        "id": "F98APlACyi4a",
        "outputId": "843dcef7-6554-4e4a-8458-732c25510dcc"
      },
      "execution_count": 222,
      "outputs": [
        {
          "output_type": "display_data",
          "data": {
            "text/html": [
              "<table class=\"dataframe\">\n",
              "<caption>A data.frame: 5 × 14</caption>\n",
              "<thead>\n",
              "\t<tr><th></th><th scope=col>Time</th><th scope=col>ketamine</th><th scope=col>date_rape</th><th scope=col>GHB</th><th scope=col>Rohypnol</th><th scope=col>morning_after_pill</th><th scope=col>roofie</th><th scope=col>pills_to_avoid_preg</th><th scope=col>how_much_is_morning_after_pill</th><th scope=col>been_raped</th><th scope=col>Rapes_per_100k</th><th scope=col>church_attendence</th><th scope=col>State</th><th scope=col>Household_Income</th></tr>\n",
              "\t<tr><th></th><th scope=col>&lt;chr&gt;</th><th scope=col>&lt;int&gt;</th><th scope=col>&lt;int&gt;</th><th scope=col>&lt;int&gt;</th><th scope=col>&lt;int&gt;</th><th scope=col>&lt;int&gt;</th><th scope=col>&lt;int&gt;</th><th scope=col>&lt;int&gt;</th><th scope=col>&lt;int&gt;</th><th scope=col>&lt;int&gt;</th><th scope=col>&lt;dbl&gt;</th><th scope=col>&lt;dbl&gt;</th><th scope=col>&lt;chr&gt;</th><th scope=col>&lt;dbl&gt;</th></tr>\n",
              "</thead>\n",
              "<tbody>\n",
              "\t<tr><th scope=row>1</th><td>2022-02-23T12</td><td>11</td><td>0</td><td>0</td><td>0</td><td>NA</td><td>NA</td><td>NA</td><td>NA</td><td>NA</td><td>55.5</td><td>53</td><td>Utah</td><td>75780</td></tr>\n",
              "\t<tr><th scope=row>2</th><td>2022-02-23T13</td><td>18</td><td>0</td><td>0</td><td>0</td><td> 8</td><td> 0</td><td> 0</td><td> 0</td><td> 0</td><td>55.5</td><td>53</td><td>Utah</td><td>75780</td></tr>\n",
              "\t<tr><th scope=row>3</th><td>2022-02-23T14</td><td>19</td><td>0</td><td>3</td><td>0</td><td> 0</td><td> 0</td><td> 0</td><td> 0</td><td> 0</td><td>55.5</td><td>53</td><td>Utah</td><td>75780</td></tr>\n",
              "\t<tr><th scope=row>4</th><td>2022-02-23T15</td><td>16</td><td>0</td><td>0</td><td>0</td><td> 0</td><td> 0</td><td> 0</td><td> 0</td><td> 0</td><td>55.5</td><td>53</td><td>Utah</td><td>75780</td></tr>\n",
              "\t<tr><th scope=row>5</th><td>2022-02-23T16</td><td>13</td><td>0</td><td>0</td><td>0</td><td>16</td><td> 0</td><td> 0</td><td> 0</td><td> 0</td><td>55.5</td><td>53</td><td>Utah</td><td>75780</td></tr>\n",
              "</tbody>\n",
              "</table>\n"
            ],
            "text/markdown": "\nA data.frame: 5 × 14\n\n| <!--/--> | Time &lt;chr&gt; | ketamine &lt;int&gt; | date_rape &lt;int&gt; | GHB &lt;int&gt; | Rohypnol &lt;int&gt; | morning_after_pill &lt;int&gt; | roofie &lt;int&gt; | pills_to_avoid_preg &lt;int&gt; | how_much_is_morning_after_pill &lt;int&gt; | been_raped &lt;int&gt; | Rapes_per_100k &lt;dbl&gt; | church_attendence &lt;dbl&gt; | State &lt;chr&gt; | Household_Income &lt;dbl&gt; |\n|---|---|---|---|---|---|---|---|---|---|---|---|---|---|---|\n| 1 | 2022-02-23T12 | 11 | 0 | 0 | 0 | NA | NA | NA | NA | NA | 55.5 | 53 | Utah | 75780 |\n| 2 | 2022-02-23T13 | 18 | 0 | 0 | 0 |  8 |  0 |  0 |  0 |  0 | 55.5 | 53 | Utah | 75780 |\n| 3 | 2022-02-23T14 | 19 | 0 | 3 | 0 |  0 |  0 |  0 |  0 |  0 | 55.5 | 53 | Utah | 75780 |\n| 4 | 2022-02-23T15 | 16 | 0 | 0 | 0 |  0 |  0 |  0 |  0 |  0 | 55.5 | 53 | Utah | 75780 |\n| 5 | 2022-02-23T16 | 13 | 0 | 0 | 0 | 16 |  0 |  0 |  0 |  0 | 55.5 | 53 | Utah | 75780 |\n\n",
            "text/latex": "A data.frame: 5 × 14\n\\begin{tabular}{r|llllllllllllll}\n  & Time & ketamine & date\\_rape & GHB & Rohypnol & morning\\_after\\_pill & roofie & pills\\_to\\_avoid\\_preg & how\\_much\\_is\\_morning\\_after\\_pill & been\\_raped & Rapes\\_per\\_100k & church\\_attendence & State & Household\\_Income\\\\\n  & <chr> & <int> & <int> & <int> & <int> & <int> & <int> & <int> & <int> & <int> & <dbl> & <dbl> & <chr> & <dbl>\\\\\n\\hline\n\t1 & 2022-02-23T12 & 11 & 0 & 0 & 0 & NA & NA & NA & NA & NA & 55.5 & 53 & Utah & 75780\\\\\n\t2 & 2022-02-23T13 & 18 & 0 & 0 & 0 &  8 &  0 &  0 &  0 &  0 & 55.5 & 53 & Utah & 75780\\\\\n\t3 & 2022-02-23T14 & 19 & 0 & 3 & 0 &  0 &  0 &  0 &  0 &  0 & 55.5 & 53 & Utah & 75780\\\\\n\t4 & 2022-02-23T15 & 16 & 0 & 0 & 0 &  0 &  0 &  0 &  0 &  0 & 55.5 & 53 & Utah & 75780\\\\\n\t5 & 2022-02-23T16 & 13 & 0 & 0 & 0 & 16 &  0 &  0 &  0 &  0 & 55.5 & 53 & Utah & 75780\\\\\n\\end{tabular}\n",
            "text/plain": [
              "  Time          ketamine date_rape GHB Rohypnol morning_after_pill roofie\n",
              "1 2022-02-23T12 11       0         0   0        NA                 NA    \n",
              "2 2022-02-23T13 18       0         0   0         8                  0    \n",
              "3 2022-02-23T14 19       0         3   0         0                  0    \n",
              "4 2022-02-23T15 16       0         0   0         0                  0    \n",
              "5 2022-02-23T16 13       0         0   0        16                  0    \n",
              "  pills_to_avoid_preg how_much_is_morning_after_pill been_raped Rapes_per_100k\n",
              "1 NA                  NA                             NA         55.5          \n",
              "2  0                   0                              0         55.5          \n",
              "3  0                   0                              0         55.5          \n",
              "4  0                   0                              0         55.5          \n",
              "5  0                   0                              0         55.5          \n",
              "  church_attendence State Household_Income\n",
              "1 53                Utah  75780           \n",
              "2 53                Utah  75780           \n",
              "3 53                Utah  75780           \n",
              "4 53                Utah  75780           \n",
              "5 53                Utah  75780           "
            ]
          },
          "metadata": {}
        }
      ]
    },
    {
      "cell_type": "markdown",
      "source": [
        "## Vermont"
      ],
      "metadata": {
        "id": "msJHHjpPpcha"
      }
    },
    {
      "cell_type": "code",
      "source": [
        "Full <- read.csv(\"/content/Vermont.csv\", skip=0, header=TRUE)\n",
        "Short <- read.csv(\"/content/VT_2.csv\", skip=0, header=TRUE)\n",
        "combo <- merge(Full,Short, by=\"Time\", all = T)\n",
        "\n",
        "#head(AL_combo,5)\n",
        "# Add FBI crime data\n",
        "combo$Rapes_per_100k <- 45.8 # <<<====\n",
        "# Add weekly church attendence\n",
        "combo$church_attendence <- 21 # <=======\n",
        "# Add State column\n",
        "combo$State <- \"Vermont\" # <<<========\n",
        "# Add median household income\n",
        "combo$Household_Income <- 63001 # <<<======\n",
        "#drop extraneous cols\n",
        "combo <- combo %>% \n",
        "        select(-c('State.x', 'State.y'))\n",
        "colnames(combo) <- c(\"Time\",\"ketamine\",\"date_rape\",\"GHB\",\"Rohypnol\",\n",
        "                        \"morning_after_pill\",\"roofie\",\"pills_to_avoid_preg\",\n",
        "                       \"how_much_is_morning_after_pill\",\"been_raped\",\"Rapes_per_100k\",\"church_attendence\",\"State\",\"Household_Income\")\n",
        "VT_combo <- combo                       \n",
        "head(VT_combo ,5)"
      ],
      "metadata": {
        "colab": {
          "base_uri": "https://localhost:8080/",
          "height": 448
        },
        "id": "rMFi6_6xzHvD",
        "outputId": "d3a9c15d-6a7f-4017-a04e-f545e94aef56"
      },
      "execution_count": 223,
      "outputs": [
        {
          "output_type": "display_data",
          "data": {
            "text/html": [
              "<table class=\"dataframe\">\n",
              "<caption>A data.frame: 5 × 14</caption>\n",
              "<thead>\n",
              "\t<tr><th></th><th scope=col>Time</th><th scope=col>ketamine</th><th scope=col>date_rape</th><th scope=col>GHB</th><th scope=col>Rohypnol</th><th scope=col>morning_after_pill</th><th scope=col>roofie</th><th scope=col>pills_to_avoid_preg</th><th scope=col>how_much_is_morning_after_pill</th><th scope=col>been_raped</th><th scope=col>Rapes_per_100k</th><th scope=col>church_attendence</th><th scope=col>State</th><th scope=col>Household_Income</th></tr>\n",
              "\t<tr><th></th><th scope=col>&lt;chr&gt;</th><th scope=col>&lt;int&gt;</th><th scope=col>&lt;int&gt;</th><th scope=col>&lt;int&gt;</th><th scope=col>&lt;int&gt;</th><th scope=col>&lt;int&gt;</th><th scope=col>&lt;int&gt;</th><th scope=col>&lt;int&gt;</th><th scope=col>&lt;int&gt;</th><th scope=col>&lt;int&gt;</th><th scope=col>&lt;dbl&gt;</th><th scope=col>&lt;dbl&gt;</th><th scope=col>&lt;chr&gt;</th><th scope=col>&lt;dbl&gt;</th></tr>\n",
              "</thead>\n",
              "<tbody>\n",
              "\t<tr><th scope=row>1</th><td>2022-02-23T12</td><td> 9</td><td>0</td><td>0</td><td>0</td><td>NA</td><td>NA</td><td>NA</td><td>NA</td><td>NA</td><td>45.8</td><td>21</td><td>Vermont</td><td>63001</td></tr>\n",
              "\t<tr><th scope=row>2</th><td>2022-02-23T13</td><td>17</td><td>0</td><td>0</td><td>0</td><td> 0</td><td> 0</td><td> 0</td><td> 0</td><td> 0</td><td>45.8</td><td>21</td><td>Vermont</td><td>63001</td></tr>\n",
              "\t<tr><th scope=row>3</th><td>2022-02-23T14</td><td>33</td><td>0</td><td>0</td><td>0</td><td> 0</td><td> 0</td><td> 0</td><td> 0</td><td> 0</td><td>45.8</td><td>21</td><td>Vermont</td><td>63001</td></tr>\n",
              "\t<tr><th scope=row>4</th><td>2022-02-23T15</td><td> 0</td><td>0</td><td>0</td><td>0</td><td> 0</td><td> 0</td><td> 0</td><td> 0</td><td> 0</td><td>45.8</td><td>21</td><td>Vermont</td><td>63001</td></tr>\n",
              "\t<tr><th scope=row>5</th><td>2022-02-23T16</td><td>25</td><td>0</td><td>0</td><td>0</td><td> 0</td><td> 0</td><td> 0</td><td> 0</td><td> 0</td><td>45.8</td><td>21</td><td>Vermont</td><td>63001</td></tr>\n",
              "</tbody>\n",
              "</table>\n"
            ],
            "text/markdown": "\nA data.frame: 5 × 14\n\n| <!--/--> | Time &lt;chr&gt; | ketamine &lt;int&gt; | date_rape &lt;int&gt; | GHB &lt;int&gt; | Rohypnol &lt;int&gt; | morning_after_pill &lt;int&gt; | roofie &lt;int&gt; | pills_to_avoid_preg &lt;int&gt; | how_much_is_morning_after_pill &lt;int&gt; | been_raped &lt;int&gt; | Rapes_per_100k &lt;dbl&gt; | church_attendence &lt;dbl&gt; | State &lt;chr&gt; | Household_Income &lt;dbl&gt; |\n|---|---|---|---|---|---|---|---|---|---|---|---|---|---|---|\n| 1 | 2022-02-23T12 |  9 | 0 | 0 | 0 | NA | NA | NA | NA | NA | 45.8 | 21 | Vermont | 63001 |\n| 2 | 2022-02-23T13 | 17 | 0 | 0 | 0 |  0 |  0 |  0 |  0 |  0 | 45.8 | 21 | Vermont | 63001 |\n| 3 | 2022-02-23T14 | 33 | 0 | 0 | 0 |  0 |  0 |  0 |  0 |  0 | 45.8 | 21 | Vermont | 63001 |\n| 4 | 2022-02-23T15 |  0 | 0 | 0 | 0 |  0 |  0 |  0 |  0 |  0 | 45.8 | 21 | Vermont | 63001 |\n| 5 | 2022-02-23T16 | 25 | 0 | 0 | 0 |  0 |  0 |  0 |  0 |  0 | 45.8 | 21 | Vermont | 63001 |\n\n",
            "text/latex": "A data.frame: 5 × 14\n\\begin{tabular}{r|llllllllllllll}\n  & Time & ketamine & date\\_rape & GHB & Rohypnol & morning\\_after\\_pill & roofie & pills\\_to\\_avoid\\_preg & how\\_much\\_is\\_morning\\_after\\_pill & been\\_raped & Rapes\\_per\\_100k & church\\_attendence & State & Household\\_Income\\\\\n  & <chr> & <int> & <int> & <int> & <int> & <int> & <int> & <int> & <int> & <int> & <dbl> & <dbl> & <chr> & <dbl>\\\\\n\\hline\n\t1 & 2022-02-23T12 &  9 & 0 & 0 & 0 & NA & NA & NA & NA & NA & 45.8 & 21 & Vermont & 63001\\\\\n\t2 & 2022-02-23T13 & 17 & 0 & 0 & 0 &  0 &  0 &  0 &  0 &  0 & 45.8 & 21 & Vermont & 63001\\\\\n\t3 & 2022-02-23T14 & 33 & 0 & 0 & 0 &  0 &  0 &  0 &  0 &  0 & 45.8 & 21 & Vermont & 63001\\\\\n\t4 & 2022-02-23T15 &  0 & 0 & 0 & 0 &  0 &  0 &  0 &  0 &  0 & 45.8 & 21 & Vermont & 63001\\\\\n\t5 & 2022-02-23T16 & 25 & 0 & 0 & 0 &  0 &  0 &  0 &  0 &  0 & 45.8 & 21 & Vermont & 63001\\\\\n\\end{tabular}\n",
            "text/plain": [
              "  Time          ketamine date_rape GHB Rohypnol morning_after_pill roofie\n",
              "1 2022-02-23T12  9       0         0   0        NA                 NA    \n",
              "2 2022-02-23T13 17       0         0   0         0                  0    \n",
              "3 2022-02-23T14 33       0         0   0         0                  0    \n",
              "4 2022-02-23T15  0       0         0   0         0                  0    \n",
              "5 2022-02-23T16 25       0         0   0         0                  0    \n",
              "  pills_to_avoid_preg how_much_is_morning_after_pill been_raped Rapes_per_100k\n",
              "1 NA                  NA                             NA         45.8          \n",
              "2  0                   0                              0         45.8          \n",
              "3  0                   0                              0         45.8          \n",
              "4  0                   0                              0         45.8          \n",
              "5  0                   0                              0         45.8          \n",
              "  church_attendence State   Household_Income\n",
              "1 21                Vermont 63001           \n",
              "2 21                Vermont 63001           \n",
              "3 21                Vermont 63001           \n",
              "4 21                Vermont 63001           \n",
              "5 21                Vermont 63001           "
            ]
          },
          "metadata": {}
        }
      ]
    },
    {
      "cell_type": "markdown",
      "source": [
        "## Virginia"
      ],
      "metadata": {
        "id": "UDJA4bFlpcdO"
      }
    },
    {
      "cell_type": "code",
      "source": [
        "Full <- read.csv(\"/content/Virginia.csv\", skip=0, header=TRUE)\n",
        "Short <- read.csv(\"/content/VI_2.csv\", skip=0, header=TRUE)\n",
        "combo <- merge(Full,Short, by=\"Time\", all = T)\n",
        "\n",
        "#head(AL_combo,5)\n",
        "# Add FBI crime data\n",
        "combo$Rapes_per_100k <- 45.8 # <<<====\n",
        "# Add weekly church attendence\n",
        "combo$church_attendence <- 21 # <=======\n",
        "# Add State column\n",
        "combo$State <- \"Virginia\" # <<<========\n",
        "# Add median household income\n",
        "combo$Household_Income <- 63001 # <<<======\n",
        "#drop extraneous cols\n",
        "combo <- combo %>% \n",
        "        select(-c('State.x', 'State.y'))\n",
        "colnames(combo) <- c(\"Time\",\"ketamine\",\"date_rape\",\"GHB\",\"Rohypnol\",\n",
        "                        \"morning_after_pill\",\"roofie\",\"pills_to_avoid_preg\",\n",
        "                       \"how_much_is_morning_after_pill\",\"been_raped\",\"Rapes_per_100k\",\"church_attendence\",\"State\",\"Household_Income\")\n",
        "VI_combo <- combo                       \n",
        "head(VI_combo ,5)"
      ],
      "metadata": {
        "colab": {
          "base_uri": "https://localhost:8080/",
          "height": 448
        },
        "id": "bT07QYs4zph8",
        "outputId": "02de8112-08d6-42c9-a3bb-43f29a5dfeaf"
      },
      "execution_count": 224,
      "outputs": [
        {
          "output_type": "display_data",
          "data": {
            "text/html": [
              "<table class=\"dataframe\">\n",
              "<caption>A data.frame: 5 × 14</caption>\n",
              "<thead>\n",
              "\t<tr><th></th><th scope=col>Time</th><th scope=col>ketamine</th><th scope=col>date_rape</th><th scope=col>GHB</th><th scope=col>Rohypnol</th><th scope=col>morning_after_pill</th><th scope=col>roofie</th><th scope=col>pills_to_avoid_preg</th><th scope=col>how_much_is_morning_after_pill</th><th scope=col>been_raped</th><th scope=col>Rapes_per_100k</th><th scope=col>church_attendence</th><th scope=col>State</th><th scope=col>Household_Income</th></tr>\n",
              "\t<tr><th></th><th scope=col>&lt;chr&gt;</th><th scope=col>&lt;int&gt;</th><th scope=col>&lt;int&gt;</th><th scope=col>&lt;int&gt;</th><th scope=col>&lt;int&gt;</th><th scope=col>&lt;int&gt;</th><th scope=col>&lt;int&gt;</th><th scope=col>&lt;int&gt;</th><th scope=col>&lt;int&gt;</th><th scope=col>&lt;int&gt;</th><th scope=col>&lt;dbl&gt;</th><th scope=col>&lt;dbl&gt;</th><th scope=col>&lt;chr&gt;</th><th scope=col>&lt;dbl&gt;</th></tr>\n",
              "</thead>\n",
              "<tbody>\n",
              "\t<tr><th scope=row>1</th><td>2022-02-23T12</td><td>24</td><td>2</td><td>5</td><td>0</td><td>NA</td><td>NA</td><td>NA</td><td>NA</td><td>NA</td><td>45.8</td><td>21</td><td>Virginia</td><td>63001</td></tr>\n",
              "\t<tr><th scope=row>2</th><td>2022-02-23T13</td><td>19</td><td>2</td><td>0</td><td>0</td><td> 0</td><td> 0</td><td> 0</td><td> 0</td><td> 0</td><td>45.8</td><td>21</td><td>Virginia</td><td>63001</td></tr>\n",
              "\t<tr><th scope=row>3</th><td>2022-02-23T14</td><td>15</td><td>2</td><td>0</td><td>0</td><td> 0</td><td> 6</td><td> 0</td><td> 0</td><td> 0</td><td>45.8</td><td>21</td><td>Virginia</td><td>63001</td></tr>\n",
              "\t<tr><th scope=row>4</th><td>2022-02-23T15</td><td>14</td><td>2</td><td>2</td><td>0</td><td> 0</td><td> 0</td><td> 0</td><td> 0</td><td> 0</td><td>45.8</td><td>21</td><td>Virginia</td><td>63001</td></tr>\n",
              "\t<tr><th scope=row>5</th><td>2022-02-23T16</td><td>21</td><td>0</td><td>0</td><td>0</td><td>14</td><td> 7</td><td> 0</td><td> 0</td><td> 0</td><td>45.8</td><td>21</td><td>Virginia</td><td>63001</td></tr>\n",
              "</tbody>\n",
              "</table>\n"
            ],
            "text/markdown": "\nA data.frame: 5 × 14\n\n| <!--/--> | Time &lt;chr&gt; | ketamine &lt;int&gt; | date_rape &lt;int&gt; | GHB &lt;int&gt; | Rohypnol &lt;int&gt; | morning_after_pill &lt;int&gt; | roofie &lt;int&gt; | pills_to_avoid_preg &lt;int&gt; | how_much_is_morning_after_pill &lt;int&gt; | been_raped &lt;int&gt; | Rapes_per_100k &lt;dbl&gt; | church_attendence &lt;dbl&gt; | State &lt;chr&gt; | Household_Income &lt;dbl&gt; |\n|---|---|---|---|---|---|---|---|---|---|---|---|---|---|---|\n| 1 | 2022-02-23T12 | 24 | 2 | 5 | 0 | NA | NA | NA | NA | NA | 45.8 | 21 | Virginia | 63001 |\n| 2 | 2022-02-23T13 | 19 | 2 | 0 | 0 |  0 |  0 |  0 |  0 |  0 | 45.8 | 21 | Virginia | 63001 |\n| 3 | 2022-02-23T14 | 15 | 2 | 0 | 0 |  0 |  6 |  0 |  0 |  0 | 45.8 | 21 | Virginia | 63001 |\n| 4 | 2022-02-23T15 | 14 | 2 | 2 | 0 |  0 |  0 |  0 |  0 |  0 | 45.8 | 21 | Virginia | 63001 |\n| 5 | 2022-02-23T16 | 21 | 0 | 0 | 0 | 14 |  7 |  0 |  0 |  0 | 45.8 | 21 | Virginia | 63001 |\n\n",
            "text/latex": "A data.frame: 5 × 14\n\\begin{tabular}{r|llllllllllllll}\n  & Time & ketamine & date\\_rape & GHB & Rohypnol & morning\\_after\\_pill & roofie & pills\\_to\\_avoid\\_preg & how\\_much\\_is\\_morning\\_after\\_pill & been\\_raped & Rapes\\_per\\_100k & church\\_attendence & State & Household\\_Income\\\\\n  & <chr> & <int> & <int> & <int> & <int> & <int> & <int> & <int> & <int> & <int> & <dbl> & <dbl> & <chr> & <dbl>\\\\\n\\hline\n\t1 & 2022-02-23T12 & 24 & 2 & 5 & 0 & NA & NA & NA & NA & NA & 45.8 & 21 & Virginia & 63001\\\\\n\t2 & 2022-02-23T13 & 19 & 2 & 0 & 0 &  0 &  0 &  0 &  0 &  0 & 45.8 & 21 & Virginia & 63001\\\\\n\t3 & 2022-02-23T14 & 15 & 2 & 0 & 0 &  0 &  6 &  0 &  0 &  0 & 45.8 & 21 & Virginia & 63001\\\\\n\t4 & 2022-02-23T15 & 14 & 2 & 2 & 0 &  0 &  0 &  0 &  0 &  0 & 45.8 & 21 & Virginia & 63001\\\\\n\t5 & 2022-02-23T16 & 21 & 0 & 0 & 0 & 14 &  7 &  0 &  0 &  0 & 45.8 & 21 & Virginia & 63001\\\\\n\\end{tabular}\n",
            "text/plain": [
              "  Time          ketamine date_rape GHB Rohypnol morning_after_pill roofie\n",
              "1 2022-02-23T12 24       2         5   0        NA                 NA    \n",
              "2 2022-02-23T13 19       2         0   0         0                  0    \n",
              "3 2022-02-23T14 15       2         0   0         0                  6    \n",
              "4 2022-02-23T15 14       2         2   0         0                  0    \n",
              "5 2022-02-23T16 21       0         0   0        14                  7    \n",
              "  pills_to_avoid_preg how_much_is_morning_after_pill been_raped Rapes_per_100k\n",
              "1 NA                  NA                             NA         45.8          \n",
              "2  0                   0                              0         45.8          \n",
              "3  0                   0                              0         45.8          \n",
              "4  0                   0                              0         45.8          \n",
              "5  0                   0                              0         45.8          \n",
              "  church_attendence State    Household_Income\n",
              "1 21                Virginia 63001           \n",
              "2 21                Virginia 63001           \n",
              "3 21                Virginia 63001           \n",
              "4 21                Virginia 63001           \n",
              "5 21                Virginia 63001           "
            ]
          },
          "metadata": {}
        }
      ]
    },
    {
      "cell_type": "markdown",
      "source": [
        "##Washington"
      ],
      "metadata": {
        "id": "xZcXuRTmpcZf"
      }
    },
    {
      "cell_type": "code",
      "source": [
        "Full <- read.csv(\"/content/Washington.csv\", skip=0, header=TRUE)\n",
        "Short <- read.csv(\"/content/WA_2.csv\", skip=0, header=TRUE)\n",
        "combo <- merge(Full,Short, by=\"Time\", all = T)\n",
        "\n",
        "#head(AL_combo,5)\n",
        "# Add FBI crime data\n",
        "combo$Rapes_per_100k <- 45.3 # <<<====\n",
        "# Add weekly church attendence\n",
        "combo$church_attendence <- 30 # <=======\n",
        "# Add State column\n",
        "combo$State <- \"Washington\" # <<<========\n",
        "# Add median household income\n",
        "combo$Household_Income <- 78687 # <<<======\n",
        "#drop extraneous cols\n",
        "combo <- combo %>% \n",
        "        select(-c('State.x', 'State.y'))\n",
        "colnames(combo) <- c(\"Time\",\"ketamine\",\"date_rape\",\"GHB\",\"Rohypnol\",\n",
        "                        \"morning_after_pill\",\"roofie\",\"pills_to_avoid_preg\",\n",
        "                       \"how_much_is_morning_after_pill\",\"been_raped\",\"Rapes_per_100k\",\"church_attendence\",\"State\",\"Household_Income\")\n",
        "WA_combo <- combo                       \n",
        "head(WA_combo ,5)"
      ],
      "metadata": {
        "colab": {
          "base_uri": "https://localhost:8080/",
          "height": 448
        },
        "id": "nbha9lgjz5dW",
        "outputId": "5264ab40-1e91-4740-d811-65a898194a25"
      },
      "execution_count": 225,
      "outputs": [
        {
          "output_type": "display_data",
          "data": {
            "text/html": [
              "<table class=\"dataframe\">\n",
              "<caption>A data.frame: 5 × 14</caption>\n",
              "<thead>\n",
              "\t<tr><th></th><th scope=col>Time</th><th scope=col>ketamine</th><th scope=col>date_rape</th><th scope=col>GHB</th><th scope=col>Rohypnol</th><th scope=col>morning_after_pill</th><th scope=col>roofie</th><th scope=col>pills_to_avoid_preg</th><th scope=col>how_much_is_morning_after_pill</th><th scope=col>been_raped</th><th scope=col>Rapes_per_100k</th><th scope=col>church_attendence</th><th scope=col>State</th><th scope=col>Household_Income</th></tr>\n",
              "\t<tr><th></th><th scope=col>&lt;chr&gt;</th><th scope=col>&lt;int&gt;</th><th scope=col>&lt;int&gt;</th><th scope=col>&lt;int&gt;</th><th scope=col>&lt;int&gt;</th><th scope=col>&lt;int&gt;</th><th scope=col>&lt;int&gt;</th><th scope=col>&lt;int&gt;</th><th scope=col>&lt;int&gt;</th><th scope=col>&lt;int&gt;</th><th scope=col>&lt;dbl&gt;</th><th scope=col>&lt;dbl&gt;</th><th scope=col>&lt;chr&gt;</th><th scope=col>&lt;dbl&gt;</th></tr>\n",
              "</thead>\n",
              "<tbody>\n",
              "\t<tr><th scope=row>1</th><td>2022-02-23T12</td><td>17</td><td>2</td><td>3</td><td>0</td><td>NA</td><td>NA</td><td>NA</td><td>NA</td><td>NA</td><td>45.3</td><td>30</td><td>Washington</td><td>78687</td></tr>\n",
              "\t<tr><th scope=row>2</th><td>2022-02-23T13</td><td>26</td><td>0</td><td>0</td><td>5</td><td> 8</td><td> 0</td><td> 0</td><td> 0</td><td> 0</td><td>45.3</td><td>30</td><td>Washington</td><td>78687</td></tr>\n",
              "\t<tr><th scope=row>3</th><td>2022-02-23T14</td><td>23</td><td>0</td><td>2</td><td>2</td><td> 0</td><td> 0</td><td> 0</td><td> 0</td><td> 0</td><td>45.3</td><td>30</td><td>Washington</td><td>78687</td></tr>\n",
              "\t<tr><th scope=row>4</th><td>2022-02-23T15</td><td>35</td><td>0</td><td>5</td><td>0</td><td> 0</td><td> 0</td><td> 0</td><td> 0</td><td> 0</td><td>45.3</td><td>30</td><td>Washington</td><td>78687</td></tr>\n",
              "\t<tr><th scope=row>5</th><td>2022-02-23T16</td><td>26</td><td>2</td><td>5</td><td>5</td><td> 8</td><td> 0</td><td> 0</td><td> 0</td><td> 0</td><td>45.3</td><td>30</td><td>Washington</td><td>78687</td></tr>\n",
              "</tbody>\n",
              "</table>\n"
            ],
            "text/markdown": "\nA data.frame: 5 × 14\n\n| <!--/--> | Time &lt;chr&gt; | ketamine &lt;int&gt; | date_rape &lt;int&gt; | GHB &lt;int&gt; | Rohypnol &lt;int&gt; | morning_after_pill &lt;int&gt; | roofie &lt;int&gt; | pills_to_avoid_preg &lt;int&gt; | how_much_is_morning_after_pill &lt;int&gt; | been_raped &lt;int&gt; | Rapes_per_100k &lt;dbl&gt; | church_attendence &lt;dbl&gt; | State &lt;chr&gt; | Household_Income &lt;dbl&gt; |\n|---|---|---|---|---|---|---|---|---|---|---|---|---|---|---|\n| 1 | 2022-02-23T12 | 17 | 2 | 3 | 0 | NA | NA | NA | NA | NA | 45.3 | 30 | Washington | 78687 |\n| 2 | 2022-02-23T13 | 26 | 0 | 0 | 5 |  8 |  0 |  0 |  0 |  0 | 45.3 | 30 | Washington | 78687 |\n| 3 | 2022-02-23T14 | 23 | 0 | 2 | 2 |  0 |  0 |  0 |  0 |  0 | 45.3 | 30 | Washington | 78687 |\n| 4 | 2022-02-23T15 | 35 | 0 | 5 | 0 |  0 |  0 |  0 |  0 |  0 | 45.3 | 30 | Washington | 78687 |\n| 5 | 2022-02-23T16 | 26 | 2 | 5 | 5 |  8 |  0 |  0 |  0 |  0 | 45.3 | 30 | Washington | 78687 |\n\n",
            "text/latex": "A data.frame: 5 × 14\n\\begin{tabular}{r|llllllllllllll}\n  & Time & ketamine & date\\_rape & GHB & Rohypnol & morning\\_after\\_pill & roofie & pills\\_to\\_avoid\\_preg & how\\_much\\_is\\_morning\\_after\\_pill & been\\_raped & Rapes\\_per\\_100k & church\\_attendence & State & Household\\_Income\\\\\n  & <chr> & <int> & <int> & <int> & <int> & <int> & <int> & <int> & <int> & <int> & <dbl> & <dbl> & <chr> & <dbl>\\\\\n\\hline\n\t1 & 2022-02-23T12 & 17 & 2 & 3 & 0 & NA & NA & NA & NA & NA & 45.3 & 30 & Washington & 78687\\\\\n\t2 & 2022-02-23T13 & 26 & 0 & 0 & 5 &  8 &  0 &  0 &  0 &  0 & 45.3 & 30 & Washington & 78687\\\\\n\t3 & 2022-02-23T14 & 23 & 0 & 2 & 2 &  0 &  0 &  0 &  0 &  0 & 45.3 & 30 & Washington & 78687\\\\\n\t4 & 2022-02-23T15 & 35 & 0 & 5 & 0 &  0 &  0 &  0 &  0 &  0 & 45.3 & 30 & Washington & 78687\\\\\n\t5 & 2022-02-23T16 & 26 & 2 & 5 & 5 &  8 &  0 &  0 &  0 &  0 & 45.3 & 30 & Washington & 78687\\\\\n\\end{tabular}\n",
            "text/plain": [
              "  Time          ketamine date_rape GHB Rohypnol morning_after_pill roofie\n",
              "1 2022-02-23T12 17       2         3   0        NA                 NA    \n",
              "2 2022-02-23T13 26       0         0   5         8                  0    \n",
              "3 2022-02-23T14 23       0         2   2         0                  0    \n",
              "4 2022-02-23T15 35       0         5   0         0                  0    \n",
              "5 2022-02-23T16 26       2         5   5         8                  0    \n",
              "  pills_to_avoid_preg how_much_is_morning_after_pill been_raped Rapes_per_100k\n",
              "1 NA                  NA                             NA         45.3          \n",
              "2  0                   0                              0         45.3          \n",
              "3  0                   0                              0         45.3          \n",
              "4  0                   0                              0         45.3          \n",
              "5  0                   0                              0         45.3          \n",
              "  church_attendence State      Household_Income\n",
              "1 30                Washington 78687           \n",
              "2 30                Washington 78687           \n",
              "3 30                Washington 78687           \n",
              "4 30                Washington 78687           \n",
              "5 30                Washington 78687           "
            ]
          },
          "metadata": {}
        }
      ]
    },
    {
      "cell_type": "markdown",
      "source": [
        "## West Virginia\n",
        "\n",
        "missing file"
      ],
      "metadata": {
        "id": "Wnvxphd0pcVX"
      }
    },
    {
      "cell_type": "code",
      "source": [
        "Full <- read.csv(\"/content/WestVirginioa.csv\", skip=0, header=TRUE)\n",
        "Short <- read.csv(\"/content/Ark_2.csv\", skip=0, header=TRUE)\n",
        "combo <- merge(Full,Short, by=\"Time\", all = T)\n",
        "\n",
        "#head(AL_combo,5)\n",
        "# Add FBI crime data\n",
        "combo$Rapes_per_100k <- 45.3 # <<<====\n",
        "# Add weekly church attendence\n",
        "combo$church_attendence <- 46 # <=======\n",
        "# Add State column\n",
        "combo$State <- \"WestVirginia\" # <<<========\n",
        "# Add median household income\n",
        "combo$Household_Income <- 48850 # <<<======\n",
        "#drop extraneous cols\n",
        "combo <- combo %>% \n",
        "        select(-c('State.x', 'State.y'))\n",
        "colnames(combo) <- c(\"Time\",\"ketamine\",\"date_rape\",\"GHB\",\"Rohypnol\",\n",
        "                        \"morning_after_pill\",\"roofie\",\"pills_to_avoid_preg\",\n",
        "                       \"how_much_is_morning_after_pill\",\"been_raped\",\"Rapes_per_100k\",\"church_attendence\",\"State\",\"Household_Income\")\n",
        "WV_combo <- combo                       \n",
        "head(WV_combo ,5)"
      ],
      "metadata": {
        "colab": {
          "base_uri": "https://localhost:8080/",
          "height": 448
        },
        "id": "CvoIkyIG0exo",
        "outputId": "3bc873ba-8a24-4327-f816-0b97a3bbb5ea"
      },
      "execution_count": 227,
      "outputs": [
        {
          "output_type": "display_data",
          "data": {
            "text/html": [
              "<table class=\"dataframe\">\n",
              "<caption>A data.frame: 5 × 14</caption>\n",
              "<thead>\n",
              "\t<tr><th></th><th scope=col>Time</th><th scope=col>ketamine</th><th scope=col>date_rape</th><th scope=col>GHB</th><th scope=col>Rohypnol</th><th scope=col>morning_after_pill</th><th scope=col>roofie</th><th scope=col>pills_to_avoid_preg</th><th scope=col>how_much_is_morning_after_pill</th><th scope=col>been_raped</th><th scope=col>Rapes_per_100k</th><th scope=col>church_attendence</th><th scope=col>State</th><th scope=col>Household_Income</th></tr>\n",
              "\t<tr><th></th><th scope=col>&lt;chr&gt;</th><th scope=col>&lt;int&gt;</th><th scope=col>&lt;int&gt;</th><th scope=col>&lt;int&gt;</th><th scope=col>&lt;int&gt;</th><th scope=col>&lt;int&gt;</th><th scope=col>&lt;int&gt;</th><th scope=col>&lt;int&gt;</th><th scope=col>&lt;int&gt;</th><th scope=col>&lt;int&gt;</th><th scope=col>&lt;dbl&gt;</th><th scope=col>&lt;dbl&gt;</th><th scope=col>&lt;chr&gt;</th><th scope=col>&lt;dbl&gt;</th></tr>\n",
              "</thead>\n",
              "<tbody>\n",
              "\t<tr><th scope=row>1</th><td>2022-02-23T12</td><td> 7</td><td>0</td><td>7</td><td>0</td><td>NA</td><td>NA</td><td>NA</td><td>NA</td><td>NA</td><td>45.3</td><td>46</td><td>WestVirginia</td><td>48850</td></tr>\n",
              "\t<tr><th scope=row>2</th><td>2022-02-23T13</td><td> 7</td><td>0</td><td>0</td><td>0</td><td> 0</td><td> 0</td><td> 0</td><td> 0</td><td> 0</td><td>45.3</td><td>46</td><td>WestVirginia</td><td>48850</td></tr>\n",
              "\t<tr><th scope=row>3</th><td>2022-02-23T14</td><td> 7</td><td>0</td><td>0</td><td>0</td><td> 0</td><td> 0</td><td> 0</td><td> 0</td><td> 0</td><td>45.3</td><td>46</td><td>WestVirginia</td><td>48850</td></tr>\n",
              "\t<tr><th scope=row>4</th><td>2022-02-23T15</td><td> 7</td><td>7</td><td>0</td><td>0</td><td> 0</td><td> 0</td><td> 0</td><td> 0</td><td> 0</td><td>45.3</td><td>46</td><td>WestVirginia</td><td>48850</td></tr>\n",
              "\t<tr><th scope=row>5</th><td>2022-02-23T16</td><td>15</td><td>0</td><td>0</td><td>0</td><td> 0</td><td> 0</td><td> 0</td><td> 0</td><td> 0</td><td>45.3</td><td>46</td><td>WestVirginia</td><td>48850</td></tr>\n",
              "</tbody>\n",
              "</table>\n"
            ],
            "text/markdown": "\nA data.frame: 5 × 14\n\n| <!--/--> | Time &lt;chr&gt; | ketamine &lt;int&gt; | date_rape &lt;int&gt; | GHB &lt;int&gt; | Rohypnol &lt;int&gt; | morning_after_pill &lt;int&gt; | roofie &lt;int&gt; | pills_to_avoid_preg &lt;int&gt; | how_much_is_morning_after_pill &lt;int&gt; | been_raped &lt;int&gt; | Rapes_per_100k &lt;dbl&gt; | church_attendence &lt;dbl&gt; | State &lt;chr&gt; | Household_Income &lt;dbl&gt; |\n|---|---|---|---|---|---|---|---|---|---|---|---|---|---|---|\n| 1 | 2022-02-23T12 |  7 | 0 | 7 | 0 | NA | NA | NA | NA | NA | 45.3 | 46 | WestVirginia | 48850 |\n| 2 | 2022-02-23T13 |  7 | 0 | 0 | 0 |  0 |  0 |  0 |  0 |  0 | 45.3 | 46 | WestVirginia | 48850 |\n| 3 | 2022-02-23T14 |  7 | 0 | 0 | 0 |  0 |  0 |  0 |  0 |  0 | 45.3 | 46 | WestVirginia | 48850 |\n| 4 | 2022-02-23T15 |  7 | 7 | 0 | 0 |  0 |  0 |  0 |  0 |  0 | 45.3 | 46 | WestVirginia | 48850 |\n| 5 | 2022-02-23T16 | 15 | 0 | 0 | 0 |  0 |  0 |  0 |  0 |  0 | 45.3 | 46 | WestVirginia | 48850 |\n\n",
            "text/latex": "A data.frame: 5 × 14\n\\begin{tabular}{r|llllllllllllll}\n  & Time & ketamine & date\\_rape & GHB & Rohypnol & morning\\_after\\_pill & roofie & pills\\_to\\_avoid\\_preg & how\\_much\\_is\\_morning\\_after\\_pill & been\\_raped & Rapes\\_per\\_100k & church\\_attendence & State & Household\\_Income\\\\\n  & <chr> & <int> & <int> & <int> & <int> & <int> & <int> & <int> & <int> & <int> & <dbl> & <dbl> & <chr> & <dbl>\\\\\n\\hline\n\t1 & 2022-02-23T12 &  7 & 0 & 7 & 0 & NA & NA & NA & NA & NA & 45.3 & 46 & WestVirginia & 48850\\\\\n\t2 & 2022-02-23T13 &  7 & 0 & 0 & 0 &  0 &  0 &  0 &  0 &  0 & 45.3 & 46 & WestVirginia & 48850\\\\\n\t3 & 2022-02-23T14 &  7 & 0 & 0 & 0 &  0 &  0 &  0 &  0 &  0 & 45.3 & 46 & WestVirginia & 48850\\\\\n\t4 & 2022-02-23T15 &  7 & 7 & 0 & 0 &  0 &  0 &  0 &  0 &  0 & 45.3 & 46 & WestVirginia & 48850\\\\\n\t5 & 2022-02-23T16 & 15 & 0 & 0 & 0 &  0 &  0 &  0 &  0 &  0 & 45.3 & 46 & WestVirginia & 48850\\\\\n\\end{tabular}\n",
            "text/plain": [
              "  Time          ketamine date_rape GHB Rohypnol morning_after_pill roofie\n",
              "1 2022-02-23T12  7       0         7   0        NA                 NA    \n",
              "2 2022-02-23T13  7       0         0   0         0                  0    \n",
              "3 2022-02-23T14  7       0         0   0         0                  0    \n",
              "4 2022-02-23T15  7       7         0   0         0                  0    \n",
              "5 2022-02-23T16 15       0         0   0         0                  0    \n",
              "  pills_to_avoid_preg how_much_is_morning_after_pill been_raped Rapes_per_100k\n",
              "1 NA                  NA                             NA         45.3          \n",
              "2  0                   0                              0         45.3          \n",
              "3  0                   0                              0         45.3          \n",
              "4  0                   0                              0         45.3          \n",
              "5  0                   0                              0         45.3          \n",
              "  church_attendence State        Household_Income\n",
              "1 46                WestVirginia 48850           \n",
              "2 46                WestVirginia 48850           \n",
              "3 46                WestVirginia 48850           \n",
              "4 46                WestVirginia 48850           \n",
              "5 46                WestVirginia 48850           "
            ]
          },
          "metadata": {}
        }
      ]
    },
    {
      "cell_type": "markdown",
      "source": [
        "## Wisconsin"
      ],
      "metadata": {
        "id": "0mORBa1wpcRM"
      }
    },
    {
      "cell_type": "code",
      "source": [
        "Full <- read.csv(\"/content/Wisconsin.csv\", skip=0, header=TRUE)\n",
        "Short <- read.csv(\"/content/WI_2.csv\", skip=0, header=TRUE)\n",
        "combo <- merge(Full,Short, by=\"Time\", all = T)\n",
        "\n",
        "#head(AL_combo,5)\n",
        "# Add FBI crime data\n",
        "combo$Rapes_per_100k <- 38.7 # <<<====\n",
        "# Add weekly church attendence\n",
        "combo$church_attendence <- 27 # <=======\n",
        "# Add State column\n",
        "combo$State <- \"Wisconsin\" # <<<========\n",
        "# Add median household income\n",
        "combo$Household_Income <- 64168 # <<<======\n",
        "#drop extraneous cols\n",
        "combo <- combo %>% \n",
        "        select(-c('State.x', 'State.y'))\n",
        "colnames(combo) <- c(\"Time\",\"ketamine\",\"date_rape\",\"GHB\",\"Rohypnol\",\n",
        "                        \"morning_after_pill\",\"roofie\",\"pills_to_avoid_preg\",\n",
        "                       \"how_much_is_morning_after_pill\",\"been_raped\",\"Rapes_per_100k\",\"church_attendence\",\"State\",\"Household_Income\")\n",
        "WI_combo <- combo                       \n",
        "head(WI_combo ,5)"
      ],
      "metadata": {
        "colab": {
          "base_uri": "https://localhost:8080/",
          "height": 448
        },
        "id": "4MbPGnjz1Ipw",
        "outputId": "50dd7b03-fcc6-40b9-b417-2eb056dfd85c"
      },
      "execution_count": 228,
      "outputs": [
        {
          "output_type": "display_data",
          "data": {
            "text/html": [
              "<table class=\"dataframe\">\n",
              "<caption>A data.frame: 5 × 14</caption>\n",
              "<thead>\n",
              "\t<tr><th></th><th scope=col>Time</th><th scope=col>ketamine</th><th scope=col>date_rape</th><th scope=col>GHB</th><th scope=col>Rohypnol</th><th scope=col>morning_after_pill</th><th scope=col>roofie</th><th scope=col>pills_to_avoid_preg</th><th scope=col>how_much_is_morning_after_pill</th><th scope=col>been_raped</th><th scope=col>Rapes_per_100k</th><th scope=col>church_attendence</th><th scope=col>State</th><th scope=col>Household_Income</th></tr>\n",
              "\t<tr><th></th><th scope=col>&lt;chr&gt;</th><th scope=col>&lt;int&gt;</th><th scope=col>&lt;int&gt;</th><th scope=col>&lt;int&gt;</th><th scope=col>&lt;int&gt;</th><th scope=col>&lt;int&gt;</th><th scope=col>&lt;int&gt;</th><th scope=col>&lt;int&gt;</th><th scope=col>&lt;int&gt;</th><th scope=col>&lt;int&gt;</th><th scope=col>&lt;dbl&gt;</th><th scope=col>&lt;dbl&gt;</th><th scope=col>&lt;chr&gt;</th><th scope=col>&lt;dbl&gt;</th></tr>\n",
              "</thead>\n",
              "<tbody>\n",
              "\t<tr><th scope=row>1</th><td>2022-02-23T12</td><td>57</td><td>0</td><td>4</td><td>0</td><td>NA</td><td>NA</td><td>NA</td><td>NA</td><td>NA</td><td>38.7</td><td>27</td><td>Wisconsin</td><td>64168</td></tr>\n",
              "\t<tr><th scope=row>2</th><td>2022-02-23T13</td><td>39</td><td>0</td><td>9</td><td>0</td><td>10</td><td> 0</td><td> 0</td><td> 0</td><td> 0</td><td>38.7</td><td>27</td><td>Wisconsin</td><td>64168</td></tr>\n",
              "\t<tr><th scope=row>3</th><td>2022-02-23T14</td><td>38</td><td>4</td><td>0</td><td>0</td><td>10</td><td> 0</td><td> 0</td><td> 0</td><td> 0</td><td>38.7</td><td>27</td><td>Wisconsin</td><td>64168</td></tr>\n",
              "\t<tr><th scope=row>4</th><td>2022-02-23T15</td><td>48</td><td>0</td><td>0</td><td>0</td><td> 0</td><td> 0</td><td> 0</td><td> 0</td><td> 0</td><td>38.7</td><td>27</td><td>Wisconsin</td><td>64168</td></tr>\n",
              "\t<tr><th scope=row>5</th><td>2022-02-23T16</td><td>19</td><td>4</td><td>4</td><td>0</td><td> 0</td><td> 0</td><td> 0</td><td> 0</td><td> 0</td><td>38.7</td><td>27</td><td>Wisconsin</td><td>64168</td></tr>\n",
              "</tbody>\n",
              "</table>\n"
            ],
            "text/markdown": "\nA data.frame: 5 × 14\n\n| <!--/--> | Time &lt;chr&gt; | ketamine &lt;int&gt; | date_rape &lt;int&gt; | GHB &lt;int&gt; | Rohypnol &lt;int&gt; | morning_after_pill &lt;int&gt; | roofie &lt;int&gt; | pills_to_avoid_preg &lt;int&gt; | how_much_is_morning_after_pill &lt;int&gt; | been_raped &lt;int&gt; | Rapes_per_100k &lt;dbl&gt; | church_attendence &lt;dbl&gt; | State &lt;chr&gt; | Household_Income &lt;dbl&gt; |\n|---|---|---|---|---|---|---|---|---|---|---|---|---|---|---|\n| 1 | 2022-02-23T12 | 57 | 0 | 4 | 0 | NA | NA | NA | NA | NA | 38.7 | 27 | Wisconsin | 64168 |\n| 2 | 2022-02-23T13 | 39 | 0 | 9 | 0 | 10 |  0 |  0 |  0 |  0 | 38.7 | 27 | Wisconsin | 64168 |\n| 3 | 2022-02-23T14 | 38 | 4 | 0 | 0 | 10 |  0 |  0 |  0 |  0 | 38.7 | 27 | Wisconsin | 64168 |\n| 4 | 2022-02-23T15 | 48 | 0 | 0 | 0 |  0 |  0 |  0 |  0 |  0 | 38.7 | 27 | Wisconsin | 64168 |\n| 5 | 2022-02-23T16 | 19 | 4 | 4 | 0 |  0 |  0 |  0 |  0 |  0 | 38.7 | 27 | Wisconsin | 64168 |\n\n",
            "text/latex": "A data.frame: 5 × 14\n\\begin{tabular}{r|llllllllllllll}\n  & Time & ketamine & date\\_rape & GHB & Rohypnol & morning\\_after\\_pill & roofie & pills\\_to\\_avoid\\_preg & how\\_much\\_is\\_morning\\_after\\_pill & been\\_raped & Rapes\\_per\\_100k & church\\_attendence & State & Household\\_Income\\\\\n  & <chr> & <int> & <int> & <int> & <int> & <int> & <int> & <int> & <int> & <int> & <dbl> & <dbl> & <chr> & <dbl>\\\\\n\\hline\n\t1 & 2022-02-23T12 & 57 & 0 & 4 & 0 & NA & NA & NA & NA & NA & 38.7 & 27 & Wisconsin & 64168\\\\\n\t2 & 2022-02-23T13 & 39 & 0 & 9 & 0 & 10 &  0 &  0 &  0 &  0 & 38.7 & 27 & Wisconsin & 64168\\\\\n\t3 & 2022-02-23T14 & 38 & 4 & 0 & 0 & 10 &  0 &  0 &  0 &  0 & 38.7 & 27 & Wisconsin & 64168\\\\\n\t4 & 2022-02-23T15 & 48 & 0 & 0 & 0 &  0 &  0 &  0 &  0 &  0 & 38.7 & 27 & Wisconsin & 64168\\\\\n\t5 & 2022-02-23T16 & 19 & 4 & 4 & 0 &  0 &  0 &  0 &  0 &  0 & 38.7 & 27 & Wisconsin & 64168\\\\\n\\end{tabular}\n",
            "text/plain": [
              "  Time          ketamine date_rape GHB Rohypnol morning_after_pill roofie\n",
              "1 2022-02-23T12 57       0         4   0        NA                 NA    \n",
              "2 2022-02-23T13 39       0         9   0        10                  0    \n",
              "3 2022-02-23T14 38       4         0   0        10                  0    \n",
              "4 2022-02-23T15 48       0         0   0         0                  0    \n",
              "5 2022-02-23T16 19       4         4   0         0                  0    \n",
              "  pills_to_avoid_preg how_much_is_morning_after_pill been_raped Rapes_per_100k\n",
              "1 NA                  NA                             NA         38.7          \n",
              "2  0                   0                              0         38.7          \n",
              "3  0                   0                              0         38.7          \n",
              "4  0                   0                              0         38.7          \n",
              "5  0                   0                              0         38.7          \n",
              "  church_attendence State     Household_Income\n",
              "1 27                Wisconsin 64168           \n",
              "2 27                Wisconsin 64168           \n",
              "3 27                Wisconsin 64168           \n",
              "4 27                Wisconsin 64168           \n",
              "5 27                Wisconsin 64168           "
            ]
          },
          "metadata": {}
        }
      ]
    },
    {
      "cell_type": "markdown",
      "source": [
        "## Wyoming"
      ],
      "metadata": {
        "id": "UUw7tKw1pcNQ"
      }
    },
    {
      "cell_type": "code",
      "source": [
        "#Full <- read.csv(\"/content/Wyoming.csv\", skip=0, header=TRUE)\n",
        "#head(Full)"
      ],
      "metadata": {
        "colab": {
          "base_uri": "https://localhost:8080/",
          "height": 286
        },
        "id": "MppOD4hbmbdR",
        "outputId": "1d27817c-4300-412e-c1f8-bdaac34dc194"
      },
      "execution_count": 25,
      "outputs": [
        {
          "output_type": "display_data",
          "data": {
            "text/html": [
              "<table class=\"dataframe\">\n",
              "<caption>A data.frame: 6 × 6</caption>\n",
              "<thead>\n",
              "\t<tr><th></th><th scope=col>Time</th><th scope=col>ketamine...Wyoming.</th><th scope=col>date.rape...Wyoming.</th><th scope=col>GHB...Wyoming.</th><th scope=col>Rohypnol...Wyoming.</th><th scope=col>State</th></tr>\n",
              "\t<tr><th></th><th scope=col>&lt;chr&gt;</th><th scope=col>&lt;int&gt;</th><th scope=col>&lt;int&gt;</th><th scope=col>&lt;int&gt;</th><th scope=col>&lt;int&gt;</th><th scope=col>&lt;chr&gt;</th></tr>\n",
              "</thead>\n",
              "<tbody>\n",
              "\t<tr><th scope=row>1</th><td>2022-02-23T12</td><td>14</td><td>0</td><td> 0</td><td>0</td><td>Wyoming</td></tr>\n",
              "\t<tr><th scope=row>2</th><td>2022-02-23T13</td><td>14</td><td>0</td><td>14</td><td>0</td><td>Wyoming</td></tr>\n",
              "\t<tr><th scope=row>3</th><td>2022-02-23T14</td><td> 0</td><td>0</td><td> 0</td><td>0</td><td>Wyoming</td></tr>\n",
              "\t<tr><th scope=row>4</th><td>2022-02-23T15</td><td>14</td><td>0</td><td> 0</td><td>0</td><td>Wyoming</td></tr>\n",
              "\t<tr><th scope=row>5</th><td>2022-02-23T16</td><td> 0</td><td>0</td><td> 0</td><td>0</td><td>Wyoming</td></tr>\n",
              "\t<tr><th scope=row>6</th><td>2022-02-23T17</td><td>42</td><td>0</td><td> 0</td><td>0</td><td>Wyoming</td></tr>\n",
              "</tbody>\n",
              "</table>\n"
            ],
            "text/markdown": "\nA data.frame: 6 × 6\n\n| <!--/--> | Time &lt;chr&gt; | ketamine...Wyoming. &lt;int&gt; | date.rape...Wyoming. &lt;int&gt; | GHB...Wyoming. &lt;int&gt; | Rohypnol...Wyoming. &lt;int&gt; | State &lt;chr&gt; |\n|---|---|---|---|---|---|---|\n| 1 | 2022-02-23T12 | 14 | 0 |  0 | 0 | Wyoming |\n| 2 | 2022-02-23T13 | 14 | 0 | 14 | 0 | Wyoming |\n| 3 | 2022-02-23T14 |  0 | 0 |  0 | 0 | Wyoming |\n| 4 | 2022-02-23T15 | 14 | 0 |  0 | 0 | Wyoming |\n| 5 | 2022-02-23T16 |  0 | 0 |  0 | 0 | Wyoming |\n| 6 | 2022-02-23T17 | 42 | 0 |  0 | 0 | Wyoming |\n\n",
            "text/latex": "A data.frame: 6 × 6\n\\begin{tabular}{r|llllll}\n  & Time & ketamine...Wyoming. & date.rape...Wyoming. & GHB...Wyoming. & Rohypnol...Wyoming. & State\\\\\n  & <chr> & <int> & <int> & <int> & <int> & <chr>\\\\\n\\hline\n\t1 & 2022-02-23T12 & 14 & 0 &  0 & 0 & Wyoming\\\\\n\t2 & 2022-02-23T13 & 14 & 0 & 14 & 0 & Wyoming\\\\\n\t3 & 2022-02-23T14 &  0 & 0 &  0 & 0 & Wyoming\\\\\n\t4 & 2022-02-23T15 & 14 & 0 &  0 & 0 & Wyoming\\\\\n\t5 & 2022-02-23T16 &  0 & 0 &  0 & 0 & Wyoming\\\\\n\t6 & 2022-02-23T17 & 42 & 0 &  0 & 0 & Wyoming\\\\\n\\end{tabular}\n",
            "text/plain": [
              "  Time          ketamine...Wyoming. date.rape...Wyoming. GHB...Wyoming.\n",
              "1 2022-02-23T12 14                  0                     0            \n",
              "2 2022-02-23T13 14                  0                    14            \n",
              "3 2022-02-23T14  0                  0                     0            \n",
              "4 2022-02-23T15 14                  0                     0            \n",
              "5 2022-02-23T16  0                  0                     0            \n",
              "6 2022-02-23T17 42                  0                     0            \n",
              "  Rohypnol...Wyoming. State  \n",
              "1 0                   Wyoming\n",
              "2 0                   Wyoming\n",
              "3 0                   Wyoming\n",
              "4 0                   Wyoming\n",
              "5 0                   Wyoming\n",
              "6 0                   Wyoming"
            ]
          },
          "metadata": {}
        }
      ]
    },
    {
      "cell_type": "code",
      "source": [
        "#Short <- read.csv(\"/content/WY_2.csv\", skip=0, header=TRUE)\n",
        "#head(Short)"
      ],
      "metadata": {
        "colab": {
          "base_uri": "https://localhost:8080/",
          "height": 118
        },
        "id": "ncqVxPTYmijF",
        "outputId": "0100129d-1cd2-415e-e170-6ccd8f0e5e37"
      },
      "execution_count": 26,
      "outputs": [
        {
          "output_type": "display_data",
          "data": {
            "text/html": [
              "<table class=\"dataframe\">\n",
              "<caption>A data.frame: 0 × 7</caption>\n",
              "<thead>\n",
              "\t<tr><th scope=col>Time</th><th scope=col>morning.after.pill...Wyoming.</th><th scope=col>roofie...Wyoming.</th><th scope=col>pills.to.avoid.pregnancy.after...Wyoming.</th><th scope=col>how.much.is.the.morning.after.bill...Wyoming.</th><th scope=col>i.been.raped...Wyoming.</th><th scope=col>State</th></tr>\n",
              "\t<tr><th scope=col>&lt;lgl&gt;</th><th scope=col>&lt;lgl&gt;</th><th scope=col>&lt;lgl&gt;</th><th scope=col>&lt;lgl&gt;</th><th scope=col>&lt;lgl&gt;</th><th scope=col>&lt;lgl&gt;</th><th scope=col>&lt;lgl&gt;</th></tr>\n",
              "</thead>\n",
              "<tbody>\n",
              "</tbody>\n",
              "</table>\n"
            ],
            "text/markdown": "\nA data.frame: 0 × 7\n\n| Time &lt;lgl&gt; | morning.after.pill...Wyoming. &lt;lgl&gt; | roofie...Wyoming. &lt;lgl&gt; | pills.to.avoid.pregnancy.after...Wyoming. &lt;lgl&gt; | how.much.is.the.morning.after.bill...Wyoming. &lt;lgl&gt; | i.been.raped...Wyoming. &lt;lgl&gt; | State &lt;lgl&gt; |\n|---|---|---|---|---|---|---|\n\n",
            "text/latex": "A data.frame: 0 × 7\n\\begin{tabular}{lllllll}\n Time & morning.after.pill...Wyoming. & roofie...Wyoming. & pills.to.avoid.pregnancy.after...Wyoming. & how.much.is.the.morning.after.bill...Wyoming. & i.been.raped...Wyoming. & State\\\\\n <lgl> & <lgl> & <lgl> & <lgl> & <lgl> & <lgl> & <lgl>\\\\\n\\hline\n\\end{tabular}\n",
            "text/plain": [
              "     Time morning.after.pill...Wyoming. roofie...Wyoming.\n",
              "     pills.to.avoid.pregnancy.after...Wyoming.\n",
              "     how.much.is.the.morning.after.bill...Wyoming. i.been.raped...Wyoming.\n",
              "     State"
            ]
          },
          "metadata": {}
        }
      ]
    },
    {
      "cell_type": "code",
      "source": [
        "Full <- read.csv(\"/content/Wyoming.csv\", skip=0, header=TRUE)\n",
        "Short <- read.csv(\"/content/WY_2.csv\", skip=0, header=TRUE)\n",
        "combo <- merge(Full,Short, by=\"Time\", all = T)\n",
        "\n",
        "#head(AL_combo,5)\n",
        "# Add FBI crime data\n",
        "combo$Rapes_per_100k <- 42.1 # <<<====\n",
        "# Add weekly church attendence\n",
        "combo$church_attendence <- 38 # <=======\n",
        "# Add State column\n",
        "combo$State <- \"Wyoming\" # <<<========\n",
        "# Add median household income\n",
        "combo$Household_Income <- 65003 # <<<======\n",
        "#drop extraneous cols\n",
        "combo <- combo %>% \n",
        "        select(-c('State.x', 'State.y'))\n",
        "colnames(combo) <- c(\"Time\",\"ketamine\",\"date_rape\",\"GHB\",\"Rohypnol\",\n",
        "                        \"morning_after_pill\",\"roofie\",\"pills_to_avoid_preg\",\n",
        "                       \"how_much_is_morning_after_pill\",\"been_raped\",\"Rapes_per_100k\",\"church_attendence\",\"State\",\"Household_Income\")\n",
        "WY_combo <- combo                       \n",
        "head(WY_combo ,5)"
      ],
      "metadata": {
        "colab": {
          "base_uri": "https://localhost:8080/",
          "height": 448
        },
        "id": "McIk-M9H118p",
        "outputId": "16762726-8f09-4ce4-94b6-7cf701528e5a"
      },
      "execution_count": 28,
      "outputs": [
        {
          "output_type": "display_data",
          "data": {
            "text/html": [
              "<table class=\"dataframe\">\n",
              "<caption>A data.frame: 5 × 14</caption>\n",
              "<thead>\n",
              "\t<tr><th></th><th scope=col>Time</th><th scope=col>ketamine</th><th scope=col>date_rape</th><th scope=col>GHB</th><th scope=col>Rohypnol</th><th scope=col>morning_after_pill</th><th scope=col>roofie</th><th scope=col>pills_to_avoid_preg</th><th scope=col>how_much_is_morning_after_pill</th><th scope=col>been_raped</th><th scope=col>Rapes_per_100k</th><th scope=col>church_attendence</th><th scope=col>State</th><th scope=col>Household_Income</th></tr>\n",
              "\t<tr><th></th><th scope=col>&lt;chr&gt;</th><th scope=col>&lt;int&gt;</th><th scope=col>&lt;int&gt;</th><th scope=col>&lt;int&gt;</th><th scope=col>&lt;int&gt;</th><th scope=col>&lt;int&gt;</th><th scope=col>&lt;int&gt;</th><th scope=col>&lt;int&gt;</th><th scope=col>&lt;int&gt;</th><th scope=col>&lt;int&gt;</th><th scope=col>&lt;dbl&gt;</th><th scope=col>&lt;dbl&gt;</th><th scope=col>&lt;chr&gt;</th><th scope=col>&lt;dbl&gt;</th></tr>\n",
              "</thead>\n",
              "<tbody>\n",
              "\t<tr><th scope=row>1</th><td>2022-02-23T12</td><td>14</td><td>0</td><td> 0</td><td>0</td><td>0</td><td>0</td><td>0</td><td>0</td><td>0</td><td>42.1</td><td>38</td><td>Wyoming</td><td>65003</td></tr>\n",
              "\t<tr><th scope=row>2</th><td>2022-02-23T13</td><td>14</td><td>0</td><td>14</td><td>0</td><td>0</td><td>0</td><td>0</td><td>0</td><td>0</td><td>42.1</td><td>38</td><td>Wyoming</td><td>65003</td></tr>\n",
              "\t<tr><th scope=row>3</th><td>2022-02-23T14</td><td> 0</td><td>0</td><td> 0</td><td>0</td><td>0</td><td>0</td><td>0</td><td>0</td><td>0</td><td>42.1</td><td>38</td><td>Wyoming</td><td>65003</td></tr>\n",
              "\t<tr><th scope=row>4</th><td>2022-02-23T15</td><td>14</td><td>0</td><td> 0</td><td>0</td><td>0</td><td>0</td><td>0</td><td>0</td><td>0</td><td>42.1</td><td>38</td><td>Wyoming</td><td>65003</td></tr>\n",
              "\t<tr><th scope=row>5</th><td>2022-02-23T16</td><td> 0</td><td>0</td><td> 0</td><td>0</td><td>0</td><td>0</td><td>0</td><td>0</td><td>0</td><td>42.1</td><td>38</td><td>Wyoming</td><td>65003</td></tr>\n",
              "</tbody>\n",
              "</table>\n"
            ],
            "text/markdown": "\nA data.frame: 5 × 14\n\n| <!--/--> | Time &lt;chr&gt; | ketamine &lt;int&gt; | date_rape &lt;int&gt; | GHB &lt;int&gt; | Rohypnol &lt;int&gt; | morning_after_pill &lt;int&gt; | roofie &lt;int&gt; | pills_to_avoid_preg &lt;int&gt; | how_much_is_morning_after_pill &lt;int&gt; | been_raped &lt;int&gt; | Rapes_per_100k &lt;dbl&gt; | church_attendence &lt;dbl&gt; | State &lt;chr&gt; | Household_Income &lt;dbl&gt; |\n|---|---|---|---|---|---|---|---|---|---|---|---|---|---|---|\n| 1 | 2022-02-23T12 | 14 | 0 |  0 | 0 | 0 | 0 | 0 | 0 | 0 | 42.1 | 38 | Wyoming | 65003 |\n| 2 | 2022-02-23T13 | 14 | 0 | 14 | 0 | 0 | 0 | 0 | 0 | 0 | 42.1 | 38 | Wyoming | 65003 |\n| 3 | 2022-02-23T14 |  0 | 0 |  0 | 0 | 0 | 0 | 0 | 0 | 0 | 42.1 | 38 | Wyoming | 65003 |\n| 4 | 2022-02-23T15 | 14 | 0 |  0 | 0 | 0 | 0 | 0 | 0 | 0 | 42.1 | 38 | Wyoming | 65003 |\n| 5 | 2022-02-23T16 |  0 | 0 |  0 | 0 | 0 | 0 | 0 | 0 | 0 | 42.1 | 38 | Wyoming | 65003 |\n\n",
            "text/latex": "A data.frame: 5 × 14\n\\begin{tabular}{r|llllllllllllll}\n  & Time & ketamine & date\\_rape & GHB & Rohypnol & morning\\_after\\_pill & roofie & pills\\_to\\_avoid\\_preg & how\\_much\\_is\\_morning\\_after\\_pill & been\\_raped & Rapes\\_per\\_100k & church\\_attendence & State & Household\\_Income\\\\\n  & <chr> & <int> & <int> & <int> & <int> & <int> & <int> & <int> & <int> & <int> & <dbl> & <dbl> & <chr> & <dbl>\\\\\n\\hline\n\t1 & 2022-02-23T12 & 14 & 0 &  0 & 0 & 0 & 0 & 0 & 0 & 0 & 42.1 & 38 & Wyoming & 65003\\\\\n\t2 & 2022-02-23T13 & 14 & 0 & 14 & 0 & 0 & 0 & 0 & 0 & 0 & 42.1 & 38 & Wyoming & 65003\\\\\n\t3 & 2022-02-23T14 &  0 & 0 &  0 & 0 & 0 & 0 & 0 & 0 & 0 & 42.1 & 38 & Wyoming & 65003\\\\\n\t4 & 2022-02-23T15 & 14 & 0 &  0 & 0 & 0 & 0 & 0 & 0 & 0 & 42.1 & 38 & Wyoming & 65003\\\\\n\t5 & 2022-02-23T16 &  0 & 0 &  0 & 0 & 0 & 0 & 0 & 0 & 0 & 42.1 & 38 & Wyoming & 65003\\\\\n\\end{tabular}\n",
            "text/plain": [
              "  Time          ketamine date_rape GHB Rohypnol morning_after_pill roofie\n",
              "1 2022-02-23T12 14       0          0  0        0                  0     \n",
              "2 2022-02-23T13 14       0         14  0        0                  0     \n",
              "3 2022-02-23T14  0       0          0  0        0                  0     \n",
              "4 2022-02-23T15 14       0          0  0        0                  0     \n",
              "5 2022-02-23T16  0       0          0  0        0                  0     \n",
              "  pills_to_avoid_preg how_much_is_morning_after_pill been_raped Rapes_per_100k\n",
              "1 0                   0                              0          42.1          \n",
              "2 0                   0                              0          42.1          \n",
              "3 0                   0                              0          42.1          \n",
              "4 0                   0                              0          42.1          \n",
              "5 0                   0                              0          42.1          \n",
              "  church_attendence State   Household_Income\n",
              "1 38                Wyoming 65003           \n",
              "2 38                Wyoming 65003           \n",
              "3 38                Wyoming 65003           \n",
              "4 38                Wyoming 65003           \n",
              "5 38                Wyoming 65003           "
            ]
          },
          "metadata": {}
        }
      ]
    },
    {
      "cell_type": "code",
      "source": [
        "#AL_combo[ , 2:5] <- lapply(AL_combo[, 2:5], as.numeric)\n",
        "#WY_combo[ , 6:10] <- lapply(WY_combo[, 6:10], as.numeric)"
      ],
      "metadata": {
        "id": "xpSH97Z-Ncba"
      },
      "execution_count": 296,
      "outputs": []
    },
    {
      "cell_type": "code",
      "source": [
        "head(WY_combo,5)"
      ],
      "metadata": {
        "id": "qAOwwWCNN2Iv"
      },
      "execution_count": null,
      "outputs": []
    },
    {
      "cell_type": "markdown",
      "source": [
        "# RowBind\n",
        "\n",
        "All 50 states have now been combined.  Next we stack them."
      ],
      "metadata": {
        "id": "Yc3YLVk_pcJV"
      }
    },
    {
      "cell_type": "code",
      "source": [
        "First_10 <- bind_rows(AL_combo, AK_combo, AZ_combo, ARK_combo, CA_combo ,CO_combo, CT_combo, DE_combo ,FL_combo, GA_combo)"
      ],
      "metadata": {
        "id": "2dUM4WK98pUW"
      },
      "execution_count": 245,
      "outputs": []
    },
    {
      "cell_type": "code",
      "source": [
        "head(First_10)"
      ],
      "metadata": {
        "id": "qJRlY8f391Hs"
      },
      "execution_count": null,
      "outputs": []
    },
    {
      "cell_type": "code",
      "source": [
        "dim(First_10)"
      ],
      "metadata": {
        "colab": {
          "base_uri": "https://localhost:8080/",
          "height": 34
        },
        "id": "7w-AFBe-99UA",
        "outputId": "41ec144e-df85-4831-d24a-ca9d083f17a3"
      },
      "execution_count": 247,
      "outputs": [
        {
          "output_type": "display_data",
          "data": {
            "text/html": [
              "<style>\n",
              ".list-inline {list-style: none; margin:0; padding: 0}\n",
              ".list-inline>li {display: inline-block}\n",
              ".list-inline>li:not(:last-child)::after {content: \"\\00b7\"; padding: 0 .5ex}\n",
              "</style>\n",
              "<ol class=list-inline><li>1864</li><li>14</li></ol>\n"
            ],
            "text/markdown": "1. 1864\n2. 14\n\n\n",
            "text/latex": "\\begin{enumerate*}\n\\item 1864\n\\item 14\n\\end{enumerate*}\n",
            "text/plain": [
              "[1] 1864   14"
            ]
          },
          "metadata": {}
        }
      ]
    },
    {
      "cell_type": "code",
      "source": [
        "Second_10 <-bind_rows(First_10 , HI_combo ,ID_combo , IL_combo ,IN_combo , Iowa_combo ,KS_combo , KY_combo ,LO_combo ,ME_combo ,MD_combo)"
      ],
      "metadata": {
        "id": "pmh-FAp7BPyq"
      },
      "execution_count": 248,
      "outputs": []
    },
    {
      "cell_type": "code",
      "source": [
        "dim(Se)"
      ],
      "metadata": {
        "id": "0PJo93ADXlH0"
      },
      "execution_count": null,
      "outputs": []
    },
    {
      "cell_type": "code",
      "source": [
        "dim(Second_10)"
      ],
      "metadata": {
        "colab": {
          "base_uri": "https://localhost:8080/",
          "height": 34
        },
        "id": "h9ARfWDYBPfu",
        "outputId": "4ececb3f-ee62-409c-c474-c475f7b4b2b2"
      },
      "execution_count": 250,
      "outputs": [
        {
          "output_type": "display_data",
          "data": {
            "text/html": [
              "<style>\n",
              ".list-inline {list-style: none; margin:0; padding: 0}\n",
              ".list-inline>li {display: inline-block}\n",
              ".list-inline>li:not(:last-child)::after {content: \"\\00b7\"; padding: 0 .5ex}\n",
              "</style>\n",
              "<ol class=list-inline><li>3554</li><li>14</li></ol>\n"
            ],
            "text/markdown": "1. 3554\n2. 14\n\n\n",
            "text/latex": "\\begin{enumerate*}\n\\item 3554\n\\item 14\n\\end{enumerate*}\n",
            "text/plain": [
              "[1] 3554   14"
            ]
          },
          "metadata": {}
        }
      ]
    },
    {
      "cell_type": "code",
      "source": [
        "Third_10 <-  bind_rows(Second_10 ,MA_combo ,MI_combo, MN_combo, MS_combo, MO_combo, MT_combo, NE_combo, NV_combo, NH_combo )"
      ],
      "metadata": {
        "id": "K8Zms0YeCvKi"
      },
      "execution_count": 260,
      "outputs": []
    },
    {
      "cell_type": "code",
      "source": [
        "head(Third_10)"
      ],
      "metadata": {
        "id": "-210bCmUCvG6"
      },
      "execution_count": null,
      "outputs": []
    },
    {
      "cell_type": "code",
      "source": [
        "dim(Third_10)"
      ],
      "metadata": {
        "colab": {
          "base_uri": "https://localhost:8080/",
          "height": 34
        },
        "id": "YVQrn0VuCvD1",
        "outputId": "5bf03997-1801-4235-8c81-6db0d67ca763"
      },
      "execution_count": 263,
      "outputs": [
        {
          "output_type": "display_data",
          "data": {
            "text/html": [
              "<style>\n",
              ".list-inline {list-style: none; margin:0; padding: 0}\n",
              ".list-inline>li {display: inline-block}\n",
              ".list-inline>li:not(:last-child)::after {content: \"\\00b7\"; padding: 0 .5ex}\n",
              "</style>\n",
              "<ol class=list-inline><li>5075</li><li>14</li></ol>\n"
            ],
            "text/markdown": "1. 5075\n2. 14\n\n\n",
            "text/latex": "\\begin{enumerate*}\n\\item 5075\n\\item 14\n\\end{enumerate*}\n",
            "text/plain": [
              "[1] 5075   14"
            ]
          },
          "metadata": {}
        }
      ]
    },
    {
      "cell_type": "code",
      "source": [
        "Fourth_10 <- bind_rows(Third_10 ,NJ_combo ,NM_combo,NY_combo, NC_combo,ND_combo, OH_combo,OK_combo, OR_combo, PA_combo)"
      ],
      "metadata": {
        "id": "OXNfkpKpHqth"
      },
      "execution_count": 264,
      "outputs": []
    },
    {
      "cell_type": "code",
      "source": [
        "dim(Fourth_10)"
      ],
      "metadata": {
        "colab": {
          "base_uri": "https://localhost:8080/",
          "height": 34
        },
        "id": "d4x-ya-bHqm_",
        "outputId": "c0e43e17-17be-46bd-a3a7-3c170d862222"
      },
      "execution_count": 265,
      "outputs": [
        {
          "output_type": "display_data",
          "data": {
            "text/html": [
              "<style>\n",
              ".list-inline {list-style: none; margin:0; padding: 0}\n",
              ".list-inline>li {display: inline-block}\n",
              ".list-inline>li:not(:last-child)::after {content: \"\\00b7\"; padding: 0 .5ex}\n",
              "</style>\n",
              "<ol class=list-inline><li>6596</li><li>14</li></ol>\n"
            ],
            "text/markdown": "1. 6596\n2. 14\n\n\n",
            "text/latex": "\\begin{enumerate*}\n\\item 6596\n\\item 14\n\\end{enumerate*}\n",
            "text/plain": [
              "[1] 6596   14"
            ]
          },
          "metadata": {}
        }
      ]
    },
    {
      "cell_type": "code",
      "source": [
        "Fifth_10 <-bind_rows(Fourth_10 ,RI_combo ,SC_combo ,SD_combo ,TN_combo ,TX_combo , UT_combo,VT_combo, VI_combo,WA_combo ,WV_combo )"
      ],
      "metadata": {
        "id": "MWOsyQ0kHqhc"
      },
      "execution_count": 293,
      "outputs": []
    },
    {
      "cell_type": "code",
      "source": [
        "dim(Fifth_10) #8285 x 14"
      ],
      "metadata": {
        "colab": {
          "base_uri": "https://localhost:8080/",
          "height": 34
        },
        "id": "h7qAoLIcLMvx",
        "outputId": "232fe990-3486-4eb7-d76f-4bbbdd8a8b7e"
      },
      "execution_count": 294,
      "outputs": [
        {
          "output_type": "display_data",
          "data": {
            "text/html": [
              "<style>\n",
              ".list-inline {list-style: none; margin:0; padding: 0}\n",
              ".list-inline>li {display: inline-block}\n",
              ".list-inline>li:not(:last-child)::after {content: \"\\00b7\"; padding: 0 .5ex}\n",
              "</style>\n",
              "<ol class=list-inline><li>8285</li><li>14</li></ol>\n"
            ],
            "text/markdown": "1. 8285\n2. 14\n\n\n",
            "text/latex": "\\begin{enumerate*}\n\\item 8285\n\\item 14\n\\end{enumerate*}\n",
            "text/plain": [
              "[1] 8285   14"
            ]
          },
          "metadata": {}
        }
      ]
    },
    {
      "cell_type": "code",
      "source": [
        "Sixth_10 <- bind_rows(Fifth_10 ,WY_combo )"
      ],
      "metadata": {
        "id": "brvjKXvUWVlY"
      },
      "execution_count": 299,
      "outputs": []
    },
    {
      "cell_type": "code",
      "source": [
        "dim(Sixth_10)"
      ],
      "metadata": {
        "colab": {
          "base_uri": "https://localhost:8080/",
          "height": 34
        },
        "id": "1_Pikt3pXvv0",
        "outputId": "b3415e19-3b80-4a62-d657-0d5e1ccc8bf7"
      },
      "execution_count": 300,
      "outputs": [
        {
          "output_type": "display_data",
          "data": {
            "text/html": [
              "<style>\n",
              ".list-inline {list-style: none; margin:0; padding: 0}\n",
              ".list-inline>li {display: inline-block}\n",
              ".list-inline>li:not(:last-child)::after {content: \"\\00b7\"; padding: 0 .5ex}\n",
              "</style>\n",
              "<ol class=list-inline><li>8453</li><li>14</li></ol>\n"
            ],
            "text/markdown": "1. 8453\n2. 14\n\n\n",
            "text/latex": "\\begin{enumerate*}\n\\item 8453\n\\item 14\n\\end{enumerate*}\n",
            "text/plain": [
              "[1] 8453   14"
            ]
          },
          "metadata": {}
        }
      ]
    },
    {
      "cell_type": "code",
      "source": [
        "filter(Sixth_10 , State == \"Tennasee\")"
      ],
      "metadata": {
        "id": "qRV3PZSgX2qJ"
      },
      "execution_count": null,
      "outputs": []
    },
    {
      "cell_type": "markdown",
      "source": [
        "#Cache the data"
      ],
      "metadata": {
        "id": "xAe4BLV9SU1V"
      }
    },
    {
      "cell_type": "code",
      "source": [
        "DataVizWideData_3_20_2 <- Sixth_10"
      ],
      "metadata": {
        "id": "q9QvMG_GLMqO"
      },
      "execution_count": 302,
      "outputs": []
    },
    {
      "cell_type": "code",
      "source": [
        "write.csv(DataVizWideData_3_20_2 ,\"DataVizWideData_3_20_2.csv\")"
      ],
      "metadata": {
        "id": "xjOVtUiLLMlg"
      },
      "execution_count": 303,
      "outputs": []
    },
    {
      "cell_type": "markdown",
      "source": [
        "### Now re-import DataVizWideData_3_20.csv and take it from Wide to Long"
      ],
      "metadata": {
        "id": "CKNpd9mqpcE-"
      }
    },
    {
      "cell_type": "code",
      "source": [
        "wide_data <- read.csv(\"/content/DataVizWideData_3_20.csv\")"
      ],
      "metadata": {
        "id": "YPa0ZlPVSoIw"
      },
      "execution_count": 283,
      "outputs": []
    },
    {
      "cell_type": "code",
      "source": [
        "head(wide_data)"
      ],
      "metadata": {
        "colab": {
          "base_uri": "https://localhost:8080/",
          "height": 133
        },
        "id": "qmXpcvC-TbgB",
        "outputId": "170b5720-27a3-4bc7-c298-aa18791f9b9b"
      },
      "execution_count": 38,
      "outputs": [
        {
          "output_type": "error",
          "ename": "ERROR",
          "evalue": "ignored",
          "traceback": [
            "Error in head(wide_data): object 'wide_data' not found\nTraceback:\n",
            "1. head(wide_data)"
          ]
        }
      ]
    },
    {
      "cell_type": "code",
      "source": [
        "LONG_DATA <- wide_data %>%\n",
        "              pivot_longer(cols = -c(Time,State))"
      ],
      "metadata": {
        "id": "ELhJBIH8SoPv"
      },
      "execution_count": 304,
      "outputs": []
    },
    {
      "cell_type": "code",
      "source": [
        "dim(LONG_DATA)"
      ],
      "metadata": {
        "colab": {
          "base_uri": "https://localhost:8080/",
          "height": 34
        },
        "id": "tTL9bkwCTynj",
        "outputId": "0e55bc8c-f4a6-4d5c-a1d7-3cabfe857c2d"
      },
      "execution_count": 305,
      "outputs": [
        {
          "output_type": "display_data",
          "data": {
            "text/html": [
              "<style>\n",
              ".list-inline {list-style: none; margin:0; padding: 0}\n",
              ".list-inline>li {display: inline-block}\n",
              ".list-inline>li:not(:last-child)::after {content: \"\\00b7\"; padding: 0 .5ex}\n",
              "</style>\n",
              "<ol class=list-inline><li>107705</li><li>4</li></ol>\n"
            ],
            "text/markdown": "1. 107705\n2. 4\n\n\n",
            "text/latex": "\\begin{enumerate*}\n\\item 107705\n\\item 4\n\\end{enumerate*}\n",
            "text/plain": [
              "[1] 107705      4"
            ]
          },
          "metadata": {}
        }
      ]
    },
    {
      "cell_type": "code",
      "source": [
        "head(LONG_DATA)"
      ],
      "metadata": {
        "colab": {
          "base_uri": "https://localhost:8080/",
          "height": 286
        },
        "id": "tuqSCpKVTqnW",
        "outputId": "ef8f8917-1f8c-4074-ac0e-3e35db1efb46"
      },
      "execution_count": 285,
      "outputs": [
        {
          "output_type": "display_data",
          "data": {
            "text/html": [
              "<table class=\"dataframe\">\n",
              "<caption>A tibble: 6 × 4</caption>\n",
              "<thead>\n",
              "\t<tr><th scope=col>Time</th><th scope=col>State</th><th scope=col>name</th><th scope=col>value</th></tr>\n",
              "\t<tr><th scope=col>&lt;chr&gt;</th><th scope=col>&lt;chr&gt;</th><th scope=col>&lt;chr&gt;</th><th scope=col>&lt;dbl&gt;</th></tr>\n",
              "</thead>\n",
              "<tbody>\n",
              "\t<tr><td>2022-02-23T11</td><td>Alabama</td><td>X                 </td><td> 1</td></tr>\n",
              "\t<tr><td>2022-02-23T11</td><td>Alabama</td><td>ketamine          </td><td>45</td></tr>\n",
              "\t<tr><td>2022-02-23T11</td><td>Alabama</td><td>date_rape         </td><td> 6</td></tr>\n",
              "\t<tr><td>2022-02-23T11</td><td>Alabama</td><td>GHB               </td><td> 0</td></tr>\n",
              "\t<tr><td>2022-02-23T11</td><td>Alabama</td><td>Rohypnol          </td><td> 0</td></tr>\n",
              "\t<tr><td>2022-02-23T11</td><td>Alabama</td><td>morning_after_pill</td><td>NA</td></tr>\n",
              "</tbody>\n",
              "</table>\n"
            ],
            "text/markdown": "\nA tibble: 6 × 4\n\n| Time &lt;chr&gt; | State &lt;chr&gt; | name &lt;chr&gt; | value &lt;dbl&gt; |\n|---|---|---|---|\n| 2022-02-23T11 | Alabama | X                  |  1 |\n| 2022-02-23T11 | Alabama | ketamine           | 45 |\n| 2022-02-23T11 | Alabama | date_rape          |  6 |\n| 2022-02-23T11 | Alabama | GHB                |  0 |\n| 2022-02-23T11 | Alabama | Rohypnol           |  0 |\n| 2022-02-23T11 | Alabama | morning_after_pill | NA |\n\n",
            "text/latex": "A tibble: 6 × 4\n\\begin{tabular}{llll}\n Time & State & name & value\\\\\n <chr> & <chr> & <chr> & <dbl>\\\\\n\\hline\n\t 2022-02-23T11 & Alabama & X                  &  1\\\\\n\t 2022-02-23T11 & Alabama & ketamine           & 45\\\\\n\t 2022-02-23T11 & Alabama & date\\_rape          &  6\\\\\n\t 2022-02-23T11 & Alabama & GHB                &  0\\\\\n\t 2022-02-23T11 & Alabama & Rohypnol           &  0\\\\\n\t 2022-02-23T11 & Alabama & morning\\_after\\_pill & NA\\\\\n\\end{tabular}\n",
            "text/plain": [
              "  Time          State   name               value\n",
              "1 2022-02-23T11 Alabama X                   1   \n",
              "2 2022-02-23T11 Alabama ketamine           45   \n",
              "3 2022-02-23T11 Alabama date_rape           6   \n",
              "4 2022-02-23T11 Alabama GHB                 0   \n",
              "5 2022-02-23T11 Alabama Rohypnol            0   \n",
              "6 2022-02-23T11 Alabama morning_after_pill NA   "
            ]
          },
          "metadata": {}
        }
      ]
    },
    {
      "cell_type": "code",
      "source": [
        "tail(LONG_DATA)"
      ],
      "metadata": {
        "colab": {
          "base_uri": "https://localhost:8080/",
          "height": 286
        },
        "id": "jiJ3XbeqTqb6",
        "outputId": "3189df9d-c4f8-4f0c-82d2-988eb3b239d2"
      },
      "execution_count": 288,
      "outputs": [
        {
          "output_type": "display_data",
          "data": {
            "text/html": [
              "<table class=\"dataframe\">\n",
              "<caption>A tibble: 6 × 4</caption>\n",
              "<thead>\n",
              "\t<tr><th scope=col>Time</th><th scope=col>State</th><th scope=col>name</th><th scope=col>value</th></tr>\n",
              "\t<tr><th scope=col>&lt;chr&gt;</th><th scope=col>&lt;chr&gt;</th><th scope=col>&lt;chr&gt;</th><th scope=col>&lt;dbl&gt;</th></tr>\n",
              "</thead>\n",
              "<tbody>\n",
              "\t<tr><td>2022-03-02T12</td><td>WestVirginia</td><td>pills_to_avoid_preg           </td><td>    0.0</td></tr>\n",
              "\t<tr><td>2022-03-02T12</td><td>WestVirginia</td><td>how_much_is_morning_after_pill</td><td>    0.0</td></tr>\n",
              "\t<tr><td>2022-03-02T12</td><td>WestVirginia</td><td>been_raped                    </td><td>    0.0</td></tr>\n",
              "\t<tr><td>2022-03-02T12</td><td>WestVirginia</td><td>Rapes_per_100k                </td><td>   45.3</td></tr>\n",
              "\t<tr><td>2022-03-02T12</td><td>WestVirginia</td><td>church_attendence             </td><td>   46.0</td></tr>\n",
              "\t<tr><td>2022-03-02T12</td><td>WestVirginia</td><td>Household_Income              </td><td>48850.0</td></tr>\n",
              "</tbody>\n",
              "</table>\n"
            ],
            "text/markdown": "\nA tibble: 6 × 4\n\n| Time &lt;chr&gt; | State &lt;chr&gt; | name &lt;chr&gt; | value &lt;dbl&gt; |\n|---|---|---|---|\n| 2022-03-02T12 | WestVirginia | pills_to_avoid_preg            |     0.0 |\n| 2022-03-02T12 | WestVirginia | how_much_is_morning_after_pill |     0.0 |\n| 2022-03-02T12 | WestVirginia | been_raped                     |     0.0 |\n| 2022-03-02T12 | WestVirginia | Rapes_per_100k                 |    45.3 |\n| 2022-03-02T12 | WestVirginia | church_attendence              |    46.0 |\n| 2022-03-02T12 | WestVirginia | Household_Income               | 48850.0 |\n\n",
            "text/latex": "A tibble: 6 × 4\n\\begin{tabular}{llll}\n Time & State & name & value\\\\\n <chr> & <chr> & <chr> & <dbl>\\\\\n\\hline\n\t 2022-03-02T12 & WestVirginia & pills\\_to\\_avoid\\_preg            &     0.0\\\\\n\t 2022-03-02T12 & WestVirginia & how\\_much\\_is\\_morning\\_after\\_pill &     0.0\\\\\n\t 2022-03-02T12 & WestVirginia & been\\_raped                     &     0.0\\\\\n\t 2022-03-02T12 & WestVirginia & Rapes\\_per\\_100k                 &    45.3\\\\\n\t 2022-03-02T12 & WestVirginia & church\\_attendence              &    46.0\\\\\n\t 2022-03-02T12 & WestVirginia & Household\\_Income               & 48850.0\\\\\n\\end{tabular}\n",
            "text/plain": [
              "  Time          State        name                           value  \n",
              "1 2022-03-02T12 WestVirginia pills_to_avoid_preg                0.0\n",
              "2 2022-03-02T12 WestVirginia how_much_is_morning_after_pill     0.0\n",
              "3 2022-03-02T12 WestVirginia been_raped                         0.0\n",
              "4 2022-03-02T12 WestVirginia Rapes_per_100k                    45.3\n",
              "5 2022-03-02T12 WestVirginia church_attendence                 46.0\n",
              "6 2022-03-02T12 WestVirginia Household_Income               48850.0"
            ]
          },
          "metadata": {}
        }
      ]
    },
    {
      "cell_type": "markdown",
      "source": [
        ""
      ],
      "metadata": {
        "id": "Jaj9jR-iiYHU"
      }
    },
    {
      "cell_type": "markdown",
      "source": [
        "### Lets cached the long data"
      ],
      "metadata": {
        "id": "yWL5gFbDpcAq"
      }
    },
    {
      "cell_type": "code",
      "source": [
        "write.csv(LONG_DATA , \"DataViz_LongData_3_20_2.csv\")"
      ],
      "metadata": {
        "id": "uBk5ManpT_-X"
      },
      "execution_count": 306,
      "outputs": []
    },
    {
      "cell_type": "markdown",
      "source": [
        "# '##################################################'"
      ],
      "metadata": {
        "id": "-VMF1pZFpb8u"
      }
    },
    {
      "cell_type": "markdown",
      "source": [
        "### Why are Wyoming and NY both empty?  do they have any values?"
      ],
      "metadata": {
        "id": "NdIo7lJXpb4s"
      }
    },
    {
      "cell_type": "code",
      "source": [
        ""
      ],
      "metadata": {
        "id": "x6hQHgmhuCHI"
      },
      "execution_count": null,
      "outputs": []
    },
    {
      "cell_type": "code",
      "source": [
        "long_data <- read.csv('/content/DataViz_LongData_3_20_2.csv')"
      ],
      "metadata": {
        "id": "wk2t9jCthe7a"
      },
      "execution_count": 5,
      "outputs": []
    },
    {
      "cell_type": "code",
      "source": [
        "dim(long_data)"
      ],
      "metadata": {
        "colab": {
          "base_uri": "https://localhost:8080/",
          "height": 34
        },
        "id": "Cfr0uUq_hsAX",
        "outputId": "882b44a0-a5e5-49d5-f587-488b69253491"
      },
      "execution_count": 6,
      "outputs": [
        {
          "output_type": "display_data",
          "data": {
            "text/html": [
              "<style>\n",
              ".list-inline {list-style: none; margin:0; padding: 0}\n",
              ".list-inline>li {display: inline-block}\n",
              ".list-inline>li:not(:last-child)::after {content: \"\\00b7\"; padding: 0 .5ex}\n",
              "</style>\n",
              "<ol class=list-inline><li>107705</li><li>5</li></ol>\n"
            ],
            "text/markdown": "1. 107705\n2. 5\n\n\n",
            "text/latex": "\\begin{enumerate*}\n\\item 107705\n\\item 5\n\\end{enumerate*}\n",
            "text/plain": [
              "[1] 107705      5"
            ]
          },
          "metadata": {}
        }
      ]
    },
    {
      "cell_type": "code",
      "source": [
        "tail(long_data)"
      ],
      "metadata": {
        "colab": {
          "base_uri": "https://localhost:8080/",
          "height": 286
        },
        "id": "et7OpMODlirx",
        "outputId": "60fbf682-c419-4d70-cf3e-e580fb418577"
      },
      "execution_count": 21,
      "outputs": [
        {
          "output_type": "display_data",
          "data": {
            "text/html": [
              "<table class=\"dataframe\">\n",
              "<caption>A data.frame: 6 × 5</caption>\n",
              "<thead>\n",
              "\t<tr><th></th><th scope=col>X</th><th scope=col>Time</th><th scope=col>State</th><th scope=col>name</th><th scope=col>value</th></tr>\n",
              "\t<tr><th></th><th scope=col>&lt;int&gt;</th><th scope=col>&lt;chr&gt;</th><th scope=col>&lt;chr&gt;</th><th scope=col>&lt;chr&gt;</th><th scope=col>&lt;dbl&gt;</th></tr>\n",
              "</thead>\n",
              "<tbody>\n",
              "\t<tr><th scope=row>107700</th><td>107700</td><td>2022-03-02T12</td><td>WestVirginia</td><td>pills_to_avoid_preg           </td><td>    0.0</td></tr>\n",
              "\t<tr><th scope=row>107701</th><td>107701</td><td>2022-03-02T12</td><td>WestVirginia</td><td>how_much_is_morning_after_pill</td><td>    0.0</td></tr>\n",
              "\t<tr><th scope=row>107702</th><td>107702</td><td>2022-03-02T12</td><td>WestVirginia</td><td>been_raped                    </td><td>    0.0</td></tr>\n",
              "\t<tr><th scope=row>107703</th><td>107703</td><td>2022-03-02T12</td><td>WestVirginia</td><td>Rapes_per_100k                </td><td>   45.3</td></tr>\n",
              "\t<tr><th scope=row>107704</th><td>107704</td><td>2022-03-02T12</td><td>WestVirginia</td><td>church_attendence             </td><td>   46.0</td></tr>\n",
              "\t<tr><th scope=row>107705</th><td>107705</td><td>2022-03-02T12</td><td>WestVirginia</td><td>Household_Income              </td><td>48850.0</td></tr>\n",
              "</tbody>\n",
              "</table>\n"
            ],
            "text/markdown": "\nA data.frame: 6 × 5\n\n| <!--/--> | X &lt;int&gt; | Time &lt;chr&gt; | State &lt;chr&gt; | name &lt;chr&gt; | value &lt;dbl&gt; |\n|---|---|---|---|---|---|\n| 107700 | 107700 | 2022-03-02T12 | WestVirginia | pills_to_avoid_preg            |     0.0 |\n| 107701 | 107701 | 2022-03-02T12 | WestVirginia | how_much_is_morning_after_pill |     0.0 |\n| 107702 | 107702 | 2022-03-02T12 | WestVirginia | been_raped                     |     0.0 |\n| 107703 | 107703 | 2022-03-02T12 | WestVirginia | Rapes_per_100k                 |    45.3 |\n| 107704 | 107704 | 2022-03-02T12 | WestVirginia | church_attendence              |    46.0 |\n| 107705 | 107705 | 2022-03-02T12 | WestVirginia | Household_Income               | 48850.0 |\n\n",
            "text/latex": "A data.frame: 6 × 5\n\\begin{tabular}{r|lllll}\n  & X & Time & State & name & value\\\\\n  & <int> & <chr> & <chr> & <chr> & <dbl>\\\\\n\\hline\n\t107700 & 107700 & 2022-03-02T12 & WestVirginia & pills\\_to\\_avoid\\_preg            &     0.0\\\\\n\t107701 & 107701 & 2022-03-02T12 & WestVirginia & how\\_much\\_is\\_morning\\_after\\_pill &     0.0\\\\\n\t107702 & 107702 & 2022-03-02T12 & WestVirginia & been\\_raped                     &     0.0\\\\\n\t107703 & 107703 & 2022-03-02T12 & WestVirginia & Rapes\\_per\\_100k                 &    45.3\\\\\n\t107704 & 107704 & 2022-03-02T12 & WestVirginia & church\\_attendence              &    46.0\\\\\n\t107705 & 107705 & 2022-03-02T12 & WestVirginia & Household\\_Income               & 48850.0\\\\\n\\end{tabular}\n",
            "text/plain": [
              "       X      Time          State        name                           value  \n",
              "107700 107700 2022-03-02T12 WestVirginia pills_to_avoid_preg                0.0\n",
              "107701 107701 2022-03-02T12 WestVirginia how_much_is_morning_after_pill     0.0\n",
              "107702 107702 2022-03-02T12 WestVirginia been_raped                         0.0\n",
              "107703 107703 2022-03-02T12 WestVirginia Rapes_per_100k                    45.3\n",
              "107704 107704 2022-03-02T12 WestVirginia church_attendence                 46.0\n",
              "107705 107705 2022-03-02T12 WestVirginia Household_Income               48850.0"
            ]
          },
          "metadata": {}
        }
      ]
    },
    {
      "cell_type": "code",
      "source": [
        "ny <- long_data %>% \n",
        "      filter(grepl(\"NewYork\", State))"
      ],
      "metadata": {
        "id": "I-edkPxihr7T"
      },
      "execution_count": 11,
      "outputs": []
    },
    {
      "cell_type": "code",
      "source": [
        "dim(ny)"
      ],
      "metadata": {
        "colab": {
          "base_uri": "https://localhost:8080/",
          "height": 34
        },
        "id": "FNO-ccqwhr1D",
        "outputId": "c880ef5a-bf5f-4c04-ac8f-335e378c60ee"
      },
      "execution_count": 17,
      "outputs": [
        {
          "output_type": "display_data",
          "data": {
            "text/html": [
              "<style>\n",
              ".list-inline {list-style: none; margin:0; padding: 0}\n",
              ".list-inline>li {display: inline-block}\n",
              ".list-inline>li:not(:last-child)::after {content: \"\\00b7\"; padding: 0 .5ex}\n",
              "</style>\n",
              "<ol class=list-inline><li>2197</li><li>5</li></ol>\n"
            ],
            "text/markdown": "1. 2197\n2. 5\n\n\n",
            "text/latex": "\\begin{enumerate*}\n\\item 2197\n\\item 5\n\\end{enumerate*}\n",
            "text/plain": [
              "[1] 2197    5"
            ]
          },
          "metadata": {}
        }
      ]
    },
    {
      "cell_type": "code",
      "source": [
        "tn <- long_data %>% \n",
        "      filter(grepl(\"Tennasee\", State))"
      ],
      "metadata": {
        "id": "O5vhUEnSlzXf"
      },
      "execution_count": 22,
      "outputs": []
    },
    {
      "cell_type": "code",
      "source": [
        "dim(tn)"
      ],
      "metadata": {
        "colab": {
          "base_uri": "https://localhost:8080/",
          "height": 34
        },
        "id": "tJeUganTl4g6",
        "outputId": "f4580ae6-c0f5-464a-a416-558dc1f5c0d2"
      },
      "execution_count": 23,
      "outputs": [
        {
          "output_type": "display_data",
          "data": {
            "text/html": [
              "<style>\n",
              ".list-inline {list-style: none; margin:0; padding: 0}\n",
              ".list-inline>li {display: inline-block}\n",
              ".list-inline>li:not(:last-child)::after {content: \"\\00b7\"; padding: 0 .5ex}\n",
              "</style>\n",
              "<ol class=list-inline><li>2197</li><li>5</li></ol>\n"
            ],
            "text/markdown": "1. 2197\n2. 5\n\n\n",
            "text/latex": "\\begin{enumerate*}\n\\item 2197\n\\item 5\n\\end{enumerate*}\n",
            "text/plain": [
              "[1] 2197    5"
            ]
          },
          "metadata": {}
        }
      ]
    },
    {
      "cell_type": "code",
      "source": [
        "tn"
      ],
      "metadata": {
        "id": "mkCphJvMl-fZ"
      },
      "execution_count": null,
      "outputs": []
    },
    {
      "cell_type": "code",
      "source": [
        "wy <- long_data %>% \n",
        "      filter(grepl(\"Wyoming\", State))"
      ],
      "metadata": {
        "id": "Lr57eMk6jywH"
      },
      "execution_count": 19,
      "outputs": []
    },
    {
      "cell_type": "code",
      "source": [
        "dim(wy)"
      ],
      "metadata": {
        "colab": {
          "base_uri": "https://localhost:8080/",
          "height": 34
        },
        "id": "Wz6ssdAtj5vS",
        "outputId": "bad86827-58cd-4ba7-cbe6-39f205c5fa63"
      },
      "execution_count": 20,
      "outputs": [
        {
          "output_type": "display_data",
          "data": {
            "text/html": [
              "<style>\n",
              ".list-inline {list-style: none; margin:0; padding: 0}\n",
              ".list-inline>li {display: inline-block}\n",
              ".list-inline>li:not(:last-child)::after {content: \"\\00b7\"; padding: 0 .5ex}\n",
              "</style>\n",
              "<ol class=list-inline><li>0</li><li>5</li></ol>\n"
            ],
            "text/markdown": "1. 0\n2. 5\n\n\n",
            "text/latex": "\\begin{enumerate*}\n\\item 0\n\\item 5\n\\end{enumerate*}\n",
            "text/plain": [
              "[1] 0 5"
            ]
          },
          "metadata": {}
        }
      ]
    },
    {
      "cell_type": "markdown",
      "source": [
        "### Ok, We think the Wyoming and Tennasee data sets are corrected.  Again. Let us append them row wise to "
      ],
      "metadata": {
        "id": "nEJSETkrpb0E"
      }
    },
    {
      "cell_type": "markdown",
      "source": [
        "### VERY fortunately for me I cached the DataVizWideData_3_20_2.csv since something went wrong with Tennasse and Wyoming data I do not need to do much more than append these 2 states"
      ],
      "metadata": {
        "id": "57Uv6w8HqmR5"
      }
    },
    {
      "cell_type": "code",
      "source": [
        "data_wide_3_21 <- read.csv('/content/DataVizWideData_3_20.csv')"
      ],
      "metadata": {
        "id": "6P1DxBfTuMym"
      },
      "execution_count": 39,
      "outputs": []
    },
    {
      "cell_type": "code",
      "source": [
        "head(data_wide_3_21)"
      ],
      "metadata": {
        "colab": {
          "base_uri": "https://localhost:8080/",
          "height": 514
        },
        "id": "yZCg7eRRuaMb",
        "outputId": "dcee8862-b377-4121-8661-3331deed39b4"
      },
      "execution_count": 40,
      "outputs": [
        {
          "output_type": "display_data",
          "data": {
            "text/html": [
              "<table class=\"dataframe\">\n",
              "<caption>A data.frame: 6 × 15</caption>\n",
              "<thead>\n",
              "\t<tr><th></th><th scope=col>X</th><th scope=col>Time</th><th scope=col>ketamine</th><th scope=col>date_rape</th><th scope=col>GHB</th><th scope=col>Rohypnol</th><th scope=col>morning_after_pill</th><th scope=col>roofie</th><th scope=col>pills_to_avoid_preg</th><th scope=col>how_much_is_morning_after_pill</th><th scope=col>been_raped</th><th scope=col>Rapes_per_100k</th><th scope=col>church_attendence</th><th scope=col>State</th><th scope=col>Household_Income</th></tr>\n",
              "\t<tr><th></th><th scope=col>&lt;int&gt;</th><th scope=col>&lt;chr&gt;</th><th scope=col>&lt;int&gt;</th><th scope=col>&lt;int&gt;</th><th scope=col>&lt;int&gt;</th><th scope=col>&lt;int&gt;</th><th scope=col>&lt;int&gt;</th><th scope=col>&lt;int&gt;</th><th scope=col>&lt;int&gt;</th><th scope=col>&lt;int&gt;</th><th scope=col>&lt;int&gt;</th><th scope=col>&lt;dbl&gt;</th><th scope=col>&lt;int&gt;</th><th scope=col>&lt;chr&gt;</th><th scope=col>&lt;int&gt;</th></tr>\n",
              "</thead>\n",
              "<tbody>\n",
              "\t<tr><th scope=row>1</th><td>1</td><td>2022-02-23T11</td><td>45</td><td>6</td><td> 0</td><td>0</td><td>NA</td><td>NA</td><td>NA</td><td>NA</td><td>NA</td><td>40.8</td><td>51</td><td>Alabama</td><td>51734</td></tr>\n",
              "\t<tr><th scope=row>2</th><td>2</td><td>2022-02-23T11</td><td>39</td><td>3</td><td>10</td><td>0</td><td>NA</td><td>NA</td><td>NA</td><td>NA</td><td>NA</td><td>40.8</td><td>51</td><td>Alabama</td><td>51734</td></tr>\n",
              "\t<tr><th scope=row>3</th><td>3</td><td>2022-02-23T12</td><td>44</td><td>3</td><td> 0</td><td>3</td><td> 0</td><td>12</td><td> 0</td><td> 0</td><td> 0</td><td>40.8</td><td>51</td><td>Alabama</td><td>51734</td></tr>\n",
              "\t<tr><th scope=row>4</th><td>4</td><td>2022-02-23T12</td><td>25</td><td>6</td><td> 6</td><td>0</td><td> 0</td><td>12</td><td> 0</td><td> 0</td><td> 0</td><td>40.8</td><td>51</td><td>Alabama</td><td>51734</td></tr>\n",
              "\t<tr><th scope=row>5</th><td>5</td><td>2022-02-23T13</td><td>42</td><td>9</td><td> 3</td><td>0</td><td>25</td><td> 0</td><td> 0</td><td> 0</td><td> 0</td><td>40.8</td><td>51</td><td>Alabama</td><td>51734</td></tr>\n",
              "\t<tr><th scope=row>6</th><td>6</td><td>2022-02-23T13</td><td>19</td><td>0</td><td>18</td><td>0</td><td>25</td><td> 0</td><td> 0</td><td> 0</td><td> 0</td><td>40.8</td><td>51</td><td>Alabama</td><td>51734</td></tr>\n",
              "</tbody>\n",
              "</table>\n"
            ],
            "text/markdown": "\nA data.frame: 6 × 15\n\n| <!--/--> | X &lt;int&gt; | Time &lt;chr&gt; | ketamine &lt;int&gt; | date_rape &lt;int&gt; | GHB &lt;int&gt; | Rohypnol &lt;int&gt; | morning_after_pill &lt;int&gt; | roofie &lt;int&gt; | pills_to_avoid_preg &lt;int&gt; | how_much_is_morning_after_pill &lt;int&gt; | been_raped &lt;int&gt; | Rapes_per_100k &lt;dbl&gt; | church_attendence &lt;int&gt; | State &lt;chr&gt; | Household_Income &lt;int&gt; |\n|---|---|---|---|---|---|---|---|---|---|---|---|---|---|---|---|\n| 1 | 1 | 2022-02-23T11 | 45 | 6 |  0 | 0 | NA | NA | NA | NA | NA | 40.8 | 51 | Alabama | 51734 |\n| 2 | 2 | 2022-02-23T11 | 39 | 3 | 10 | 0 | NA | NA | NA | NA | NA | 40.8 | 51 | Alabama | 51734 |\n| 3 | 3 | 2022-02-23T12 | 44 | 3 |  0 | 3 |  0 | 12 |  0 |  0 |  0 | 40.8 | 51 | Alabama | 51734 |\n| 4 | 4 | 2022-02-23T12 | 25 | 6 |  6 | 0 |  0 | 12 |  0 |  0 |  0 | 40.8 | 51 | Alabama | 51734 |\n| 5 | 5 | 2022-02-23T13 | 42 | 9 |  3 | 0 | 25 |  0 |  0 |  0 |  0 | 40.8 | 51 | Alabama | 51734 |\n| 6 | 6 | 2022-02-23T13 | 19 | 0 | 18 | 0 | 25 |  0 |  0 |  0 |  0 | 40.8 | 51 | Alabama | 51734 |\n\n",
            "text/latex": "A data.frame: 6 × 15\n\\begin{tabular}{r|lllllllllllllll}\n  & X & Time & ketamine & date\\_rape & GHB & Rohypnol & morning\\_after\\_pill & roofie & pills\\_to\\_avoid\\_preg & how\\_much\\_is\\_morning\\_after\\_pill & been\\_raped & Rapes\\_per\\_100k & church\\_attendence & State & Household\\_Income\\\\\n  & <int> & <chr> & <int> & <int> & <int> & <int> & <int> & <int> & <int> & <int> & <int> & <dbl> & <int> & <chr> & <int>\\\\\n\\hline\n\t1 & 1 & 2022-02-23T11 & 45 & 6 &  0 & 0 & NA & NA & NA & NA & NA & 40.8 & 51 & Alabama & 51734\\\\\n\t2 & 2 & 2022-02-23T11 & 39 & 3 & 10 & 0 & NA & NA & NA & NA & NA & 40.8 & 51 & Alabama & 51734\\\\\n\t3 & 3 & 2022-02-23T12 & 44 & 3 &  0 & 3 &  0 & 12 &  0 &  0 &  0 & 40.8 & 51 & Alabama & 51734\\\\\n\t4 & 4 & 2022-02-23T12 & 25 & 6 &  6 & 0 &  0 & 12 &  0 &  0 &  0 & 40.8 & 51 & Alabama & 51734\\\\\n\t5 & 5 & 2022-02-23T13 & 42 & 9 &  3 & 0 & 25 &  0 &  0 &  0 &  0 & 40.8 & 51 & Alabama & 51734\\\\\n\t6 & 6 & 2022-02-23T13 & 19 & 0 & 18 & 0 & 25 &  0 &  0 &  0 &  0 & 40.8 & 51 & Alabama & 51734\\\\\n\\end{tabular}\n",
            "text/plain": [
              "  X Time          ketamine date_rape GHB Rohypnol morning_after_pill roofie\n",
              "1 1 2022-02-23T11 45       6          0  0        NA                 NA    \n",
              "2 2 2022-02-23T11 39       3         10  0        NA                 NA    \n",
              "3 3 2022-02-23T12 44       3          0  3         0                 12    \n",
              "4 4 2022-02-23T12 25       6          6  0         0                 12    \n",
              "5 5 2022-02-23T13 42       9          3  0        25                  0    \n",
              "6 6 2022-02-23T13 19       0         18  0        25                  0    \n",
              "  pills_to_avoid_preg how_much_is_morning_after_pill been_raped Rapes_per_100k\n",
              "1 NA                  NA                             NA         40.8          \n",
              "2 NA                  NA                             NA         40.8          \n",
              "3  0                   0                              0         40.8          \n",
              "4  0                   0                              0         40.8          \n",
              "5  0                   0                              0         40.8          \n",
              "6  0                   0                              0         40.8          \n",
              "  church_attendence State   Household_Income\n",
              "1 51                Alabama 51734           \n",
              "2 51                Alabama 51734           \n",
              "3 51                Alabama 51734           \n",
              "4 51                Alabama 51734           \n",
              "5 51                Alabama 51734           \n",
              "6 51                Alabama 51734           "
            ]
          },
          "metadata": {}
        }
      ]
    },
    {
      "cell_type": "markdown",
      "source": [
        "### Drop that errant \"x\" first col"
      ],
      "metadata": {
        "id": "OQfThQItujq8"
      }
    },
    {
      "cell_type": "code",
      "source": [
        "data_wide_3_21 <- data_wide_3_21%>% \n",
        "        select(-c('X'))"
      ],
      "metadata": {
        "id": "brcjoTybuaIh"
      },
      "execution_count": 41,
      "outputs": []
    },
    {
      "cell_type": "code",
      "source": [
        "head(data_wide_3_21)"
      ],
      "metadata": {
        "colab": {
          "base_uri": "https://localhost:8080/",
          "height": 514
        },
        "id": "U64Dy8sDvBML",
        "outputId": "182e2b91-ab4c-4f87-acc0-4365a25198a0"
      },
      "execution_count": 42,
      "outputs": [
        {
          "output_type": "display_data",
          "data": {
            "text/html": [
              "<table class=\"dataframe\">\n",
              "<caption>A data.frame: 6 × 14</caption>\n",
              "<thead>\n",
              "\t<tr><th></th><th scope=col>Time</th><th scope=col>ketamine</th><th scope=col>date_rape</th><th scope=col>GHB</th><th scope=col>Rohypnol</th><th scope=col>morning_after_pill</th><th scope=col>roofie</th><th scope=col>pills_to_avoid_preg</th><th scope=col>how_much_is_morning_after_pill</th><th scope=col>been_raped</th><th scope=col>Rapes_per_100k</th><th scope=col>church_attendence</th><th scope=col>State</th><th scope=col>Household_Income</th></tr>\n",
              "\t<tr><th></th><th scope=col>&lt;chr&gt;</th><th scope=col>&lt;int&gt;</th><th scope=col>&lt;int&gt;</th><th scope=col>&lt;int&gt;</th><th scope=col>&lt;int&gt;</th><th scope=col>&lt;int&gt;</th><th scope=col>&lt;int&gt;</th><th scope=col>&lt;int&gt;</th><th scope=col>&lt;int&gt;</th><th scope=col>&lt;int&gt;</th><th scope=col>&lt;dbl&gt;</th><th scope=col>&lt;int&gt;</th><th scope=col>&lt;chr&gt;</th><th scope=col>&lt;int&gt;</th></tr>\n",
              "</thead>\n",
              "<tbody>\n",
              "\t<tr><th scope=row>1</th><td>2022-02-23T11</td><td>45</td><td>6</td><td> 0</td><td>0</td><td>NA</td><td>NA</td><td>NA</td><td>NA</td><td>NA</td><td>40.8</td><td>51</td><td>Alabama</td><td>51734</td></tr>\n",
              "\t<tr><th scope=row>2</th><td>2022-02-23T11</td><td>39</td><td>3</td><td>10</td><td>0</td><td>NA</td><td>NA</td><td>NA</td><td>NA</td><td>NA</td><td>40.8</td><td>51</td><td>Alabama</td><td>51734</td></tr>\n",
              "\t<tr><th scope=row>3</th><td>2022-02-23T12</td><td>44</td><td>3</td><td> 0</td><td>3</td><td> 0</td><td>12</td><td> 0</td><td> 0</td><td> 0</td><td>40.8</td><td>51</td><td>Alabama</td><td>51734</td></tr>\n",
              "\t<tr><th scope=row>4</th><td>2022-02-23T12</td><td>25</td><td>6</td><td> 6</td><td>0</td><td> 0</td><td>12</td><td> 0</td><td> 0</td><td> 0</td><td>40.8</td><td>51</td><td>Alabama</td><td>51734</td></tr>\n",
              "\t<tr><th scope=row>5</th><td>2022-02-23T13</td><td>42</td><td>9</td><td> 3</td><td>0</td><td>25</td><td> 0</td><td> 0</td><td> 0</td><td> 0</td><td>40.8</td><td>51</td><td>Alabama</td><td>51734</td></tr>\n",
              "\t<tr><th scope=row>6</th><td>2022-02-23T13</td><td>19</td><td>0</td><td>18</td><td>0</td><td>25</td><td> 0</td><td> 0</td><td> 0</td><td> 0</td><td>40.8</td><td>51</td><td>Alabama</td><td>51734</td></tr>\n",
              "</tbody>\n",
              "</table>\n"
            ],
            "text/markdown": "\nA data.frame: 6 × 14\n\n| <!--/--> | Time &lt;chr&gt; | ketamine &lt;int&gt; | date_rape &lt;int&gt; | GHB &lt;int&gt; | Rohypnol &lt;int&gt; | morning_after_pill &lt;int&gt; | roofie &lt;int&gt; | pills_to_avoid_preg &lt;int&gt; | how_much_is_morning_after_pill &lt;int&gt; | been_raped &lt;int&gt; | Rapes_per_100k &lt;dbl&gt; | church_attendence &lt;int&gt; | State &lt;chr&gt; | Household_Income &lt;int&gt; |\n|---|---|---|---|---|---|---|---|---|---|---|---|---|---|---|\n| 1 | 2022-02-23T11 | 45 | 6 |  0 | 0 | NA | NA | NA | NA | NA | 40.8 | 51 | Alabama | 51734 |\n| 2 | 2022-02-23T11 | 39 | 3 | 10 | 0 | NA | NA | NA | NA | NA | 40.8 | 51 | Alabama | 51734 |\n| 3 | 2022-02-23T12 | 44 | 3 |  0 | 3 |  0 | 12 |  0 |  0 |  0 | 40.8 | 51 | Alabama | 51734 |\n| 4 | 2022-02-23T12 | 25 | 6 |  6 | 0 |  0 | 12 |  0 |  0 |  0 | 40.8 | 51 | Alabama | 51734 |\n| 5 | 2022-02-23T13 | 42 | 9 |  3 | 0 | 25 |  0 |  0 |  0 |  0 | 40.8 | 51 | Alabama | 51734 |\n| 6 | 2022-02-23T13 | 19 | 0 | 18 | 0 | 25 |  0 |  0 |  0 |  0 | 40.8 | 51 | Alabama | 51734 |\n\n",
            "text/latex": "A data.frame: 6 × 14\n\\begin{tabular}{r|llllllllllllll}\n  & Time & ketamine & date\\_rape & GHB & Rohypnol & morning\\_after\\_pill & roofie & pills\\_to\\_avoid\\_preg & how\\_much\\_is\\_morning\\_after\\_pill & been\\_raped & Rapes\\_per\\_100k & church\\_attendence & State & Household\\_Income\\\\\n  & <chr> & <int> & <int> & <int> & <int> & <int> & <int> & <int> & <int> & <int> & <dbl> & <int> & <chr> & <int>\\\\\n\\hline\n\t1 & 2022-02-23T11 & 45 & 6 &  0 & 0 & NA & NA & NA & NA & NA & 40.8 & 51 & Alabama & 51734\\\\\n\t2 & 2022-02-23T11 & 39 & 3 & 10 & 0 & NA & NA & NA & NA & NA & 40.8 & 51 & Alabama & 51734\\\\\n\t3 & 2022-02-23T12 & 44 & 3 &  0 & 3 &  0 & 12 &  0 &  0 &  0 & 40.8 & 51 & Alabama & 51734\\\\\n\t4 & 2022-02-23T12 & 25 & 6 &  6 & 0 &  0 & 12 &  0 &  0 &  0 & 40.8 & 51 & Alabama & 51734\\\\\n\t5 & 2022-02-23T13 & 42 & 9 &  3 & 0 & 25 &  0 &  0 &  0 &  0 & 40.8 & 51 & Alabama & 51734\\\\\n\t6 & 2022-02-23T13 & 19 & 0 & 18 & 0 & 25 &  0 &  0 &  0 &  0 & 40.8 & 51 & Alabama & 51734\\\\\n\\end{tabular}\n",
            "text/plain": [
              "  Time          ketamine date_rape GHB Rohypnol morning_after_pill roofie\n",
              "1 2022-02-23T11 45       6          0  0        NA                 NA    \n",
              "2 2022-02-23T11 39       3         10  0        NA                 NA    \n",
              "3 2022-02-23T12 44       3          0  3         0                 12    \n",
              "4 2022-02-23T12 25       6          6  0         0                 12    \n",
              "5 2022-02-23T13 42       9          3  0        25                  0    \n",
              "6 2022-02-23T13 19       0         18  0        25                  0    \n",
              "  pills_to_avoid_preg how_much_is_morning_after_pill been_raped Rapes_per_100k\n",
              "1 NA                  NA                             NA         40.8          \n",
              "2 NA                  NA                             NA         40.8          \n",
              "3  0                   0                              0         40.8          \n",
              "4  0                   0                              0         40.8          \n",
              "5  0                   0                              0         40.8          \n",
              "6  0                   0                              0         40.8          \n",
              "  church_attendence State   Household_Income\n",
              "1 51                Alabama 51734           \n",
              "2 51                Alabama 51734           \n",
              "3 51                Alabama 51734           \n",
              "4 51                Alabama 51734           \n",
              "5 51                Alabama 51734           \n",
              "6 51                Alabama 51734           "
            ]
          },
          "metadata": {}
        }
      ]
    },
    {
      "cell_type": "markdown",
      "source": [
        "### Next we append Wyoming and Tennasee to data_wide"
      ],
      "metadata": {
        "id": "5qcRk8M3vO7K"
      }
    },
    {
      "cell_type": "code",
      "source": [
        "dim(data_wide_3_21)"
      ],
      "metadata": {
        "colab": {
          "base_uri": "https://localhost:8080/",
          "height": 34
        },
        "id": "edErw8LKwRm5",
        "outputId": "de324f05-8cef-457b-9b37-2d14fee4be13"
      },
      "execution_count": 43,
      "outputs": [
        {
          "output_type": "display_data",
          "data": {
            "text/html": [
              "<style>\n",
              ".list-inline {list-style: none; margin:0; padding: 0}\n",
              ".list-inline>li {display: inline-block}\n",
              ".list-inline>li:not(:last-child)::after {content: \"\\00b7\"; padding: 0 .5ex}\n",
              "</style>\n",
              "<ol class=list-inline><li>8285</li><li>14</li></ol>\n"
            ],
            "text/markdown": "1. 8285\n2. 14\n\n\n",
            "text/latex": "\\begin{enumerate*}\n\\item 8285\n\\item 14\n\\end{enumerate*}\n",
            "text/plain": [
              "[1] 8285   14"
            ]
          },
          "metadata": {}
        }
      ]
    },
    {
      "cell_type": "code",
      "source": [
        "#First_10 <- bind_rows(AL_combo, AK_com\n",
        "                     \n",
        "First_11 <- bind_rows(data_wide_3_21 ,TN_combo , WY_combo)"
      ],
      "metadata": {
        "id": "8iILWmAcvBGU"
      },
      "execution_count": 44,
      "outputs": []
    },
    {
      "cell_type": "code",
      "source": [
        "dim(First_11)"
      ],
      "metadata": {
        "colab": {
          "base_uri": "https://localhost:8080/",
          "height": 34
        },
        "id": "xuX2RD2iwbpa",
        "outputId": "e3876890-2bce-4d07-8c5e-cbb26a0b0705"
      },
      "execution_count": 45,
      "outputs": [
        {
          "output_type": "display_data",
          "data": {
            "text/html": [
              "<style>\n",
              ".list-inline {list-style: none; margin:0; padding: 0}\n",
              ".list-inline>li {display: inline-block}\n",
              ".list-inline>li:not(:last-child)::after {content: \"\\00b7\"; padding: 0 .5ex}\n",
              "</style>\n",
              "<ol class=list-inline><li>8622</li><li>14</li></ol>\n"
            ],
            "text/markdown": "1. 8622\n2. 14\n\n\n",
            "text/latex": "\\begin{enumerate*}\n\\item 8622\n\\item 14\n\\end{enumerate*}\n",
            "text/plain": [
              "[1] 8622   14"
            ]
          },
          "metadata": {}
        }
      ]
    },
    {
      "cell_type": "markdown",
      "source": [
        "### Again, let's cache the data"
      ],
      "metadata": {
        "id": "M38riJ9vwrTk"
      }
    },
    {
      "cell_type": "code",
      "source": [
        "WideData_3_21 <- First_11"
      ],
      "metadata": {
        "id": "avBmqYNvwbHD"
      },
      "execution_count": 47,
      "outputs": []
    },
    {
      "cell_type": "code",
      "source": [
        "write.csv(WideData_3_21,\"WideData_3_21.csv\")"
      ],
      "metadata": {
        "id": "4YmiLut_w5sz"
      },
      "execution_count": 48,
      "outputs": []
    },
    {
      "cell_type": "markdown",
      "source": [
        "### Lets re-re-verify that Wyoming and Tennasse are in the data set now"
      ],
      "metadata": {
        "id": "6ZHZ8MUnxhlE"
      }
    },
    {
      "cell_type": "code",
      "source": [
        "tn <- WideData_3_21 %>% \n",
        "      filter(grepl(\"Tennasee\", State))\n",
        "head(tn)"
      ],
      "metadata": {
        "id": "P02f7vp7w5je"
      },
      "execution_count": null,
      "outputs": []
    },
    {
      "cell_type": "code",
      "source": [
        "wy <- WideData_3_21 %>% \n",
        "      filter(grepl(\"Wyoming\", State))\n",
        "head(wy)"
      ],
      "metadata": {
        "colab": {
          "base_uri": "https://localhost:8080/",
          "height": 514
        },
        "id": "icEx2KsjyBEZ",
        "outputId": "abe928e0-395f-45a0-8af1-fb251500dc4a"
      },
      "execution_count": 51,
      "outputs": [
        {
          "output_type": "display_data",
          "data": {
            "text/html": [
              "<table class=\"dataframe\">\n",
              "<caption>A data.frame: 6 × 14</caption>\n",
              "<thead>\n",
              "\t<tr><th></th><th scope=col>Time</th><th scope=col>ketamine</th><th scope=col>date_rape</th><th scope=col>GHB</th><th scope=col>Rohypnol</th><th scope=col>morning_after_pill</th><th scope=col>roofie</th><th scope=col>pills_to_avoid_preg</th><th scope=col>how_much_is_morning_after_pill</th><th scope=col>been_raped</th><th scope=col>Rapes_per_100k</th><th scope=col>church_attendence</th><th scope=col>State</th><th scope=col>Household_Income</th></tr>\n",
              "\t<tr><th></th><th scope=col>&lt;chr&gt;</th><th scope=col>&lt;int&gt;</th><th scope=col>&lt;int&gt;</th><th scope=col>&lt;int&gt;</th><th scope=col>&lt;int&gt;</th><th scope=col>&lt;int&gt;</th><th scope=col>&lt;int&gt;</th><th scope=col>&lt;int&gt;</th><th scope=col>&lt;int&gt;</th><th scope=col>&lt;int&gt;</th><th scope=col>&lt;dbl&gt;</th><th scope=col>&lt;dbl&gt;</th><th scope=col>&lt;chr&gt;</th><th scope=col>&lt;dbl&gt;</th></tr>\n",
              "</thead>\n",
              "<tbody>\n",
              "\t<tr><th scope=row>1</th><td>2022-02-23T12</td><td>14</td><td>0</td><td> 0</td><td>0</td><td>0</td><td>0</td><td>0</td><td>0</td><td>0</td><td>42.1</td><td>38</td><td>Wyoming</td><td>65003</td></tr>\n",
              "\t<tr><th scope=row>2</th><td>2022-02-23T13</td><td>14</td><td>0</td><td>14</td><td>0</td><td>0</td><td>0</td><td>0</td><td>0</td><td>0</td><td>42.1</td><td>38</td><td>Wyoming</td><td>65003</td></tr>\n",
              "\t<tr><th scope=row>3</th><td>2022-02-23T14</td><td> 0</td><td>0</td><td> 0</td><td>0</td><td>0</td><td>0</td><td>0</td><td>0</td><td>0</td><td>42.1</td><td>38</td><td>Wyoming</td><td>65003</td></tr>\n",
              "\t<tr><th scope=row>4</th><td>2022-02-23T15</td><td>14</td><td>0</td><td> 0</td><td>0</td><td>0</td><td>0</td><td>0</td><td>0</td><td>0</td><td>42.1</td><td>38</td><td>Wyoming</td><td>65003</td></tr>\n",
              "\t<tr><th scope=row>5</th><td>2022-02-23T16</td><td> 0</td><td>0</td><td> 0</td><td>0</td><td>0</td><td>0</td><td>0</td><td>0</td><td>0</td><td>42.1</td><td>38</td><td>Wyoming</td><td>65003</td></tr>\n",
              "\t<tr><th scope=row>6</th><td>2022-02-23T17</td><td>42</td><td>0</td><td> 0</td><td>0</td><td>0</td><td>0</td><td>0</td><td>0</td><td>0</td><td>42.1</td><td>38</td><td>Wyoming</td><td>65003</td></tr>\n",
              "</tbody>\n",
              "</table>\n"
            ],
            "text/markdown": "\nA data.frame: 6 × 14\n\n| <!--/--> | Time &lt;chr&gt; | ketamine &lt;int&gt; | date_rape &lt;int&gt; | GHB &lt;int&gt; | Rohypnol &lt;int&gt; | morning_after_pill &lt;int&gt; | roofie &lt;int&gt; | pills_to_avoid_preg &lt;int&gt; | how_much_is_morning_after_pill &lt;int&gt; | been_raped &lt;int&gt; | Rapes_per_100k &lt;dbl&gt; | church_attendence &lt;dbl&gt; | State &lt;chr&gt; | Household_Income &lt;dbl&gt; |\n|---|---|---|---|---|---|---|---|---|---|---|---|---|---|---|\n| 1 | 2022-02-23T12 | 14 | 0 |  0 | 0 | 0 | 0 | 0 | 0 | 0 | 42.1 | 38 | Wyoming | 65003 |\n| 2 | 2022-02-23T13 | 14 | 0 | 14 | 0 | 0 | 0 | 0 | 0 | 0 | 42.1 | 38 | Wyoming | 65003 |\n| 3 | 2022-02-23T14 |  0 | 0 |  0 | 0 | 0 | 0 | 0 | 0 | 0 | 42.1 | 38 | Wyoming | 65003 |\n| 4 | 2022-02-23T15 | 14 | 0 |  0 | 0 | 0 | 0 | 0 | 0 | 0 | 42.1 | 38 | Wyoming | 65003 |\n| 5 | 2022-02-23T16 |  0 | 0 |  0 | 0 | 0 | 0 | 0 | 0 | 0 | 42.1 | 38 | Wyoming | 65003 |\n| 6 | 2022-02-23T17 | 42 | 0 |  0 | 0 | 0 | 0 | 0 | 0 | 0 | 42.1 | 38 | Wyoming | 65003 |\n\n",
            "text/latex": "A data.frame: 6 × 14\n\\begin{tabular}{r|llllllllllllll}\n  & Time & ketamine & date\\_rape & GHB & Rohypnol & morning\\_after\\_pill & roofie & pills\\_to\\_avoid\\_preg & how\\_much\\_is\\_morning\\_after\\_pill & been\\_raped & Rapes\\_per\\_100k & church\\_attendence & State & Household\\_Income\\\\\n  & <chr> & <int> & <int> & <int> & <int> & <int> & <int> & <int> & <int> & <int> & <dbl> & <dbl> & <chr> & <dbl>\\\\\n\\hline\n\t1 & 2022-02-23T12 & 14 & 0 &  0 & 0 & 0 & 0 & 0 & 0 & 0 & 42.1 & 38 & Wyoming & 65003\\\\\n\t2 & 2022-02-23T13 & 14 & 0 & 14 & 0 & 0 & 0 & 0 & 0 & 0 & 42.1 & 38 & Wyoming & 65003\\\\\n\t3 & 2022-02-23T14 &  0 & 0 &  0 & 0 & 0 & 0 & 0 & 0 & 0 & 42.1 & 38 & Wyoming & 65003\\\\\n\t4 & 2022-02-23T15 & 14 & 0 &  0 & 0 & 0 & 0 & 0 & 0 & 0 & 42.1 & 38 & Wyoming & 65003\\\\\n\t5 & 2022-02-23T16 &  0 & 0 &  0 & 0 & 0 & 0 & 0 & 0 & 0 & 42.1 & 38 & Wyoming & 65003\\\\\n\t6 & 2022-02-23T17 & 42 & 0 &  0 & 0 & 0 & 0 & 0 & 0 & 0 & 42.1 & 38 & Wyoming & 65003\\\\\n\\end{tabular}\n",
            "text/plain": [
              "  Time          ketamine date_rape GHB Rohypnol morning_after_pill roofie\n",
              "1 2022-02-23T12 14       0          0  0        0                  0     \n",
              "2 2022-02-23T13 14       0         14  0        0                  0     \n",
              "3 2022-02-23T14  0       0          0  0        0                  0     \n",
              "4 2022-02-23T15 14       0          0  0        0                  0     \n",
              "5 2022-02-23T16  0       0          0  0        0                  0     \n",
              "6 2022-02-23T17 42       0          0  0        0                  0     \n",
              "  pills_to_avoid_preg how_much_is_morning_after_pill been_raped Rapes_per_100k\n",
              "1 0                   0                              0          42.1          \n",
              "2 0                   0                              0          42.1          \n",
              "3 0                   0                              0          42.1          \n",
              "4 0                   0                              0          42.1          \n",
              "5 0                   0                              0          42.1          \n",
              "6 0                   0                              0          42.1          \n",
              "  church_attendence State   Household_Income\n",
              "1 38                Wyoming 65003           \n",
              "2 38                Wyoming 65003           \n",
              "3 38                Wyoming 65003           \n",
              "4 38                Wyoming 65003           \n",
              "5 38                Wyoming 65003           \n",
              "6 38                Wyoming 65003           "
            ]
          },
          "metadata": {}
        }
      ]
    },
    {
      "cell_type": "markdown",
      "source": [
        "### Alright , that looks correct. Lets shift it from Wide to Long"
      ],
      "metadata": {
        "id": "kp7daS5rpbvp"
      }
    },
    {
      "cell_type": "code",
      "source": [
        "#LONG_DATA <- wide_data %>%\n",
        "#             pivot_longer(cols = -c(Time,State))\n",
        "\n",
        "LONG_DATA_3_21 <- WideData_3_21 %>%\n",
        "              pivot_longer(cols = -c(Time,State))"
      ],
      "metadata": {
        "id": "NBmdlvZMyuPP"
      },
      "execution_count": 52,
      "outputs": []
    },
    {
      "cell_type": "code",
      "source": [
        "head(LONG_DATA_3_21)"
      ],
      "metadata": {
        "colab": {
          "base_uri": "https://localhost:8080/",
          "height": 286
        },
        "id": "QCzKd0aky7pb",
        "outputId": "94f1249d-6b2a-4bfd-d78d-193e2988b3bf"
      },
      "execution_count": 53,
      "outputs": [
        {
          "output_type": "display_data",
          "data": {
            "text/html": [
              "<table class=\"dataframe\">\n",
              "<caption>A tibble: 6 × 4</caption>\n",
              "<thead>\n",
              "\t<tr><th scope=col>Time</th><th scope=col>State</th><th scope=col>name</th><th scope=col>value</th></tr>\n",
              "\t<tr><th scope=col>&lt;chr&gt;</th><th scope=col>&lt;chr&gt;</th><th scope=col>&lt;chr&gt;</th><th scope=col>&lt;dbl&gt;</th></tr>\n",
              "</thead>\n",
              "<tbody>\n",
              "\t<tr><td>2022-02-23T11</td><td>Alabama</td><td>ketamine          </td><td>45</td></tr>\n",
              "\t<tr><td>2022-02-23T11</td><td>Alabama</td><td>date_rape         </td><td> 6</td></tr>\n",
              "\t<tr><td>2022-02-23T11</td><td>Alabama</td><td>GHB               </td><td> 0</td></tr>\n",
              "\t<tr><td>2022-02-23T11</td><td>Alabama</td><td>Rohypnol          </td><td> 0</td></tr>\n",
              "\t<tr><td>2022-02-23T11</td><td>Alabama</td><td>morning_after_pill</td><td>NA</td></tr>\n",
              "\t<tr><td>2022-02-23T11</td><td>Alabama</td><td>roofie            </td><td>NA</td></tr>\n",
              "</tbody>\n",
              "</table>\n"
            ],
            "text/markdown": "\nA tibble: 6 × 4\n\n| Time &lt;chr&gt; | State &lt;chr&gt; | name &lt;chr&gt; | value &lt;dbl&gt; |\n|---|---|---|---|\n| 2022-02-23T11 | Alabama | ketamine           | 45 |\n| 2022-02-23T11 | Alabama | date_rape          |  6 |\n| 2022-02-23T11 | Alabama | GHB                |  0 |\n| 2022-02-23T11 | Alabama | Rohypnol           |  0 |\n| 2022-02-23T11 | Alabama | morning_after_pill | NA |\n| 2022-02-23T11 | Alabama | roofie             | NA |\n\n",
            "text/latex": "A tibble: 6 × 4\n\\begin{tabular}{llll}\n Time & State & name & value\\\\\n <chr> & <chr> & <chr> & <dbl>\\\\\n\\hline\n\t 2022-02-23T11 & Alabama & ketamine           & 45\\\\\n\t 2022-02-23T11 & Alabama & date\\_rape          &  6\\\\\n\t 2022-02-23T11 & Alabama & GHB                &  0\\\\\n\t 2022-02-23T11 & Alabama & Rohypnol           &  0\\\\\n\t 2022-02-23T11 & Alabama & morning\\_after\\_pill & NA\\\\\n\t 2022-02-23T11 & Alabama & roofie             & NA\\\\\n\\end{tabular}\n",
            "text/plain": [
              "  Time          State   name               value\n",
              "1 2022-02-23T11 Alabama ketamine           45   \n",
              "2 2022-02-23T11 Alabama date_rape           6   \n",
              "3 2022-02-23T11 Alabama GHB                 0   \n",
              "4 2022-02-23T11 Alabama Rohypnol            0   \n",
              "5 2022-02-23T11 Alabama morning_after_pill NA   \n",
              "6 2022-02-23T11 Alabama roofie             NA   "
            ]
          },
          "metadata": {}
        }
      ]
    },
    {
      "cell_type": "markdown",
      "source": [
        ""
      ],
      "metadata": {
        "id": "Vz0AF8E7pbrc"
      }
    },
    {
      "cell_type": "markdown",
      "source": [
        ""
      ],
      "metadata": {
        "id": "hDH10WjTpblI"
      }
    },
    {
      "cell_type": "markdown",
      "source": [
        ""
      ],
      "metadata": {
        "id": "Y2MYFmVgpbcu"
      }
    },
    {
      "cell_type": "markdown",
      "source": [
        ""
      ],
      "metadata": {
        "id": "Y31Jcs_SpazZ"
      }
    }
  ]
}